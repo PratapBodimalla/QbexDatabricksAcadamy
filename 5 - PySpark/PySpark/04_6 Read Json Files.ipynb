{
 "cells": [
  {
   "cell_type": "code",
   "execution_count": null,
   "id": "96f8a33b-5546-4f3d-921f-44a16bce8e5e",
   "metadata": {},
   "outputs": [],
   "source": [
    "from pyspark.sql import SparkSession\n",
    "\n",
    "spark = SparkSession.builder \\\n",
    "                    .master(\"local[*]\") \\\n",
    "                    .appName(\"Create Dataframe\") \\\n",
    "                    .getOrCreate()\n"
   ]
  },
  {
   "cell_type": "code",
   "execution_count": null,
   "id": "22047956-47df-4cd4-82c6-892ae4f5b480",
   "metadata": {},
   "outputs": [],
   "source": [
    "spark"
   ]
  },
  {
   "cell_type": "code",
   "execution_count": null,
   "id": "855fa01c-c5d7-43a4-92b7-211a3b63c499",
   "metadata": {},
   "outputs": [],
   "source": [
    "import requests\n",
    "url = \"https://github.com/PratapBodimalla/qbex-adf-student-docs/raw/main/Datasets/DataFlowTransformations/1.SelectTransformation/2_sales_orders.json\"\n",
    "local_path = \"/tmp/2_sales_orders.json\"\n",
    "\n",
    "# Download the file\n",
    "response = requests.get(url)\n",
    "with open(local_path, \"wb\") as file:\n",
    "    file.write(response.content)"
   ]
  },
  {
   "cell_type": "code",
   "execution_count": null,
   "id": "d7debf4e-70d3-4ce6-afd4-64808d19a367",
   "metadata": {},
   "outputs": [],
   "source": [
    "sales_json_df = spark.read.format(\"json\") \\\n",
    "                        .load(local_path)\n",
    "\n",
    "sales_json_df.show()"
   ]
  },
  {
   "cell_type": "code",
   "execution_count": null,
   "id": "1b2568f6-ae43-49c5-9cd9-0785e1caf196",
   "metadata": {},
   "outputs": [],
   "source": [
    "sales_json_df = spark.read.format(\"json\") \\\n",
    "                        .option(\"multiline\", True ) \\\n",
    "                        .load(local_path)\n",
    "\n",
    "sales_json_df.show(truncate=False)"
   ]
  },
  {
   "cell_type": "code",
   "execution_count": null,
   "id": "d7e1033f-1237-4bef-9a07-30072a80a626",
   "metadata": {},
   "outputs": [],
   "source": [
    "df1 = sales_json_df.select(\"OrderDate\",\"SalesOrder\",\"sold_to_party.*\")"
   ]
  },
  {
   "cell_type": "code",
   "execution_count": null,
   "id": "8f1d6fc7-a75b-4a19-82e4-c64355fc9e78",
   "metadata": {},
   "outputs": [],
   "source": [
    "df1.select(\"OrderDate\",\"SalesOrder\",\"CustomerName\",\"address.*\").show()"
   ]
  },
  {
   "cell_type": "code",
   "execution_count": null,
   "id": "a8a1159d-2a71-4b04-a77e-05db4368f47b",
   "metadata": {},
   "outputs": [],
   "source": [
    "sales_json_df.printSchema()"
   ]
  },
  {
   "cell_type": "code",
   "execution_count": null,
   "id": "69715400-3773-41ff-8b6d-efa70657886f",
   "metadata": {},
   "outputs": [],
   "source": [
    "expanded_sls_df_l1 = sales_json_df.select(\"OrderDate\",\"Product\",\"SalesOrder\",\"sales_amount.*\",\"sales_quantities.*\",\"sold_to_party.*\")"
   ]
  },
  {
   "cell_type": "code",
   "execution_count": null,
   "id": "8e16e7bb-94ad-4886-97b3-b14557d350ab",
   "metadata": {},
   "outputs": [],
   "source": [
    "expanded_sls_df_l1.show()"
   ]
  },
  {
   "cell_type": "code",
   "execution_count": null,
   "id": "f070f7dc-015a-4eaf-af99-3a30cdc07930",
   "metadata": {},
   "outputs": [],
   "source": [
    "expanded_sls_df_l2 = expanded_sls_df_l1.select(\"OrderDate\",\"Product\",\"SalesOrder\",\"Amount\",\"Currency\",\"Qty_Sold\",\"Qty_Sold_Units\",\"CustomerName\",\"address.*\")"
   ]
  },
  {
   "cell_type": "code",
   "execution_count": null,
   "id": "e3c058da-2bbe-4ab0-8796-31feeb71b452",
   "metadata": {},
   "outputs": [],
   "source": [
    "expanded_sls_df_l2.show()"
   ]
  },
  {
   "cell_type": "code",
   "execution_count": null,
   "id": "e1aef439-4cf0-41ab-9854-2977ef00d77c",
   "metadata": {},
   "outputs": [],
   "source": [
    "from pyspark.sql.types import StructType, StructField, StringType, ArrayType, MapType, DateType, IntegerType\n",
    "\n",
    "sales_amount_struc_type = StructType([\n",
    "        StructField(\"Amount\", IntegerType(), True),\n",
    "        StructField(\"Currency\", StringType(), True),\n",
    "        ])\n",
    "sales_quantities_struct_type = StructType([\n",
    "        StructField(\"Qty_Sold\", IntegerType(), True),\n",
    "        StructField(\"Qty_Sold_Units\", StringType(), True),\n",
    "        ])\n",
    "address_strut_type= StructType([\n",
    "        StructField(\"City\", StringType(), True),\n",
    "        StructField(\"Country\", StringType(), True),\n",
    "        ])\n",
    "sold_to_party_struct_type = StructType([\n",
    "        StructField(\"CustomerName\", StringType(), True),\n",
    "        StructField(\"address\", address_strut_type, True),\n",
    "        ])\n",
    "sales_josn_schema = StructType([\n",
    "    StructField(\"OrderDate\", DateType(), True),\n",
    "    StructField(\"Product\", StringType(), True),\n",
    "    StructField(\"SalesOrder\", StringType(), True),\n",
    "    StructField(\"sales_amount\", sales_amount_struc_type, True),\n",
    "    StructField(\"sales_quantities\", sales_quantities_struct_type, True),\n",
    "    StructField(\"sold_to_party\", sold_to_party_struct_type, True), \n",
    "])"
   ]
  },
  {
   "cell_type": "code",
   "execution_count": null,
   "id": "620edba9-bd18-43b1-96b7-20154e9afe39",
   "metadata": {},
   "outputs": [],
   "source": [
    "sales_json_schema_df = spark.read.format(\"json\") \\\n",
    "                        .option(\"multiline\", True ) \\\n",
    "                        .schema(sales_josn_schema) \\\n",
    "                        .load(local_path)\n",
    "\n",
    "sales_json_schema_df.show()"
   ]
  },
  {
   "cell_type": "code",
   "execution_count": null,
   "id": "a1da6929-4389-427f-8a8c-a9565f3b9355",
   "metadata": {},
   "outputs": [],
   "source": [
    "sales_json_schema_df.printSchema()"
   ]
  },
  {
   "cell_type": "code",
   "execution_count": null,
   "id": "8c614973-8e07-4f52-8281-5f6324732d87",
   "metadata": {},
   "outputs": [],
   "source": [
    "expanded_sls_df_sch_l1 = sales_json_schema_df.select(\"OrderDate\",\"Product\",\"SalesOrder\",\"sales_amount.*\",\"sales_quantities.*\",\"sold_to_party.*\")\n",
    "expanded_sls_df_sch_l1.show()"
   ]
  },
  {
   "cell_type": "code",
   "execution_count": null,
   "id": "5978edd4-2cf3-45d4-af1a-7f0b5e2198f6",
   "metadata": {},
   "outputs": [],
   "source": [
    "expanded_sls_df_sch_l2 = expanded_sls_df_sch_l1.select(\"OrderDate\",\"Product\",\"SalesOrder\",\"Amount\",\"Currency\",\"Qty_Sold\",\"Qty_Sold_Units\",\"CustomerName\",\"address.*\")\n",
    "expanded_sls_df_sch_l2.show()"
   ]
  },
  {
   "cell_type": "code",
   "execution_count": null,
   "id": "dcb1e48a-41ea-4dca-99e5-db3356b6cc41",
   "metadata": {},
   "outputs": [],
   "source": [
    "## Explode Arrays\n",
    "sales_array_df = spark.read.format(\"json\") \\\n",
    "                        .option(\"multiline\", True ) \\\n",
    "                        .load(\"./Input/order_multiline.json\")\n",
    "\n",
    "sales_array_df.show()"
   ]
  },
  {
   "cell_type": "code",
   "execution_count": null,
   "id": "f057073d-6ad2-454b-9678-11897487f906",
   "metadata": {},
   "outputs": [],
   "source": [
    "sales_array_df.printSchema()"
   ]
  },
  {
   "cell_type": "code",
   "execution_count": null,
   "id": "02d070e4-8bbf-4a5a-b012-9fa7b41d45df",
   "metadata": {},
   "outputs": [],
   "source": [
    "from pyspark.sql.types import StructType, StructField, StringType, ArrayType, MapType, DateType, IntegerType, FloatType\n",
    "order_line_items_struc_type = StructType([\n",
    "        StructField(\"amount\", FloatType(), True),\n",
    "        StructField(\"item_id\", StringType(), True),\n",
    "        StructField(\"qty\", FloatType(), True),\n",
    "        ])\n",
    "\n",
    "sales_josn_array_schema = StructType([\n",
    "    StructField(\"contact\", ArrayType(StringType()), True),\n",
    "    StructField(\"customer_id\", StringType(), True),\n",
    "    StructField(\"order_id\", StringType(), True),\n",
    "    StructField(\"order_line_items\", ArrayType(order_line_items_struc_type), True) \n",
    "])"
   ]
  },
  {
   "cell_type": "code",
   "execution_count": null,
   "id": "915b3f59-da26-47fe-89c2-f48032f251c9",
   "metadata": {},
   "outputs": [],
   "source": [
    "sales_array_sch_df = spark.read.format(\"json\") \\\n",
    "                        .option(\"multiline\", True ) \\\n",
    "                        .schema(sales_josn_array_schema) \\\n",
    "                        .load(\"./Input/order_multiline.json\")\n",
    "\n",
    "sales_array_sch_df.show(truncate=False)"
   ]
  },
  {
   "cell_type": "code",
   "execution_count": null,
   "id": "149d7344-e1b5-4120-9f8a-3389269727c1",
   "metadata": {},
   "outputs": [],
   "source": [
    "from pyspark.sql.functions import explode\n",
    "df3 = sales_array_sch_df.withColumn(\"order_line_items_exp\", explode(sales_array_sch_df.order_line_items))\n",
    "df3.show()"
   ]
  },
  {
   "cell_type": "code",
   "execution_count": null,
   "id": "0f504c74-4ad6-4ebb-b44e-2d6a14c23aba",
   "metadata": {},
   "outputs": [],
   "source": [
    "from pyspark.sql.functions import explode\n",
    "df4 = df3.withColumn(\"contacts\", explode(sales_array_sch_df.contact)) \\\n",
    "         .drop(\"contact\") \\\n",
    "         .drop(\"order_line_items\")\n",
    "df4.select(\"customer_id\",\"order_id\",\"order_line_items_exp.*\",\"contacts\").show()"
   ]
  },
  {
   "cell_type": "code",
   "execution_count": null,
   "id": "7d9859ba-ef3b-4d91-919d-3d521de47a8c",
   "metadata": {},
   "outputs": [],
   "source": [
    "sales_array_sch_df.printSchema()"
   ]
  },
  {
   "cell_type": "code",
   "execution_count": null,
   "id": "c939a541-4f6f-4423-93fe-433aa54789bf",
   "metadata": {},
   "outputs": [],
   "source": [
    "from pyspark.sql.functions import explode\n",
    "sales_array_sch_df_exp = sales_array_sch_df.withColumn(\"order_line_items_exploded\" , explode(sales_array_sch_df.order_line_items))\n"
   ]
  },
  {
   "cell_type": "code",
   "execution_count": null,
   "id": "5b209453-e0fa-4bb9-b2bf-af11ffc36a50",
   "metadata": {},
   "outputs": [],
   "source": [
    "sales_array_sch_df_exp.select(\"contact\",\"customer_id\",\"order_id\",\"order_line_items_exploded.*\").show()"
   ]
  },
  {
   "cell_type": "code",
   "execution_count": null,
   "id": "a99a1189-2786-4e42-b926-38a25f4a1d27",
   "metadata": {},
   "outputs": [],
   "source": [
    "sales_array_sch_df_exp.withColumn(\"contact\",explode(sales_array_sch_df_exp.contact)).show()"
   ]
  },
  {
   "cell_type": "code",
   "execution_count": null,
   "id": "d84b3f4f-f730-4927-8a7f-9935de20e2c5",
   "metadata": {},
   "outputs": [],
   "source": [
    "# to_json , from_json\n",
    "\n",
    "## Explode Arrays\n",
    "sales_array_txt_df = spark.read.format(\"text\") \\\n",
    "                        .load(\"./Input/order_singleline.json\")\n",
    "\n",
    "sales_array_txt_df.show(truncate=False)"
   ]
  },
  {
   "cell_type": "code",
   "execution_count": null,
   "id": "cf202838-c498-44d5-a926-b1c721a3de69",
   "metadata": {},
   "outputs": [],
   "source": [
    "sales_array_txt_df.printSchema()"
   ]
  },
  {
   "cell_type": "code",
   "execution_count": null,
   "id": "4671d0ca-4b21-4c99-8bb8-8dbb7762255e",
   "metadata": {},
   "outputs": [],
   "source": [
    "from pyspark.sql.types import StructType, StructField, StringType, ArrayType, MapType, DateType, IntegerType, FloatType\n",
    "order_line_items_struc_type = StructType([\n",
    "        StructField(\"amount\", FloatType(), True),\n",
    "        StructField(\"item_id\", StringType(), True),\n",
    "        StructField(\"qty\", FloatType(), True),\n",
    "        ])\n",
    "\n",
    "sales_josn_array_schema = StructType([\n",
    "        StructField(\"order_id\", StringType(), True),\n",
    "        StructField(\"customer_id\", StringType(), True),\n",
    "        StructField(\"order_line_items\", ArrayType(order_line_items_struc_type), True) ,\n",
    "        StructField(\"contact\", ArrayType(StringType()), True),\n",
    "])"
   ]
  },
  {
   "cell_type": "code",
   "execution_count": null,
   "id": "344ffc5d-6428-475e-b109-a00c87e52291",
   "metadata": {},
   "outputs": [],
   "source": [
    "# string to json parsed from_json\n",
    "from pyspark.sql.functions import  from_json\n",
    "sales_array_txt_df_par = sales_array_txt_df.withColumn(\"json_formatted\",from_json(sales_array_txt_df.value, sales_josn_array_schema))\n",
    "sales_array_txt_df_par.show(truncate=False)"
   ]
  },
  {
   "cell_type": "code",
   "execution_count": null,
   "id": "58af3c15-1a12-43af-851a-cbb14b41c79e",
   "metadata": {},
   "outputs": [],
   "source": [
    "#  json parsed to string to_json\n",
    "from pyspark.sql.functions import to_json, from_json\n",
    "\n",
    "sales_array_txt_df_par.withColumn(\"text_formatted\",to_json(sales_array_txt_df_par.json_formatted)).show()"
   ]
  },
  {
   "cell_type": "code",
   "execution_count": null,
   "id": "16e7787c-29a7-4dda-b0a9-4caf240e28a4",
   "metadata": {},
   "outputs": [],
   "source": []
  }
 ],
 "metadata": {
  "kernelspec": {
   "display_name": "Python 3 (ipykernel)",
   "language": "python",
   "name": "python3"
  },
  "language_info": {
   "codemirror_mode": {
    "name": "ipython",
    "version": 3
   },
   "file_extension": ".py",
   "mimetype": "text/x-python",
   "name": "python",
   "nbconvert_exporter": "python",
   "pygments_lexer": "ipython3",
   "version": "3.10.12"
  }
 },
 "nbformat": 4,
 "nbformat_minor": 5
}
