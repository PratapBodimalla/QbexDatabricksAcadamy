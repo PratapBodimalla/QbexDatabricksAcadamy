{
 "cells": [
  {
   "cell_type": "code",
   "execution_count": 1,
   "id": "380ff2c8-891d-4eac-8455-854d02ae9e1f",
   "metadata": {},
   "outputs": [],
   "source": [
    "from pyspark.sql import SparkSession\n",
    "\n",
    "spark = SparkSession.builder \\\n",
    "                    .master(\"local[*]\") \\\n",
    "                    .appName(\"Create Dataframe\") \\\n",
    "                    .getOrCreate()"
   ]
  },
  {
   "cell_type": "code",
   "execution_count": null,
   "id": "7588e90f-4369-449b-9cb3-fea472112157",
   "metadata": {},
   "outputs": [],
   "source": [
    "spark"
   ]
  },
  {
   "cell_type": "code",
   "execution_count": 2,
   "id": "33b9e201-1360-4dd4-bf8a-03c6d1a7ff8b",
   "metadata": {},
   "outputs": [],
   "source": [
    "import requests\n",
    "\n",
    "url = \"https://github.com/PratapBodimalla/qbex-adf-student-docs/raw/main/Datasets/DataFlowTransformations/1.SelectTransformation/1_sales_orders.csv\"\n",
    "local_path = \"/tmp/1_sales_orders.csv\"\n",
    "\n",
    "# Download the file\n",
    "response = requests.get(url)\n",
    "with open(local_path, \"wb\") as file:\n",
    "    file.write(response.content)\n",
    "\n"
   ]
  },
  {
   "cell_type": "code",
   "execution_count": 3,
   "id": "dd6898cf-9d26-418e-aada-784f0f9dc8f3",
   "metadata": {},
   "outputs": [
    {
     "name": "stdout",
     "output_type": "stream",
     "text": [
      "+----------+----------+------------+---------+-------+-------------------+-----+--------+--------------+------+---------------+----------+\n",
      "|SalesOrder| OrderDate|CustomerName|     City|Country|            Product|Price|Qty_Sold|Qty_Sold_Units|Amount|Amount_Currency|  ShipDate|\n",
      "+----------+----------+------------+---------+-------+-------------------+-----+--------+--------------+------+---------------+----------+\n",
      "|     SO101|08-01-2024|  Amit Joshi|Hyderabad|  India|           Keyboard| 3000|       4|        pieces| 12000|            INR|18-01-2024|\n",
      "|     SO102|19-01-2024| Divya Reddy|   Mumbai|  India|            Printer| 1500|       5|        pieces|  7500|            INR|29-01-2024|\n",
      "|     SO103|01-01-2024| Rohan Patel|     Pune|  India|             Laptop| 1500|      10|        pieces| 15000|            INR|11-01-2024|\n",
      "|     SO104|30-03-2024| Divya Reddy|     Pune|  India|External Hard Drive|10000|       8|        pieces| 80000|            INR|09-04-2024|\n",
      "|     SO105|14-03-2024|Nikhil Desai|Ahmedabad|  India|     Wireless Mouse| 8000|      10|        pieces| 80000|            INR|19-03-2024|\n",
      "|     SO106|20-03-2024| Pooja Mehta|Hyderabad|  India|            Monitor| 8000|      10|        pieces| 80000|            INR|25-03-2024|\n",
      "|     SO107|10-03-2024|  Amit Joshi|   Mumbai|  India|             Webcam|10000|       2|        pieces| 20000|            INR|15-03-2024|\n",
      "|     SO108|03-04-2024|Nikhil Desai|     Pune|  India|     Wireless Mouse| 8000|       1|        pieces|  8000|            INR|08-04-2024|\n",
      "|     SO109|03-05-2024|  Amit Joshi|Ahmedabad|  India|            Monitor|70000|       5|        pieces|350000|            INR|18-05-2024|\n",
      "|    SO1010|01-05-2024|Nikhil Desai|Ahmedabad|  India|            Monitor| 2000|       7|        pieces| 14000|            INR|16-05-2024|\n",
      "|    SO1011|19-06-2024|  Amit Joshi|  Chennai|  India|            Printer| 2000|       1|        pieces|  2000|            INR|04-07-2024|\n",
      "|    SO1012|08-07-2024| Rohan Patel|   Mumbai|  India|           Keyboard| 3000|       5|        pieces| 15000|            INR|23-07-2024|\n",
      "|    SO1013|14-08-2024|Nikhil Desai|   Mumbai|  India|           Keyboard|10000|      10|        pieces|100000|            INR|29-08-2024|\n",
      "|    SO1014|02-09-2024| Pooja Mehta|Ahmedabad|  India|             Laptop|10000|      10|        pieces|100000|            INR|17-09-2024|\n",
      "|    SO1015|23-09-2024|  Amit Joshi|  Chennai|  India|             Laptop| 8000|       6|        pieces| 48000|            INR|08-10-2024|\n",
      "|    SO1016|20-01-2023|Nikhil Desai|Ahmedabad|  India|             Webcam| 8000|       4|        pieces| 32000|            INR|09-02-2023|\n",
      "|    SO1017|01-01-2023|Nikhil Desai|   Mumbai|  India|           Keyboard| 8000|       6|        pieces| 48000|            INR|21-01-2023|\n",
      "|    SO1018|26-01-2023|Nikhil Desai|     Pune|  India|             Laptop|10000|       5|        pieces| 50000|            INR|15-02-2023|\n",
      "|    SO1019|18-02-2023| Rohan Patel|   Mumbai|  India|           Keyboard| 2000|       5|        pieces| 10000|            INR|10-03-2023|\n",
      "|    SO1020|24-03-2023|  Amit Joshi|     Pune|  India|External Hard Drive| 5000|       5|        pieces| 25000|            INR|13-04-2023|\n",
      "+----------+----------+------------+---------+-------+-------------------+-----+--------+--------------+------+---------------+----------+\n",
      "only showing top 20 rows\n",
      "\n"
     ]
    }
   ],
   "source": [
    "\n",
    "\n",
    "git_csv_df = spark.read.format(\"csv\") \\\n",
    "                        .option(\"header\",  True ) \\\n",
    "                        .load(local_path)\n",
    "\n",
    "git_csv_df.show()"
   ]
  },
  {
   "cell_type": "code",
   "execution_count": 4,
   "id": "6f3d802a-ee83-4e60-9701-ee4f4198c360",
   "metadata": {},
   "outputs": [
    {
     "name": "stdout",
     "output_type": "stream",
     "text": [
      "Temporary file /tmp/1_sales_orders.csv has been deleted.\n"
     ]
    }
   ],
   "source": [
    "import os\n",
    "# Step 3: Delete the temporary file\n",
    "if os.path.exists(local_path):\n",
    "    os.remove(local_path)\n",
    "    print(f\"Temporary file {local_path} has been deleted.\")"
   ]
  },
  {
   "cell_type": "code",
   "execution_count": null,
   "id": "5c2f50cc-f685-4192-812a-2113cdf6e697",
   "metadata": {},
   "outputs": [],
   "source": []
  }
 ],
 "metadata": {
  "kernelspec": {
   "display_name": "Python 3 (ipykernel)",
   "language": "python",
   "name": "python3"
  },
  "language_info": {
   "codemirror_mode": {
    "name": "ipython",
    "version": 3
   },
   "file_extension": ".py",
   "mimetype": "text/x-python",
   "name": "python",
   "nbconvert_exporter": "python",
   "pygments_lexer": "ipython3",
   "version": "3.10.12"
  }
 },
 "nbformat": 4,
 "nbformat_minor": 5
}
