{
 "cells": [
  {
   "cell_type": "code",
   "execution_count": 3,
   "id": "450fe635-35fd-4c8f-96ab-983c684f42a9",
   "metadata": {},
   "outputs": [],
   "source": [
    "from pyspark.sql import SparkSession\n",
    "\n",
    "spark = SparkSession.builder \\\n",
    "                    .master(\"local[*]\") \\\n",
    "                    .appName(\"Create Dataframe\") \\\n",
    "                    .config(\"spark.jars.packages\", \"/spark/jars/postgresql-42.7.3.jar\") \\\n",
    "                    .getOrCreate()"
   ]
  },
  {
   "cell_type": "code",
   "execution_count": null,
   "id": "bb1df9fa-789b-4d2f-85d9-709d744293b6",
   "metadata": {},
   "outputs": [],
   "source": [
    "spark"
   ]
  },
  {
   "cell_type": "code",
   "execution_count": null,
   "id": "f812b5c4-2d0b-41c7-b294-acb4f009c55a",
   "metadata": {},
   "outputs": [],
   "source": [
    "spark.stop()"
   ]
  },
  {
   "cell_type": "code",
   "execution_count": 4,
   "id": "80eceb90-1e41-487c-89d7-42db72bdbf03",
   "metadata": {},
   "outputs": [
    {
     "name": "stdout",
     "output_type": "stream",
     "text": [
      "+--------+-------+----------+----------+----------+---------------+--------------------+--------------------+--------------------+--------------------+-------------+--------------------+------------+-------------------+-----------+----------+------+-----------+--------------+\n",
      "|match_id| season|      city|match_date|match_type|player_of_match|               venue|               team1|               team2|         toss_winner|toss_decision|              winner|match_result|match_result_margin|target_runs|super_over|method|    umpire1|       umpire2|\n",
      "+--------+-------+----------+----------+----------+---------------+--------------------+--------------------+--------------------+--------------------+-------------+--------------------+------------+-------------------+-----------+----------+------+-----------+--------------+\n",
      "|  335982|2007/08| Bangalore|18-04-2008|    League|    BB McCullum|M Chinnaswamy Sta...|Royal Challengers...|Kolkata Knight Ri...|Royal Challengers...|        field|Kolkata Knight Ri...|        runs|              140.0|      223.0|         N|   nan|  Asad Rauf|   RE Koertzen|\n",
      "|  335983|2007/08|Chandigarh|19-04-2008|    League|     MEK Hussey|Punjab Cricket As...|     Kings XI Punjab| Chennai Super Kings| Chennai Super Kings|          bat| Chennai Super Kings|        runs|               33.0|      241.0|         N|   nan|  MR Benson|    SL Shastri|\n",
      "|  335984|2007/08|     Delhi|19-04-2008|    League|    MF Maharoof|    Feroz Shah Kotla|    Delhi Daredevils|    Rajasthan Royals|    Rajasthan Royals|          bat|    Delhi Daredevils|     wickets|                9.0|      130.0|         N|   nan|  Aleem Dar|GA Pratapkumar|\n",
      "|  335985|2007/08|    Mumbai|20-04-2008|    League|     MV Boucher|    Wankhede Stadium|      Mumbai Indians|Royal Challengers...|      Mumbai Indians|          bat|Royal Challengers...|     wickets|                5.0|      166.0|         N|   nan|   SJ Davis|     DJ Harper|\n",
      "|  335986|2007/08|   Kolkata|20-04-2008|    League|      DJ Hussey|        Eden Gardens|Kolkata Knight Ri...|     Deccan Chargers|     Deccan Chargers|          bat|Kolkata Knight Ri...|     wickets|                5.0|      111.0|         N|   nan|  BF Bowden|   K Hariharan|\n",
      "|  335987|2007/08|    Jaipur|21-04-2008|    League|      SR Watson|Sawai Mansingh St...|    Rajasthan Royals|     Kings XI Punjab|     Kings XI Punjab|          bat|    Rajasthan Royals|     wickets|                6.0|      167.0|         N|   nan|  Aleem Dar|     RB Tiffin|\n",
      "|  335988|2007/08| Hyderabad|22-04-2008|    League|       V Sehwag|Rajiv Gandhi Inte...|     Deccan Chargers|    Delhi Daredevils|     Deccan Chargers|          bat|    Delhi Daredevils|     wickets|                9.0|      143.0|         N|   nan|  IL Howell|     AM Saheba|\n",
      "|  335989|2007/08|   Chennai|23-04-2008|    League|      ML Hayden|MA Chidambaram St...| Chennai Super Kings|      Mumbai Indians|      Mumbai Indians|        field| Chennai Super Kings|        runs|                6.0|      209.0|         N|   nan|  DJ Harper|GA Pratapkumar|\n",
      "|  335990|2007/08| Hyderabad|24-04-2008|    League|      YK Pathan|Rajiv Gandhi Inte...|     Deccan Chargers|    Rajasthan Royals|    Rajasthan Royals|        field|    Rajasthan Royals|     wickets|                3.0|      215.0|         N|   nan|  Asad Rauf|     MR Benson|\n",
      "|  335991|2007/08|Chandigarh|25-04-2008|    League|  KC Sangakkara|Punjab Cricket As...|     Kings XI Punjab|      Mumbai Indians|      Mumbai Indians|        field|     Kings XI Punjab|        runs|               66.0|      183.0|         N|   nan|  Aleem Dar|     AM Saheba|\n",
      "|  335992|2007/08| Bangalore|26-04-2008|    League|      SR Watson|M Chinnaswamy Sta...|Royal Challengers...|    Rajasthan Royals|    Rajasthan Royals|        field|    Rajasthan Royals|     wickets|                7.0|      136.0|         N|   nan|  MR Benson|     IL Howell|\n",
      "|  335993|2007/08|   Chennai|26-04-2008|    League|       JDP Oram|MA Chidambaram St...| Chennai Super Kings|Kolkata Knight Ri...|Kolkata Knight Ri...|          bat| Chennai Super Kings|     wickets|                9.0|      148.0|         N|   nan|  BF Bowden|AV Jayaprakash|\n",
      "|  335994|2007/08|    Mumbai|27-04-2008|    League|   AC Gilchrist|Dr DY Patil Sport...|      Mumbai Indians|     Deccan Chargers|     Deccan Chargers|        field|     Deccan Chargers|     wickets|               10.0|      155.0|         N|   nan|  Asad Rauf|    SL Shastri|\n",
      "|  335995|2007/08|Chandigarh|27-04-2008|    League|      SM Katich|Punjab Cricket As...|     Kings XI Punjab|    Delhi Daredevils|    Delhi Daredevils|          bat|     Kings XI Punjab|     wickets|                4.0|      159.0|         N|   nan|RE Koertzen|     I Shivram|\n",
      "|  335996|2007/08| Bangalore|28-04-2008|    League|       MS Dhoni|M Chinnaswamy Sta...|Royal Challengers...| Chennai Super Kings| Chennai Super Kings|          bat| Chennai Super Kings|        runs|               13.0|      179.0|         N|   nan|BR Doctrove|     RB Tiffin|\n",
      "|  335997|2007/08|   Kolkata|29-04-2008|    League|  ST Jayasuriya|        Eden Gardens|Kolkata Knight Ri...|      Mumbai Indians|Kolkata Knight Ri...|          bat|      Mumbai Indians|     wickets|                7.0|      138.0|         N|   nan|  BF Bowden|AV Jayaprakash|\n",
      "|  335998|2007/08|     Delhi|30-04-2008|    League|     GD McGrath|    Feroz Shah Kotla|    Delhi Daredevils|Royal Challengers...|Royal Challengers...|        field|    Delhi Daredevils|        runs|               10.0|      192.0|         N|   nan|  Aleem Dar|     I Shivram|\n",
      "|  335999|2007/08| Hyderabad|01-05-2008|    League|       SE Marsh|Rajiv Gandhi Inte...|     Deccan Chargers|     Kings XI Punjab|     Kings XI Punjab|        field|     Kings XI Punjab|     wickets|                7.0|      165.0|         N|   nan|BR Doctrove|     RB Tiffin|\n",
      "|  336000|2007/08|    Jaipur|01-05-2008|    League|    SA Asnodkar|Sawai Mansingh St...|    Rajasthan Royals|Kolkata Knight Ri...|    Rajasthan Royals|          bat|    Rajasthan Royals|        runs|               45.0|      197.0|         N|   nan|RE Koertzen|GA Pratapkumar|\n",
      "|  336001|2007/08|   Chennai|02-05-2008|    League|       V Sehwag|MA Chidambaram St...| Chennai Super Kings|    Delhi Daredevils| Chennai Super Kings|          bat|    Delhi Daredevils|     wickets|                8.0|      170.0|         N|   nan|  BF Bowden|   K Hariharan|\n",
      "+--------+-------+----------+----------+----------+---------------+--------------------+--------------------+--------------------+--------------------+-------------+--------------------+------------+-------------------+-----------+----------+------+-----------+--------------+\n",
      "only showing top 20 rows\n",
      "\n"
     ]
    }
   ],
   "source": [
    "# Define PostgreSQL credentials\n",
    "pg_url = \"jdbc:postgresql://localpostgres:5432/ipl\"  # e.g., jdbc:postgresql://localhost:5432/mydatabase\n",
    "pg_properties = {\n",
    "    \"user\": \"postgres\",\n",
    "    \"password\": \"mysecretpassword\",\n",
    "    \"driver\": \"org.postgresql.Driver\"\n",
    "}\n",
    "\n",
    "# Table or query to load data\n",
    "table_or_query = \"schema_datasets.ipl_matches\"  # Use a table name or \"(SELECT * FROM my_table WHERE some_column = some_value) AS subquery\"\n",
    "\n",
    "# Read data from PostgreSQL into a PySpark DataFrame\n",
    "pg_df = spark.read.jdbc(url=pg_url, table=table_or_query, properties=pg_properties)\n",
    "\n",
    "# Show the data\n",
    "pg_df.show()\n"
   ]
  },
  {
   "cell_type": "code",
   "execution_count": null,
   "id": "b4828f0a-188e-40e6-9fe3-b5a2bfd327fc",
   "metadata": {},
   "outputs": [],
   "source": []
  }
 ],
 "metadata": {
  "kernelspec": {
   "display_name": "Python 3 (ipykernel)",
   "language": "python",
   "name": "python3"
  },
  "language_info": {
   "codemirror_mode": {
    "name": "ipython",
    "version": 3
   },
   "file_extension": ".py",
   "mimetype": "text/x-python",
   "name": "python",
   "nbconvert_exporter": "python",
   "pygments_lexer": "ipython3",
   "version": "3.10.12"
  }
 },
 "nbformat": 4,
 "nbformat_minor": 5
}
