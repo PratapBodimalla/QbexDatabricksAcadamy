{
 "cells": [
  {
   "cell_type": "markdown",
   "metadata": {
    "application/vnd.databricks.v1+cell": {
     "cellMetadata": {},
     "inputWidgets": {},
     "nuid": "1552004e-55cb-452d-b188-887caa43524b",
     "showTitle": false,
     "tableResultSettingsMap": {},
     "title": ""
    }
   },
   "source": [
    "#### Data Skipping\n",
    "#### Data Partition\n",
    "#### Z-Ordering"
   ]
  },
  {
   "cell_type": "code",
   "execution_count": 0,
   "metadata": {
    "application/vnd.databricks.v1+cell": {
     "cellMetadata": {
      "byteLimit": 2048000,
      "rowLimit": 10000
     },
     "inputWidgets": {},
     "nuid": "5706345f-dc89-43cf-97f0-db1692d8babd",
     "showTitle": false,
     "tableResultSettingsMap": {},
     "title": ""
    }
   },
   "outputs": [
    {
     "output_type": "execute_result",
     "data": {
      "text/plain": [
       "True"
      ]
     },
     "execution_count": 1,
     "metadata": {},
     "output_type": "execute_result"
    }
   ],
   "source": [
    "dbutils.fs.rm(\"/mydata/retail_3\",True)\n",
    "dbutils.fs.rm(\"/mydata/retail_99\",True)"
   ]
  },
  {
   "cell_type": "code",
   "execution_count": 0,
   "metadata": {
    "application/vnd.databricks.v1+cell": {
     "cellMetadata": {
      "byteLimit": 2048000,
      "rowLimit": 10000
     },
     "inputWidgets": {},
     "nuid": "7fc5acf8-3b76-4d8a-ad08-3d11ba29dea0",
     "showTitle": false,
     "tableResultSettingsMap": {},
     "title": ""
    }
   },
   "outputs": [
    {
     "output_type": "display_data",
     "data": {
      "text/html": [
       "<style scoped>\n",
       "  .table-result-container {\n",
       "    max-height: 300px;\n",
       "    overflow: auto;\n",
       "  }\n",
       "  table, th, td {\n",
       "    border: 1px solid black;\n",
       "    border-collapse: collapse;\n",
       "  }\n",
       "  th, td {\n",
       "    padding: 5px;\n",
       "  }\n",
       "  th {\n",
       "    text-align: left;\n",
       "  }\n",
       "</style><div class='table-result-container'><table class='table-result'><thead style='background-color: white'><tr><th>path</th><th>name</th><th>size</th><th>modificationTime</th></tr></thead><tbody><tr><td>dbfs:/databricks-datasets/COVID/</td><td>COVID/</td><td>0</td><td>0</td></tr><tr><td>dbfs:/databricks-datasets/README.md</td><td>README.md</td><td>976</td><td>1532468253000</td></tr><tr><td>dbfs:/databricks-datasets/Rdatasets/</td><td>Rdatasets/</td><td>0</td><td>0</td></tr><tr><td>dbfs:/databricks-datasets/SPARK_README.md</td><td>SPARK_README.md</td><td>3359</td><td>1455043490000</td></tr><tr><td>dbfs:/databricks-datasets/adult/</td><td>adult/</td><td>0</td><td>0</td></tr><tr><td>dbfs:/databricks-datasets/airlines/</td><td>airlines/</td><td>0</td><td>0</td></tr><tr><td>dbfs:/databricks-datasets/amazon/</td><td>amazon/</td><td>0</td><td>0</td></tr><tr><td>dbfs:/databricks-datasets/asa/</td><td>asa/</td><td>0</td><td>0</td></tr><tr><td>dbfs:/databricks-datasets/atlas_higgs/</td><td>atlas_higgs/</td><td>0</td><td>0</td></tr><tr><td>dbfs:/databricks-datasets/bikeSharing/</td><td>bikeSharing/</td><td>0</td><td>0</td></tr><tr><td>dbfs:/databricks-datasets/cctvVideos/</td><td>cctvVideos/</td><td>0</td><td>0</td></tr><tr><td>dbfs:/databricks-datasets/credit-card-fraud/</td><td>credit-card-fraud/</td><td>0</td><td>0</td></tr><tr><td>dbfs:/databricks-datasets/cs100/</td><td>cs100/</td><td>0</td><td>0</td></tr><tr><td>dbfs:/databricks-datasets/cs110x/</td><td>cs110x/</td><td>0</td><td>0</td></tr><tr><td>dbfs:/databricks-datasets/cs190/</td><td>cs190/</td><td>0</td><td>0</td></tr><tr><td>dbfs:/databricks-datasets/data.gov/</td><td>data.gov/</td><td>0</td><td>0</td></tr><tr><td>dbfs:/databricks-datasets/definitive-guide/</td><td>definitive-guide/</td><td>0</td><td>0</td></tr><tr><td>dbfs:/databricks-datasets/delta-sharing/</td><td>delta-sharing/</td><td>0</td><td>0</td></tr><tr><td>dbfs:/databricks-datasets/flights/</td><td>flights/</td><td>0</td><td>0</td></tr><tr><td>dbfs:/databricks-datasets/flower_photos/</td><td>flower_photos/</td><td>0</td><td>0</td></tr><tr><td>dbfs:/databricks-datasets/flowers/</td><td>flowers/</td><td>0</td><td>0</td></tr><tr><td>dbfs:/databricks-datasets/genomics/</td><td>genomics/</td><td>0</td><td>0</td></tr><tr><td>dbfs:/databricks-datasets/hail/</td><td>hail/</td><td>0</td><td>0</td></tr><tr><td>dbfs:/databricks-datasets/identifying-campaign-effectiveness/</td><td>identifying-campaign-effectiveness/</td><td>0</td><td>0</td></tr><tr><td>dbfs:/databricks-datasets/iot/</td><td>iot/</td><td>0</td><td>0</td></tr><tr><td>dbfs:/databricks-datasets/iot-stream/</td><td>iot-stream/</td><td>0</td><td>0</td></tr><tr><td>dbfs:/databricks-datasets/learning-spark/</td><td>learning-spark/</td><td>0</td><td>0</td></tr><tr><td>dbfs:/databricks-datasets/learning-spark-v2/</td><td>learning-spark-v2/</td><td>0</td><td>0</td></tr><tr><td>dbfs:/databricks-datasets/lending-club-loan-stats/</td><td>lending-club-loan-stats/</td><td>0</td><td>0</td></tr><tr><td>dbfs:/databricks-datasets/med-images/</td><td>med-images/</td><td>0</td><td>0</td></tr><tr><td>dbfs:/databricks-datasets/media/</td><td>media/</td><td>0</td><td>0</td></tr><tr><td>dbfs:/databricks-datasets/mnist-digits/</td><td>mnist-digits/</td><td>0</td><td>0</td></tr><tr><td>dbfs:/databricks-datasets/news20.binary/</td><td>news20.binary/</td><td>0</td><td>0</td></tr><tr><td>dbfs:/databricks-datasets/nyctaxi/</td><td>nyctaxi/</td><td>0</td><td>0</td></tr><tr><td>dbfs:/databricks-datasets/nyctaxi-with-zipcodes/</td><td>nyctaxi-with-zipcodes/</td><td>0</td><td>0</td></tr><tr><td>dbfs:/databricks-datasets/online_retail/</td><td>online_retail/</td><td>0</td><td>0</td></tr><tr><td>dbfs:/databricks-datasets/overlap-join/</td><td>overlap-join/</td><td>0</td><td>0</td></tr><tr><td>dbfs:/databricks-datasets/power-plant/</td><td>power-plant/</td><td>0</td><td>0</td></tr><tr><td>dbfs:/databricks-datasets/retail-org/</td><td>retail-org/</td><td>0</td><td>0</td></tr><tr><td>dbfs:/databricks-datasets/rwe/</td><td>rwe/</td><td>0</td><td>0</td></tr><tr><td>dbfs:/databricks-datasets/sai-summit-2019-sf/</td><td>sai-summit-2019-sf/</td><td>0</td><td>0</td></tr><tr><td>dbfs:/databricks-datasets/sample_logs/</td><td>sample_logs/</td><td>0</td><td>0</td></tr><tr><td>dbfs:/databricks-datasets/samples/</td><td>samples/</td><td>0</td><td>0</td></tr><tr><td>dbfs:/databricks-datasets/sfo_customer_survey/</td><td>sfo_customer_survey/</td><td>0</td><td>0</td></tr><tr><td>dbfs:/databricks-datasets/sms_spam_collection/</td><td>sms_spam_collection/</td><td>0</td><td>0</td></tr><tr><td>dbfs:/databricks-datasets/songs/</td><td>songs/</td><td>0</td><td>0</td></tr><tr><td>dbfs:/databricks-datasets/structured-streaming/</td><td>structured-streaming/</td><td>0</td><td>0</td></tr><tr><td>dbfs:/databricks-datasets/timeseries/</td><td>timeseries/</td><td>0</td><td>0</td></tr><tr><td>dbfs:/databricks-datasets/tpch/</td><td>tpch/</td><td>0</td><td>0</td></tr><tr><td>dbfs:/databricks-datasets/travel_recommendations_realtime/</td><td>travel_recommendations_realtime/</td><td>0</td><td>0</td></tr><tr><td>dbfs:/databricks-datasets/warmup/</td><td>warmup/</td><td>0</td><td>0</td></tr><tr><td>dbfs:/databricks-datasets/weather/</td><td>weather/</td><td>0</td><td>0</td></tr><tr><td>dbfs:/databricks-datasets/wiki/</td><td>wiki/</td><td>0</td><td>0</td></tr><tr><td>dbfs:/databricks-datasets/wikipedia-datasets/</td><td>wikipedia-datasets/</td><td>0</td><td>0</td></tr><tr><td>dbfs:/databricks-datasets/wine-quality/</td><td>wine-quality/</td><td>0</td><td>0</td></tr></tbody></table></div>"
      ]
     },
     "metadata": {
      "application/vnd.databricks.v1+output": {
       "addedWidgets": {},
       "aggData": [],
       "aggError": "",
       "aggOverflow": false,
       "aggSchema": [],
       "aggSeriesLimitReached": false,
       "aggType": "",
       "arguments": {},
       "columnCustomDisplayInfos": {},
       "data": [
        [
         "dbfs:/databricks-datasets/COVID/",
         "COVID/",
         0,
         0
        ],
        [
         "dbfs:/databricks-datasets/README.md",
         "README.md",
         976,
         1532468253000
        ],
        [
         "dbfs:/databricks-datasets/Rdatasets/",
         "Rdatasets/",
         0,
         0
        ],
        [
         "dbfs:/databricks-datasets/SPARK_README.md",
         "SPARK_README.md",
         3359,
         1455043490000
        ],
        [
         "dbfs:/databricks-datasets/adult/",
         "adult/",
         0,
         0
        ],
        [
         "dbfs:/databricks-datasets/airlines/",
         "airlines/",
         0,
         0
        ],
        [
         "dbfs:/databricks-datasets/amazon/",
         "amazon/",
         0,
         0
        ],
        [
         "dbfs:/databricks-datasets/asa/",
         "asa/",
         0,
         0
        ],
        [
         "dbfs:/databricks-datasets/atlas_higgs/",
         "atlas_higgs/",
         0,
         0
        ],
        [
         "dbfs:/databricks-datasets/bikeSharing/",
         "bikeSharing/",
         0,
         0
        ],
        [
         "dbfs:/databricks-datasets/cctvVideos/",
         "cctvVideos/",
         0,
         0
        ],
        [
         "dbfs:/databricks-datasets/credit-card-fraud/",
         "credit-card-fraud/",
         0,
         0
        ],
        [
         "dbfs:/databricks-datasets/cs100/",
         "cs100/",
         0,
         0
        ],
        [
         "dbfs:/databricks-datasets/cs110x/",
         "cs110x/",
         0,
         0
        ],
        [
         "dbfs:/databricks-datasets/cs190/",
         "cs190/",
         0,
         0
        ],
        [
         "dbfs:/databricks-datasets/data.gov/",
         "data.gov/",
         0,
         0
        ],
        [
         "dbfs:/databricks-datasets/definitive-guide/",
         "definitive-guide/",
         0,
         0
        ],
        [
         "dbfs:/databricks-datasets/delta-sharing/",
         "delta-sharing/",
         0,
         0
        ],
        [
         "dbfs:/databricks-datasets/flights/",
         "flights/",
         0,
         0
        ],
        [
         "dbfs:/databricks-datasets/flower_photos/",
         "flower_photos/",
         0,
         0
        ],
        [
         "dbfs:/databricks-datasets/flowers/",
         "flowers/",
         0,
         0
        ],
        [
         "dbfs:/databricks-datasets/genomics/",
         "genomics/",
         0,
         0
        ],
        [
         "dbfs:/databricks-datasets/hail/",
         "hail/",
         0,
         0
        ],
        [
         "dbfs:/databricks-datasets/identifying-campaign-effectiveness/",
         "identifying-campaign-effectiveness/",
         0,
         0
        ],
        [
         "dbfs:/databricks-datasets/iot/",
         "iot/",
         0,
         0
        ],
        [
         "dbfs:/databricks-datasets/iot-stream/",
         "iot-stream/",
         0,
         0
        ],
        [
         "dbfs:/databricks-datasets/learning-spark/",
         "learning-spark/",
         0,
         0
        ],
        [
         "dbfs:/databricks-datasets/learning-spark-v2/",
         "learning-spark-v2/",
         0,
         0
        ],
        [
         "dbfs:/databricks-datasets/lending-club-loan-stats/",
         "lending-club-loan-stats/",
         0,
         0
        ],
        [
         "dbfs:/databricks-datasets/med-images/",
         "med-images/",
         0,
         0
        ],
        [
         "dbfs:/databricks-datasets/media/",
         "media/",
         0,
         0
        ],
        [
         "dbfs:/databricks-datasets/mnist-digits/",
         "mnist-digits/",
         0,
         0
        ],
        [
         "dbfs:/databricks-datasets/news20.binary/",
         "news20.binary/",
         0,
         0
        ],
        [
         "dbfs:/databricks-datasets/nyctaxi/",
         "nyctaxi/",
         0,
         0
        ],
        [
         "dbfs:/databricks-datasets/nyctaxi-with-zipcodes/",
         "nyctaxi-with-zipcodes/",
         0,
         0
        ],
        [
         "dbfs:/databricks-datasets/online_retail/",
         "online_retail/",
         0,
         0
        ],
        [
         "dbfs:/databricks-datasets/overlap-join/",
         "overlap-join/",
         0,
         0
        ],
        [
         "dbfs:/databricks-datasets/power-plant/",
         "power-plant/",
         0,
         0
        ],
        [
         "dbfs:/databricks-datasets/retail-org/",
         "retail-org/",
         0,
         0
        ],
        [
         "dbfs:/databricks-datasets/rwe/",
         "rwe/",
         0,
         0
        ],
        [
         "dbfs:/databricks-datasets/sai-summit-2019-sf/",
         "sai-summit-2019-sf/",
         0,
         0
        ],
        [
         "dbfs:/databricks-datasets/sample_logs/",
         "sample_logs/",
         0,
         0
        ],
        [
         "dbfs:/databricks-datasets/samples/",
         "samples/",
         0,
         0
        ],
        [
         "dbfs:/databricks-datasets/sfo_customer_survey/",
         "sfo_customer_survey/",
         0,
         0
        ],
        [
         "dbfs:/databricks-datasets/sms_spam_collection/",
         "sms_spam_collection/",
         0,
         0
        ],
        [
         "dbfs:/databricks-datasets/songs/",
         "songs/",
         0,
         0
        ],
        [
         "dbfs:/databricks-datasets/structured-streaming/",
         "structured-streaming/",
         0,
         0
        ],
        [
         "dbfs:/databricks-datasets/timeseries/",
         "timeseries/",
         0,
         0
        ],
        [
         "dbfs:/databricks-datasets/tpch/",
         "tpch/",
         0,
         0
        ],
        [
         "dbfs:/databricks-datasets/travel_recommendations_realtime/",
         "travel_recommendations_realtime/",
         0,
         0
        ],
        [
         "dbfs:/databricks-datasets/warmup/",
         "warmup/",
         0,
         0
        ],
        [
         "dbfs:/databricks-datasets/weather/",
         "weather/",
         0,
         0
        ],
        [
         "dbfs:/databricks-datasets/wiki/",
         "wiki/",
         0,
         0
        ],
        [
         "dbfs:/databricks-datasets/wikipedia-datasets/",
         "wikipedia-datasets/",
         0,
         0
        ],
        [
         "dbfs:/databricks-datasets/wine-quality/",
         "wine-quality/",
         0,
         0
        ]
       ],
       "datasetInfos": [],
       "dbfsResultPath": null,
       "isJsonSchema": true,
       "metadata": {},
       "overflow": false,
       "plotOptions": {
        "customPlotOptions": {},
        "displayType": "table",
        "pivotAggregation": null,
        "pivotColumns": null,
        "xColumns": null,
        "yColumns": null
       },
       "removedWidgets": [],
       "schema": [
        {
         "metadata": "{}",
         "name": "path",
         "type": "\"string\""
        },
        {
         "metadata": "{}",
         "name": "name",
         "type": "\"string\""
        },
        {
         "metadata": "{}",
         "name": "size",
         "type": "\"long\""
        },
        {
         "metadata": "{}",
         "name": "modificationTime",
         "type": "\"long\""
        }
       ],
       "type": "table"
      }
     },
     "output_type": "display_data"
    }
   ],
   "source": [
    "display(dbutils.fs.ls(\"/databricks-datasets/\"))"
   ]
  },
  {
   "cell_type": "code",
   "execution_count": 0,
   "metadata": {
    "application/vnd.databricks.v1+cell": {
     "cellMetadata": {
      "byteLimit": 2048000,
      "rowLimit": 10000
     },
     "inputWidgets": {},
     "nuid": "77974744-20b8-41ff-a612-8e383b5c8d38",
     "showTitle": false,
     "tableResultSettingsMap": {},
     "title": ""
    }
   },
   "outputs": [
    {
     "output_type": "display_data",
     "data": {
      "text/html": [
       "<style scoped>\n",
       "  .table-result-container {\n",
       "    max-height: 300px;\n",
       "    overflow: auto;\n",
       "  }\n",
       "  table, th, td {\n",
       "    border: 1px solid black;\n",
       "    border-collapse: collapse;\n",
       "  }\n",
       "  th, td {\n",
       "    padding: 5px;\n",
       "  }\n",
       "  th {\n",
       "    text-align: left;\n",
       "  }\n",
       "</style><div class='table-result-container'><table class='table-result'><thead style='background-color: white'><tr><th>path</th><th>name</th><th>size</th><th>modificationTime</th></tr></thead><tbody><tr><td>dbfs:/databricks-datasets/definitive-guide/data/retail-data/all/online-retail-dataset.csv</td><td>online-retail-dataset.csv</td><td>45038760</td><td>1522192051000</td></tr></tbody></table></div>"
      ]
     },
     "metadata": {
      "application/vnd.databricks.v1+output": {
       "addedWidgets": {},
       "aggData": [],
       "aggError": "",
       "aggOverflow": false,
       "aggSchema": [],
       "aggSeriesLimitReached": false,
       "aggType": "",
       "arguments": {},
       "columnCustomDisplayInfos": {},
       "data": [
        [
         "dbfs:/databricks-datasets/definitive-guide/data/retail-data/all/online-retail-dataset.csv",
         "online-retail-dataset.csv",
         45038760,
         1522192051000
        ]
       ],
       "datasetInfos": [],
       "dbfsResultPath": null,
       "isJsonSchema": true,
       "metadata": {},
       "overflow": false,
       "plotOptions": {
        "customPlotOptions": {},
        "displayType": "table",
        "pivotAggregation": null,
        "pivotColumns": null,
        "xColumns": null,
        "yColumns": null
       },
       "removedWidgets": [],
       "schema": [
        {
         "metadata": "{}",
         "name": "path",
         "type": "\"string\""
        },
        {
         "metadata": "{}",
         "name": "name",
         "type": "\"string\""
        },
        {
         "metadata": "{}",
         "name": "size",
         "type": "\"long\""
        },
        {
         "metadata": "{}",
         "name": "modificationTime",
         "type": "\"long\""
        }
       ],
       "type": "table"
      }
     },
     "output_type": "display_data"
    }
   ],
   "source": [
    "display(dbutils.fs.ls(\"/databricks-datasets/definitive-guide/data/retail-data/all/\"))"
   ]
  },
  {
   "cell_type": "code",
   "execution_count": 0,
   "metadata": {
    "application/vnd.databricks.v1+cell": {
     "cellMetadata": {
      "byteLimit": 2048000,
      "rowLimit": 10000
     },
     "inputWidgets": {},
     "nuid": "6cd1bc44-af95-40ae-81e9-460a19162b81",
     "showTitle": false,
     "tableResultSettingsMap": {},
     "title": ""
    }
   },
   "outputs": [
    {
     "output_type": "display_data",
     "data": {
      "text/html": [
       "<style scoped>\n",
       "  .ansiout {\n",
       "    display: block;\n",
       "    unicode-bidi: embed;\n",
       "    white-space: pre-wrap;\n",
       "    word-wrap: break-word;\n",
       "    word-break: break-all;\n",
       "    font-family: \"Menlo\", \"Monaco\", \"Consolas\", \"Ubuntu Mono\", \"Source Code Pro\", monospace;\n",
       "    font-size: 13px;\n",
       "    color: #555;\n",
       "    margin-left: 4px;\n",
       "    line-height: 19px;\n",
       "  }\n",
       "</style>\n",
       "<div class=\"ansiout\">[Truncated to first 65536 bytes]\n",
       "InvoiceNo,StockCode,Description,Quantity,InvoiceDate,UnitPrice,CustomerID,Country\n",
       "536365,85123A,WHITE HANGING HEART T-LIGHT HOLDER,6,12/1/2010 8:26,2.55,17850,United Kingdom\n",
       "536365,71053,WHITE METAL LANTERN,6,12/1/2010 8:26,3.39,17850,United Kingdom\n",
       "536365,84406B,CREAM CUPID HEARTS COAT HANGER,8,12/1/2010 8:26,2.75,17850,United Kingdom\n",
       "536365,84029G,KNITTED UNION FLAG HOT WATER BOTTLE,6,12/1/2010 8:26,3.39,17850,United Kingdom\n",
       "536365,84029E,RED WOOLLY HOTTIE WHITE HEART.,6,12/1/2010 8:26,3.39,17850,United Kingdom\n",
       "536365,22752,SET 7 BABUSHKA NESTING BOXES,2,12/1/2010 8:26,7.65,17850,United Kingdom\n",
       "536365,21730,GLASS STAR FROSTED T-LIGHT HOLDER,6,12/1/2010 8:26,4.25,17850,United Kingdom\n",
       "536366,22633,HAND WARMER UNION JACK,6,12/1/2010 8:28,1.85,17850,United Kingdom\n",
       "536366,22632,HAND WARMER RED POLKA DOT,6,12/1/2010 8:28,1.85,17850,United Kingdom\n",
       "536367,84879,ASSORTED COLOUR BIRD ORNAMENT,32,12/1/2010 8:34,1.69,13047,United Kingdom\n",
       "536367,22745,POPPY'S PLAYHOUSE BEDROOM ,6,12/1/2010 8:34,2.1,13047,United Kingdom\n",
       "536367,22748,POPPY'S PLAYHOUSE KITCHEN,6,12/1/2010 8:34,2.1,13047,United Kingdom\n",
       "536367,22749,FELTCRAFT PRINCESS CHARLOTTE DOLL,8,12/1/2010 8:34,3.75,13047,United Kingdom\n",
       "536367,22310,IVORY KNITTED MUG COSY ,6,12/1/2010 8:34,1.65,13047,United Kingdom\n",
       "536367,84969,BOX OF 6 ASSORTED COLOUR TEASPOONS,6,12/1/2010 8:34,4.25,13047,United Kingdom\n",
       "536367,22623,BOX OF VINTAGE JIGSAW BLOCKS ,3,12/1/2010 8:34,4.95,13047,United Kingdom\n",
       "536367,22622,BOX OF VINTAGE ALPHABET BLOCKS,2,12/1/2010 8:34,9.95,13047,United Kingdom\n",
       "536367,21754,HOME BUILDING BLOCK WORD,3,12/1/2010 8:34,5.95,13047,United Kingdom\n",
       "536367,21755,LOVE BUILDING BLOCK WORD,3,12/1/2010 8:34,5.95,13047,United Kingdom\n",
       "536367,21777,RECIPE BOX WITH METAL HEART,4,12/1/2010 8:34,7.95,13047,United Kingdom\n",
       "536367,48187,DOORMAT NEW ENGLAND,4,12/1/2010 8:34,7.95,13047,United Kingdom\n",
       "536368,22960,JAM MAKING SET WITH JARS,6,12/1/2010 8:34,4.25,13047,United Kingdom\n",
       "536368,22913,RED COAT RACK PARIS FASHION,3,12/1/2010 8:34,4.95,13047,United Kingdom\n",
       "536368,22912,YELLOW COAT RACK PARIS FASHION,3,12/1/2010 8:34,4.95,13047,United Kingdom\n",
       "536368,22914,BLUE COAT RACK PARIS FASHION,3,12/1/2010 8:34,4.95,13047,United Kingdom\n",
       "536369,21756,BATH BUILDING BLOCK WORD,3,12/1/2010 8:35,5.95,13047,United Kingdom\n",
       "536370,22728,ALARM CLOCK BAKELIKE PINK,24,12/1/2010 8:45,3.75,12583,France\n",
       "536370,22727,ALARM CLOCK BAKELIKE RED ,24,12/1/2010 8:45,3.75,12583,France\n",
       "536370,22726,ALARM CLOCK BAKELIKE GREEN,12,12/1/2010 8:45,3.75,12583,France\n",
       "536370,21724,PANDA AND BUNNIES STICKER SHEET,12,12/1/2010 8:45,0.85,12583,France\n",
       "536370,21883,STARS GIFT TAPE ,24,12/1/2010 8:45,0.65,12583,France\n",
       "536370,10002,INFLATABLE POLITICAL GLOBE ,48,12/1/2010 8:45,0.85,12583,France\n",
       "536370,21791,VINTAGE HEADS AND TAILS CARD GAME ,24,12/1/2010 8:45,1.25,12583,France\n",
       "536370,21035,SET/2 RED RETROSPOT TEA TOWELS ,18,12/1/2010 8:45,2.95,12583,France\n",
       "536370,22326,ROUND SNACK BOXES SET OF4 WOODLAND ,24,12/1/2010 8:45,2.95,12583,France\n",
       "536370,22629,SPACEBOY LUNCH BOX ,24,12/1/2010 8:45,1.95,12583,France\n",
       "536370,22659,LUNCH BOX I LOVE LONDON,24,12/1/2010 8:45,1.95,12583,France\n",
       "536370,22631,CIRCUS PARADE LUNCH BOX ,24,12/1/2010 8:45,1.95,12583,France\n",
       "536370,22661,CHARLOTTE BAG DOLLY GIRL DESIGN,20,12/1/2010 8:45,0.85,12583,France\n",
       "536370,21731,RED TOADSTOOL LED NIGHT LIGHT,24,12/1/2010 8:45,1.65,12583,France\n",
       "536370,22900, SET 2 TEA TOWELS I LOVE LONDON ,24,12/1/2010 8:45,2.95,12583,France\n",
       "536370,21913,VINTAGE SEASIDE JIGSAW PUZZLES,12,12/1/2010 8:45,3.75,12583,France\n",
       "536370,22540,MINI JIGSAW CIRCUS PARADE ,24,12/1/2010 8:45,0.42,12583,France\n",
       "536370,22544,MINI JIGSAW SPACEBOY,24,12/1/2010 8:45,0.42,12583,France\n",
       "536370,22492,MINI PAINT SET VINTAGE ,36,12/1/2010 8:45,0.65,12583,France\n",
       "536370,POST,POSTAGE,3,12/1/2010 8:45,18,12583,France\n",
       "536371,22086,PAPER CHAIN KIT 50'S CHRISTMAS ,80,12/1/2010 9:00,2.55,13748,United Kingdom\n",
       "536372,22632,HAND WARMER RED POLKA DOT,6,12/1/2010 9:01,1.85,17850,United Kingdom\n",
       "536372,22633,HAND WARMER UNION JACK,6,12/1/2010 9:01,1.85,17850,United Kingdom\n",
       "536373,85123A,WHITE HANGING HEART T-LIGHT HOLDER,6,12/1/2010 9:02,2.55,17850,United Kingdom\n",
       "536373,71053,WHITE METAL LANTERN,6,12/1/2010 9:02,3.39,17850,United Kingdom\n",
       "536373,84406B,CREAM CUPID HEARTS COAT HANGER,8,12/1/2010 9:02,2.75,17850,United Kingdom\n",
       "536373,20679,EDWARDIAN PARASOL RED,6,12/1/2010 9:02,4.95,17850,United Kingdom\n",
       "536373,37370,RETRO COFFEE MUGS ASSORTED,6,12/1/2010 9:02,1.06,17850,United Kingdom\n",
       "536373,21871,SAVE THE PLANET MUG,6,12/1/2010 9:02,1.06,17850,United Kingdom\n",
       "536373,21071,VINTAGE BILLBOARD DRINK ME MUG,6,12/1/2010 9:02,1.06,17850,United Kingdom\n",
       "536373,21068,VINTAGE BILLBOARD LOVE/HATE MUG,6,12/1/2010 9:02,1.06,17850,United Kingdom\n",
       "536373,82483,WOOD 2 DRAWER CABINET WHITE FINISH,2,12/1/2010 9:02,4.95,17850,United Kingdom\n",
       "536373,82486,WOOD S/3 CABINET ANT WHITE FINISH,4,12/1/2010 9:02,6.95,17850,United Kingdom\n",
       "536373,82482,WOODEN PICTURE FRAME WHITE FINISH,6,12/1/2010 9:02,2.1,17850,United Kingdom\n",
       "536373,82494L,WOODEN FRAME ANTIQUE WHITE ,6,12/1/2010 9:02,2.55,17850,United Kingdom\n",
       "536373,84029G,KNITTED UNION FLAG HOT WATER BOTTLE,6,12/1/2010 9:02,3.39,17850,United Kingdom\n",
       "536373,84029E,RED WOOLLY HOTTIE WHITE HEART.,6,12/1/2010 9:02,3.39,17850,United Kingdom\n",
       "536373,22752,SET 7 BABUSHKA NESTING BOXES,2,12/1/2010 9:02,7.65,17850,United Kingdom\n",
       "536373,21730,GLASS STAR FROSTED T-LIGHT HOLDER,6,12/1/2010 9:02,4.25,17850,United Kingdom\n",
       "536374,21258,VICTORIAN SEWING BOX LARGE,32,12/1/2010 9:09,10.95,15100,United Kingdom\n",
       "536375,85123A,WHITE HANGING HEART T-LIGHT HOLDER,6,12/1/2010 9:32,2.55,17850,United Kingdom\n",
       "536375,71053,WHITE METAL LANTERN,6,12/1/2010 9:32,3.39,17850,United Kingdom\n",
       "536375,84406B,CREAM CUPID HEARTS COAT HANGER,8,12/1/2010 9:32,2.75,17850,United Kingdom\n",
       "536375,20679,EDWARDIAN PARASOL RED,6,12/1/2010 9:32,4.95,17850,United Kingdom\n",
       "536375,37370,RETRO COFFEE MUGS ASSORTED,6,12/1/2010 9:32,1.06,17850,United Kingdom\n",
       "536375,21871,SAVE THE PLANET MUG,6,12/1/2010 9:32,1.06,17850,United Kingdom\n",
       "536375,21071,VINTAGE BILLBOARD DRINK ME MUG,6,12/1/2010 9:32,1.06,17850,United Kingdom\n",
       "536375,21068,VINTAGE BILLBOARD LOVE/HATE MUG,6,12/1/2010 9:32,1.06,17850,United Kingdom\n",
       "536375,82483,WOOD 2 DRAWER CABINET WHITE FINISH,2,12/1/2010 9:32,4.95,17850,United Kingdom\n",
       "536375,82486,WOOD S/3 CABINET ANT WHITE FINISH,4,12/1/2010 9:32,6.95,17850,United Kingdom\n",
       "536375,82482,WOODEN PICTURE FRAME WHITE FINISH,6,12/1/2010 9:32,2.1,17850,United Kingdom\n",
       "536375,82494L,WOODEN FRAME ANTIQUE WHITE ,6,12/1/2010 9:32,2.55,17850,United Kingdom\n",
       "536375,84029G,KNITTED UNION FLAG HOT WATER BOTTLE,6,12/1/2010 9:32,3.39,17850,United Kingdom\n",
       "536375,84029E,RED WOOLLY HOTTIE WHITE HEART.,6,12/1/2010 9:32,3.39,17850,United Kingdom\n",
       "536375,22752,SET 7 BABUSHKA NESTING BOXES,2,12/1/2010 9:32,7.65,17850,United Kingdom\n",
       "536375,21730,GLASS STAR FROSTED T-LIGHT HOLDER,6,12/1/2010 9:32,4.25,17850,United Kingdom\n",
       "536376,22114,HOT WATER BOTTLE TEA AND SYMPATHY,48,12/1/2010 9:32,3.45,15291,United Kingdom\n",
       "536376,21733,RED HANGING HEART T-LIGHT HOLDER,64,12/1/2010 9:32,2.55,15291,United Kingdom\n",
       "536377,22632,HAND WARMER RED POLKA DOT,6,12/1/2010 9:34,1.85,17850,United Kingdom\n",
       "536377,22633,HAND WARMER UNION JACK,6,12/1/2010 9:34,1.85,17850,United Kingdom\n",
       "536378,22386,JUMBO BAG PINK POLKADOT,10,12/1/2010 9:37,1.95,14688,United Kingdom\n",
       "536378,85099C,JUMBO  BAG BAROQUE BLACK WHITE,10,12/1/2010 9:37,1.95,14688,United Kingdom\n",
       "536378,21033,JUMBO BAG CHARLIE AND LOLA TOYS,10,12/1/2010 9:37,2.95,14688,United Kingdom\n",
       "536378,20723,STRAWBERRY CHARLOTTE BAG,10,12/1/2010 9:37,0.85,14688,United Kingdom\n",
       "536378,84997B,RED 3 PIECE RETROSPOT CUTLERY SET,12,12/1/2010 9:37,3.75,14688,United Kingdom\n",
       "536378,84997C,BLUE 3 PIECE POLKADOT CUTLERY SET,6,12/1/2010 9:37,3.75,14688,United Kingdom\n",
       "536378,21094,SET/6 RED SPOTTY PAPER PLATES,12,12/1/2010 9:37,0.85,14688,United Kingdom\n",
       "536378,20725,LUNCH BAG RED RETROSPOT,10,12/1/2010 9:37,1.65,14688,United Kingdom\n",
       "536378,21559,STRAWBERRY LUNCH BOX WITH CUTLERY,6,12/1/2010 9:37,2.55,14688,United Kingdom\n",
       "536378,22352,LUNCH BOX WITH CUTLERY RETROSPOT ,6,12/1/2010 9:37,2.55,14688,United Kingdom\n",
       "536378,21212,PACK OF 72 RETROSPOT CAKE CASES,120,12/1/2010 9:37,0.42,14688,United Kingdom\n",
       "536378,21975,PACK OF 60 DINOSAUR CAKE CASES,24,12/1/2010 9:37,0.55,14688,United Kingdom\n",
       "536378,21977,PACK OF 60 PINK PAISLEY CAKE CASES,24,12/1/2010 9:37,0.55,14688,United Kingdom\n",
       "536378,84991,60 TEATIME FAIRY CAKE CASES,24,12/1/2010 9:37,0.55,14688,United Kingdom\n",
       "536378,84519A,TOMATO CHARLIE+LOLA COASTER SET,6,12/1/2010 9:37,2.95,14688,United Kingdom\n",
       "536378,85183B,CHARLIE &amp; LOLA WASTEPAPER BIN FLORA,48,12/1/2010 9:37,1.25,14688,United Kingdom\n",
       "536378,85071B,RED CHARLIE+LOLA PERSONAL DOORSIGN,96,12/1/2010 9:37,0.38,14688,United Kingdom\n",
       "536378,21931,JUMBO STORAGE BAG SUKI,10,12/1/2010 9:37,1.95,14688,United Kingdom\n",
       "536378,21929,JUMBO BAG PINK VINTAGE PAISLEY,10,12/1/2010 9:37,1.95,14688,United Kingdom\n",
       "536380,22961,JAM MAKING SET PRINTED,24,12/1/2010 9:41,1.45,17809,United Kingdom\n",
       "536381,22139,RETROSPOT TEA SET CERAMIC 11 PC ,23,12/1/2010 9:41,4.25,15311,United Kingdom\n",
       "536381,84854,GIRLY PINK TOOL SET,5,12/1/2010 9:41,4.95,15311,United Kingdom\n",
       "536381,22411,JUMBO SHOPPER VINTAGE RED PAISLEY,10,12/1/2010 9:41,1.95,15311,United Kingdom\n",
       "536381,82567,&quot;AIRLINE LOUNGE,METAL SIGN&quot;,2,12/1/2010 9:41,2.1,15311,United Kingdom\n",
       "536381,21672,WHITE SPOT RED CERAMIC DRAWER KNOB,6,12/1/2010 9:41,1.25,15311,United Kingdom\n",
       "536381,22774,RED DRAWER KNOB ACRYLIC EDWARDIAN,24,12/1/2010 9:41,1.25,15311,United Kingdom\n",
       "536381,22771,CLEAR DRAWER KNOB ACRYLIC EDWARDIAN,24,12/1/2010 9:41,1.25,15311,United Kingdom\n",
       "536381,71270,PHOTO CLIP LINE,1,12/1/2010 9:41,1.25,15311,United Kingdom\n",
       "536381,22262,FELT EGG COSY CHICKEN,1,12/1/2010 9:41,0.85,15311,United Kingdom\n",
       "536381,22637,PIGGY BANK RETROSPOT ,1,12/1/2010 9:41,2.55,15311,United Kingdom\n",
       "536381,21934,SKULL SHOULDER BAG,10,12/1/2010 9:41,1.65,15311,United Kingdom\n",
       "536381,21169,YOU'RE CONFUSING ME METAL SIGN ,3,12/1/2010 9:41,1.69,15311,United Kingdom\n",
       "536381,21166,COOK WITH WINE METAL SIGN ,1,12/1/2010 9:41,1.95,15311,United Kingdom\n",
       "536381,21175,GIN + TONIC DIET METAL SIGN,2,12/1/2010 9:41,2.1,15311,United Kingdom\n",
       "536381,37444A,YELLOW BREAKFAST CUP AND SAUCER,1,12/1/2010 9:41,2.95,15311,United Kingdom\n",
       "536381,37444C,PINK BREAKFAST CUP AND SAUCER ,1,12/1/2010 9:41,2.95,15311,United Kingdom\n",
       "536381,22086,PAPER CHAIN KIT 50'S CHRISTMAS ,4,12/1/2010 9:41,2.95,15311,United Kingdom\n",
       "536381,22083,PAPER CHAIN KIT RETROSPOT,1,12/1/2010 9:41,2.95,15311,United Kingdom\n",
       "536381,84971S,SMALL HEART FLOWERS HOOK ,6,12/1/2010 9:41,0.85,15311,United Kingdom\n",
       "536381,71270,PHOTO CLIP LINE,3,12/1/2010 9:41,1.25,15311,United Kingdom\n",
       "536381,47580,TEA TIME DES TEA COSY,2,12/1/2010 9:41,2.55,15311,United Kingdom\n",
       "536381,22261,FELT EGG COSY WHITE RABBIT ,1,12/1/2010 9:41,0.85,15311,United Kingdom\n",
       "536381,84832,ZINC WILLIE WINKIE  CANDLE STICK,1,12/1/2010 9:41,0.85,15311,United Kingdom\n",
       "536381,22644,CERAMIC CHERRY CAKE MONEY BANK,1,12/1/2010 9:41,1.45,15311,United Kingdom\n",
       "536381,21533,RETROSPOT LARGE MILK JUG,1,12/1/2010 9:41,4.95,15311,United Kingdom\n",
       "536381,21557,SET OF 6 FUNKY BEAKERS,2,12/1/2010 9:41,2.95,15311,United Kingdom\n",
       "536381,15056BL,EDWARDIAN PARASOL BLACK,2,12/1/2010 9:41,5.95,15311,United Kingdom\n",
       "536381,15056N,EDWARDIAN PARASOL NATURAL,2,12/1/2010 9:41,5.95,15311,United Kingdom\n",
       "536381,22646,CERAMIC STRAWBERRY CAKE MONEY BANK,4,12/1/2010 9:41,1.45,15311,United Kingdom\n",
       "536381,22176,BLUE OWL SOFT TOY,1,12/1/2010 9:41,2.95,15311,United Kingdom\n",
       "536381,22438,BALLOON ART MAKE YOUR OWN FLOWERS,1,12/1/2010 9:41,1.95,15311,United Kingdom\n",
       "536381,21731,RED TOADSTOOL LED NIGHT LIGHT,2,12/1/2010 9:41,1.65,15311,United Kingdom\n",
       "536381,22778,GLASS CLOCHE SMALL,3,12/1/2010 9:41,3.95,15311,United Kingdom\n",
       "536381,22719,GUMBALL MONOCHROME COAT RACK,36,12/1/2010 9:41,1.06,15311,United Kingdom\n",
       "536381,21523,DOORMAT FANCY FONT HOME SWEET HOME,10,12/1/2010 9:41,6.75,15311,United Kingdom\n",
       "C536379,D,Discount,-1,12/1/2010 9:41,27.5,14527,United Kingdom\n",
       "536382,10002,INFLATABLE POLITICAL GLOBE ,12,12/1/2010 9:45,0.85,16098,United Kingdom\n",
       "536382,21912,VINTAGE SNAKES &amp; LADDERS,8,12/1/2010 9:45,3.75,16098,United Kingdom\n",
       "536382,21832,CHOCOLATE CALCULATOR,12,12/1/2010 9:45,1.65,16098,United Kingdom\n",
       "536382,22411,JUMBO SHOPPER VINTAGE RED PAISLEY,10,12/1/2010 9:45,1.95,16098,United Kingdom\n",
       "536382,22379,RECYCLING BAG RETROSPOT ,10,12/1/2010 9:45,2.1,16098,United Kingdom\n",
       "536382,22381,TOY TIDY PINK POLKADOT,50,12/1/2010 9:45,1.85,16098,United Kingdom\n",
       "536382,22798,ANTIQUE GLASS DRESSING TABLE POT,8,12/1/2010 9:45,2.95,16098,United Kingdom\n",
       "536382,22726,ALARM CLOCK BAKELIKE GREEN,4,12/1/2010 9:45,3.75,16098,United Kingdom\n",
       "536382,22926,IVORY GIANT GARDEN THERMOMETER,12,12/1/2010 9:45,5.95,16098,United Kingdom\n",
       "536382,22839,3 TIER CAKE TIN GREEN AND CREAM,2,12/1/2010 9:45,14.95,16098,United Kingdom\n",
       "536382,22838,3 TIER CAKE TIN RED AND CREAM,2,12/1/2010 9:45,14.95,16098,United Kingdom\n",
       "536382,22783,SET 3 WICKER OVAL BASKETS W LIDS,4,12/1/2010 9:45,16.95,16098,United Kingdom\n",
       "C536383,35004C,SET OF 3 COLOURED  FLYING DUCKS,-1,12/1/2010 9:49,4.65,15311,United Kingdom\n",
       "536384,82484,WOOD BLACK BOARD ANT WHITE FINISH,3,12/1/2010 9:53,6.45,18074,United Kingdom\n",
       "536384,84755,COLOUR GLASS T-LIGHT HOLDER HANGING,48,12/1/2010 9:53,0.65,18074,United Kingdom\n",
       "536384,22464,HANGING METAL HEART LANTERN,12,12/1/2010 9:53,1.65,18074,United Kingdom\n",
       "536384,21324,HANGING MEDINA LANTERN SMALL,6,12/1/2010 9:53,2.95,18074,United Kingdom\n",
       "536384,22457,NATURAL SLATE HEART CHALKBOARD ,12,12/1/2010 9:53,2.95,18074,United Kingdom\n",
       "536384,22469,HEART OF WICKER SMALL,40,12/1/2010 9:53,1.45,18074,United Kingdom\n",
       "536384,22470,HEART OF WICKER LARGE,40,12/1/2010 9:53,2.55,18074,United Kingdom\n",
       "536384,22224,WHITE LOVEBIRD LANTERN,6,12/1/2010 9:53,2.95,18074,United Kingdom\n",
       "536384,21340,CLASSIC METAL BIRDCAGE PLANT HOLDER,2,12/1/2010 9:53,12.75,18074,United Kingdom\n",
       "536384,22189,CREAM HEART CARD HOLDER,4,12/1/2010 9:53,3.95,18074,United Kingdom\n",
       "536384,22427,ENAMEL FLOWER JUG CREAM,3,12/1/2010 9:53,5.95,18074,United Kingdom\n",
       "536384,22428,ENAMEL FIRE BUCKET CREAM,6,12/1/2010 9:53,6.95,18074,United Kingdom\n",
       "536384,22424,ENAMEL BREAD BIN CREAM,8,12/1/2010 9:53,10.95,18074,United Kingdom\n",
       "536385,22783,SET 3 WICKER OVAL BASKETS W LIDS,1,12/1/2010 9:56,19.95,17420,United Kingdom\n",
       "536385,22961,JAM MAKING SET PRINTED,12,12/1/2010 9:56,1.45,17420,United Kingdom\n",
       "536385,22960,JAM MAKING SET WITH JARS,6,12/1/2010 9:56,4.25,17420,United Kingdom\n",
       "536385,22663,JUMBO BAG DOLLY GIRL DESIGN,10,12/1/2010 9:56,1.95,17420,United Kingdom\n",
       "536385,85049A,TRADITIONAL CHRISTMAS RIBBONS,12,12/1/2010 9:56,1.25,17420,United Kingdom\n",
       "536385,22168,ORGANISER WOOD ANTIQUE WHITE ,2,12/1/2010 9:56,8.5,17420,United Kingdom\n",
       "536385,22662,LUNCH BAG DOLLY GIRL DESIGN,10,12/1/2010 9:56,1.65,17420,United Kingdom\n",
       "536386,84880,WHITE WIRE EGG HOLDER,36,12/1/2010 9:57,4.95,16029,United Kingdom\n",
       "536386,85099C,JUMBO  BAG BAROQUE BLACK WHITE,100,12/1/2010 9:57,1.65,16029,United Kingdom\n",
       "536386,85099B,JUMBO BAG RED RETROSPOT,100,12/1/2010 9:57,1.65,16029,United Kingdom\n",
       "536387,79321,CHILLI LIGHTS,192,12/1/2010 9:58,3.82,16029,United Kingdom\n",
       "536387,22780,LIGHT GARLAND BUTTERFILES PINK,192,12/1/2010 9:58,3.37,16029,United Kingdom\n",
       "536387,22779,WOODEN OWLS LIGHT GARLAND ,192,12/1/2010 9:58,3.37,16029,United Kingdom\n",
       "536387,22466,FAIRY TALE COTTAGE NIGHTLIGHT,432,12/1/2010 9:58,1.45,16029,United Kingdom\n",
       "536387,21731,RED TOADSTOOL LED NIGHT LIGHT,432,12/1/2010 9:58,1.25,16029,United Kingdom\n",
       "536388,21754,HOME BUILDING BLOCK WORD,3,12/1/2010 9:59,5.95,16250,United Kingdom\n",
       "536388,21755,LOVE BUILDING BLOCK WORD,3,12/1/2010 9:59,5.95,16250,United Kingdom\n",
       "536388,21523,DOORMAT FANCY FONT HOME SWEET HOME,2,12/1/2010 9:59,7.95,16250,United Kingdom\n",
       "536388,21363,HOME SMALL WOOD LETTERS,3,12/1/2010 9:59,4.95,16250,United Kingdom\n",
       "536388,21411,GINGHAM HEART  DOORSTOP RED,3,12/1/2010 9:59,4.25,16250,United Kingdom\n",
       "536388,22318,FIVE HEART HANGING DECORATION,6,12/1/2010 9:59,2.95,16250,United Kingdom\n",
       "536388,22464,HANGING METAL HEART LANTERN,12,12/1/2010 9:59,1.65,16250,United Kingdom\n",
       "536388,22915,ASSORTED BOTTLE TOP  MAGNETS ,12,12/1/2010 9:59,0.42,16250,United Kingdom\n",
       "536388,22922,FRIDGE MAGNETS US DINER ASSORTED,12,12/1/2010 9:59,0.85,16250,United Kingdom\n",
       "536388,22969,HOMEMADE JAM SCENTED CANDLES,12,12/1/2010 9:59,1.45,16250,United Kingdom\n",
       "536388,22923,FRIDGE MAGNETS LES ENFANTS ASSORTED,12,12/1/2010 9:59,0.85,16250,United Kingdom\n",
       "536388,21115,ROSE CARAVAN DOORSTOP,4,12/1/2010 9:59,6.75,16250,United Kingdom\n",
       "536388,22469,HEART OF WICKER SMALL,12,12/1/2010 9:59,1.65,16250,United Kingdom\n",
       "536388,22242,5 HOOK HANGER MAGIC TOADSTOOL,12,12/1/2010 9:59,1.65,16250,United Kingdom\n",
       "536389,22941,CHRISTMAS LIGHTS 10 REINDEER,6,12/1/2010 10:03,8.5,12431,Australia\n",
       "536389,21622,VINTAGE UNION JACK CUSHION COVER,8,12/1/2010 10:03,4.95,12431,Australia\n",
       "536389,21791,VINTAGE HEADS AND TAILS CARD GAME ,12,12/1/2010 10:03,1.25,12431,Australia\n",
       "536389,35004C,SET OF 3 COLOURED  FLYING DUCKS,6,12/1/2010 10:03,5.45,12431,Australia\n",
       "536389,35004G,SET OF 3 GOLD FLYING DUCKS,4,12/1/2010 10:03,6.35,12431,Australia\n",
       "536389,85014B,RED RETROSPOT UMBRELLA,6,12/1/2010 10:03,5.95,12431,Australia\n",
       "536389,85014A,BLACK/BLUE POLKADOT UMBRELLA,3,12/1/2010 10:03,5.95,12431,Australia\n",
       "536389,22193,RED DINER WALL CLOCK,2,12/1/2010 10:03,8.5,12431,Australia\n",
       "536389,22726,ALARM CLOCK BAKELIKE GREEN,4,12/1/2010 10:03,3.75,12431,Australia\n",
       "536389,22727,ALARM CLOCK BAKELIKE RED ,4,12/1/2010 10:03,3.75,12431,Australia\n",
       "536389,22192,BLUE DINER WALL CLOCK,2,12/1/2010 10:03,8.5,12431,Australia\n",
       "536389,22191,IVORY DINER WALL CLOCK,2,12/1/2010 10:03,8.5,12431,Australia\n",
       "536389,22195,LARGE HEART MEASURING SPOONS,24,12/1/2010 10:03,1.65,12431,Australia\n",
       "536389,22196,SMALL HEART MEASURING SPOONS,24,12/1/2010 10:03,0.85,12431,Australia\n",
       "536390,22941,CHRISTMAS LIGHTS 10 REINDEER,2,12/1/2010 10:19,8.5,17511,United Kingdom\n",
       "536390,22960,JAM MAKING SET WITH JARS,12,12/1/2010 10:19,3.75,17511,United Kingdom\n",
       "536390,22961,JAM MAKING SET PRINTED,12,12/1/2010 10:19,1.45,17511,United Kingdom\n",
       "536390,22962,JAM JAR WITH PINK LID,48,12/1/2010 10:19,0.72,17511,United Kingdom\n",
       "536390,22963,JAM JAR WITH GREEN LID,48,12/1/2010 10:19,0.72,17511,United Kingdom\n",
       "536390,22968,ROSE COTTAGE KEEPSAKE BOX ,8,12/1/2010 10:19,8.5,17511,United Kingdom\n",
       "536390,84970S,HANGING HEART ZINC T-LIGHT HOLDER,144,12/1/2010 10:19,0.64,17511,United Kingdom\n",
       "536390,22910,PAPER CHAIN KIT VINTAGE CHRISTMAS,40,12/1/2010 10:19,2.55,17511,United Kingdom\n",
       "536390,20668,DISCO BALL CHRISTMAS DECORATION,288,12/1/2010 10:19,0.1,17511,United Kingdom\n",
       "536390,85123A,WHITE HANGING HEART T-LIGHT HOLDER,64,12/1/2010 10:19,2.55,17511,United Kingdom\n",
       "536390,22197,SMALL POPCORN HOLDER,100,12/1/2010 10:19,0.72,17511,United Kingdom\n",
       "536390,22198,LARGE POPCORN HOLDER ,50,12/1/2010 10:19,1.45,17511,United Kingdom\n",
       "536390,21533,RETROSPOT LARGE MILK JUG,12,12/1/2010 10:19,4.25,17511,United Kingdom\n",
       "536390,21080,SET/20 RED RETROSPOT PAPER NAPKINS ,96,12/1/2010 10:19,0.64,17511,United Kingdom\n",
       "536390,21094,SET/6 RED SPOTTY PAPER PLATES,96,12/1/2010 10:19,0.64,17511,United Kingdom\n",
       "536390,21086,SET/6 RED SPOTTY PAPER CUPS,48,12/1/2010 10:19,0.65,17511,United Kingdom\n",
       "536390,21786,POLKADOT RAIN HAT ,144,12/1/2010 10:19,0.32,17511,United Kingdom\n",
       "536390,22654,DELUXE SEWING KIT ,40,12/1/2010 10:19,4.95,17511,United Kingdom\n",
       "536390,21485,RETROSPOT HEART HOT WATER BOTTLE,24,12/1/2010 10:19,4.25,17511,United Kingdom\n",
       "536390,84029G,KNITTED UNION FLAG HOT WATER BOTTLE,24,12/1/2010 10:19,3.39,17511,United Kingdom\n",
       "536390,84030E,ENGLISH ROSE HOT WATER BOTTLE,24,12/1/2010 10:19,3.75,17511,United Kingdom\n",
       "536390,22174,PHOTO CUBE,48,12/1/2010 10:19,1.48,17511,United Kingdom\n",
       "536390,22969,HOMEMADE JAM SCENTED CANDLES,96,12/1/2010 10:19,1.25,17511,United Kingdom\n",
       "536390,85099B,JUMBO BAG RED RETROSPOT,100,12/1/2010 10:19,1.65,17511,United Kingdom\n",
       "C536391,22556,PLASTERS IN TIN CIRCUS PARADE ,-12,12/1/2010 10:24,1.65,17548,United Kingdom\n",
       "C536391,21984,PACK OF 12 PINK PAISLEY TISSUES ,-24,12/1/2010 10:24,0.29,17548,United Kingdom\n",
       "C536391,21983,PACK OF 12 BLUE PAISLEY TISSUES ,-24,12/1/2010 10:24,0.29,17548,United Kingdom\n",
       "C536391,21980,PACK OF 12 RED RETROSPOT TISSUES ,-24,12/1/2010 10:24,0.29,17548,United Kingdom\n",
       "C536391,21484,CHICK GREY HOT WATER BOTTLE,-12,12/1/2010 10:24,3.45,17548,United Kingdom\n",
       "C536391,22557,PLASTERS IN TIN VINTAGE PAISLEY ,-12,12/1/2010 10:24,1.65,17548,United Kingdom\n",
       "C536391,22553,PLASTERS IN TIN SKULLS,-24,12/1/2010 10:24,1.65,17548,United Kingdom\n",
       "536392,22150,3 STRIPEY MICE FELTCRAFT,6,12/1/2010 10:29,1.95,13705,United Kingdom\n",
       "536392,22619,SET OF 6 SOLDIER SKITTLES,4,12/1/2010 10:29,3.75,13705,United Kingdom\n",
       "536392,21891,TRADITIONAL WOODEN SKIPPING ROPE,12,12/1/2010 10:29,1.25,13705,United Kingdom\n",
       "536392,21889,WOODEN BOX OF DOMINOES,12,12/1/2010 10:29,1.25,13705,United Kingdom\n",
       "536392,22827,RUSTIC  SEVENTEEN DRAWER SIDEBOARD,1,12/1/2010 10:29,165,13705,United Kingdom\n",
       "536392,22127,PARTY CONES CARNIVAL ASSORTED,12,12/1/2010 10:29,1.25,13705,United Kingdom\n",
       "536392,22128,PARTY CONES CANDY ASSORTED,12,12/1/2010 10:29,1.25,13705,United Kingdom\n",
       "536392,22502,PICNIC BASKET WICKER SMALL,4,12/1/2010 10:29,5.95,13705,United Kingdom\n",
       "536392,84879,ASSORTED COLOUR BIRD ORNAMENT,16,12/1/2010 10:29,1.69,13705,United Kingdom\n",
       "536392,22338,STAR DECORATION PAINTED ZINC ,24,12/1/2010 10:29,0.65,13705,United Kingdom\n",
       "536393,22180,RETROSPOT LAMP,8,12/1/2010 10:37,9.95,13747,United Kingdom\n",
       "536394,21506,&quot;FANCY FONT BIRTHDAY CARD, &quot;,24,12/1/2010 10:39,0.42,13408,United Kingdom\n",
       "536394,22633,HAND WARMER UNION JACK,96,12/1/2010 10:39,1.85,13408,United Kingdom\n",
       "536394,22866,HAND WARMER SCOTTY DOG DESIGN,96,12/1/2010 10:39,1.85,13408,United Kingdom\n",
       "536394,22865,HAND WARMER OWL DESIGN,96,12/1/2010 10:39,1.85,13408,United Kingdom\n",
       "536394,22632,HAND WARMER RED RETROSPOT,96,12/1/2010 10:39,1.85,13408,United Kingdom\n",
       "536394,21485,RETROSPOT HEART HOT WATER BOTTLE,12,12/1/2010 10:39,4.95,13408,United Kingdom\n",
       "536394,22349,DOG BOWL CHASING BALL DESIGN,12,12/1/2010 10:39,3.75,13408,United Kingdom\n",
       "536394,22558,CLOTHES PEGS RETROSPOT PACK 24 ,48,12/1/2010 10:39,1.25,13408,United Kingdom\n",
       "536394,85152,HAND OVER THE CHOCOLATE   SIGN ,12,12/1/2010 10:39,2.1,13408,United Kingdom\n",
       "536394,85123A,WHITE HANGING HEART T-LIGHT HOLDER,32,12/1/2010 10:39,2.55,13408,United Kingdom\n",
       "536394,22652,TRAVEL SEWING KIT,20,12/1/2010 10:39,1.65,13408,United Kingdom\n",
       "536395,22188,BLACK HEART CARD HOLDER,8,12/1/2010 10:47,3.95,13767,United Kingdom\n",
       "536395,84879,ASSORTED COLOUR BIRD ORNAMENT,32,12/1/2010 10:47,1.69,13767,United Kingdom\n",
       "536395,21977,PACK OF 60 PINK PAISLEY CAKE CASES,24,12/1/2010 10:47,0.55,13767,United Kingdom\n",
       "536395,84991,60 TEATIME FAIRY CAKE CASES,24,12/1/2010 10:47,0.55,13767,United Kingdom\n",
       "536395,21212,PACK OF 72 RETROSPOT CAKE CASES,24,12/1/2010 10:47,0.55,13767,United Kingdom\n",
       "536395,21484,CHICK GREY HOT WATER BOTTLE,8,12/1/2010 10:47,3.45,13767,United Kingdom\n",
       "536395,21314,SMALL GLASS HEART TRINKET POT,8,12/1/2010 10:47,2.1,13767,United Kingdom\n",
       "536395,22730,ALARM CLOCK BAKELIKE IVORY,4,12/1/2010 10:47,3.75,13767,United Kingdom\n",
       "536395,22727,ALARM CLOCK BAKELIKE RED ,8,12/1/2010 10:47,3.75,13767,United Kingdom\n",
       "536395,22729,ALARM CLOCK BAKELIKE ORANGE,8,12/1/2010 10:47,3.75,13767,United Kingdom\n",
       "536395,22726,ALARM CLOCK BAKELIKE GREEN,8,12/1/2010 10:47,3.75,13767,United Kingdom\n",
       "536395,22114,HOT WATER BOTTLE TEA AND SYMPATHY,8,12/1/2010 10:47,3.95,13767,United Kingdom\n",
       "536395,22867,HAND WARMER BIRD DESIGN,48,12/1/2010 10:47,2.1,13767,United Kingdom\n",
       "536395,22866,HAND WARMER SCOTTY DOG DESIGN,48,12/1/2010 10:47,2.1,13767,United Kingdom\n",
       "536396,85123A,WHITE HANGING HEART T-LIGHT HOLDER,6,12/1/2010 10:51,2.55,17850,United Kingdom\n",
       "536396,71053,WHITE METAL LANTERN,6,12/1/2010 10:51,3.39,17850,United Kingdom\n",
       "536396,84406B,CREAM CUPID HEARTS COAT HANGER,8,12/1/2010 10:51,2.75,17850,United Kingdom\n",
       "536396,15056BL,EDWARDIAN PARASOL BLACK,6,12/1/2010 10:51,4.95,17850,United Kingdom\n",
       "536396,20679,EDWARDIAN PARASOL RED,6,12/1/2010 10:51,4.95,17850,United Kingdom\n",
       "536396,37370,RETRO COFFEE MUGS ASSORTED,6,12/1/2010 10:51,1.06,17850,United Kingdom\n",
       "536396,21871,SAVE THE PLANET MUG,6,12/1/2010 10:51,1.06,17850,United Kingdom\n",
       "536396,21071,VINTAGE BILLBOARD DRINK ME MUG,6,12/1/2010 10:51,1.06,17850,United Kingdom\n",
       "536396,21068,VINTAGE BILLBOARD LOVE/HATE MUG,6,12/1/2010 10:51,1.06,17850,United Kingdom\n",
       "536396,82483,WOOD 2 DRAWER CABINET WHITE FINISH,2,12/1/2010 10:51,4.95,17850,United Kingdom\n",
       "536396,82486,WOOD S/3 CABINET ANT WHITE FINISH,4,12/1/2010 10:51,6.95,17850,United Kingdom\n",
       "536396,82482,WOODEN PICTURE FRAME WHITE FINISH,6,12/1/2010 10:51,2.1,17850,United Kingdom\n",
       "536396,82494L,WOODEN FRAME ANTIQUE WHITE ,12,12/1/2010 10:51,2.55,17850,United Kingdom\n",
       "536396,84029G,KNITTED UNION FLAG HOT WATER BOTTLE,6,12/1/2010 10:51,3.39,17850,United Kingdom\n",
       "536396,84029E,RED WOOLLY HOTTIE WHITE HEART.,6,12/1/2010 10:51,3.39,17850,United Kingdom\n",
       "536396,22752,SET 7 BABUSHKA NESTING BOXES,2,12/1/2010 10:51,7.65,17850,United Kingdom\n",
       "536396,22803,IVORY EMBROIDERED QUILT ,2,12/1/2010 10:51,35.75,17850,United Kingdom\n",
       "\n",
       "*** WARNING: skipped 15578 bytes of output ***\n",
       "\n",
       "536408,22736,RIBBON REEL MAKING SNOWMEN ,10,12/1/2010 11:41,1.65,14307,United Kingdom\n",
       "536408,22492,MINI PAINT SET VINTAGE ,36,12/1/2010 11:41,0.65,14307,United Kingdom\n",
       "536408,22620,4 TRADITIONAL SPINNING TOPS,12,12/1/2010 11:41,1.25,14307,United Kingdom\n",
       "536408,22619,SET OF 6 SOLDIER SKITTLES,4,12/1/2010 11:41,3.75,14307,United Kingdom\n",
       "536408,21705,BAG 500g SWIRLY MARBLES,12,12/1/2010 11:41,1.65,14307,United Kingdom\n",
       "536409,90199C,5 STRAND GLASS NECKLACE CRYSTAL,3,12/1/2010 11:45,6.35,17908,United Kingdom\n",
       "536409,21479,WHITE SKULL HOT WATER BOTTLE ,1,12/1/2010 11:45,3.75,17908,United Kingdom\n",
       "536409,22111,SCOTTIE DOG HOT WATER BOTTLE,1,12/1/2010 11:45,4.95,17908,United Kingdom\n",
       "536409,22785,SQUARECUSHION COVER PINK UNION FLAG,1,12/1/2010 11:45,6.75,17908,United Kingdom\n",
       "536409,22975,SPACEBOY CHILDRENS EGG CUP,1,12/1/2010 11:45,1.25,17908,United Kingdom\n",
       "536409,22972,CHILDREN'S SPACEBOY MUG,1,12/1/2010 11:45,1.65,17908,United Kingdom\n",
       "536409,22866,HAND WARMER SCOTTY DOG DESIGN,1,12/1/2010 11:45,2.1,17908,United Kingdom\n",
       "536409,22568,FELTCRAFT CUSHION OWL,1,12/1/2010 11:45,3.75,17908,United Kingdom\n",
       "536409,85116,BLACK CANDELABRA T-LIGHT HOLDER,1,12/1/2010 11:45,2.1,17908,United Kingdom\n",
       "536409,22664,TOY TIDY DOLLY GIRL DESIGN,1,12/1/2010 11:45,2.1,17908,United Kingdom\n",
       "536409,21609,SET 12 LAVENDER  BOTANICAL T-LIGHTS,1,12/1/2010 11:45,2.95,17908,United Kingdom\n",
       "536409,21866,UNION JACK FLAG LUGGAGE TAG,1,12/1/2010 11:45,1.25,17908,United Kingdom\n",
       "536409,20669,RED HEART LUGGAGE TAG,1,12/1/2010 11:45,1.25,17908,United Kingdom\n",
       "536409,90129F,RED GLASS TASSLE BAG CHARM,1,12/1/2010 11:45,2.95,17908,United Kingdom\n",
       "536409,90210B,CLEAR ACRYLIC FACETED BANGLE,1,12/1/2010 11:45,2.95,17908,United Kingdom\n",
       "536409,90199C,5 STRAND GLASS NECKLACE CRYSTAL,1,12/1/2010 11:45,6.35,17908,United Kingdom\n",
       "536409,21955,DOORMAT UNION JACK GUNS AND ROSES,1,12/1/2010 11:45,7.95,17908,United Kingdom\n",
       "536409,72802C,VANILLA SCENT CANDLE JEWELLED BOX,1,12/1/2010 11:45,4.25,17908,United Kingdom\n",
       "536409,22109,FULL ENGLISH BREAKFAST PLATE,1,12/1/2010 11:45,3.75,17908,United Kingdom\n",
       "536409,85116,BLACK CANDELABRA T-LIGHT HOLDER,5,12/1/2010 11:45,2.1,17908,United Kingdom\n",
       "536409,22531,MAGIC DRAWING SLATE CIRCUS PARADE  ,1,12/1/2010 11:45,0.42,17908,United Kingdom\n",
       "536409,21811,CHRISTMAS HANGING HEART WITH BELL,1,12/1/2010 11:45,1.25,17908,United Kingdom\n",
       "536409,22183,CAKE STAND VICTORIAN FILIGREE MED,1,12/1/2010 11:45,6.75,17908,United Kingdom\n",
       "536409,21678,PAISLEY PATTERN  STICKERS,6,12/1/2010 11:45,0.85,17908,United Kingdom\n",
       "536409,21676,FLOWERS  STICKERS,6,12/1/2010 11:45,0.85,17908,United Kingdom\n",
       "536409,84625A,PINK NEW BAROQUECANDLESTICK CANDLE,1,12/1/2010 11:45,2.95,17908,United Kingdom\n",
       "536409,84625C,BLUE NEW BAROQUE CANDLESTICK CANDLE,3,12/1/2010 11:45,2.95,17908,United Kingdom\n",
       "536409,21931,JUMBO STORAGE BAG SUKI,2,12/1/2010 11:45,1.95,17908,United Kingdom\n",
       "536409,85169B,BLACK LOVE BIRD CANDLE,12,12/1/2010 11:45,1.25,17908,United Kingdom\n",
       "536409,16238,PARTY TIME PENCIL ERASERS,28,12/1/2010 11:45,0.21,17908,United Kingdom\n",
       "536409,20668,DISCO BALL CHRISTMAS DECORATION,24,12/1/2010 11:45,0.12,17908,United Kingdom\n",
       "536409,84906,PINK B'FLY C/COVER W BOBBLES,1,12/1/2010 11:45,5.95,17908,United Kingdom\n",
       "536409,21867,PINK UNION JACK  LUGGAGE TAG,1,12/1/2010 11:45,1.25,17908,United Kingdom\n",
       "536409,22075,6 RIBBONS ELEGANT CHRISTMAS ,1,12/1/2010 11:45,1.65,17908,United Kingdom\n",
       "536409,21866,UNION JACK FLAG LUGGAGE TAG,1,12/1/2010 11:45,1.25,17908,United Kingdom\n",
       "536409,21326,AGED GLASS SILVER T-LIGHT HOLDER,12,12/1/2010 11:45,0.65,17908,United Kingdom\n",
       "536409,21065,BOOM BOX SPEAKER GIRLS,1,12/1/2010 11:45,5.95,17908,United Kingdom\n",
       "536409,22074,6 RIBBONS SHIMMERING PINKS ,1,12/1/2010 11:45,1.65,17908,United Kingdom\n",
       "536409,22900, SET 2 TEA TOWELS I LOVE LONDON ,1,12/1/2010 11:45,2.95,17908,United Kingdom\n",
       "536409,20713,JUMBO BAG OWLS,1,12/1/2010 11:45,1.95,17908,United Kingdom\n",
       "536409,20966,SANDWICH BATH SPONGE,2,12/1/2010 11:45,1.25,17908,United Kingdom\n",
       "536409,21116,OWL DOORSTOP,1,12/1/2010 11:45,4.95,17908,United Kingdom\n",
       "536409,90199C,5 STRAND GLASS NECKLACE CRYSTAL,2,12/1/2010 11:45,6.35,17908,United Kingdom\n",
       "536409,22633,HAND WARMER UNION JACK,1,12/1/2010 11:45,2.1,17908,United Kingdom\n",
       "536409,22866,HAND WARMER SCOTTY DOG DESIGN,1,12/1/2010 11:45,2.1,17908,United Kingdom\n",
       "536409,22198,LARGE POPCORN HOLDER ,1,12/1/2010 11:45,1.65,17908,United Kingdom\n",
       "536409,21824,PAINTED METAL STAR WITH HOLLY BELLS,3,12/1/2010 11:45,1.45,17908,United Kingdom\n",
       "536409,21823,PAINTED METAL HEART WITH HOLLY BELL,3,12/1/2010 11:45,1.45,17908,United Kingdom\n",
       "536409,22153,ANGEL DECORATION STARS ON DRESS,6,12/1/2010 11:45,0.42,17908,United Kingdom\n",
       "536409,22197,SMALL POPCORN HOLDER,2,12/1/2010 11:45,0.85,17908,United Kingdom\n",
       "536409,85099B,JUMBO BAG RED RETROSPOT,2,12/1/2010 11:45,1.95,17908,United Kingdom\n",
       "536409,85099F,JUMBO BAG STRAWBERRY,1,12/1/2010 11:45,1.95,17908,United Kingdom\n",
       "536409,20717,STRAWBERRY SHOPPER BAG,1,12/1/2010 11:45,1.25,17908,United Kingdom\n",
       "536409,20723,STRAWBERRY CHARLOTTE BAG,1,12/1/2010 11:45,0.85,17908,United Kingdom\n",
       "536409,22900, SET 2 TEA TOWELS I LOVE LONDON ,1,12/1/2010 11:45,2.95,17908,United Kingdom\n",
       "536409,21980,PACK OF 12 RED RETROSPOT TISSUES ,12,12/1/2010 11:45,0.29,17908,United Kingdom\n",
       "536409,22111,SCOTTIE DOG HOT WATER BOTTLE,1,12/1/2010 11:45,4.95,17908,United Kingdom\n",
       "536409,22112,CHOCOLATE HOT WATER BOTTLE,1,12/1/2010 11:45,4.95,17908,United Kingdom\n",
       "536412,20728,LUNCH BAG CARS BLUE,3,12/1/2010 11:49,1.65,17920,United Kingdom\n",
       "536412,22382,LUNCH BAG SPACEBOY DESIGN ,3,12/1/2010 11:49,1.65,17920,United Kingdom\n",
       "536412,22326,ROUND SNACK BOXES SET OF4 WOODLAND ,1,12/1/2010 11:49,2.95,17920,United Kingdom\n",
       "536412,22662,LUNCH BAG DOLLY GIRL DESIGN,4,12/1/2010 11:49,1.65,17920,United Kingdom\n",
       "536412,22383,LUNCH BAG SUKI  DESIGN ,3,12/1/2010 11:49,1.65,17920,United Kingdom\n",
       "536412,20727,LUNCH BAG  BLACK SKULL.,3,12/1/2010 11:49,1.65,17920,United Kingdom\n",
       "536412,22328,ROUND SNACK BOXES SET OF 4 FRUITS ,1,12/1/2010 11:49,2.95,17920,United Kingdom\n",
       "536412,22327,ROUND SNACK BOXES SET OF 4 SKULLS,1,12/1/2010 11:49,2.95,17920,United Kingdom\n",
       "536412,22630,DOLLY GIRL LUNCH BOX,1,12/1/2010 11:49,1.95,17920,United Kingdom\n",
       "536412,22629,SPACEBOY LUNCH BOX ,1,12/1/2010 11:49,1.95,17920,United Kingdom\n",
       "536412,21245,GREEN POLKADOT PLATE ,1,12/1/2010 11:49,1.69,17920,United Kingdom\n",
       "536412,21244,BLUE POLKADOT PLATE ,1,12/1/2010 11:49,1.69,17920,United Kingdom\n",
       "536412,21242,RED RETROSPOT PLATE ,1,12/1/2010 11:49,1.69,17920,United Kingdom\n",
       "536412,21243,PINK  POLKADOT PLATE ,1,12/1/2010 11:49,1.69,17920,United Kingdom\n",
       "536412,22327,ROUND SNACK BOXES SET OF 4 SKULLS,1,12/1/2010 11:49,2.95,17920,United Kingdom\n",
       "536412,22273,FELTCRAFT DOLL MOLLY,1,12/1/2010 11:49,2.95,17920,United Kingdom\n",
       "536412,22940,FELTCRAFT CHRISTMAS FAIRY,3,12/1/2010 11:49,4.25,17920,United Kingdom\n",
       "536412,22652,TRAVEL SEWING KIT,5,12/1/2010 11:49,1.65,17920,United Kingdom\n",
       "536412,22759,SET OF 3 NOTEBOOKS IN PARCEL,1,12/1/2010 11:49,1.65,17920,United Kingdom\n",
       "536412,21880,RED RETROSPOT TAPE,10,12/1/2010 11:49,0.65,17920,United Kingdom\n",
       "536412,21738,COSY SLIPPER SHOES SMALL  RED ,1,12/1/2010 11:49,2.95,17920,United Kingdom\n",
       "536412,22077,6 RIBBONS RUSTIC CHARM,1,12/1/2010 11:49,1.65,17920,United Kingdom\n",
       "536412,85049E,SCANDINAVIAN REDS RIBBONS,3,12/1/2010 11:49,1.25,17920,United Kingdom\n",
       "536412,22961,JAM MAKING SET PRINTED,24,12/1/2010 11:49,1.45,17920,United Kingdom\n",
       "536412,21448,12 DAISY PEGS IN WOOD BOX,2,12/1/2010 11:49,1.65,17920,United Kingdom\n",
       "536412,22837,HOT WATER BOTTLE BABUSHKA ,3,12/1/2010 11:49,4.65,17920,United Kingdom\n",
       "536412,22749,FELTCRAFT PRINCESS CHARLOTTE DOLL,2,12/1/2010 11:49,3.75,17920,United Kingdom\n",
       "536412,22940,FELTCRAFT CHRISTMAS FAIRY,1,12/1/2010 11:49,4.25,17920,United Kingdom\n",
       "536412,22749,FELTCRAFT PRINCESS CHARLOTTE DOLL,1,12/1/2010 11:49,3.75,17920,United Kingdom\n",
       "536412,22077,6 RIBBONS RUSTIC CHARM,2,12/1/2010 11:49,1.65,17920,United Kingdom\n",
       "536412,21738,COSY SLIPPER SHOES SMALL  RED ,2,12/1/2010 11:49,2.95,17920,United Kingdom\n",
       "536412,85049E,SCANDINAVIAN REDS RIBBONS,1,12/1/2010 11:49,1.25,17920,United Kingdom\n",
       "536412,22243,5 HOOK HANGER RED MAGIC TOADSTOOL,6,12/1/2010 11:49,1.65,17920,United Kingdom\n",
       "536412,22141,CHRISTMAS CRAFT TREE TOP ANGEL,1,12/1/2010 11:49,2.1,17920,United Kingdom\n",
       "536412,22144,CHRISTMAS CRAFT LITTLE FRIENDS,2,12/1/2010 11:49,2.1,17920,United Kingdom\n",
       "536412,22243,5 HOOK HANGER RED MAGIC TOADSTOOL,3,12/1/2010 11:49,1.65,17920,United Kingdom\n",
       "536412,22077,6 RIBBONS RUSTIC CHARM,7,12/1/2010 11:49,1.65,17920,United Kingdom\n",
       "536412,21448,12 DAISY PEGS IN WOOD BOX,1,12/1/2010 11:49,1.65,17920,United Kingdom\n",
       "536412,22759,SET OF 3 NOTEBOOKS IN PARCEL,5,12/1/2010 11:49,1.65,17920,United Kingdom\n",
       "536412,22242,5 HOOK HANGER MAGIC TOADSTOOL,5,12/1/2010 11:49,1.65,17920,United Kingdom\n",
       "536412,85049E,SCANDINAVIAN REDS RIBBONS,12,12/1/2010 11:49,1.25,17920,United Kingdom\n",
       "536412,21731,RED TOADSTOOL LED NIGHT LIGHT,5,12/1/2010 11:49,1.65,17920,United Kingdom\n",
       "536412,22243,5 HOOK HANGER RED MAGIC TOADSTOOL,1,12/1/2010 11:49,1.65,17920,United Kingdom\n",
       "536412,21739,COSY SLIPPER SHOES SMALL GREEN,2,12/1/2010 11:49,2.95,17920,United Kingdom\n",
       "536412,21738,COSY SLIPPER SHOES SMALL  RED ,5,12/1/2010 11:49,2.95,17920,United Kingdom\n",
       "536412,22271,FELTCRAFT DOLL ROSIE,2,12/1/2010 11:49,2.95,17920,United Kingdom\n",
       "536412,22273,FELTCRAFT DOLL MOLLY,1,12/1/2010 11:49,2.95,17920,United Kingdom\n",
       "536412,22274,FELTCRAFT DOLL EMILY,2,12/1/2010 11:49,2.95,17920,United Kingdom\n",
       "536412,22749,FELTCRAFT PRINCESS CHARLOTTE DOLL,1,12/1/2010 11:49,3.75,17920,United Kingdom\n",
       "536412,22751,FELTCRAFT PRINCESS OLIVIA DOLL,2,12/1/2010 11:49,3.75,17920,United Kingdom\n",
       "536412,21034,REX CASH+CARRY JUMBO SHOPPER,1,12/1/2010 11:49,0.95,17920,United Kingdom\n",
       "536412,22273,FELTCRAFT DOLL MOLLY,2,12/1/2010 11:49,2.95,17920,United Kingdom\n",
       "536412,22568,FELTCRAFT CUSHION OWL,3,12/1/2010 11:49,3.75,17920,United Kingdom\n",
       "536412,22141,CHRISTMAS CRAFT TREE TOP ANGEL,1,12/1/2010 11:49,2.1,17920,United Kingdom\n",
       "536412,22144,CHRISTMAS CRAFT LITTLE FRIENDS,1,12/1/2010 11:49,2.1,17920,United Kingdom\n",
       "536412,22570,FELTCRAFT CUSHION RABBIT,3,12/1/2010 11:49,3.75,17920,United Kingdom\n",
       "536412,22569,FELTCRAFT CUSHION BUTTERFLY,2,12/1/2010 11:49,3.75,17920,United Kingdom\n",
       "536412,21448,12 DAISY PEGS IN WOOD BOX,1,12/1/2010 11:49,1.65,17920,United Kingdom\n",
       "536412,22086,PAPER CHAIN KIT 50'S CHRISTMAS ,1,12/1/2010 11:49,2.95,17920,United Kingdom\n",
       "536412,22569,FELTCRAFT CUSHION BUTTERFLY,2,12/1/2010 11:49,3.75,17920,United Kingdom\n",
       "536412,21448,12 DAISY PEGS IN WOOD BOX,2,12/1/2010 11:49,1.65,17920,United Kingdom\n",
       "536412,22968,ROSE COTTAGE KEEPSAKE BOX ,4,12/1/2010 11:49,9.95,17920,United Kingdom\n",
       "536412,22902,TOTE BAG I LOVE LONDON,7,12/1/2010 11:49,2.1,17920,United Kingdom\n",
       "536412,21448,12 DAISY PEGS IN WOOD BOX,2,12/1/2010 11:49,1.65,17920,United Kingdom\n",
       "536412,22902,TOTE BAG I LOVE LONDON,7,12/1/2010 11:49,2.1,17920,United Kingdom\n",
       "536412,21710,FOLDING UMBRELLA PINKWHITE POLKADOT,1,12/1/2010 11:49,4.95,17920,United Kingdom\n",
       "536412,21708,FOLDING UMBRELLA CREAM POLKADOT,1,12/1/2010 11:49,4.95,17920,United Kingdom\n",
       "536412,21711,FOLDING UMBRELLA WHITE/RED POLKADOT,1,12/1/2010 11:49,4.95,17920,United Kingdom\n",
       "536412,22179,SET 10 LIGHTS NIGHT OWL,2,12/1/2010 11:49,6.75,17920,United Kingdom\n",
       "536412,22197,SMALL POPCORN HOLDER,5,12/1/2010 11:49,0.85,17920,United Kingdom\n",
       "536412,22900, SET 2 TEA TOWELS I LOVE LONDON ,2,12/1/2010 11:49,2.95,17920,United Kingdom\n",
       "536412,21706,FOLDING UMBRELLA RED/WHITE POLKADOT,1,12/1/2010 11:49,4.95,17920,United Kingdom\n",
       "536412,22468,BABUSHKA LIGHTS STRING OF 10,2,12/1/2010 11:49,6.75,17920,United Kingdom\n",
       "536412,20725,LUNCH BAG RED RETROSPOT,1,12/1/2010 11:49,1.65,17920,United Kingdom\n",
       "536412,85184C,S/4 VALENTINE DECOUPAGE HEART BOX,1,12/1/2010 11:49,2.95,17920,United Kingdom\n",
       "536412,21708,FOLDING UMBRELLA CREAM POLKADOT,1,12/1/2010 11:49,4.95,17920,United Kingdom\n",
       "536412,22900, SET 2 TEA TOWELS I LOVE LONDON ,2,12/1/2010 11:49,2.95,17920,United Kingdom\n",
       "536412,21706,FOLDING UMBRELLA RED/WHITE POLKADOT,1,12/1/2010 11:49,4.95,17920,United Kingdom\n",
       "536412,22988,SOLDIERS EGG CUP ,6,12/1/2010 11:49,1.25,17920,United Kingdom\n",
       "536412,85184C,S/4 VALENTINE DECOUPAGE HEART BOX,1,12/1/2010 11:49,2.95,17920,United Kingdom\n",
       "536412,20750,RED RETROSPOT MINI CASES,1,12/1/2010 11:49,7.95,17920,United Kingdom\n",
       "536414,22139,,56,12/1/2010 11:52,0,,United Kingdom\n",
       "536415,22952,60 CAKE CASES VINTAGE CHRISTMAS,10,12/1/2010 11:57,0.55,12838,United Kingdom\n",
       "536415,22910,PAPER CHAIN KIT VINTAGE CHRISTMAS,5,12/1/2010 11:57,2.95,12838,United Kingdom\n",
       "536415,22739,RIBBON REEL CHRISTMAS SOCK BAUBLE,3,12/1/2010 11:57,1.65,12838,United Kingdom\n",
       "536415,22738,RIBBON REEL SNOWY VILLAGE,3,12/1/2010 11:57,1.65,12838,United Kingdom\n",
       "536415,22736,RIBBON REEL MAKING SNOWMEN ,3,12/1/2010 11:57,1.65,12838,United Kingdom\n",
       "536415,22909,SET OF 20 VINTAGE CHRISTMAS NAPKINS,5,12/1/2010 11:57,0.85,12838,United Kingdom\n",
       "536415,35591T,TURQUOISE CHRISTMAS TREE ,2,12/1/2010 11:57,1.25,12838,United Kingdom\n",
       "536415,22186,RED STAR CARD HOLDER,5,12/1/2010 11:57,2.95,12838,United Kingdom\n",
       "536415,22695,WICKER WREATH SMALL,3,12/1/2010 11:57,1.45,12838,United Kingdom\n",
       "536415,22470,HEART OF WICKER LARGE,1,12/1/2010 11:57,2.95,12838,United Kingdom\n",
       "536415,22580,ADVENT CALENDAR GINGHAM SACK,1,12/1/2010 11:57,5.95,12838,United Kingdom\n",
       "536415,22469,HEART OF WICKER SMALL,5,12/1/2010 11:57,1.65,12838,United Kingdom\n",
       "536415,22147,FELTCRAFT BUTTERFLY HEARTS,4,12/1/2010 11:57,1.45,12838,United Kingdom\n",
       "536415,22130,PARTY CONE CHRISTMAS DECORATION ,6,12/1/2010 11:57,0.85,12838,United Kingdom\n",
       "536415,21791,VINTAGE HEADS AND TAILS CARD GAME ,3,12/1/2010 11:57,1.25,12838,United Kingdom\n",
       "536415,22694,WICKER STAR ,5,12/1/2010 11:57,2.1,12838,United Kingdom\n",
       "536415,21790,VINTAGE SNAP CARDS,3,12/1/2010 11:57,0.85,12838,United Kingdom\n",
       "536415,22149,FELTCRAFT 6 FLOWER FRIENDS,4,12/1/2010 11:57,2.1,12838,United Kingdom\n",
       "536415,22900, SET 2 TEA TOWELS I LOVE LONDON ,3,12/1/2010 11:57,2.95,12838,United Kingdom\n",
       "536415,22961,JAM MAKING SET PRINTED,3,12/1/2010 11:57,1.45,12838,United Kingdom\n",
       "536415,22321,BIRD DECORATION RED RETROSPOT,12,12/1/2010 11:57,0.85,12838,United Kingdom\n",
       "536415,22594,CHRISTMAS GINGHAM TREE,5,12/1/2010 11:57,0.85,12838,United Kingdom\n",
       "536415,22593,CHRISTMAS GINGHAM STAR,4,12/1/2010 11:57,0.85,12838,United Kingdom\n",
       "536415,22595,CHRISTMAS GINGHAM HEART,6,12/1/2010 11:57,0.85,12838,United Kingdom\n",
       "536415,21986,PACK OF 12 PINK POLKADOT TISSUES,12,12/1/2010 11:57,0.29,12838,United Kingdom\n",
       "536415,22750,FELTCRAFT PRINCESS LOLA DOLL,2,12/1/2010 11:57,3.75,12838,United Kingdom\n",
       "536415,22616,PACK OF 12 LONDON TISSUES ,12,12/1/2010 11:57,0.29,12838,United Kingdom\n",
       "536415,22775,PURPLE DRAWERKNOB ACRYLIC EDWARDIAN,1,12/1/2010 11:57,1.25,12838,United Kingdom\n",
       "536415,22899,CHILDREN'S APRON DOLLY GIRL ,2,12/1/2010 11:57,2.1,12838,United Kingdom\n",
       "536415,22367,CHILDRENS APRON SPACEBOY DESIGN,3,12/1/2010 11:57,1.95,12838,United Kingdom\n",
       "536415,22942,CHRISTMAS LIGHTS 10 SANTAS ,3,12/1/2010 11:57,8.5,12838,United Kingdom\n",
       "536415,22941,CHRISTMAS LIGHTS 10 REINDEER,3,12/1/2010 11:57,8.5,12838,United Kingdom\n",
       "536415,22086,PAPER CHAIN KIT 50'S CHRISTMAS ,6,12/1/2010 11:57,2.95,12838,United Kingdom\n",
       "536415,22940,FELTCRAFT CHRISTMAS FAIRY,2,12/1/2010 11:57,4.25,12838,United Kingdom\n",
       "536415,21212,PACK OF 72 RETROSPOT CAKE CASES,2,12/1/2010 11:57,0.55,12838,United Kingdom\n",
       "536415,21976,PACK OF 60 MUSHROOM CAKE CASES,2,12/1/2010 11:57,0.55,12838,United Kingdom\n",
       "536415,22951,60 CAKE CASES DOLLY GIRL DESIGN,2,12/1/2010 11:57,0.55,12838,United Kingdom\n",
       "536415,21977,PACK OF 60 PINK PAISLEY CAKE CASES,3,12/1/2010 11:57,0.55,12838,United Kingdom\n",
       "536415,22834,HAND WARMER BABUSHKA DESIGN,3,12/1/2010 11:57,2.1,12838,United Kingdom\n",
       "536415,22867,HAND WARMER BIRD DESIGN,3,12/1/2010 11:57,2.1,12838,United Kingdom\n",
       "536415,22865,HAND WARMER OWL DESIGN,3,12/1/2010 11:57,2.1,12838,United Kingdom\n",
       "536415,22632,HAND WARMER RED RETROSPOT,3,12/1/2010 11:57,2.1,12838,United Kingdom\n",
       "536415,21916,SET 12 RETRO WHITE CHALK STICKS,2,12/1/2010 11:57,0.42,12838,United Kingdom\n",
       "536415,22587,FELTCRAFT HAIRBAND RED AND BLUE,4,12/1/2010 11:57,0.85,12838,United Kingdom\n",
       "536415,22566,FELTCRAFT HAIRBAND PINK AND PURPLE,3,12/1/2010 11:57,0.85,12838,United Kingdom\n",
       "536415,22565,FELTCRAFT HAIRBANDS PINK AND WHITE ,3,12/1/2010 11:57,0.85,12838,United Kingdom\n",
       "536415,22472,TV DINNER TRAY DOLLY GIRL,2,12/1/2010 11:57,4.95,12838,United Kingdom\n",
       "536415,22557,PLASTERS IN TIN VINTAGE PAISLEY ,3,12/1/2010 11:57,1.65,12838,United Kingdom\n",
       "536415,22551,PLASTERS IN TIN SPACEBOY,3,12/1/2010 11:57,1.65,12838,United Kingdom\n",
       "536415,22554,PLASTERS IN TIN WOODLAND ANIMALS,3,12/1/2010 11:57,1.65,12838,United Kingdom\n",
       "536415,22534,MAGIC DRAWING SLATE SPACEBOY ,3,12/1/2010 11:57,0.42,12838,United Kingdom\n",
       "536415,22531,MAGIC DRAWING SLATE CIRCUS PARADE  ,3,12/1/2010 11:57,0.42,12838,United Kingdom\n",
       "536415,22529,MAGIC DRAWING SLATE GO TO THE FAIR ,3,12/1/2010 11:57,0.42,12838,United Kingdom\n",
       "536415,22530,MAGIC DRAWING SLATE DOLLY GIRL ,3,12/1/2010 11:57,0.42,12838,United Kingdom\n",
       "536415,84032B,CHARLIE + LOLA RED HOT WATER BOTTLE,3,12/1/2010 11:57,2.95,12838,United Kingdom\n",
       "536415,22837,HOT WATER BOTTLE BABUSHKA ,3,12/1/2010 11:57,4.65,12838,United Kingdom\n",
       "536415,85049H,URBAN BLACK RIBBONS ,2,12/1/2010 11:57,1.25,12838,United Kingdom\n",
       "536415,22749,FELTCRAFT PRINCESS CHARLOTTE DOLL,2,12/1/2010 11:57,3.75,12838,United Kingdom\n",
       "536415,22807,SET OF 6 T-LIGHTS TOADSTOOLS,12,12/1/2010 11:57,2.95,12838,United Kingdom\n",
       "536416,21494,ROTATING LEAVES T-LIGHT HOLDER,12,12/1/2010 11:58,1.25,13255,United Kingdom\n",
       "536416,21915,RED  HARMONICA IN BOX ,72,12/1/2010 11:58,1.25,13255,United Kingdom\n",
       "536416,22938,CUPCAKE LACE PAPER SET 6,12,12/1/2010 11:58,1.95,13255,United Kingdom\n",
       "536416,22768,FAMILY PHOTO FRAME CORNICE,4,12/1/2010 11:58,9.95,13255,United Kingdom\n",
       "536416,22767,TRIPLE PHOTO FRAME CORNICE ,4,12/1/2010 11:58,9.95,13255,United Kingdom\n",
       "536416,82494L,WOODEN FRAME ANTIQUE WHITE ,6,12/1/2010 11:58,2.95,13255,United Kingdom\n",
       "536420,21889,WOODEN BOX OF DOMINOES,12,12/1/2010 12:03,1.25,16583,United Kingdom\n",
       "536420,21892,TRADITIONAL WOODEN CATCH CUP GAME ,12,12/1/2010 12:03,1.25,16583,United Kingdom\n",
       "536420,21891,TRADITIONAL WOODEN SKIPPING ROPE,12,12/1/2010 12:03,1.25,16583,United Kingdom\n",
       "536420,21890,S/6 WOODEN SKITTLES IN COTTON BAG,6,12/1/2010 12:03,2.95,16583,United Kingdom\n",
       "536420,21718,RED METAL BEACH SPADE ,12,12/1/2010 12:03,1.25,16583,United Kingdom\n",
       "536420,21716,BOYS VINTAGE TIN SEASIDE BUCKET,8,12/1/2010 12:03,2.55,16583,United Kingdom\n",
       "536420,21715,GIRLS VINTAGE TIN SEASIDE BUCKET,8,12/1/2010 12:03,2.55,16583,United Kingdom\n",
       "536420,22113,GREY HEART HOT WATER BOTTLE,4,12/1/2010 12:03,3.75,16583,United Kingdom\n",
       "536420,22111,SCOTTIE DOG HOT WATER BOTTLE,3,12/1/2010 12:03,4.95,16583,United Kingdom\n",
       "536420,22110,BIRD HOUSE HOT WATER BOTTLE,6,12/1/2010 12:03,2.55,16583,United Kingdom\n",
       "536420,22358,KINGS CHOICE TEA CADDY ,6,12/1/2010 12:03,2.95,16583,United Kingdom\n",
       "536420,22357,KINGS CHOICE BISCUIT TIN,4,12/1/2010 12:03,4.25,16583,United Kingdom\n",
       "536420,22115,METAL SIGN EMPIRE TEA,6,12/1/2010 12:03,2.95,16583,United Kingdom\n",
       "536420,22969,HOMEMADE JAM SCENTED CANDLES,12,12/1/2010 12:03,1.45,16583,United Kingdom\n",
       "536423,22619,SET OF 6 SOLDIER SKITTLES,4,12/1/2010 12:08,3.75,18085,United Kingdom\n",
       "536423,21481,FAWN BLUE HOT WATER BOTTLE,6,12/1/2010 12:08,2.95,18085,United Kingdom\n",
       "536423,22632,HAND WARMER RED RETROSPOT,12,12/1/2010 12:08,2.1,18085,United Kingdom\n",
       "536423,22837,HOT WATER BOTTLE BABUSHKA ,8,12/1/2010 12:08,4.65,18085,United Kingdom\n",
       "536423,21479,WHITE SKULL HOT WATER BOTTLE ,8,12/1/2010 12:08,3.75,18085,United Kingdom\n",
       "536423,21485,RETROSPOT HEART HOT WATER BOTTLE,8,12/1/2010 12:08,4.95,18085,United Kingdom\n",
       "536423,84029E,RED WOOLLY HOTTIE WHITE HEART.,8,12/1/2010 12:08,3.75,18085,United Kingdom\n",
       "536423,22111,SCOTTIE DOG HOT WATER BOTTLE,16,12/1/2010 12:08,4.95,18085,United Kingdom\n",
       "536423,22113,GREY HEART HOT WATER BOTTLE,8,12/1/2010 12:08,3.75,18085,United Kingdom\n",
       "536425,22837,HOT WATER BOTTLE BABUSHKA ,8,12/1/2010 12:08,4.65,13758,United Kingdom\n",
       "536425,22585,PACK OF 6 BIRDY GIFT TAGS,12,12/1/2010 12:08,1.25,13758,United Kingdom\n",
       "536425,79321,CHILLI LIGHTS,8,12/1/2010 12:08,4.95,13758,United Kingdom\n",
       "536425,22637,PIGGY BANK RETROSPOT ,12,12/1/2010 12:08,2.55,13758,United Kingdom\n",
       "536425,21556,CERAMIC STRAWBERRY MONEY BOX,6,12/1/2010 12:08,2.55,13758,United Kingdom\n",
       "536425,22646,CERAMIC STRAWBERRY CAKE MONEY BANK,12,12/1/2010 12:08,1.45,13758,United Kingdom\n",
       "536425,22644,CERAMIC CHERRY CAKE MONEY BANK,12,12/1/2010 12:08,1.45,13758,United Kingdom\n",
       "536425,22645,CERAMIC HEART FAIRY CAKE MONEY BANK,12,12/1/2010 12:08,1.45,13758,United Kingdom\n",
       "536425,22650,CERAMIC PIRATE CHEST MONEY BANK,12,12/1/2010 12:08,1.45,13758,United Kingdom\n",
       "536425,22508,DOORSTOP RETROSPOT HEART,8,12/1/2010 12:08,3.75,13758,United Kingdom\n",
       "536425,21411,GINGHAM HEART  DOORSTOP RED,3,12/1/2010 12:08,4.25,13758,United Kingdom\n",
       "536425,22511,RETROSPOT BABUSHKA DOORSTOP,4,12/1/2010 12:08,3.75,13758,United Kingdom\n",
       "536425,22451,SILK PURSE BABUSHKA RED,6,12/1/2010 12:08,3.35,13758,United Kingdom\n",
       "536425,22449,SILK PURSE BABUSHKA PINK,6,12/1/2010 12:08,3.35,13758,United Kingdom\n",
       "536425,22768,FAMILY PHOTO FRAME CORNICE,2,12/1/2010 12:08,9.95,13758,United Kingdom\n",
       "536425,22829,SWEETHEART WIRE WALL TIDY,2,12/1/2010 12:08,9.95,13758,United Kingdom\n",
       "536425,22961,JAM MAKING SET PRINTED,12,12/1/2010 12:08,1.45,13758,United Kingdom\n",
       "536437,21154,RED RETROSPOT OVEN GLOVE ,200,12/1/2010 12:12,1.06,13694,United Kingdom\n",
       "536437,22189,CREAM HEART CARD HOLDER,72,12/1/2010 12:12,3.39,13694,United Kingdom\n",
       "536437,17021,NAMASTE SWAGAT INCENSE,600,12/1/2010 12:12,0.24,13694,United Kingdom\n",
       "536437,22059,CERAMIC STRAWBERRY DESIGN MUG,48,12/1/2010 12:12,1.25,13694,United Kingdom\n",
       "536437,22188,BLACK HEART CARD HOLDER,36,12/1/2010 12:12,3.39,13694,United Kingdom\n",
       "536437,84678,CLASSICAL ROSE SMALL VASE,48,12/1/2010 12:12,1.25,13694,United Kingdom\n",
       "536446,85172,HYACINTH BULB T-LIGHT CANDLES,32,12/1/2010 12:15,0.42,15983,United Kingdom\n",
       "536446,22142,CHRISTMAS CRAFT WHITE FAIRY ,2,12/1/2010 12:15,1.45,15983,United Kingdom\n",
       "536446,22144,CHRISTMAS CRAFT LITTLE FRIENDS,2,12/1/2010 12:15,2.1,15983,United Kingdom\n",
       "536446,21591,COSY HOUR CIGAR BOX MATCHES ,6,12/1/2010 12:15,1.25,15983,United Kingdom\n",
       "536446,22480,RED TEA TOWEL CLASSIC DESIGN,12,12/1/2010 12:15,1.25,15983,United Kingdom\n",
       "536446,22294,HEART FILIGREE DOVE  SMALL,48,12/1/2010 12:15,1.25,15983,United Kingdom\n",
       "536446,21156,RETROSPOT CHILDRENS APRON,1,12/1/2010 12:15,1.95,15983,United Kingdom\n",
       "536446,10133,COLOURING PENCILS BROWN TUBE,5,12/1/2010 12:15,0.85,15983,United Kingdom\n",
       "536446,72800E,4 IVORY DINNER CANDLES SILVER FLOCK,6,12/1/2010 12:15,2.55,15983,United Kingdom\n",
       "536446,22294,HEART FILIGREE DOVE  SMALL,24,12/1/2010 12:15,1.25,15983,United Kingdom\n",
       "536446,84836,ZINC METAL HEART DECORATION,12,12/1/2010 12:15,1.25,15983,United Kingdom\n",
       "536446,20774,GREEN FERN NOTEBOOK,2,12/1/2010 12:15,1.65,15983,United Kingdom\n",
       "536446,20773,BLUE PAISLEY NOTEBOOK,2,12/1/2010 12:15,1.65,15983,United Kingdom\n",
       "536446,20777,CHRYSANTHEMUM NOTEBOOK,2,12/1/2010 12:15,1.65,15983,United Kingdom\n",
       "536446,16016,LARGE CHINESE STYLE SCISSOR,10,12/1/2010 12:15,0.85,15983,United Kingdom\n",
       "536446,16014,SMALL CHINESE STYLE SCISSOR,10,12/1/2010 12:15,0.42,15983,United Kingdom\n",
       "536446,21890,S/6 WOODEN SKITTLES IN COTTON BAG,2,12/1/2010 12:15,2.95,15983,United Kingdom\n",
       "536446,21891,TRADITIONAL WOODEN SKIPPING ROPE,2,12/1/2010 12:15,1.25,15983,United Kingdom\n",
       "536446,22619,SET OF 6 SOLDIER SKITTLES,8,12/1/2010 12:15,3.75,15983,United Kingdom\n",
       "536446,22620,4 TRADITIONAL SPINNING TOPS,6,12/1/2010 12:15,1.25,15983,United Kingdom\n",
       "536446,84347,ROTATING SILVER ANGELS T-LIGHT HLDR,12,12/1/2010 12:15,2.55,15983,United Kingdom\n",
       "536446,85169B,BLACK LOVE BIRD CANDLE,24,12/1/2010 12:15,1.25,15983,United Kingdom\n",
       "536446,21156,RETROSPOT CHILDRENS APRON,3,12/1/2010 12:15,1.95,15983,United Kingdom\n",
       "536446,21651,HANGING GLASS ETCHED TEALIGHT,6,12/1/2010 12:15,1.65,15983,United Kingdom\n",
       "536446,21651,HANGING GLASS ETCHED TEALIGHT,6,12/1/2010 12:15,1.65,15983,United Kingdom\n",
       "536446,84625C,BLUE NEW BAROQUE CANDLESTICK CANDLE,10,12/1/2010 12:15,2.95,15983,United Kingdom\n",
       "536446,22618,COOKING SET RETROSPOT,2,12/1/2010 12:15,9.95,15983,United Kingdom\n",
       "536446,21586,KINGS CHOICE GIANT TUBE MATCHES,4,12/1/2010 12:15,2.55,15983,United Kingdom\n",
       "536446,21587,COSY HOUR GIANT TUBE MATCHES,4,12/1/2010 12:15,2.55,15983,United Kingdom\n",
       "536446,22152,PLACE SETTING WHITE STAR,24,12/1/2010 12:15,0.42,15983,United Kingdom\n",
       "536446,85172,HYACINTH BULB T-LIGHT CANDLES,16,12/1/2010 12:15,0.42,15983,United Kingdom\n",
       "536446,84754,S/15 SILVER GLASS BAUBLES IN BAG,24,12/1/2010 12:15,1.25,15983,United Kingdom\n",
       "536460,22670,FRENCH WC SIGN BLUE METAL,12,12/1/2010 12:22,1.25,14849,United Kingdom\n",
       "536460,21586,KINGS CHOICE GIANT TUBE MATCHES,12,12/1/2010 12:22,2.55,14849,United Kingdom\n",
       "536460,84992,72 SWEETHEART FAIRY CAKE CASES,24,12/1/2010 12:22,0.55,14849,United Kingdom\n",
       "536460,84879,ASSORTED COLOUR BIRD ORNAMENT,24,12/1/2010 12:22,1.69,14849,United Kingdom\n",
       "536460,84849B,FAIRY SOAP SOAP HOLDER,12,12/1/2010 12:22,1.69,14849,United Kingdom\n",
       "536460,22927,GREEN GIAN</div>"
      ]
     },
     "metadata": {
      "application/vnd.databricks.v1+output": {
       "addedWidgets": {},
       "arguments": {},
       "data": "<div class=\"ansiout\">[Truncated to first 65536 bytes]\nInvoiceNo,StockCode,Description,Quantity,InvoiceDate,UnitPrice,CustomerID,Country\n536365,85123A,WHITE HANGING HEART T-LIGHT HOLDER,6,12/1/2010 8:26,2.55,17850,United Kingdom\n536365,71053,WHITE METAL LANTERN,6,12/1/2010 8:26,3.39,17850,United Kingdom\n536365,84406B,CREAM CUPID HEARTS COAT HANGER,8,12/1/2010 8:26,2.75,17850,United Kingdom\n536365,84029G,KNITTED UNION FLAG HOT WATER BOTTLE,6,12/1/2010 8:26,3.39,17850,United Kingdom\n536365,84029E,RED WOOLLY HOTTIE WHITE HEART.,6,12/1/2010 8:26,3.39,17850,United Kingdom\n536365,22752,SET 7 BABUSHKA NESTING BOXES,2,12/1/2010 8:26,7.65,17850,United Kingdom\n536365,21730,GLASS STAR FROSTED T-LIGHT HOLDER,6,12/1/2010 8:26,4.25,17850,United Kingdom\n536366,22633,HAND WARMER UNION JACK,6,12/1/2010 8:28,1.85,17850,United Kingdom\n536366,22632,HAND WARMER RED POLKA DOT,6,12/1/2010 8:28,1.85,17850,United Kingdom\n536367,84879,ASSORTED COLOUR BIRD ORNAMENT,32,12/1/2010 8:34,1.69,13047,United Kingdom\n536367,22745,POPPY'S PLAYHOUSE BEDROOM ,6,12/1/2010 8:34,2.1,13047,United Kingdom\n536367,22748,POPPY'S PLAYHOUSE KITCHEN,6,12/1/2010 8:34,2.1,13047,United Kingdom\n536367,22749,FELTCRAFT PRINCESS CHARLOTTE DOLL,8,12/1/2010 8:34,3.75,13047,United Kingdom\n536367,22310,IVORY KNITTED MUG COSY ,6,12/1/2010 8:34,1.65,13047,United Kingdom\n536367,84969,BOX OF 6 ASSORTED COLOUR TEASPOONS,6,12/1/2010 8:34,4.25,13047,United Kingdom\n536367,22623,BOX OF VINTAGE JIGSAW BLOCKS ,3,12/1/2010 8:34,4.95,13047,United Kingdom\n536367,22622,BOX OF VINTAGE ALPHABET BLOCKS,2,12/1/2010 8:34,9.95,13047,United Kingdom\n536367,21754,HOME BUILDING BLOCK WORD,3,12/1/2010 8:34,5.95,13047,United Kingdom\n536367,21755,LOVE BUILDING BLOCK WORD,3,12/1/2010 8:34,5.95,13047,United Kingdom\n536367,21777,RECIPE BOX WITH METAL HEART,4,12/1/2010 8:34,7.95,13047,United Kingdom\n536367,48187,DOORMAT NEW ENGLAND,4,12/1/2010 8:34,7.95,13047,United Kingdom\n536368,22960,JAM MAKING SET WITH JARS,6,12/1/2010 8:34,4.25,13047,United Kingdom\n536368,22913,RED COAT RACK PARIS FASHION,3,12/1/2010 8:34,4.95,13047,United Kingdom\n536368,22912,YELLOW COAT RACK PARIS FASHION,3,12/1/2010 8:34,4.95,13047,United Kingdom\n536368,22914,BLUE COAT RACK PARIS FASHION,3,12/1/2010 8:34,4.95,13047,United Kingdom\n536369,21756,BATH BUILDING BLOCK WORD,3,12/1/2010 8:35,5.95,13047,United Kingdom\n536370,22728,ALARM CLOCK BAKELIKE PINK,24,12/1/2010 8:45,3.75,12583,France\n536370,22727,ALARM CLOCK BAKELIKE RED ,24,12/1/2010 8:45,3.75,12583,France\n536370,22726,ALARM CLOCK BAKELIKE GREEN,12,12/1/2010 8:45,3.75,12583,France\n536370,21724,PANDA AND BUNNIES STICKER SHEET,12,12/1/2010 8:45,0.85,12583,France\n536370,21883,STARS GIFT TAPE ,24,12/1/2010 8:45,0.65,12583,France\n536370,10002,INFLATABLE POLITICAL GLOBE ,48,12/1/2010 8:45,0.85,12583,France\n536370,21791,VINTAGE HEADS AND TAILS CARD GAME ,24,12/1/2010 8:45,1.25,12583,France\n536370,21035,SET/2 RED RETROSPOT TEA TOWELS ,18,12/1/2010 8:45,2.95,12583,France\n536370,22326,ROUND SNACK BOXES SET OF4 WOODLAND ,24,12/1/2010 8:45,2.95,12583,France\n536370,22629,SPACEBOY LUNCH BOX ,24,12/1/2010 8:45,1.95,12583,France\n536370,22659,LUNCH BOX I LOVE LONDON,24,12/1/2010 8:45,1.95,12583,France\n536370,22631,CIRCUS PARADE LUNCH BOX ,24,12/1/2010 8:45,1.95,12583,France\n536370,22661,CHARLOTTE BAG DOLLY GIRL DESIGN,20,12/1/2010 8:45,0.85,12583,France\n536370,21731,RED TOADSTOOL LED NIGHT LIGHT,24,12/1/2010 8:45,1.65,12583,France\n536370,22900, SET 2 TEA TOWELS I LOVE LONDON ,24,12/1/2010 8:45,2.95,12583,France\n536370,21913,VINTAGE SEASIDE JIGSAW PUZZLES,12,12/1/2010 8:45,3.75,12583,France\n536370,22540,MINI JIGSAW CIRCUS PARADE ,24,12/1/2010 8:45,0.42,12583,France\n536370,22544,MINI JIGSAW SPACEBOY,24,12/1/2010 8:45,0.42,12583,France\n536370,22492,MINI PAINT SET VINTAGE ,36,12/1/2010 8:45,0.65,12583,France\n536370,POST,POSTAGE,3,12/1/2010 8:45,18,12583,France\n536371,22086,PAPER CHAIN KIT 50'S CHRISTMAS ,80,12/1/2010 9:00,2.55,13748,United Kingdom\n536372,22632,HAND WARMER RED POLKA DOT,6,12/1/2010 9:01,1.85,17850,United Kingdom\n536372,22633,HAND WARMER UNION JACK,6,12/1/2010 9:01,1.85,17850,United Kingdom\n536373,85123A,WHITE HANGING HEART T-LIGHT HOLDER,6,12/1/2010 9:02,2.55,17850,United Kingdom\n536373,71053,WHITE METAL LANTERN,6,12/1/2010 9:02,3.39,17850,United Kingdom\n536373,84406B,CREAM CUPID HEARTS COAT HANGER,8,12/1/2010 9:02,2.75,17850,United Kingdom\n536373,20679,EDWARDIAN PARASOL RED,6,12/1/2010 9:02,4.95,17850,United Kingdom\n536373,37370,RETRO COFFEE MUGS ASSORTED,6,12/1/2010 9:02,1.06,17850,United Kingdom\n536373,21871,SAVE THE PLANET MUG,6,12/1/2010 9:02,1.06,17850,United Kingdom\n536373,21071,VINTAGE BILLBOARD DRINK ME MUG,6,12/1/2010 9:02,1.06,17850,United Kingdom\n536373,21068,VINTAGE BILLBOARD LOVE/HATE MUG,6,12/1/2010 9:02,1.06,17850,United Kingdom\n536373,82483,WOOD 2 DRAWER CABINET WHITE FINISH,2,12/1/2010 9:02,4.95,17850,United Kingdom\n536373,82486,WOOD S/3 CABINET ANT WHITE FINISH,4,12/1/2010 9:02,6.95,17850,United Kingdom\n536373,82482,WOODEN PICTURE FRAME WHITE FINISH,6,12/1/2010 9:02,2.1,17850,United Kingdom\n536373,82494L,WOODEN FRAME ANTIQUE WHITE ,6,12/1/2010 9:02,2.55,17850,United Kingdom\n536373,84029G,KNITTED UNION FLAG HOT WATER BOTTLE,6,12/1/2010 9:02,3.39,17850,United Kingdom\n536373,84029E,RED WOOLLY HOTTIE WHITE HEART.,6,12/1/2010 9:02,3.39,17850,United Kingdom\n536373,22752,SET 7 BABUSHKA NESTING BOXES,2,12/1/2010 9:02,7.65,17850,United Kingdom\n536373,21730,GLASS STAR FROSTED T-LIGHT HOLDER,6,12/1/2010 9:02,4.25,17850,United Kingdom\n536374,21258,VICTORIAN SEWING BOX LARGE,32,12/1/2010 9:09,10.95,15100,United Kingdom\n536375,85123A,WHITE HANGING HEART T-LIGHT HOLDER,6,12/1/2010 9:32,2.55,17850,United Kingdom\n536375,71053,WHITE METAL LANTERN,6,12/1/2010 9:32,3.39,17850,United Kingdom\n536375,84406B,CREAM CUPID HEARTS COAT HANGER,8,12/1/2010 9:32,2.75,17850,United Kingdom\n536375,20679,EDWARDIAN PARASOL RED,6,12/1/2010 9:32,4.95,17850,United Kingdom\n536375,37370,RETRO COFFEE MUGS ASSORTED,6,12/1/2010 9:32,1.06,17850,United Kingdom\n536375,21871,SAVE THE PLANET MUG,6,12/1/2010 9:32,1.06,17850,United Kingdom\n536375,21071,VINTAGE BILLBOARD DRINK ME MUG,6,12/1/2010 9:32,1.06,17850,United Kingdom\n536375,21068,VINTAGE BILLBOARD LOVE/HATE MUG,6,12/1/2010 9:32,1.06,17850,United Kingdom\n536375,82483,WOOD 2 DRAWER CABINET WHITE FINISH,2,12/1/2010 9:32,4.95,17850,United Kingdom\n536375,82486,WOOD S/3 CABINET ANT WHITE FINISH,4,12/1/2010 9:32,6.95,17850,United Kingdom\n536375,82482,WOODEN PICTURE FRAME WHITE FINISH,6,12/1/2010 9:32,2.1,17850,United Kingdom\n536375,82494L,WOODEN FRAME ANTIQUE WHITE ,6,12/1/2010 9:32,2.55,17850,United Kingdom\n536375,84029G,KNITTED UNION FLAG HOT WATER BOTTLE,6,12/1/2010 9:32,3.39,17850,United Kingdom\n536375,84029E,RED WOOLLY HOTTIE WHITE HEART.,6,12/1/2010 9:32,3.39,17850,United Kingdom\n536375,22752,SET 7 BABUSHKA NESTING BOXES,2,12/1/2010 9:32,7.65,17850,United Kingdom\n536375,21730,GLASS STAR FROSTED T-LIGHT HOLDER,6,12/1/2010 9:32,4.25,17850,United Kingdom\n536376,22114,HOT WATER BOTTLE TEA AND SYMPATHY,48,12/1/2010 9:32,3.45,15291,United Kingdom\n536376,21733,RED HANGING HEART T-LIGHT HOLDER,64,12/1/2010 9:32,2.55,15291,United Kingdom\n536377,22632,HAND WARMER RED POLKA DOT,6,12/1/2010 9:34,1.85,17850,United Kingdom\n536377,22633,HAND WARMER UNION JACK,6,12/1/2010 9:34,1.85,17850,United Kingdom\n536378,22386,JUMBO BAG PINK POLKADOT,10,12/1/2010 9:37,1.95,14688,United Kingdom\n536378,85099C,JUMBO  BAG BAROQUE BLACK WHITE,10,12/1/2010 9:37,1.95,14688,United Kingdom\n536378,21033,JUMBO BAG CHARLIE AND LOLA TOYS,10,12/1/2010 9:37,2.95,14688,United Kingdom\n536378,20723,STRAWBERRY CHARLOTTE BAG,10,12/1/2010 9:37,0.85,14688,United Kingdom\n536378,84997B,RED 3 PIECE RETROSPOT CUTLERY SET,12,12/1/2010 9:37,3.75,14688,United Kingdom\n536378,84997C,BLUE 3 PIECE POLKADOT CUTLERY SET,6,12/1/2010 9:37,3.75,14688,United Kingdom\n536378,21094,SET/6 RED SPOTTY PAPER PLATES,12,12/1/2010 9:37,0.85,14688,United Kingdom\n536378,20725,LUNCH BAG RED RETROSPOT,10,12/1/2010 9:37,1.65,14688,United Kingdom\n536378,21559,STRAWBERRY LUNCH BOX WITH CUTLERY,6,12/1/2010 9:37,2.55,14688,United Kingdom\n536378,22352,LUNCH BOX WITH CUTLERY RETROSPOT ,6,12/1/2010 9:37,2.55,14688,United Kingdom\n536378,21212,PACK OF 72 RETROSPOT CAKE CASES,120,12/1/2010 9:37,0.42,14688,United Kingdom\n536378,21975,PACK OF 60 DINOSAUR CAKE CASES,24,12/1/2010 9:37,0.55,14688,United Kingdom\n536378,21977,PACK OF 60 PINK PAISLEY CAKE CASES,24,12/1/2010 9:37,0.55,14688,United Kingdom\n536378,84991,60 TEATIME FAIRY CAKE CASES,24,12/1/2010 9:37,0.55,14688,United Kingdom\n536378,84519A,TOMATO CHARLIE+LOLA COASTER SET,6,12/1/2010 9:37,2.95,14688,United Kingdom\n536378,85183B,CHARLIE &amp; LOLA WASTEPAPER BIN FLORA,48,12/1/2010 9:37,1.25,14688,United Kingdom\n536378,85071B,RED CHARLIE+LOLA PERSONAL DOORSIGN,96,12/1/2010 9:37,0.38,14688,United Kingdom\n536378,21931,JUMBO STORAGE BAG SUKI,10,12/1/2010 9:37,1.95,14688,United Kingdom\n536378,21929,JUMBO BAG PINK VINTAGE PAISLEY,10,12/1/2010 9:37,1.95,14688,United Kingdom\n536380,22961,JAM MAKING SET PRINTED,24,12/1/2010 9:41,1.45,17809,United Kingdom\n536381,22139,RETROSPOT TEA SET CERAMIC 11 PC ,23,12/1/2010 9:41,4.25,15311,United Kingdom\n536381,84854,GIRLY PINK TOOL SET,5,12/1/2010 9:41,4.95,15311,United Kingdom\n536381,22411,JUMBO SHOPPER VINTAGE RED PAISLEY,10,12/1/2010 9:41,1.95,15311,United Kingdom\n536381,82567,&quot;AIRLINE LOUNGE,METAL SIGN&quot;,2,12/1/2010 9:41,2.1,15311,United Kingdom\n536381,21672,WHITE SPOT RED CERAMIC DRAWER KNOB,6,12/1/2010 9:41,1.25,15311,United Kingdom\n536381,22774,RED DRAWER KNOB ACRYLIC EDWARDIAN,24,12/1/2010 9:41,1.25,15311,United Kingdom\n536381,22771,CLEAR DRAWER KNOB ACRYLIC EDWARDIAN,24,12/1/2010 9:41,1.25,15311,United Kingdom\n536381,71270,PHOTO CLIP LINE,1,12/1/2010 9:41,1.25,15311,United Kingdom\n536381,22262,FELT EGG COSY CHICKEN,1,12/1/2010 9:41,0.85,15311,United Kingdom\n536381,22637,PIGGY BANK RETROSPOT ,1,12/1/2010 9:41,2.55,15311,United Kingdom\n536381,21934,SKULL SHOULDER BAG,10,12/1/2010 9:41,1.65,15311,United Kingdom\n536381,21169,YOU'RE CONFUSING ME METAL SIGN ,3,12/1/2010 9:41,1.69,15311,United Kingdom\n536381,21166,COOK WITH WINE METAL SIGN ,1,12/1/2010 9:41,1.95,15311,United Kingdom\n536381,21175,GIN + TONIC DIET METAL SIGN,2,12/1/2010 9:41,2.1,15311,United Kingdom\n536381,37444A,YELLOW BREAKFAST CUP AND SAUCER,1,12/1/2010 9:41,2.95,15311,United Kingdom\n536381,37444C,PINK BREAKFAST CUP AND SAUCER ,1,12/1/2010 9:41,2.95,15311,United Kingdom\n536381,22086,PAPER CHAIN KIT 50'S CHRISTMAS ,4,12/1/2010 9:41,2.95,15311,United Kingdom\n536381,22083,PAPER CHAIN KIT RETROSPOT,1,12/1/2010 9:41,2.95,15311,United Kingdom\n536381,84971S,SMALL HEART FLOWERS HOOK ,6,12/1/2010 9:41,0.85,15311,United Kingdom\n536381,71270,PHOTO CLIP LINE,3,12/1/2010 9:41,1.25,15311,United Kingdom\n536381,47580,TEA TIME DES TEA COSY,2,12/1/2010 9:41,2.55,15311,United Kingdom\n536381,22261,FELT EGG COSY WHITE RABBIT ,1,12/1/2010 9:41,0.85,15311,United Kingdom\n536381,84832,ZINC WILLIE WINKIE  CANDLE STICK,1,12/1/2010 9:41,0.85,15311,United Kingdom\n536381,22644,CERAMIC CHERRY CAKE MONEY BANK,1,12/1/2010 9:41,1.45,15311,United Kingdom\n536381,21533,RETROSPOT LARGE MILK JUG,1,12/1/2010 9:41,4.95,15311,United Kingdom\n536381,21557,SET OF 6 FUNKY BEAKERS,2,12/1/2010 9:41,2.95,15311,United Kingdom\n536381,15056BL,EDWARDIAN PARASOL BLACK,2,12/1/2010 9:41,5.95,15311,United Kingdom\n536381,15056N,EDWARDIAN PARASOL NATURAL,2,12/1/2010 9:41,5.95,15311,United Kingdom\n536381,22646,CERAMIC STRAWBERRY CAKE MONEY BANK,4,12/1/2010 9:41,1.45,15311,United Kingdom\n536381,22176,BLUE OWL SOFT TOY,1,12/1/2010 9:41,2.95,15311,United Kingdom\n536381,22438,BALLOON ART MAKE YOUR OWN FLOWERS,1,12/1/2010 9:41,1.95,15311,United Kingdom\n536381,21731,RED TOADSTOOL LED NIGHT LIGHT,2,12/1/2010 9:41,1.65,15311,United Kingdom\n536381,22778,GLASS CLOCHE SMALL,3,12/1/2010 9:41,3.95,15311,United Kingdom\n536381,22719,GUMBALL MONOCHROME COAT RACK,36,12/1/2010 9:41,1.06,15311,United Kingdom\n536381,21523,DOORMAT FANCY FONT HOME SWEET HOME,10,12/1/2010 9:41,6.75,15311,United Kingdom\nC536379,D,Discount,-1,12/1/2010 9:41,27.5,14527,United Kingdom\n536382,10002,INFLATABLE POLITICAL GLOBE ,12,12/1/2010 9:45,0.85,16098,United Kingdom\n536382,21912,VINTAGE SNAKES &amp; LADDERS,8,12/1/2010 9:45,3.75,16098,United Kingdom\n536382,21832,CHOCOLATE CALCULATOR,12,12/1/2010 9:45,1.65,16098,United Kingdom\n536382,22411,JUMBO SHOPPER VINTAGE RED PAISLEY,10,12/1/2010 9:45,1.95,16098,United Kingdom\n536382,22379,RECYCLING BAG RETROSPOT ,10,12/1/2010 9:45,2.1,16098,United Kingdom\n536382,22381,TOY TIDY PINK POLKADOT,50,12/1/2010 9:45,1.85,16098,United Kingdom\n536382,22798,ANTIQUE GLASS DRESSING TABLE POT,8,12/1/2010 9:45,2.95,16098,United Kingdom\n536382,22726,ALARM CLOCK BAKELIKE GREEN,4,12/1/2010 9:45,3.75,16098,United Kingdom\n536382,22926,IVORY GIANT GARDEN THERMOMETER,12,12/1/2010 9:45,5.95,16098,United Kingdom\n536382,22839,3 TIER CAKE TIN GREEN AND CREAM,2,12/1/2010 9:45,14.95,16098,United Kingdom\n536382,22838,3 TIER CAKE TIN RED AND CREAM,2,12/1/2010 9:45,14.95,16098,United Kingdom\n536382,22783,SET 3 WICKER OVAL BASKETS W LIDS,4,12/1/2010 9:45,16.95,16098,United Kingdom\nC536383,35004C,SET OF 3 COLOURED  FLYING DUCKS,-1,12/1/2010 9:49,4.65,15311,United Kingdom\n536384,82484,WOOD BLACK BOARD ANT WHITE FINISH,3,12/1/2010 9:53,6.45,18074,United Kingdom\n536384,84755,COLOUR GLASS T-LIGHT HOLDER HANGING,48,12/1/2010 9:53,0.65,18074,United Kingdom\n536384,22464,HANGING METAL HEART LANTERN,12,12/1/2010 9:53,1.65,18074,United Kingdom\n536384,21324,HANGING MEDINA LANTERN SMALL,6,12/1/2010 9:53,2.95,18074,United Kingdom\n536384,22457,NATURAL SLATE HEART CHALKBOARD ,12,12/1/2010 9:53,2.95,18074,United Kingdom\n536384,22469,HEART OF WICKER SMALL,40,12/1/2010 9:53,1.45,18074,United Kingdom\n536384,22470,HEART OF WICKER LARGE,40,12/1/2010 9:53,2.55,18074,United Kingdom\n536384,22224,WHITE LOVEBIRD LANTERN,6,12/1/2010 9:53,2.95,18074,United Kingdom\n536384,21340,CLASSIC METAL BIRDCAGE PLANT HOLDER,2,12/1/2010 9:53,12.75,18074,United Kingdom\n536384,22189,CREAM HEART CARD HOLDER,4,12/1/2010 9:53,3.95,18074,United Kingdom\n536384,22427,ENAMEL FLOWER JUG CREAM,3,12/1/2010 9:53,5.95,18074,United Kingdom\n536384,22428,ENAMEL FIRE BUCKET CREAM,6,12/1/2010 9:53,6.95,18074,United Kingdom\n536384,22424,ENAMEL BREAD BIN CREAM,8,12/1/2010 9:53,10.95,18074,United Kingdom\n536385,22783,SET 3 WICKER OVAL BASKETS W LIDS,1,12/1/2010 9:56,19.95,17420,United Kingdom\n536385,22961,JAM MAKING SET PRINTED,12,12/1/2010 9:56,1.45,17420,United Kingdom\n536385,22960,JAM MAKING SET WITH JARS,6,12/1/2010 9:56,4.25,17420,United Kingdom\n536385,22663,JUMBO BAG DOLLY GIRL DESIGN,10,12/1/2010 9:56,1.95,17420,United Kingdom\n536385,85049A,TRADITIONAL CHRISTMAS RIBBONS,12,12/1/2010 9:56,1.25,17420,United Kingdom\n536385,22168,ORGANISER WOOD ANTIQUE WHITE ,2,12/1/2010 9:56,8.5,17420,United Kingdom\n536385,22662,LUNCH BAG DOLLY GIRL DESIGN,10,12/1/2010 9:56,1.65,17420,United Kingdom\n536386,84880,WHITE WIRE EGG HOLDER,36,12/1/2010 9:57,4.95,16029,United Kingdom\n536386,85099C,JUMBO  BAG BAROQUE BLACK WHITE,100,12/1/2010 9:57,1.65,16029,United Kingdom\n536386,85099B,JUMBO BAG RED RETROSPOT,100,12/1/2010 9:57,1.65,16029,United Kingdom\n536387,79321,CHILLI LIGHTS,192,12/1/2010 9:58,3.82,16029,United Kingdom\n536387,22780,LIGHT GARLAND BUTTERFILES PINK,192,12/1/2010 9:58,3.37,16029,United Kingdom\n536387,22779,WOODEN OWLS LIGHT GARLAND ,192,12/1/2010 9:58,3.37,16029,United Kingdom\n536387,22466,FAIRY TALE COTTAGE NIGHTLIGHT,432,12/1/2010 9:58,1.45,16029,United Kingdom\n536387,21731,RED TOADSTOOL LED NIGHT LIGHT,432,12/1/2010 9:58,1.25,16029,United Kingdom\n536388,21754,HOME BUILDING BLOCK WORD,3,12/1/2010 9:59,5.95,16250,United Kingdom\n536388,21755,LOVE BUILDING BLOCK WORD,3,12/1/2010 9:59,5.95,16250,United Kingdom\n536388,21523,DOORMAT FANCY FONT HOME SWEET HOME,2,12/1/2010 9:59,7.95,16250,United Kingdom\n536388,21363,HOME SMALL WOOD LETTERS,3,12/1/2010 9:59,4.95,16250,United Kingdom\n536388,21411,GINGHAM HEART  DOORSTOP RED,3,12/1/2010 9:59,4.25,16250,United Kingdom\n536388,22318,FIVE HEART HANGING DECORATION,6,12/1/2010 9:59,2.95,16250,United Kingdom\n536388,22464,HANGING METAL HEART LANTERN,12,12/1/2010 9:59,1.65,16250,United Kingdom\n536388,22915,ASSORTED BOTTLE TOP  MAGNETS ,12,12/1/2010 9:59,0.42,16250,United Kingdom\n536388,22922,FRIDGE MAGNETS US DINER ASSORTED,12,12/1/2010 9:59,0.85,16250,United Kingdom\n536388,22969,HOMEMADE JAM SCENTED CANDLES,12,12/1/2010 9:59,1.45,16250,United Kingdom\n536388,22923,FRIDGE MAGNETS LES ENFANTS ASSORTED,12,12/1/2010 9:59,0.85,16250,United Kingdom\n536388,21115,ROSE CARAVAN DOORSTOP,4,12/1/2010 9:59,6.75,16250,United Kingdom\n536388,22469,HEART OF WICKER SMALL,12,12/1/2010 9:59,1.65,16250,United Kingdom\n536388,22242,5 HOOK HANGER MAGIC TOADSTOOL,12,12/1/2010 9:59,1.65,16250,United Kingdom\n536389,22941,CHRISTMAS LIGHTS 10 REINDEER,6,12/1/2010 10:03,8.5,12431,Australia\n536389,21622,VINTAGE UNION JACK CUSHION COVER,8,12/1/2010 10:03,4.95,12431,Australia\n536389,21791,VINTAGE HEADS AND TAILS CARD GAME ,12,12/1/2010 10:03,1.25,12431,Australia\n536389,35004C,SET OF 3 COLOURED  FLYING DUCKS,6,12/1/2010 10:03,5.45,12431,Australia\n536389,35004G,SET OF 3 GOLD FLYING DUCKS,4,12/1/2010 10:03,6.35,12431,Australia\n536389,85014B,RED RETROSPOT UMBRELLA,6,12/1/2010 10:03,5.95,12431,Australia\n536389,85014A,BLACK/BLUE POLKADOT UMBRELLA,3,12/1/2010 10:03,5.95,12431,Australia\n536389,22193,RED DINER WALL CLOCK,2,12/1/2010 10:03,8.5,12431,Australia\n536389,22726,ALARM CLOCK BAKELIKE GREEN,4,12/1/2010 10:03,3.75,12431,Australia\n536389,22727,ALARM CLOCK BAKELIKE RED ,4,12/1/2010 10:03,3.75,12431,Australia\n536389,22192,BLUE DINER WALL CLOCK,2,12/1/2010 10:03,8.5,12431,Australia\n536389,22191,IVORY DINER WALL CLOCK,2,12/1/2010 10:03,8.5,12431,Australia\n536389,22195,LARGE HEART MEASURING SPOONS,24,12/1/2010 10:03,1.65,12431,Australia\n536389,22196,SMALL HEART MEASURING SPOONS,24,12/1/2010 10:03,0.85,12431,Australia\n536390,22941,CHRISTMAS LIGHTS 10 REINDEER,2,12/1/2010 10:19,8.5,17511,United Kingdom\n536390,22960,JAM MAKING SET WITH JARS,12,12/1/2010 10:19,3.75,17511,United Kingdom\n536390,22961,JAM MAKING SET PRINTED,12,12/1/2010 10:19,1.45,17511,United Kingdom\n536390,22962,JAM JAR WITH PINK LID,48,12/1/2010 10:19,0.72,17511,United Kingdom\n536390,22963,JAM JAR WITH GREEN LID,48,12/1/2010 10:19,0.72,17511,United Kingdom\n536390,22968,ROSE COTTAGE KEEPSAKE BOX ,8,12/1/2010 10:19,8.5,17511,United Kingdom\n536390,84970S,HANGING HEART ZINC T-LIGHT HOLDER,144,12/1/2010 10:19,0.64,17511,United Kingdom\n536390,22910,PAPER CHAIN KIT VINTAGE CHRISTMAS,40,12/1/2010 10:19,2.55,17511,United Kingdom\n536390,20668,DISCO BALL CHRISTMAS DECORATION,288,12/1/2010 10:19,0.1,17511,United Kingdom\n536390,85123A,WHITE HANGING HEART T-LIGHT HOLDER,64,12/1/2010 10:19,2.55,17511,United Kingdom\n536390,22197,SMALL POPCORN HOLDER,100,12/1/2010 10:19,0.72,17511,United Kingdom\n536390,22198,LARGE POPCORN HOLDER ,50,12/1/2010 10:19,1.45,17511,United Kingdom\n536390,21533,RETROSPOT LARGE MILK JUG,12,12/1/2010 10:19,4.25,17511,United Kingdom\n536390,21080,SET/20 RED RETROSPOT PAPER NAPKINS ,96,12/1/2010 10:19,0.64,17511,United Kingdom\n536390,21094,SET/6 RED SPOTTY PAPER PLATES,96,12/1/2010 10:19,0.64,17511,United Kingdom\n536390,21086,SET/6 RED SPOTTY PAPER CUPS,48,12/1/2010 10:19,0.65,17511,United Kingdom\n536390,21786,POLKADOT RAIN HAT ,144,12/1/2010 10:19,0.32,17511,United Kingdom\n536390,22654,DELUXE SEWING KIT ,40,12/1/2010 10:19,4.95,17511,United Kingdom\n536390,21485,RETROSPOT HEART HOT WATER BOTTLE,24,12/1/2010 10:19,4.25,17511,United Kingdom\n536390,84029G,KNITTED UNION FLAG HOT WATER BOTTLE,24,12/1/2010 10:19,3.39,17511,United Kingdom\n536390,84030E,ENGLISH ROSE HOT WATER BOTTLE,24,12/1/2010 10:19,3.75,17511,United Kingdom\n536390,22174,PHOTO CUBE,48,12/1/2010 10:19,1.48,17511,United Kingdom\n536390,22969,HOMEMADE JAM SCENTED CANDLES,96,12/1/2010 10:19,1.25,17511,United Kingdom\n536390,85099B,JUMBO BAG RED RETROSPOT,100,12/1/2010 10:19,1.65,17511,United Kingdom\nC536391,22556,PLASTERS IN TIN CIRCUS PARADE ,-12,12/1/2010 10:24,1.65,17548,United Kingdom\nC536391,21984,PACK OF 12 PINK PAISLEY TISSUES ,-24,12/1/2010 10:24,0.29,17548,United Kingdom\nC536391,21983,PACK OF 12 BLUE PAISLEY TISSUES ,-24,12/1/2010 10:24,0.29,17548,United Kingdom\nC536391,21980,PACK OF 12 RED RETROSPOT TISSUES ,-24,12/1/2010 10:24,0.29,17548,United Kingdom\nC536391,21484,CHICK GREY HOT WATER BOTTLE,-12,12/1/2010 10:24,3.45,17548,United Kingdom\nC536391,22557,PLASTERS IN TIN VINTAGE PAISLEY ,-12,12/1/2010 10:24,1.65,17548,United Kingdom\nC536391,22553,PLASTERS IN TIN SKULLS,-24,12/1/2010 10:24,1.65,17548,United Kingdom\n536392,22150,3 STRIPEY MICE FELTCRAFT,6,12/1/2010 10:29,1.95,13705,United Kingdom\n536392,22619,SET OF 6 SOLDIER SKITTLES,4,12/1/2010 10:29,3.75,13705,United Kingdom\n536392,21891,TRADITIONAL WOODEN SKIPPING ROPE,12,12/1/2010 10:29,1.25,13705,United Kingdom\n536392,21889,WOODEN BOX OF DOMINOES,12,12/1/2010 10:29,1.25,13705,United Kingdom\n536392,22827,RUSTIC  SEVENTEEN DRAWER SIDEBOARD,1,12/1/2010 10:29,165,13705,United Kingdom\n536392,22127,PARTY CONES CARNIVAL ASSORTED,12,12/1/2010 10:29,1.25,13705,United Kingdom\n536392,22128,PARTY CONES CANDY ASSORTED,12,12/1/2010 10:29,1.25,13705,United Kingdom\n536392,22502,PICNIC BASKET WICKER SMALL,4,12/1/2010 10:29,5.95,13705,United Kingdom\n536392,84879,ASSORTED COLOUR BIRD ORNAMENT,16,12/1/2010 10:29,1.69,13705,United Kingdom\n536392,22338,STAR DECORATION PAINTED ZINC ,24,12/1/2010 10:29,0.65,13705,United Kingdom\n536393,22180,RETROSPOT LAMP,8,12/1/2010 10:37,9.95,13747,United Kingdom\n536394,21506,&quot;FANCY FONT BIRTHDAY CARD, &quot;,24,12/1/2010 10:39,0.42,13408,United Kingdom\n536394,22633,HAND WARMER UNION JACK,96,12/1/2010 10:39,1.85,13408,United Kingdom\n536394,22866,HAND WARMER SCOTTY DOG DESIGN,96,12/1/2010 10:39,1.85,13408,United Kingdom\n536394,22865,HAND WARMER OWL DESIGN,96,12/1/2010 10:39,1.85,13408,United Kingdom\n536394,22632,HAND WARMER RED RETROSPOT,96,12/1/2010 10:39,1.85,13408,United Kingdom\n536394,21485,RETROSPOT HEART HOT WATER BOTTLE,12,12/1/2010 10:39,4.95,13408,United Kingdom\n536394,22349,DOG BOWL CHASING BALL DESIGN,12,12/1/2010 10:39,3.75,13408,United Kingdom\n536394,22558,CLOTHES PEGS RETROSPOT PACK 24 ,48,12/1/2010 10:39,1.25,13408,United Kingdom\n536394,85152,HAND OVER THE CHOCOLATE   SIGN ,12,12/1/2010 10:39,2.1,13408,United Kingdom\n536394,85123A,WHITE HANGING HEART T-LIGHT HOLDER,32,12/1/2010 10:39,2.55,13408,United Kingdom\n536394,22652,TRAVEL SEWING KIT,20,12/1/2010 10:39,1.65,13408,United Kingdom\n536395,22188,BLACK HEART CARD HOLDER,8,12/1/2010 10:47,3.95,13767,United Kingdom\n536395,84879,ASSORTED COLOUR BIRD ORNAMENT,32,12/1/2010 10:47,1.69,13767,United Kingdom\n536395,21977,PACK OF 60 PINK PAISLEY CAKE CASES,24,12/1/2010 10:47,0.55,13767,United Kingdom\n536395,84991,60 TEATIME FAIRY CAKE CASES,24,12/1/2010 10:47,0.55,13767,United Kingdom\n536395,21212,PACK OF 72 RETROSPOT CAKE CASES,24,12/1/2010 10:47,0.55,13767,United Kingdom\n536395,21484,CHICK GREY HOT WATER BOTTLE,8,12/1/2010 10:47,3.45,13767,United Kingdom\n536395,21314,SMALL GLASS HEART TRINKET POT,8,12/1/2010 10:47,2.1,13767,United Kingdom\n536395,22730,ALARM CLOCK BAKELIKE IVORY,4,12/1/2010 10:47,3.75,13767,United Kingdom\n536395,22727,ALARM CLOCK BAKELIKE RED ,8,12/1/2010 10:47,3.75,13767,United Kingdom\n536395,22729,ALARM CLOCK BAKELIKE ORANGE,8,12/1/2010 10:47,3.75,13767,United Kingdom\n536395,22726,ALARM CLOCK BAKELIKE GREEN,8,12/1/2010 10:47,3.75,13767,United Kingdom\n536395,22114,HOT WATER BOTTLE TEA AND SYMPATHY,8,12/1/2010 10:47,3.95,13767,United Kingdom\n536395,22867,HAND WARMER BIRD DESIGN,48,12/1/2010 10:47,2.1,13767,United Kingdom\n536395,22866,HAND WARMER SCOTTY DOG DESIGN,48,12/1/2010 10:47,2.1,13767,United Kingdom\n536396,85123A,WHITE HANGING HEART T-LIGHT HOLDER,6,12/1/2010 10:51,2.55,17850,United Kingdom\n536396,71053,WHITE METAL LANTERN,6,12/1/2010 10:51,3.39,17850,United Kingdom\n536396,84406B,CREAM CUPID HEARTS COAT HANGER,8,12/1/2010 10:51,2.75,17850,United Kingdom\n536396,15056BL,EDWARDIAN PARASOL BLACK,6,12/1/2010 10:51,4.95,17850,United Kingdom\n536396,20679,EDWARDIAN PARASOL RED,6,12/1/2010 10:51,4.95,17850,United Kingdom\n536396,37370,RETRO COFFEE MUGS ASSORTED,6,12/1/2010 10:51,1.06,17850,United Kingdom\n536396,21871,SAVE THE PLANET MUG,6,12/1/2010 10:51,1.06,17850,United Kingdom\n536396,21071,VINTAGE BILLBOARD DRINK ME MUG,6,12/1/2010 10:51,1.06,17850,United Kingdom\n536396,21068,VINTAGE BILLBOARD LOVE/HATE MUG,6,12/1/2010 10:51,1.06,17850,United Kingdom\n536396,82483,WOOD 2 DRAWER CABINET WHITE FINISH,2,12/1/2010 10:51,4.95,17850,United Kingdom\n536396,82486,WOOD S/3 CABINET ANT WHITE FINISH,4,12/1/2010 10:51,6.95,17850,United Kingdom\n536396,82482,WOODEN PICTURE FRAME WHITE FINISH,6,12/1/2010 10:51,2.1,17850,United Kingdom\n536396,82494L,WOODEN FRAME ANTIQUE WHITE ,12,12/1/2010 10:51,2.55,17850,United Kingdom\n536396,84029G,KNITTED UNION FLAG HOT WATER BOTTLE,6,12/1/2010 10:51,3.39,17850,United Kingdom\n536396,84029E,RED WOOLLY HOTTIE WHITE HEART.,6,12/1/2010 10:51,3.39,17850,United Kingdom\n536396,22752,SET 7 BABUSHKA NESTING BOXES,2,12/1/2010 10:51,7.65,17850,United Kingdom\n536396,22803,IVORY EMBROIDERED QUILT ,2,12/1/2010 10:51,35.75,17850,United Kingdom\n\n*** WARNING: skipped 15578 bytes of output ***\n\n536408,22736,RIBBON REEL MAKING SNOWMEN ,10,12/1/2010 11:41,1.65,14307,United Kingdom\n536408,22492,MINI PAINT SET VINTAGE ,36,12/1/2010 11:41,0.65,14307,United Kingdom\n536408,22620,4 TRADITIONAL SPINNING TOPS,12,12/1/2010 11:41,1.25,14307,United Kingdom\n536408,22619,SET OF 6 SOLDIER SKITTLES,4,12/1/2010 11:41,3.75,14307,United Kingdom\n536408,21705,BAG 500g SWIRLY MARBLES,12,12/1/2010 11:41,1.65,14307,United Kingdom\n536409,90199C,5 STRAND GLASS NECKLACE CRYSTAL,3,12/1/2010 11:45,6.35,17908,United Kingdom\n536409,21479,WHITE SKULL HOT WATER BOTTLE ,1,12/1/2010 11:45,3.75,17908,United Kingdom\n536409,22111,SCOTTIE DOG HOT WATER BOTTLE,1,12/1/2010 11:45,4.95,17908,United Kingdom\n536409,22785,SQUARECUSHION COVER PINK UNION FLAG,1,12/1/2010 11:45,6.75,17908,United Kingdom\n536409,22975,SPACEBOY CHILDRENS EGG CUP,1,12/1/2010 11:45,1.25,17908,United Kingdom\n536409,22972,CHILDREN'S SPACEBOY MUG,1,12/1/2010 11:45,1.65,17908,United Kingdom\n536409,22866,HAND WARMER SCOTTY DOG DESIGN,1,12/1/2010 11:45,2.1,17908,United Kingdom\n536409,22568,FELTCRAFT CUSHION OWL,1,12/1/2010 11:45,3.75,17908,United Kingdom\n536409,85116,BLACK CANDELABRA T-LIGHT HOLDER,1,12/1/2010 11:45,2.1,17908,United Kingdom\n536409,22664,TOY TIDY DOLLY GIRL DESIGN,1,12/1/2010 11:45,2.1,17908,United Kingdom\n536409,21609,SET 12 LAVENDER  BOTANICAL T-LIGHTS,1,12/1/2010 11:45,2.95,17908,United Kingdom\n536409,21866,UNION JACK FLAG LUGGAGE TAG,1,12/1/2010 11:45,1.25,17908,United Kingdom\n536409,20669,RED HEART LUGGAGE TAG,1,12/1/2010 11:45,1.25,17908,United Kingdom\n536409,90129F,RED GLASS TASSLE BAG CHARM,1,12/1/2010 11:45,2.95,17908,United Kingdom\n536409,90210B,CLEAR ACRYLIC FACETED BANGLE,1,12/1/2010 11:45,2.95,17908,United Kingdom\n536409,90199C,5 STRAND GLASS NECKLACE CRYSTAL,1,12/1/2010 11:45,6.35,17908,United Kingdom\n536409,21955,DOORMAT UNION JACK GUNS AND ROSES,1,12/1/2010 11:45,7.95,17908,United Kingdom\n536409,72802C,VANILLA SCENT CANDLE JEWELLED BOX,1,12/1/2010 11:45,4.25,17908,United Kingdom\n536409,22109,FULL ENGLISH BREAKFAST PLATE,1,12/1/2010 11:45,3.75,17908,United Kingdom\n536409,85116,BLACK CANDELABRA T-LIGHT HOLDER,5,12/1/2010 11:45,2.1,17908,United Kingdom\n536409,22531,MAGIC DRAWING SLATE CIRCUS PARADE  ,1,12/1/2010 11:45,0.42,17908,United Kingdom\n536409,21811,CHRISTMAS HANGING HEART WITH BELL,1,12/1/2010 11:45,1.25,17908,United Kingdom\n536409,22183,CAKE STAND VICTORIAN FILIGREE MED,1,12/1/2010 11:45,6.75,17908,United Kingdom\n536409,21678,PAISLEY PATTERN  STICKERS,6,12/1/2010 11:45,0.85,17908,United Kingdom\n536409,21676,FLOWERS  STICKERS,6,12/1/2010 11:45,0.85,17908,United Kingdom\n536409,84625A,PINK NEW BAROQUECANDLESTICK CANDLE,1,12/1/2010 11:45,2.95,17908,United Kingdom\n536409,84625C,BLUE NEW BAROQUE CANDLESTICK CANDLE,3,12/1/2010 11:45,2.95,17908,United Kingdom\n536409,21931,JUMBO STORAGE BAG SUKI,2,12/1/2010 11:45,1.95,17908,United Kingdom\n536409,85169B,BLACK LOVE BIRD CANDLE,12,12/1/2010 11:45,1.25,17908,United Kingdom\n536409,16238,PARTY TIME PENCIL ERASERS,28,12/1/2010 11:45,0.21,17908,United Kingdom\n536409,20668,DISCO BALL CHRISTMAS DECORATION,24,12/1/2010 11:45,0.12,17908,United Kingdom\n536409,84906,PINK B'FLY C/COVER W BOBBLES,1,12/1/2010 11:45,5.95,17908,United Kingdom\n536409,21867,PINK UNION JACK  LUGGAGE TAG,1,12/1/2010 11:45,1.25,17908,United Kingdom\n536409,22075,6 RIBBONS ELEGANT CHRISTMAS ,1,12/1/2010 11:45,1.65,17908,United Kingdom\n536409,21866,UNION JACK FLAG LUGGAGE TAG,1,12/1/2010 11:45,1.25,17908,United Kingdom\n536409,21326,AGED GLASS SILVER T-LIGHT HOLDER,12,12/1/2010 11:45,0.65,17908,United Kingdom\n536409,21065,BOOM BOX SPEAKER GIRLS,1,12/1/2010 11:45,5.95,17908,United Kingdom\n536409,22074,6 RIBBONS SHIMMERING PINKS ,1,12/1/2010 11:45,1.65,17908,United Kingdom\n536409,22900, SET 2 TEA TOWELS I LOVE LONDON ,1,12/1/2010 11:45,2.95,17908,United Kingdom\n536409,20713,JUMBO BAG OWLS,1,12/1/2010 11:45,1.95,17908,United Kingdom\n536409,20966,SANDWICH BATH SPONGE,2,12/1/2010 11:45,1.25,17908,United Kingdom\n536409,21116,OWL DOORSTOP,1,12/1/2010 11:45,4.95,17908,United Kingdom\n536409,90199C,5 STRAND GLASS NECKLACE CRYSTAL,2,12/1/2010 11:45,6.35,17908,United Kingdom\n536409,22633,HAND WARMER UNION JACK,1,12/1/2010 11:45,2.1,17908,United Kingdom\n536409,22866,HAND WARMER SCOTTY DOG DESIGN,1,12/1/2010 11:45,2.1,17908,United Kingdom\n536409,22198,LARGE POPCORN HOLDER ,1,12/1/2010 11:45,1.65,17908,United Kingdom\n536409,21824,PAINTED METAL STAR WITH HOLLY BELLS,3,12/1/2010 11:45,1.45,17908,United Kingdom\n536409,21823,PAINTED METAL HEART WITH HOLLY BELL,3,12/1/2010 11:45,1.45,17908,United Kingdom\n536409,22153,ANGEL DECORATION STARS ON DRESS,6,12/1/2010 11:45,0.42,17908,United Kingdom\n536409,22197,SMALL POPCORN HOLDER,2,12/1/2010 11:45,0.85,17908,United Kingdom\n536409,85099B,JUMBO BAG RED RETROSPOT,2,12/1/2010 11:45,1.95,17908,United Kingdom\n536409,85099F,JUMBO BAG STRAWBERRY,1,12/1/2010 11:45,1.95,17908,United Kingdom\n536409,20717,STRAWBERRY SHOPPER BAG,1,12/1/2010 11:45,1.25,17908,United Kingdom\n536409,20723,STRAWBERRY CHARLOTTE BAG,1,12/1/2010 11:45,0.85,17908,United Kingdom\n536409,22900, SET 2 TEA TOWELS I LOVE LONDON ,1,12/1/2010 11:45,2.95,17908,United Kingdom\n536409,21980,PACK OF 12 RED RETROSPOT TISSUES ,12,12/1/2010 11:45,0.29,17908,United Kingdom\n536409,22111,SCOTTIE DOG HOT WATER BOTTLE,1,12/1/2010 11:45,4.95,17908,United Kingdom\n536409,22112,CHOCOLATE HOT WATER BOTTLE,1,12/1/2010 11:45,4.95,17908,United Kingdom\n536412,20728,LUNCH BAG CARS BLUE,3,12/1/2010 11:49,1.65,17920,United Kingdom\n536412,22382,LUNCH BAG SPACEBOY DESIGN ,3,12/1/2010 11:49,1.65,17920,United Kingdom\n536412,22326,ROUND SNACK BOXES SET OF4 WOODLAND ,1,12/1/2010 11:49,2.95,17920,United Kingdom\n536412,22662,LUNCH BAG DOLLY GIRL DESIGN,4,12/1/2010 11:49,1.65,17920,United Kingdom\n536412,22383,LUNCH BAG SUKI  DESIGN ,3,12/1/2010 11:49,1.65,17920,United Kingdom\n536412,20727,LUNCH BAG  BLACK SKULL.,3,12/1/2010 11:49,1.65,17920,United Kingdom\n536412,22328,ROUND SNACK BOXES SET OF 4 FRUITS ,1,12/1/2010 11:49,2.95,17920,United Kingdom\n536412,22327,ROUND SNACK BOXES SET OF 4 SKULLS,1,12/1/2010 11:49,2.95,17920,United Kingdom\n536412,22630,DOLLY GIRL LUNCH BOX,1,12/1/2010 11:49,1.95,17920,United Kingdom\n536412,22629,SPACEBOY LUNCH BOX ,1,12/1/2010 11:49,1.95,17920,United Kingdom\n536412,21245,GREEN POLKADOT PLATE ,1,12/1/2010 11:49,1.69,17920,United Kingdom\n536412,21244,BLUE POLKADOT PLATE ,1,12/1/2010 11:49,1.69,17920,United Kingdom\n536412,21242,RED RETROSPOT PLATE ,1,12/1/2010 11:49,1.69,17920,United Kingdom\n536412,21243,PINK  POLKADOT PLATE ,1,12/1/2010 11:49,1.69,17920,United Kingdom\n536412,22327,ROUND SNACK BOXES SET OF 4 SKULLS,1,12/1/2010 11:49,2.95,17920,United Kingdom\n536412,22273,FELTCRAFT DOLL MOLLY,1,12/1/2010 11:49,2.95,17920,United Kingdom\n536412,22940,FELTCRAFT CHRISTMAS FAIRY,3,12/1/2010 11:49,4.25,17920,United Kingdom\n536412,22652,TRAVEL SEWING KIT,5,12/1/2010 11:49,1.65,17920,United Kingdom\n536412,22759,SET OF 3 NOTEBOOKS IN PARCEL,1,12/1/2010 11:49,1.65,17920,United Kingdom\n536412,21880,RED RETROSPOT TAPE,10,12/1/2010 11:49,0.65,17920,United Kingdom\n536412,21738,COSY SLIPPER SHOES SMALL  RED ,1,12/1/2010 11:49,2.95,17920,United Kingdom\n536412,22077,6 RIBBONS RUSTIC CHARM,1,12/1/2010 11:49,1.65,17920,United Kingdom\n536412,85049E,SCANDINAVIAN REDS RIBBONS,3,12/1/2010 11:49,1.25,17920,United Kingdom\n536412,22961,JAM MAKING SET PRINTED,24,12/1/2010 11:49,1.45,17920,United Kingdom\n536412,21448,12 DAISY PEGS IN WOOD BOX,2,12/1/2010 11:49,1.65,17920,United Kingdom\n536412,22837,HOT WATER BOTTLE BABUSHKA ,3,12/1/2010 11:49,4.65,17920,United Kingdom\n536412,22749,FELTCRAFT PRINCESS CHARLOTTE DOLL,2,12/1/2010 11:49,3.75,17920,United Kingdom\n536412,22940,FELTCRAFT CHRISTMAS FAIRY,1,12/1/2010 11:49,4.25,17920,United Kingdom\n536412,22749,FELTCRAFT PRINCESS CHARLOTTE DOLL,1,12/1/2010 11:49,3.75,17920,United Kingdom\n536412,22077,6 RIBBONS RUSTIC CHARM,2,12/1/2010 11:49,1.65,17920,United Kingdom\n536412,21738,COSY SLIPPER SHOES SMALL  RED ,2,12/1/2010 11:49,2.95,17920,United Kingdom\n536412,85049E,SCANDINAVIAN REDS RIBBONS,1,12/1/2010 11:49,1.25,17920,United Kingdom\n536412,22243,5 HOOK HANGER RED MAGIC TOADSTOOL,6,12/1/2010 11:49,1.65,17920,United Kingdom\n536412,22141,CHRISTMAS CRAFT TREE TOP ANGEL,1,12/1/2010 11:49,2.1,17920,United Kingdom\n536412,22144,CHRISTMAS CRAFT LITTLE FRIENDS,2,12/1/2010 11:49,2.1,17920,United Kingdom\n536412,22243,5 HOOK HANGER RED MAGIC TOADSTOOL,3,12/1/2010 11:49,1.65,17920,United Kingdom\n536412,22077,6 RIBBONS RUSTIC CHARM,7,12/1/2010 11:49,1.65,17920,United Kingdom\n536412,21448,12 DAISY PEGS IN WOOD BOX,1,12/1/2010 11:49,1.65,17920,United Kingdom\n536412,22759,SET OF 3 NOTEBOOKS IN PARCEL,5,12/1/2010 11:49,1.65,17920,United Kingdom\n536412,22242,5 HOOK HANGER MAGIC TOADSTOOL,5,12/1/2010 11:49,1.65,17920,United Kingdom\n536412,85049E,SCANDINAVIAN REDS RIBBONS,12,12/1/2010 11:49,1.25,17920,United Kingdom\n536412,21731,RED TOADSTOOL LED NIGHT LIGHT,5,12/1/2010 11:49,1.65,17920,United Kingdom\n536412,22243,5 HOOK HANGER RED MAGIC TOADSTOOL,1,12/1/2010 11:49,1.65,17920,United Kingdom\n536412,21739,COSY SLIPPER SHOES SMALL GREEN,2,12/1/2010 11:49,2.95,17920,United Kingdom\n536412,21738,COSY SLIPPER SHOES SMALL  RED ,5,12/1/2010 11:49,2.95,17920,United Kingdom\n536412,22271,FELTCRAFT DOLL ROSIE,2,12/1/2010 11:49,2.95,17920,United Kingdom\n536412,22273,FELTCRAFT DOLL MOLLY,1,12/1/2010 11:49,2.95,17920,United Kingdom\n536412,22274,FELTCRAFT DOLL EMILY,2,12/1/2010 11:49,2.95,17920,United Kingdom\n536412,22749,FELTCRAFT PRINCESS CHARLOTTE DOLL,1,12/1/2010 11:49,3.75,17920,United Kingdom\n536412,22751,FELTCRAFT PRINCESS OLIVIA DOLL,2,12/1/2010 11:49,3.75,17920,United Kingdom\n536412,21034,REX CASH+CARRY JUMBO SHOPPER,1,12/1/2010 11:49,0.95,17920,United Kingdom\n536412,22273,FELTCRAFT DOLL MOLLY,2,12/1/2010 11:49,2.95,17920,United Kingdom\n536412,22568,FELTCRAFT CUSHION OWL,3,12/1/2010 11:49,3.75,17920,United Kingdom\n536412,22141,CHRISTMAS CRAFT TREE TOP ANGEL,1,12/1/2010 11:49,2.1,17920,United Kingdom\n536412,22144,CHRISTMAS CRAFT LITTLE FRIENDS,1,12/1/2010 11:49,2.1,17920,United Kingdom\n536412,22570,FELTCRAFT CUSHION RABBIT,3,12/1/2010 11:49,3.75,17920,United Kingdom\n536412,22569,FELTCRAFT CUSHION BUTTERFLY,2,12/1/2010 11:49,3.75,17920,United Kingdom\n536412,21448,12 DAISY PEGS IN WOOD BOX,1,12/1/2010 11:49,1.65,17920,United Kingdom\n536412,22086,PAPER CHAIN KIT 50'S CHRISTMAS ,1,12/1/2010 11:49,2.95,17920,United Kingdom\n536412,22569,FELTCRAFT CUSHION BUTTERFLY,2,12/1/2010 11:49,3.75,17920,United Kingdom\n536412,21448,12 DAISY PEGS IN WOOD BOX,2,12/1/2010 11:49,1.65,17920,United Kingdom\n536412,22968,ROSE COTTAGE KEEPSAKE BOX ,4,12/1/2010 11:49,9.95,17920,United Kingdom\n536412,22902,TOTE BAG I LOVE LONDON,7,12/1/2010 11:49,2.1,17920,United Kingdom\n536412,21448,12 DAISY PEGS IN WOOD BOX,2,12/1/2010 11:49,1.65,17920,United Kingdom\n536412,22902,TOTE BAG I LOVE LONDON,7,12/1/2010 11:49,2.1,17920,United Kingdom\n536412,21710,FOLDING UMBRELLA PINKWHITE POLKADOT,1,12/1/2010 11:49,4.95,17920,United Kingdom\n536412,21708,FOLDING UMBRELLA CREAM POLKADOT,1,12/1/2010 11:49,4.95,17920,United Kingdom\n536412,21711,FOLDING UMBRELLA WHITE/RED POLKADOT,1,12/1/2010 11:49,4.95,17920,United Kingdom\n536412,22179,SET 10 LIGHTS NIGHT OWL,2,12/1/2010 11:49,6.75,17920,United Kingdom\n536412,22197,SMALL POPCORN HOLDER,5,12/1/2010 11:49,0.85,17920,United Kingdom\n536412,22900, SET 2 TEA TOWELS I LOVE LONDON ,2,12/1/2010 11:49,2.95,17920,United Kingdom\n536412,21706,FOLDING UMBRELLA RED/WHITE POLKADOT,1,12/1/2010 11:49,4.95,17920,United Kingdom\n536412,22468,BABUSHKA LIGHTS STRING OF 10,2,12/1/2010 11:49,6.75,17920,United Kingdom\n536412,20725,LUNCH BAG RED RETROSPOT,1,12/1/2010 11:49,1.65,17920,United Kingdom\n536412,85184C,S/4 VALENTINE DECOUPAGE HEART BOX,1,12/1/2010 11:49,2.95,17920,United Kingdom\n536412,21708,FOLDING UMBRELLA CREAM POLKADOT,1,12/1/2010 11:49,4.95,17920,United Kingdom\n536412,22900, SET 2 TEA TOWELS I LOVE LONDON ,2,12/1/2010 11:49,2.95,17920,United Kingdom\n536412,21706,FOLDING UMBRELLA RED/WHITE POLKADOT,1,12/1/2010 11:49,4.95,17920,United Kingdom\n536412,22988,SOLDIERS EGG CUP ,6,12/1/2010 11:49,1.25,17920,United Kingdom\n536412,85184C,S/4 VALENTINE DECOUPAGE HEART BOX,1,12/1/2010 11:49,2.95,17920,United Kingdom\n536412,20750,RED RETROSPOT MINI CASES,1,12/1/2010 11:49,7.95,17920,United Kingdom\n536414,22139,,56,12/1/2010 11:52,0,,United Kingdom\n536415,22952,60 CAKE CASES VINTAGE CHRISTMAS,10,12/1/2010 11:57,0.55,12838,United Kingdom\n536415,22910,PAPER CHAIN KIT VINTAGE CHRISTMAS,5,12/1/2010 11:57,2.95,12838,United Kingdom\n536415,22739,RIBBON REEL CHRISTMAS SOCK BAUBLE,3,12/1/2010 11:57,1.65,12838,United Kingdom\n536415,22738,RIBBON REEL SNOWY VILLAGE,3,12/1/2010 11:57,1.65,12838,United Kingdom\n536415,22736,RIBBON REEL MAKING SNOWMEN ,3,12/1/2010 11:57,1.65,12838,United Kingdom\n536415,22909,SET OF 20 VINTAGE CHRISTMAS NAPKINS,5,12/1/2010 11:57,0.85,12838,United Kingdom\n536415,35591T,TURQUOISE CHRISTMAS TREE ,2,12/1/2010 11:57,1.25,12838,United Kingdom\n536415,22186,RED STAR CARD HOLDER,5,12/1/2010 11:57,2.95,12838,United Kingdom\n536415,22695,WICKER WREATH SMALL,3,12/1/2010 11:57,1.45,12838,United Kingdom\n536415,22470,HEART OF WICKER LARGE,1,12/1/2010 11:57,2.95,12838,United Kingdom\n536415,22580,ADVENT CALENDAR GINGHAM SACK,1,12/1/2010 11:57,5.95,12838,United Kingdom\n536415,22469,HEART OF WICKER SMALL,5,12/1/2010 11:57,1.65,12838,United Kingdom\n536415,22147,FELTCRAFT BUTTERFLY HEARTS,4,12/1/2010 11:57,1.45,12838,United Kingdom\n536415,22130,PARTY CONE CHRISTMAS DECORATION ,6,12/1/2010 11:57,0.85,12838,United Kingdom\n536415,21791,VINTAGE HEADS AND TAILS CARD GAME ,3,12/1/2010 11:57,1.25,12838,United Kingdom\n536415,22694,WICKER STAR ,5,12/1/2010 11:57,2.1,12838,United Kingdom\n536415,21790,VINTAGE SNAP CARDS,3,12/1/2010 11:57,0.85,12838,United Kingdom\n536415,22149,FELTCRAFT 6 FLOWER FRIENDS,4,12/1/2010 11:57,2.1,12838,United Kingdom\n536415,22900, SET 2 TEA TOWELS I LOVE LONDON ,3,12/1/2010 11:57,2.95,12838,United Kingdom\n536415,22961,JAM MAKING SET PRINTED,3,12/1/2010 11:57,1.45,12838,United Kingdom\n536415,22321,BIRD DECORATION RED RETROSPOT,12,12/1/2010 11:57,0.85,12838,United Kingdom\n536415,22594,CHRISTMAS GINGHAM TREE,5,12/1/2010 11:57,0.85,12838,United Kingdom\n536415,22593,CHRISTMAS GINGHAM STAR,4,12/1/2010 11:57,0.85,12838,United Kingdom\n536415,22595,CHRISTMAS GINGHAM HEART,6,12/1/2010 11:57,0.85,12838,United Kingdom\n536415,21986,PACK OF 12 PINK POLKADOT TISSUES,12,12/1/2010 11:57,0.29,12838,United Kingdom\n536415,22750,FELTCRAFT PRINCESS LOLA DOLL,2,12/1/2010 11:57,3.75,12838,United Kingdom\n536415,22616,PACK OF 12 LONDON TISSUES ,12,12/1/2010 11:57,0.29,12838,United Kingdom\n536415,22775,PURPLE DRAWERKNOB ACRYLIC EDWARDIAN,1,12/1/2010 11:57,1.25,12838,United Kingdom\n536415,22899,CHILDREN'S APRON DOLLY GIRL ,2,12/1/2010 11:57,2.1,12838,United Kingdom\n536415,22367,CHILDRENS APRON SPACEBOY DESIGN,3,12/1/2010 11:57,1.95,12838,United Kingdom\n536415,22942,CHRISTMAS LIGHTS 10 SANTAS ,3,12/1/2010 11:57,8.5,12838,United Kingdom\n536415,22941,CHRISTMAS LIGHTS 10 REINDEER,3,12/1/2010 11:57,8.5,12838,United Kingdom\n536415,22086,PAPER CHAIN KIT 50'S CHRISTMAS ,6,12/1/2010 11:57,2.95,12838,United Kingdom\n536415,22940,FELTCRAFT CHRISTMAS FAIRY,2,12/1/2010 11:57,4.25,12838,United Kingdom\n536415,21212,PACK OF 72 RETROSPOT CAKE CASES,2,12/1/2010 11:57,0.55,12838,United Kingdom\n536415,21976,PACK OF 60 MUSHROOM CAKE CASES,2,12/1/2010 11:57,0.55,12838,United Kingdom\n536415,22951,60 CAKE CASES DOLLY GIRL DESIGN,2,12/1/2010 11:57,0.55,12838,United Kingdom\n536415,21977,PACK OF 60 PINK PAISLEY CAKE CASES,3,12/1/2010 11:57,0.55,12838,United Kingdom\n536415,22834,HAND WARMER BABUSHKA DESIGN,3,12/1/2010 11:57,2.1,12838,United Kingdom\n536415,22867,HAND WARMER BIRD DESIGN,3,12/1/2010 11:57,2.1,12838,United Kingdom\n536415,22865,HAND WARMER OWL DESIGN,3,12/1/2010 11:57,2.1,12838,United Kingdom\n536415,22632,HAND WARMER RED RETROSPOT,3,12/1/2010 11:57,2.1,12838,United Kingdom\n536415,21916,SET 12 RETRO WHITE CHALK STICKS,2,12/1/2010 11:57,0.42,12838,United Kingdom\n536415,22587,FELTCRAFT HAIRBAND RED AND BLUE,4,12/1/2010 11:57,0.85,12838,United Kingdom\n536415,22566,FELTCRAFT HAIRBAND PINK AND PURPLE,3,12/1/2010 11:57,0.85,12838,United Kingdom\n536415,22565,FELTCRAFT HAIRBANDS PINK AND WHITE ,3,12/1/2010 11:57,0.85,12838,United Kingdom\n536415,22472,TV DINNER TRAY DOLLY GIRL,2,12/1/2010 11:57,4.95,12838,United Kingdom\n536415,22557,PLASTERS IN TIN VINTAGE PAISLEY ,3,12/1/2010 11:57,1.65,12838,United Kingdom\n536415,22551,PLASTERS IN TIN SPACEBOY,3,12/1/2010 11:57,1.65,12838,United Kingdom\n536415,22554,PLASTERS IN TIN WOODLAND ANIMALS,3,12/1/2010 11:57,1.65,12838,United Kingdom\n536415,22534,MAGIC DRAWING SLATE SPACEBOY ,3,12/1/2010 11:57,0.42,12838,United Kingdom\n536415,22531,MAGIC DRAWING SLATE CIRCUS PARADE  ,3,12/1/2010 11:57,0.42,12838,United Kingdom\n536415,22529,MAGIC DRAWING SLATE GO TO THE FAIR ,3,12/1/2010 11:57,0.42,12838,United Kingdom\n536415,22530,MAGIC DRAWING SLATE DOLLY GIRL ,3,12/1/2010 11:57,0.42,12838,United Kingdom\n536415,84032B,CHARLIE + LOLA RED HOT WATER BOTTLE,3,12/1/2010 11:57,2.95,12838,United Kingdom\n536415,22837,HOT WATER BOTTLE BABUSHKA ,3,12/1/2010 11:57,4.65,12838,United Kingdom\n536415,85049H,URBAN BLACK RIBBONS ,2,12/1/2010 11:57,1.25,12838,United Kingdom\n536415,22749,FELTCRAFT PRINCESS CHARLOTTE DOLL,2,12/1/2010 11:57,3.75,12838,United Kingdom\n536415,22807,SET OF 6 T-LIGHTS TOADSTOOLS,12,12/1/2010 11:57,2.95,12838,United Kingdom\n536416,21494,ROTATING LEAVES T-LIGHT HOLDER,12,12/1/2010 11:58,1.25,13255,United Kingdom\n536416,21915,RED  HARMONICA IN BOX ,72,12/1/2010 11:58,1.25,13255,United Kingdom\n536416,22938,CUPCAKE LACE PAPER SET 6,12,12/1/2010 11:58,1.95,13255,United Kingdom\n536416,22768,FAMILY PHOTO FRAME CORNICE,4,12/1/2010 11:58,9.95,13255,United Kingdom\n536416,22767,TRIPLE PHOTO FRAME CORNICE ,4,12/1/2010 11:58,9.95,13255,United Kingdom\n536416,82494L,WOODEN FRAME ANTIQUE WHITE ,6,12/1/2010 11:58,2.95,13255,United Kingdom\n536420,21889,WOODEN BOX OF DOMINOES,12,12/1/2010 12:03,1.25,16583,United Kingdom\n536420,21892,TRADITIONAL WOODEN CATCH CUP GAME ,12,12/1/2010 12:03,1.25,16583,United Kingdom\n536420,21891,TRADITIONAL WOODEN SKIPPING ROPE,12,12/1/2010 12:03,1.25,16583,United Kingdom\n536420,21890,S/6 WOODEN SKITTLES IN COTTON BAG,6,12/1/2010 12:03,2.95,16583,United Kingdom\n536420,21718,RED METAL BEACH SPADE ,12,12/1/2010 12:03,1.25,16583,United Kingdom\n536420,21716,BOYS VINTAGE TIN SEASIDE BUCKET,8,12/1/2010 12:03,2.55,16583,United Kingdom\n536420,21715,GIRLS VINTAGE TIN SEASIDE BUCKET,8,12/1/2010 12:03,2.55,16583,United Kingdom\n536420,22113,GREY HEART HOT WATER BOTTLE,4,12/1/2010 12:03,3.75,16583,United Kingdom\n536420,22111,SCOTTIE DOG HOT WATER BOTTLE,3,12/1/2010 12:03,4.95,16583,United Kingdom\n536420,22110,BIRD HOUSE HOT WATER BOTTLE,6,12/1/2010 12:03,2.55,16583,United Kingdom\n536420,22358,KINGS CHOICE TEA CADDY ,6,12/1/2010 12:03,2.95,16583,United Kingdom\n536420,22357,KINGS CHOICE BISCUIT TIN,4,12/1/2010 12:03,4.25,16583,United Kingdom\n536420,22115,METAL SIGN EMPIRE TEA,6,12/1/2010 12:03,2.95,16583,United Kingdom\n536420,22969,HOMEMADE JAM SCENTED CANDLES,12,12/1/2010 12:03,1.45,16583,United Kingdom\n536423,22619,SET OF 6 SOLDIER SKITTLES,4,12/1/2010 12:08,3.75,18085,United Kingdom\n536423,21481,FAWN BLUE HOT WATER BOTTLE,6,12/1/2010 12:08,2.95,18085,United Kingdom\n536423,22632,HAND WARMER RED RETROSPOT,12,12/1/2010 12:08,2.1,18085,United Kingdom\n536423,22837,HOT WATER BOTTLE BABUSHKA ,8,12/1/2010 12:08,4.65,18085,United Kingdom\n536423,21479,WHITE SKULL HOT WATER BOTTLE ,8,12/1/2010 12:08,3.75,18085,United Kingdom\n536423,21485,RETROSPOT HEART HOT WATER BOTTLE,8,12/1/2010 12:08,4.95,18085,United Kingdom\n536423,84029E,RED WOOLLY HOTTIE WHITE HEART.,8,12/1/2010 12:08,3.75,18085,United Kingdom\n536423,22111,SCOTTIE DOG HOT WATER BOTTLE,16,12/1/2010 12:08,4.95,18085,United Kingdom\n536423,22113,GREY HEART HOT WATER BOTTLE,8,12/1/2010 12:08,3.75,18085,United Kingdom\n536425,22837,HOT WATER BOTTLE BABUSHKA ,8,12/1/2010 12:08,4.65,13758,United Kingdom\n536425,22585,PACK OF 6 BIRDY GIFT TAGS,12,12/1/2010 12:08,1.25,13758,United Kingdom\n536425,79321,CHILLI LIGHTS,8,12/1/2010 12:08,4.95,13758,United Kingdom\n536425,22637,PIGGY BANK RETROSPOT ,12,12/1/2010 12:08,2.55,13758,United Kingdom\n536425,21556,CERAMIC STRAWBERRY MONEY BOX,6,12/1/2010 12:08,2.55,13758,United Kingdom\n536425,22646,CERAMIC STRAWBERRY CAKE MONEY BANK,12,12/1/2010 12:08,1.45,13758,United Kingdom\n536425,22644,CERAMIC CHERRY CAKE MONEY BANK,12,12/1/2010 12:08,1.45,13758,United Kingdom\n536425,22645,CERAMIC HEART FAIRY CAKE MONEY BANK,12,12/1/2010 12:08,1.45,13758,United Kingdom\n536425,22650,CERAMIC PIRATE CHEST MONEY BANK,12,12/1/2010 12:08,1.45,13758,United Kingdom\n536425,22508,DOORSTOP RETROSPOT HEART,8,12/1/2010 12:08,3.75,13758,United Kingdom\n536425,21411,GINGHAM HEART  DOORSTOP RED,3,12/1/2010 12:08,4.25,13758,United Kingdom\n536425,22511,RETROSPOT BABUSHKA DOORSTOP,4,12/1/2010 12:08,3.75,13758,United Kingdom\n536425,22451,SILK PURSE BABUSHKA RED,6,12/1/2010 12:08,3.35,13758,United Kingdom\n536425,22449,SILK PURSE BABUSHKA PINK,6,12/1/2010 12:08,3.35,13758,United Kingdom\n536425,22768,FAMILY PHOTO FRAME CORNICE,2,12/1/2010 12:08,9.95,13758,United Kingdom\n536425,22829,SWEETHEART WIRE WALL TIDY,2,12/1/2010 12:08,9.95,13758,United Kingdom\n536425,22961,JAM MAKING SET PRINTED,12,12/1/2010 12:08,1.45,13758,United Kingdom\n536437,21154,RED RETROSPOT OVEN GLOVE ,200,12/1/2010 12:12,1.06,13694,United Kingdom\n536437,22189,CREAM HEART CARD HOLDER,72,12/1/2010 12:12,3.39,13694,United Kingdom\n536437,17021,NAMASTE SWAGAT INCENSE,600,12/1/2010 12:12,0.24,13694,United Kingdom\n536437,22059,CERAMIC STRAWBERRY DESIGN MUG,48,12/1/2010 12:12,1.25,13694,United Kingdom\n536437,22188,BLACK HEART CARD HOLDER,36,12/1/2010 12:12,3.39,13694,United Kingdom\n536437,84678,CLASSICAL ROSE SMALL VASE,48,12/1/2010 12:12,1.25,13694,United Kingdom\n536446,85172,HYACINTH BULB T-LIGHT CANDLES,32,12/1/2010 12:15,0.42,15983,United Kingdom\n536446,22142,CHRISTMAS CRAFT WHITE FAIRY ,2,12/1/2010 12:15,1.45,15983,United Kingdom\n536446,22144,CHRISTMAS CRAFT LITTLE FRIENDS,2,12/1/2010 12:15,2.1,15983,United Kingdom\n536446,21591,COSY HOUR CIGAR BOX MATCHES ,6,12/1/2010 12:15,1.25,15983,United Kingdom\n536446,22480,RED TEA TOWEL CLASSIC DESIGN,12,12/1/2010 12:15,1.25,15983,United Kingdom\n536446,22294,HEART FILIGREE DOVE  SMALL,48,12/1/2010 12:15,1.25,15983,United Kingdom\n536446,21156,RETROSPOT CHILDRENS APRON,1,12/1/2010 12:15,1.95,15983,United Kingdom\n536446,10133,COLOURING PENCILS BROWN TUBE,5,12/1/2010 12:15,0.85,15983,United Kingdom\n536446,72800E,4 IVORY DINNER CANDLES SILVER FLOCK,6,12/1/2010 12:15,2.55,15983,United Kingdom\n536446,22294,HEART FILIGREE DOVE  SMALL,24,12/1/2010 12:15,1.25,15983,United Kingdom\n536446,84836,ZINC METAL HEART DECORATION,12,12/1/2010 12:15,1.25,15983,United Kingdom\n536446,20774,GREEN FERN NOTEBOOK,2,12/1/2010 12:15,1.65,15983,United Kingdom\n536446,20773,BLUE PAISLEY NOTEBOOK,2,12/1/2010 12:15,1.65,15983,United Kingdom\n536446,20777,CHRYSANTHEMUM NOTEBOOK,2,12/1/2010 12:15,1.65,15983,United Kingdom\n536446,16016,LARGE CHINESE STYLE SCISSOR,10,12/1/2010 12:15,0.85,15983,United Kingdom\n536446,16014,SMALL CHINESE STYLE SCISSOR,10,12/1/2010 12:15,0.42,15983,United Kingdom\n536446,21890,S/6 WOODEN SKITTLES IN COTTON BAG,2,12/1/2010 12:15,2.95,15983,United Kingdom\n536446,21891,TRADITIONAL WOODEN SKIPPING ROPE,2,12/1/2010 12:15,1.25,15983,United Kingdom\n536446,22619,SET OF 6 SOLDIER SKITTLES,8,12/1/2010 12:15,3.75,15983,United Kingdom\n536446,22620,4 TRADITIONAL SPINNING TOPS,6,12/1/2010 12:15,1.25,15983,United Kingdom\n536446,84347,ROTATING SILVER ANGELS T-LIGHT HLDR,12,12/1/2010 12:15,2.55,15983,United Kingdom\n536446,85169B,BLACK LOVE BIRD CANDLE,24,12/1/2010 12:15,1.25,15983,United Kingdom\n536446,21156,RETROSPOT CHILDRENS APRON,3,12/1/2010 12:15,1.95,15983,United Kingdom\n536446,21651,HANGING GLASS ETCHED TEALIGHT,6,12/1/2010 12:15,1.65,15983,United Kingdom\n536446,21651,HANGING GLASS ETCHED TEALIGHT,6,12/1/2010 12:15,1.65,15983,United Kingdom\n536446,84625C,BLUE NEW BAROQUE CANDLESTICK CANDLE,10,12/1/2010 12:15,2.95,15983,United Kingdom\n536446,22618,COOKING SET RETROSPOT,2,12/1/2010 12:15,9.95,15983,United Kingdom\n536446,21586,KINGS CHOICE GIANT TUBE MATCHES,4,12/1/2010 12:15,2.55,15983,United Kingdom\n536446,21587,COSY HOUR GIANT TUBE MATCHES,4,12/1/2010 12:15,2.55,15983,United Kingdom\n536446,22152,PLACE SETTING WHITE STAR,24,12/1/2010 12:15,0.42,15983,United Kingdom\n536446,85172,HYACINTH BULB T-LIGHT CANDLES,16,12/1/2010 12:15,0.42,15983,United Kingdom\n536446,84754,S/15 SILVER GLASS BAUBLES IN BAG,24,12/1/2010 12:15,1.25,15983,United Kingdom\n536460,22670,FRENCH WC SIGN BLUE METAL,12,12/1/2010 12:22,1.25,14849,United Kingdom\n536460,21586,KINGS CHOICE GIANT TUBE MATCHES,12,12/1/2010 12:22,2.55,14849,United Kingdom\n536460,84992,72 SWEETHEART FAIRY CAKE CASES,24,12/1/2010 12:22,0.55,14849,United Kingdom\n536460,84879,ASSORTED COLOUR BIRD ORNAMENT,24,12/1/2010 12:22,1.69,14849,United Kingdom\n536460,84849B,FAIRY SOAP SOAP HOLDER,12,12/1/2010 12:22,1.69,14849,United Kingdom\n536460,22927,GREEN GIAN</div>",
       "datasetInfos": [],
       "metadata": {},
       "removedWidgets": [],
       "type": "html"
      }
     },
     "output_type": "display_data"
    }
   ],
   "source": [
    "%fs\n",
    "head /databricks-datasets/definitive-guide/data/retail-data/all/online-retail-dataset.csv"
   ]
  },
  {
   "cell_type": "code",
   "execution_count": 0,
   "metadata": {
    "application/vnd.databricks.v1+cell": {
     "cellMetadata": {
      "byteLimit": 2048000,
      "implicitDf": true,
      "rowLimit": 10000
     },
     "inputWidgets": {},
     "nuid": "fae1a551-ec49-420a-8489-6a85e5e6a72d",
     "showTitle": false,
     "tableResultSettingsMap": {},
     "title": ""
    }
   },
   "outputs": [
    {
     "output_type": "display_data",
     "data": {
      "text/html": [
       "<style scoped>\n",
       "  .table-result-container {\n",
       "    max-height: 300px;\n",
       "    overflow: auto;\n",
       "  }\n",
       "  table, th, td {\n",
       "    border: 1px solid black;\n",
       "    border-collapse: collapse;\n",
       "  }\n",
       "  th, td {\n",
       "    padding: 5px;\n",
       "  }\n",
       "  th {\n",
       "    text-align: left;\n",
       "  }\n",
       "</style><div class='table-result-container'><table class='table-result'><thead style='background-color: white'><tr><th>count(1)</th></tr></thead><tbody><tr><td>541909</td></tr></tbody></table></div>"
      ]
     },
     "metadata": {
      "application/vnd.databricks.v1+output": {
       "addedWidgets": {},
       "aggData": [],
       "aggError": "",
       "aggOverflow": false,
       "aggSchema": [],
       "aggSeriesLimitReached": false,
       "aggType": "",
       "arguments": {},
       "columnCustomDisplayInfos": {},
       "data": [
        [
         541909
        ]
       ],
       "datasetInfos": [],
       "dbfsResultPath": null,
       "isJsonSchema": true,
       "metadata": {
        "createTempViewForImplicitDf": true,
        "dataframeName": "_sqldf",
        "executionCount": 5
       },
       "overflow": false,
       "plotOptions": {
        "customPlotOptions": {},
        "displayType": "table",
        "pivotAggregation": null,
        "pivotColumns": null,
        "xColumns": null,
        "yColumns": null
       },
       "removedWidgets": [],
       "schema": [
        {
         "metadata": "{\"__autoGeneratedAlias\":\"true\"}",
         "name": "count(1)",
         "type": "\"long\""
        }
       ],
       "type": "table"
      }
     },
     "output_type": "display_data"
    }
   ],
   "source": [
    "%sql\n",
    "select count(*) from \n",
    "read_files(\"/databricks-datasets/definitive-guide/data/retail-data/all/online-retail-dataset.csv\",\n",
    "header => True)"
   ]
  },
  {
   "cell_type": "code",
   "execution_count": 0,
   "metadata": {
    "application/vnd.databricks.v1+cell": {
     "cellMetadata": {
      "byteLimit": 2048000,
      "rowLimit": 10000
     },
     "inputWidgets": {},
     "nuid": "80be96ac-f93b-4057-bae9-85d972bcc95e",
     "showTitle": false,
     "tableResultSettingsMap": {},
     "title": ""
    }
   },
   "outputs": [],
   "source": [
    "reatil_df = spark.read.format(\"csv\").option(\"header\",True).option(\"inferSchema\", True).load(\"/databricks-datasets/definitive-guide/data/retail-data/all/online-retail-dataset.csv\")\n",
    "\n",
    "# .option(\"path\",\"/mydata/retail_1\").saveAsTable(\"qbex.retail_1\")"
   ]
  },
  {
   "cell_type": "code",
   "execution_count": 0,
   "metadata": {
    "application/vnd.databricks.v1+cell": {
     "cellMetadata": {
      "byteLimit": 2048000,
      "rowLimit": 10000
     },
     "inputWidgets": {},
     "nuid": "4d8e2212-38d6-43d1-b943-943c3a8bfadd",
     "showTitle": false,
     "tableResultSettingsMap": {},
     "title": ""
    }
   },
   "outputs": [
    {
     "output_type": "execute_result",
     "data": {
      "text/plain": [
       "8"
      ]
     },
     "execution_count": 8,
     "metadata": {},
     "output_type": "execute_result"
    }
   ],
   "source": [
    "# display(reatil_df)\n",
    "reatil_df.rdd.getNumPartitions()"
   ]
  },
  {
   "cell_type": "code",
   "execution_count": 0,
   "metadata": {
    "application/vnd.databricks.v1+cell": {
     "cellMetadata": {
      "byteLimit": 2048000,
      "implicitDf": true,
      "rowLimit": 10000
     },
     "inputWidgets": {},
     "nuid": "a7c61b63-6408-45ab-84fd-5c2f34a1cf50",
     "showTitle": false,
     "tableResultSettingsMap": {},
     "title": ""
    }
   },
   "outputs": [
    {
     "output_type": "display_data",
     "data": {
      "text/plain": [
       "org.apache.spark.sql.catalyst.analysis.NamespaceAlreadyExistsException: [SCHEMA_ALREADY_EXISTS] Cannot create schema `qbex` because it already exists.\n",
       "Choose a different name, drop the existing schema, or add the IF NOT EXISTS clause to tolerate pre-existing schema. SQLSTATE: 42P06\n",
       "\tat org.apache.spark.sql.errors.QueryCompilationErrors$.namespaceAlreadyExistsError(QueryCompilationErrors.scala:1905)\n",
       "\tat org.apache.spark.sql.execution.datasources.v2.CreateNamespaceExec.run(CreateNamespaceExec.scala:56)\n",
       "\tat org.apache.spark.sql.execution.datasources.v2.V2CommandExec.$anonfun$result$2(V2CommandExec.scala:48)\n",
       "\tat org.apache.spark.sql.execution.SparkPlan.runCommandWithAetherOff(SparkPlan.scala:180)\n",
       "\tat org.apache.spark.sql.execution.SparkPlan.runCommandInAetherOrSpark(SparkPlan.scala:191)\n",
       "\tat org.apache.spark.sql.execution.datasources.v2.V2CommandExec.$anonfun$result$1(V2CommandExec.scala:48)\n",
       "\tat com.databricks.spark.util.FrameProfiler$.record(FrameProfiler.scala:94)\n",
       "\tat org.apache.spark.sql.execution.datasources.v2.V2CommandExec.result$lzycompute(V2CommandExec.scala:47)\n",
       "\tat org.apache.spark.sql.execution.datasources.v2.V2CommandExec.result(V2CommandExec.scala:45)\n",
       "\tat org.apache.spark.sql.execution.datasources.v2.V2CommandExec.executeCollect(V2CommandExec.scala:56)\n",
       "\tat org.apache.spark.sql.execution.QueryExecution$$anonfun$$nestedInanonfun$eagerlyExecuteCommands$1$1.$anonfun$applyOrElse$5(QueryExecution.scala:385)\n",
       "\tat com.databricks.util.LexicalThreadLocal$Handle.runWith(LexicalThreadLocal.scala:63)\n",
       "\tat org.apache.spark.sql.execution.QueryExecution$$anonfun$$nestedInanonfun$eagerlyExecuteCommands$1$1.$anonfun$applyOrElse$4(QueryExecution.scala:385)\n",
       "\tat org.apache.spark.sql.catalyst.QueryPlanningTracker$.withTracker(QueryPlanningTracker.scala:182)\n",
       "\tat org.apache.spark.sql.execution.QueryExecution$$anonfun$$nestedInanonfun$eagerlyExecuteCommands$1$1.$anonfun$applyOrElse$3(QueryExecution.scala:385)\n",
       "\tat org.apache.spark.sql.execution.SQLExecution$.$anonfun$withNewExecutionId0$10(SQLExecution.scala:462)\n",
       "\tat org.apache.spark.sql.execution.SQLExecution$.withSQLConfPropagated(SQLExecution.scala:800)\n",
       "\tat org.apache.spark.sql.execution.SQLExecution$.$anonfun$withNewExecutionId0$1(SQLExecution.scala:334)\n",
       "\tat org.apache.spark.sql.SparkSession.withActive(SparkSession.scala:1180)\n",
       "\tat org.apache.spark.sql.execution.SQLExecution$.withNewExecutionId0(SQLExecution.scala:205)\n",
       "\tat org.apache.spark.sql.execution.SQLExecution$.withNewExecutionId(SQLExecution.scala:737)\n",
       "\tat org.apache.spark.sql.execution.QueryExecution$$anonfun$$nestedInanonfun$eagerlyExecuteCommands$1$1.$anonfun$applyOrElse$2(QueryExecution.scala:381)\n",
       "\tat org.apache.spark.sql.execution.QueryExecution$.withInternalError(QueryExecution.scala:1179)\n",
       "\tat org.apache.spark.sql.execution.QueryExecution$$anonfun$$nestedInanonfun$eagerlyExecuteCommands$1$1.$anonfun$applyOrElse$1(QueryExecution.scala:377)\n",
       "\tat org.apache.spark.sql.execution.QueryExecution.org$apache$spark$sql$execution$QueryExecution$$withMVTagsIfNecessary(QueryExecution.scala:327)\n",
       "\tat org.apache.spark.sql.execution.QueryExecution$$anonfun$$nestedInanonfun$eagerlyExecuteCommands$1$1.applyOrElse(QueryExecution.scala:374)\n",
       "\tat org.apache.spark.sql.execution.QueryExecution$$anonfun$$nestedInanonfun$eagerlyExecuteCommands$1$1.applyOrElse(QueryExecution.scala:349)\n",
       "\tat org.apache.spark.sql.catalyst.trees.TreeNode.$anonfun$transformDownWithPruning$1(TreeNode.scala:505)\n",
       "\tat org.apache.spark.sql.catalyst.trees.CurrentOrigin$.withOrigin(origin.scala:85)\n",
       "\tat org.apache.spark.sql.catalyst.trees.TreeNode.transformDownWithPruning(TreeNode.scala:505)\n",
       "\tat org.apache.spark.sql.catalyst.plans.logical.LogicalPlan.org$apache$spark$sql$catalyst$plans$logical$AnalysisHelper$$super$transformDownWithPruning(LogicalPlan.scala:40)\n",
       "\tat org.apache.spark.sql.catalyst.plans.logical.AnalysisHelper.transformDownWithPruning(AnalysisHelper.scala:379)\n",
       "\tat org.apache.spark.sql.catalyst.plans.logical.AnalysisHelper.transformDownWithPruning$(AnalysisHelper.scala:375)\n",
       "\tat org.apache.spark.sql.catalyst.plans.logical.LogicalPlan.transformDownWithPruning(LogicalPlan.scala:40)\n",
       "\tat org.apache.spark.sql.catalyst.plans.logical.LogicalPlan.transformDownWithPruning(LogicalPlan.scala:40)\n",
       "\tat org.apache.spark.sql.catalyst.trees.TreeNode.transformDown(TreeNode.scala:481)\n",
       "\tat org.apache.spark.sql.execution.QueryExecution.$anonfun$eagerlyExecuteCommands$1(QueryExecution.scala:349)\n",
       "\tat org.apache.spark.sql.catalyst.plans.logical.AnalysisHelper$.allowInvokingTransformsInAnalyzer(AnalysisHelper.scala:436)\n",
       "\tat org.apache.spark.sql.execution.QueryExecution.eagerlyExecuteCommands(QueryExecution.scala:349)\n",
       "\tat org.apache.spark.sql.execution.QueryExecution.commandExecuted$lzycompute(QueryExecution.scala:286)\n",
       "\tat org.apache.spark.sql.execution.QueryExecution.commandExecuted(QueryExecution.scala:283)\n",
       "\tat org.apache.spark.sql.Dataset.<init>(Dataset.scala:343)\n",
       "\tat org.apache.spark.sql.Dataset$.$anonfun$ofRows$2(Dataset.scala:131)\n",
       "\tat org.apache.spark.sql.SparkSession.withActive(SparkSession.scala:1180)\n",
       "\tat org.apache.spark.sql.SparkSession.$anonfun$withActiveAndFrameProfiler$1(SparkSession.scala:1187)\n",
       "\tat com.databricks.spark.util.FrameProfiler$.record(FrameProfiler.scala:94)\n",
       "\tat org.apache.spark.sql.SparkSession.withActiveAndFrameProfiler(SparkSession.scala:1187)\n",
       "\tat org.apache.spark.sql.Dataset$.ofRows(Dataset.scala:122)\n",
       "\tat org.apache.spark.sql.SparkSession.$anonfun$sql$4(SparkSession.scala:959)\n",
       "\tat org.apache.spark.sql.SparkSession.withActive(SparkSession.scala:1180)\n",
       "\tat org.apache.spark.sql.SparkSession.sql(SparkSession.scala:947)\n",
       "\tat org.apache.spark.sql.SparkSession.sql(SparkSession.scala:982)\n",
       "\tat com.databricks.backend.daemon.driver.DriverLocal$DbClassicStrategy.executeSQLQuery(DriverLocal.scala:301)\n",
       "\tat com.databricks.backend.daemon.driver.DriverLocal.executeSQLSubCommand(DriverLocal.scala:401)\n",
       "\tat com.databricks.backend.daemon.driver.DriverLocal.$anonfun$executeSql$1(DriverLocal.scala:423)\n",
       "\tat scala.collection.immutable.List.map(List.scala:293)\n",
       "\tat com.databricks.backend.daemon.driver.DriverLocal.executeSql(DriverLocal.scala:418)\n",
       "\tat com.databricks.backend.daemon.driver.JupyterDriverLocal.repl(JupyterDriverLocal.scala:1054)\n",
       "\tat com.databricks.backend.daemon.driver.DriverLocal.$anonfun$execute$33(DriverLocal.scala:1172)\n",
       "\tat com.databricks.unity.EmptyHandle$.runWith(UCSHandle.scala:133)\n",
       "\tat com.databricks.backend.daemon.driver.DriverLocal.$anonfun$execute$28(DriverLocal.scala:1163)\n",
       "\tat com.databricks.logging.AttributionContextTracing.$anonfun$withAttributionContext$1(AttributionContextTracing.scala:48)\n",
       "\tat com.databricks.logging.AttributionContext$.$anonfun$withValue$1(AttributionContext.scala:276)\n",
       "\tat scala.util.DynamicVariable.withValue(DynamicVariable.scala:62)\n",
       "\tat com.databricks.logging.AttributionContext$.withValue(AttributionContext.scala:272)\n",
       "\tat com.databricks.logging.AttributionContextTracing.withAttributionContext(AttributionContextTracing.scala:46)\n",
       "\tat com.databricks.logging.AttributionContextTracing.withAttributionContext$(AttributionContextTracing.scala:43)\n",
       "\tat com.databricks.backend.daemon.driver.DriverLocal.withAttributionContext(DriverLocal.scala:96)\n",
       "\tat com.databricks.logging.AttributionContextTracing.withAttributionTags(AttributionContextTracing.scala:95)\n",
       "\tat com.databricks.logging.AttributionContextTracing.withAttributionTags$(AttributionContextTracing.scala:76)\n",
       "\tat com.databricks.backend.daemon.driver.DriverLocal.withAttributionTags(DriverLocal.scala:96)\n",
       "\tat com.databricks.backend.daemon.driver.DriverLocal.$anonfun$execute$1(DriverLocal.scala:1099)\n",
       "\tat com.databricks.backend.daemon.driver.DriverLocal$.$anonfun$maybeSynchronizeExecution$4(DriverLocal.scala:1519)\n",
       "\tat com.databricks.backend.daemon.driver.DriverLocal.execute(DriverLocal.scala:776)\n",
       "\tat com.databricks.backend.daemon.driver.DriverWrapper.$anonfun$tryExecutingCommand$2(DriverWrapper.scala:932)\n",
       "\tat scala.util.Try$.apply(Try.scala:213)\n",
       "\tat com.databricks.backend.daemon.driver.DriverWrapper.$anonfun$tryExecutingCommand$1(DriverWrapper.scala:921)\n",
       "\tat com.databricks.backend.daemon.driver.DriverWrapper.tryExecutingCommand(DriverWrapper.scala:953)\n",
       "\tat com.databricks.backend.daemon.driver.DriverWrapper.executeCommandAndGetError(DriverWrapper.scala:717)\n",
       "\tat com.databricks.backend.daemon.driver.DriverWrapper.executeCommand(DriverWrapper.scala:785)\n",
       "\tat com.databricks.backend.daemon.driver.DriverWrapper.runInnerLoop(DriverWrapper.scala:586)\n",
       "\tat com.databricks.backend.daemon.driver.DriverWrapper.runInner(DriverWrapper.scala:512)\n",
       "\tat com.databricks.backend.daemon.driver.DriverWrapper.run(DriverWrapper.scala:306)\n",
       "\tat java.lang.Thread.run(Thread.java:750)\n"
      ]
     },
     "metadata": {
      "application/vnd.databricks.v1+output": {
       "addedWidgets": {},
       "arguments": {},
       "datasetInfos": [],
       "jupyterProps": null,
       "metadata": {
        "errorSummary": "[SCHEMA_ALREADY_EXISTS] Cannot create schema `qbex` because it already exists.\nChoose a different name, drop the existing schema, or add the IF NOT EXISTS clause to tolerate pre-existing schema. SQLSTATE: 42P06"
       },
       "removedWidgets": [],
       "sqlProps": {
        "errorClass": "SCHEMA_ALREADY_EXISTS",
        "pysparkCallSite": null,
        "pysparkFragment": null,
        "sqlState": "42P06",
        "stackTrace": null,
        "startIndex": null,
        "stopIndex": null
       },
       "stackFrames": [
        "org.apache.spark.sql.catalyst.analysis.NamespaceAlreadyExistsException: [SCHEMA_ALREADY_EXISTS] Cannot create schema `qbex` because it already exists.\nChoose a different name, drop the existing schema, or add the IF NOT EXISTS clause to tolerate pre-existing schema. SQLSTATE: 42P06\n\tat org.apache.spark.sql.errors.QueryCompilationErrors$.namespaceAlreadyExistsError(QueryCompilationErrors.scala:1905)\n\tat org.apache.spark.sql.execution.datasources.v2.CreateNamespaceExec.run(CreateNamespaceExec.scala:56)\n\tat org.apache.spark.sql.execution.datasources.v2.V2CommandExec.$anonfun$result$2(V2CommandExec.scala:48)\n\tat org.apache.spark.sql.execution.SparkPlan.runCommandWithAetherOff(SparkPlan.scala:180)\n\tat org.apache.spark.sql.execution.SparkPlan.runCommandInAetherOrSpark(SparkPlan.scala:191)\n\tat org.apache.spark.sql.execution.datasources.v2.V2CommandExec.$anonfun$result$1(V2CommandExec.scala:48)\n\tat com.databricks.spark.util.FrameProfiler$.record(FrameProfiler.scala:94)\n\tat org.apache.spark.sql.execution.datasources.v2.V2CommandExec.result$lzycompute(V2CommandExec.scala:47)\n\tat org.apache.spark.sql.execution.datasources.v2.V2CommandExec.result(V2CommandExec.scala:45)\n\tat org.apache.spark.sql.execution.datasources.v2.V2CommandExec.executeCollect(V2CommandExec.scala:56)\n\tat org.apache.spark.sql.execution.QueryExecution$$anonfun$$nestedInanonfun$eagerlyExecuteCommands$1$1.$anonfun$applyOrElse$5(QueryExecution.scala:385)\n\tat com.databricks.util.LexicalThreadLocal$Handle.runWith(LexicalThreadLocal.scala:63)\n\tat org.apache.spark.sql.execution.QueryExecution$$anonfun$$nestedInanonfun$eagerlyExecuteCommands$1$1.$anonfun$applyOrElse$4(QueryExecution.scala:385)\n\tat org.apache.spark.sql.catalyst.QueryPlanningTracker$.withTracker(QueryPlanningTracker.scala:182)\n\tat org.apache.spark.sql.execution.QueryExecution$$anonfun$$nestedInanonfun$eagerlyExecuteCommands$1$1.$anonfun$applyOrElse$3(QueryExecution.scala:385)\n\tat org.apache.spark.sql.execution.SQLExecution$.$anonfun$withNewExecutionId0$10(SQLExecution.scala:462)\n\tat org.apache.spark.sql.execution.SQLExecution$.withSQLConfPropagated(SQLExecution.scala:800)\n\tat org.apache.spark.sql.execution.SQLExecution$.$anonfun$withNewExecutionId0$1(SQLExecution.scala:334)\n\tat org.apache.spark.sql.SparkSession.withActive(SparkSession.scala:1180)\n\tat org.apache.spark.sql.execution.SQLExecution$.withNewExecutionId0(SQLExecution.scala:205)\n\tat org.apache.spark.sql.execution.SQLExecution$.withNewExecutionId(SQLExecution.scala:737)\n\tat org.apache.spark.sql.execution.QueryExecution$$anonfun$$nestedInanonfun$eagerlyExecuteCommands$1$1.$anonfun$applyOrElse$2(QueryExecution.scala:381)\n\tat org.apache.spark.sql.execution.QueryExecution$.withInternalError(QueryExecution.scala:1179)\n\tat org.apache.spark.sql.execution.QueryExecution$$anonfun$$nestedInanonfun$eagerlyExecuteCommands$1$1.$anonfun$applyOrElse$1(QueryExecution.scala:377)\n\tat org.apache.spark.sql.execution.QueryExecution.org$apache$spark$sql$execution$QueryExecution$$withMVTagsIfNecessary(QueryExecution.scala:327)\n\tat org.apache.spark.sql.execution.QueryExecution$$anonfun$$nestedInanonfun$eagerlyExecuteCommands$1$1.applyOrElse(QueryExecution.scala:374)\n\tat org.apache.spark.sql.execution.QueryExecution$$anonfun$$nestedInanonfun$eagerlyExecuteCommands$1$1.applyOrElse(QueryExecution.scala:349)\n\tat org.apache.spark.sql.catalyst.trees.TreeNode.$anonfun$transformDownWithPruning$1(TreeNode.scala:505)\n\tat org.apache.spark.sql.catalyst.trees.CurrentOrigin$.withOrigin(origin.scala:85)\n\tat org.apache.spark.sql.catalyst.trees.TreeNode.transformDownWithPruning(TreeNode.scala:505)\n\tat org.apache.spark.sql.catalyst.plans.logical.LogicalPlan.org$apache$spark$sql$catalyst$plans$logical$AnalysisHelper$$super$transformDownWithPruning(LogicalPlan.scala:40)\n\tat org.apache.spark.sql.catalyst.plans.logical.AnalysisHelper.transformDownWithPruning(AnalysisHelper.scala:379)\n\tat org.apache.spark.sql.catalyst.plans.logical.AnalysisHelper.transformDownWithPruning$(AnalysisHelper.scala:375)\n\tat org.apache.spark.sql.catalyst.plans.logical.LogicalPlan.transformDownWithPruning(LogicalPlan.scala:40)\n\tat org.apache.spark.sql.catalyst.plans.logical.LogicalPlan.transformDownWithPruning(LogicalPlan.scala:40)\n\tat org.apache.spark.sql.catalyst.trees.TreeNode.transformDown(TreeNode.scala:481)\n\tat org.apache.spark.sql.execution.QueryExecution.$anonfun$eagerlyExecuteCommands$1(QueryExecution.scala:349)\n\tat org.apache.spark.sql.catalyst.plans.logical.AnalysisHelper$.allowInvokingTransformsInAnalyzer(AnalysisHelper.scala:436)\n\tat org.apache.spark.sql.execution.QueryExecution.eagerlyExecuteCommands(QueryExecution.scala:349)\n\tat org.apache.spark.sql.execution.QueryExecution.commandExecuted$lzycompute(QueryExecution.scala:286)\n\tat org.apache.spark.sql.execution.QueryExecution.commandExecuted(QueryExecution.scala:283)\n\tat org.apache.spark.sql.Dataset.<init>(Dataset.scala:343)\n\tat org.apache.spark.sql.Dataset$.$anonfun$ofRows$2(Dataset.scala:131)\n\tat org.apache.spark.sql.SparkSession.withActive(SparkSession.scala:1180)\n\tat org.apache.spark.sql.SparkSession.$anonfun$withActiveAndFrameProfiler$1(SparkSession.scala:1187)\n\tat com.databricks.spark.util.FrameProfiler$.record(FrameProfiler.scala:94)\n\tat org.apache.spark.sql.SparkSession.withActiveAndFrameProfiler(SparkSession.scala:1187)\n\tat org.apache.spark.sql.Dataset$.ofRows(Dataset.scala:122)\n\tat org.apache.spark.sql.SparkSession.$anonfun$sql$4(SparkSession.scala:959)\n\tat org.apache.spark.sql.SparkSession.withActive(SparkSession.scala:1180)\n\tat org.apache.spark.sql.SparkSession.sql(SparkSession.scala:947)\n\tat org.apache.spark.sql.SparkSession.sql(SparkSession.scala:982)\n\tat com.databricks.backend.daemon.driver.DriverLocal$DbClassicStrategy.executeSQLQuery(DriverLocal.scala:301)\n\tat com.databricks.backend.daemon.driver.DriverLocal.executeSQLSubCommand(DriverLocal.scala:401)\n\tat com.databricks.backend.daemon.driver.DriverLocal.$anonfun$executeSql$1(DriverLocal.scala:423)\n\tat scala.collection.immutable.List.map(List.scala:293)\n\tat com.databricks.backend.daemon.driver.DriverLocal.executeSql(DriverLocal.scala:418)\n\tat com.databricks.backend.daemon.driver.JupyterDriverLocal.repl(JupyterDriverLocal.scala:1054)\n\tat com.databricks.backend.daemon.driver.DriverLocal.$anonfun$execute$33(DriverLocal.scala:1172)\n\tat com.databricks.unity.EmptyHandle$.runWith(UCSHandle.scala:133)\n\tat com.databricks.backend.daemon.driver.DriverLocal.$anonfun$execute$28(DriverLocal.scala:1163)\n\tat com.databricks.logging.AttributionContextTracing.$anonfun$withAttributionContext$1(AttributionContextTracing.scala:48)\n\tat com.databricks.logging.AttributionContext$.$anonfun$withValue$1(AttributionContext.scala:276)\n\tat scala.util.DynamicVariable.withValue(DynamicVariable.scala:62)\n\tat com.databricks.logging.AttributionContext$.withValue(AttributionContext.scala:272)\n\tat com.databricks.logging.AttributionContextTracing.withAttributionContext(AttributionContextTracing.scala:46)\n\tat com.databricks.logging.AttributionContextTracing.withAttributionContext$(AttributionContextTracing.scala:43)\n\tat com.databricks.backend.daemon.driver.DriverLocal.withAttributionContext(DriverLocal.scala:96)\n\tat com.databricks.logging.AttributionContextTracing.withAttributionTags(AttributionContextTracing.scala:95)\n\tat com.databricks.logging.AttributionContextTracing.withAttributionTags$(AttributionContextTracing.scala:76)\n\tat com.databricks.backend.daemon.driver.DriverLocal.withAttributionTags(DriverLocal.scala:96)\n\tat com.databricks.backend.daemon.driver.DriverLocal.$anonfun$execute$1(DriverLocal.scala:1099)\n\tat com.databricks.backend.daemon.driver.DriverLocal$.$anonfun$maybeSynchronizeExecution$4(DriverLocal.scala:1519)\n\tat com.databricks.backend.daemon.driver.DriverLocal.execute(DriverLocal.scala:776)\n\tat com.databricks.backend.daemon.driver.DriverWrapper.$anonfun$tryExecutingCommand$2(DriverWrapper.scala:932)\n\tat scala.util.Try$.apply(Try.scala:213)\n\tat com.databricks.backend.daemon.driver.DriverWrapper.$anonfun$tryExecutingCommand$1(DriverWrapper.scala:921)\n\tat com.databricks.backend.daemon.driver.DriverWrapper.tryExecutingCommand(DriverWrapper.scala:953)\n\tat com.databricks.backend.daemon.driver.DriverWrapper.executeCommandAndGetError(DriverWrapper.scala:717)\n\tat com.databricks.backend.daemon.driver.DriverWrapper.executeCommand(DriverWrapper.scala:785)\n\tat com.databricks.backend.daemon.driver.DriverWrapper.runInnerLoop(DriverWrapper.scala:586)\n\tat com.databricks.backend.daemon.driver.DriverWrapper.runInner(DriverWrapper.scala:512)\n\tat com.databricks.backend.daemon.driver.DriverWrapper.run(DriverWrapper.scala:306)\n\tat java.lang.Thread.run(Thread.java:750)\n"
       ],
       "type": "baseError"
      }
     },
     "output_type": "display_data"
    }
   ],
   "source": [
    "%sql\n",
    "create database qbex;"
   ]
  },
  {
   "cell_type": "code",
   "execution_count": 0,
   "metadata": {
    "application/vnd.databricks.v1+cell": {
     "cellMetadata": {
      "byteLimit": 2048000,
      "rowLimit": 10000
     },
     "inputWidgets": {},
     "nuid": "15d79060-8f97-4cdd-80d4-7a011b911ccb",
     "showTitle": false,
     "tableResultSettingsMap": {},
     "title": ""
    }
   },
   "outputs": [],
   "source": [
    "reatil_df.repartition(20).write.format(\"delta\").mode(\"overwrite\").option(\"path\",\"/mydata/retail_599\").saveAsTable(\"qbex.retail_599\")"
   ]
  },
  {
   "cell_type": "code",
   "execution_count": 0,
   "metadata": {
    "application/vnd.databricks.v1+cell": {
     "cellMetadata": {
      "byteLimit": 2048000,
      "rowLimit": 10000
     },
     "inputWidgets": {},
     "nuid": "d64c2afe-a7a8-4aca-98bc-e6795949fe71",
     "showTitle": false,
     "tableResultSettingsMap": {},
     "title": ""
    }
   },
   "outputs": [
    {
     "output_type": "display_data",
     "data": {
      "text/html": [
       "<style scoped>\n",
       "  .table-result-container {\n",
       "    max-height: 300px;\n",
       "    overflow: auto;\n",
       "  }\n",
       "  table, th, td {\n",
       "    border: 1px solid black;\n",
       "    border-collapse: collapse;\n",
       "  }\n",
       "  th, td {\n",
       "    padding: 5px;\n",
       "  }\n",
       "  th {\n",
       "    text-align: left;\n",
       "  }\n",
       "</style><div class='table-result-container'><table class='table-result'><thead style='background-color: white'><tr><th>path</th><th>name</th><th>size</th><th>modificationTime</th></tr></thead><tbody><tr><td>dbfs:/mydata/retail_599/_delta_log/</td><td>_delta_log/</td><td>0</td><td>0</td></tr><tr><td>dbfs:/mydata/retail_599/part-00000-6fe42c28-ac76-4ae0-8b42-35e2e2138120-c000.snappy.parquet</td><td>part-00000-6fe42c28-ac76-4ae0-8b42-35e2e2138120-c000.snappy.parquet</td><td>476778</td><td>1735440444000</td></tr><tr><td>dbfs:/mydata/retail_599/part-00001-3100cc38-d797-4056-8c1b-b91d7d80893c-c000.snappy.parquet</td><td>part-00001-3100cc38-d797-4056-8c1b-b91d7d80893c-c000.snappy.parquet</td><td>475789</td><td>1735440444000</td></tr><tr><td>dbfs:/mydata/retail_599/part-00002-ef8ebcdf-7256-4f6e-bc89-3aa334cf3cf4-c000.snappy.parquet</td><td>part-00002-ef8ebcdf-7256-4f6e-bc89-3aa334cf3cf4-c000.snappy.parquet</td><td>475613</td><td>1735440444000</td></tr><tr><td>dbfs:/mydata/retail_599/part-00003-c40f75a8-9fe0-44de-b3ef-6b469c0c6d37-c000.snappy.parquet</td><td>part-00003-c40f75a8-9fe0-44de-b3ef-6b469c0c6d37-c000.snappy.parquet</td><td>476871</td><td>1735440444000</td></tr><tr><td>dbfs:/mydata/retail_599/part-00004-45d196b6-9808-4ffc-8e16-3b17788dda2e-c000.snappy.parquet</td><td>part-00004-45d196b6-9808-4ffc-8e16-3b17788dda2e-c000.snappy.parquet</td><td>475883</td><td>1735440444000</td></tr><tr><td>dbfs:/mydata/retail_599/part-00005-1ae7b499-168e-4ae5-a6d3-3462acef448c-c000.snappy.parquet</td><td>part-00005-1ae7b499-168e-4ae5-a6d3-3462acef448c-c000.snappy.parquet</td><td>475597</td><td>1735440444000</td></tr><tr><td>dbfs:/mydata/retail_599/part-00006-3f4a87ac-4c76-4875-91ec-df5ae1d32335-c000.snappy.parquet</td><td>part-00006-3f4a87ac-4c76-4875-91ec-df5ae1d32335-c000.snappy.parquet</td><td>474704</td><td>1735440444000</td></tr><tr><td>dbfs:/mydata/retail_599/part-00007-0ee91288-6b7b-41d4-9526-70b7b3ed7e69-c000.snappy.parquet</td><td>part-00007-0ee91288-6b7b-41d4-9526-70b7b3ed7e69-c000.snappy.parquet</td><td>475883</td><td>1735440444000</td></tr><tr><td>dbfs:/mydata/retail_599/part-00008-1e725281-d554-4acc-a662-f72bf00b908a-c000.snappy.parquet</td><td>part-00008-1e725281-d554-4acc-a662-f72bf00b908a-c000.snappy.parquet</td><td>476594</td><td>1735440446000</td></tr><tr><td>dbfs:/mydata/retail_599/part-00009-f4659360-6594-45f0-9f96-68b38b5635f1-c000.snappy.parquet</td><td>part-00009-f4659360-6594-45f0-9f96-68b38b5635f1-c000.snappy.parquet</td><td>477168</td><td>1735440446000</td></tr><tr><td>dbfs:/mydata/retail_599/part-00010-0261e668-ef55-44fd-9eb4-be519ffae929-c000.snappy.parquet</td><td>part-00010-0261e668-ef55-44fd-9eb4-be519ffae929-c000.snappy.parquet</td><td>474684</td><td>1735440446000</td></tr><tr><td>dbfs:/mydata/retail_599/part-00011-e1077a26-82d7-4cb5-9950-c1701e07440c-c000.snappy.parquet</td><td>part-00011-e1077a26-82d7-4cb5-9950-c1701e07440c-c000.snappy.parquet</td><td>476347</td><td>1735440446000</td></tr><tr><td>dbfs:/mydata/retail_599/part-00012-0f95667b-5a43-4c4c-864b-23bdaaebacea-c000.snappy.parquet</td><td>part-00012-0f95667b-5a43-4c4c-864b-23bdaaebacea-c000.snappy.parquet</td><td>476530</td><td>1735440446000</td></tr><tr><td>dbfs:/mydata/retail_599/part-00013-d2eeabd6-3466-4898-a872-a1c77a459a59-c000.snappy.parquet</td><td>part-00013-d2eeabd6-3466-4898-a872-a1c77a459a59-c000.snappy.parquet</td><td>476522</td><td>1735440446000</td></tr><tr><td>dbfs:/mydata/retail_599/part-00014-02a37711-2c4b-476f-89d5-2b26bb6dabcb-c000.snappy.parquet</td><td>part-00014-02a37711-2c4b-476f-89d5-2b26bb6dabcb-c000.snappy.parquet</td><td>475683</td><td>1735440446000</td></tr><tr><td>dbfs:/mydata/retail_599/part-00015-7277e6d2-ecf5-4304-bd8e-44631c7e78f8-c000.snappy.parquet</td><td>part-00015-7277e6d2-ecf5-4304-bd8e-44631c7e78f8-c000.snappy.parquet</td><td>475936</td><td>1735440446000</td></tr><tr><td>dbfs:/mydata/retail_599/part-00016-9dc37b8e-ddf9-48b4-9146-1fb50c0bd0d7-c000.snappy.parquet</td><td>part-00016-9dc37b8e-ddf9-48b4-9146-1fb50c0bd0d7-c000.snappy.parquet</td><td>476531</td><td>1735440447000</td></tr><tr><td>dbfs:/mydata/retail_599/part-00017-f8605cc0-672c-4028-8e59-25d56f3e4739-c000.snappy.parquet</td><td>part-00017-f8605cc0-672c-4028-8e59-25d56f3e4739-c000.snappy.parquet</td><td>475511</td><td>1735440447000</td></tr><tr><td>dbfs:/mydata/retail_599/part-00018-1d654f33-c7fd-4ffa-b7af-07f87f0dae15-c000.snappy.parquet</td><td>part-00018-1d654f33-c7fd-4ffa-b7af-07f87f0dae15-c000.snappy.parquet</td><td>474728</td><td>1735440447000</td></tr><tr><td>dbfs:/mydata/retail_599/part-00019-db2ed99b-5690-43a3-a0b8-5db2d84766b8-c000.snappy.parquet</td><td>part-00019-db2ed99b-5690-43a3-a0b8-5db2d84766b8-c000.snappy.parquet</td><td>475157</td><td>1735440447000</td></tr></tbody></table></div>"
      ]
     },
     "metadata": {
      "application/vnd.databricks.v1+output": {
       "addedWidgets": {},
       "aggData": [],
       "aggError": "",
       "aggOverflow": false,
       "aggSchema": [],
       "aggSeriesLimitReached": false,
       "aggType": "",
       "arguments": {},
       "columnCustomDisplayInfos": {},
       "data": [
        [
         "dbfs:/mydata/retail_599/_delta_log/",
         "_delta_log/",
         0,
         0
        ],
        [
         "dbfs:/mydata/retail_599/part-00000-6fe42c28-ac76-4ae0-8b42-35e2e2138120-c000.snappy.parquet",
         "part-00000-6fe42c28-ac76-4ae0-8b42-35e2e2138120-c000.snappy.parquet",
         476778,
         1735440444000
        ],
        [
         "dbfs:/mydata/retail_599/part-00001-3100cc38-d797-4056-8c1b-b91d7d80893c-c000.snappy.parquet",
         "part-00001-3100cc38-d797-4056-8c1b-b91d7d80893c-c000.snappy.parquet",
         475789,
         1735440444000
        ],
        [
         "dbfs:/mydata/retail_599/part-00002-ef8ebcdf-7256-4f6e-bc89-3aa334cf3cf4-c000.snappy.parquet",
         "part-00002-ef8ebcdf-7256-4f6e-bc89-3aa334cf3cf4-c000.snappy.parquet",
         475613,
         1735440444000
        ],
        [
         "dbfs:/mydata/retail_599/part-00003-c40f75a8-9fe0-44de-b3ef-6b469c0c6d37-c000.snappy.parquet",
         "part-00003-c40f75a8-9fe0-44de-b3ef-6b469c0c6d37-c000.snappy.parquet",
         476871,
         1735440444000
        ],
        [
         "dbfs:/mydata/retail_599/part-00004-45d196b6-9808-4ffc-8e16-3b17788dda2e-c000.snappy.parquet",
         "part-00004-45d196b6-9808-4ffc-8e16-3b17788dda2e-c000.snappy.parquet",
         475883,
         1735440444000
        ],
        [
         "dbfs:/mydata/retail_599/part-00005-1ae7b499-168e-4ae5-a6d3-3462acef448c-c000.snappy.parquet",
         "part-00005-1ae7b499-168e-4ae5-a6d3-3462acef448c-c000.snappy.parquet",
         475597,
         1735440444000
        ],
        [
         "dbfs:/mydata/retail_599/part-00006-3f4a87ac-4c76-4875-91ec-df5ae1d32335-c000.snappy.parquet",
         "part-00006-3f4a87ac-4c76-4875-91ec-df5ae1d32335-c000.snappy.parquet",
         474704,
         1735440444000
        ],
        [
         "dbfs:/mydata/retail_599/part-00007-0ee91288-6b7b-41d4-9526-70b7b3ed7e69-c000.snappy.parquet",
         "part-00007-0ee91288-6b7b-41d4-9526-70b7b3ed7e69-c000.snappy.parquet",
         475883,
         1735440444000
        ],
        [
         "dbfs:/mydata/retail_599/part-00008-1e725281-d554-4acc-a662-f72bf00b908a-c000.snappy.parquet",
         "part-00008-1e725281-d554-4acc-a662-f72bf00b908a-c000.snappy.parquet",
         476594,
         1735440446000
        ],
        [
         "dbfs:/mydata/retail_599/part-00009-f4659360-6594-45f0-9f96-68b38b5635f1-c000.snappy.parquet",
         "part-00009-f4659360-6594-45f0-9f96-68b38b5635f1-c000.snappy.parquet",
         477168,
         1735440446000
        ],
        [
         "dbfs:/mydata/retail_599/part-00010-0261e668-ef55-44fd-9eb4-be519ffae929-c000.snappy.parquet",
         "part-00010-0261e668-ef55-44fd-9eb4-be519ffae929-c000.snappy.parquet",
         474684,
         1735440446000
        ],
        [
         "dbfs:/mydata/retail_599/part-00011-e1077a26-82d7-4cb5-9950-c1701e07440c-c000.snappy.parquet",
         "part-00011-e1077a26-82d7-4cb5-9950-c1701e07440c-c000.snappy.parquet",
         476347,
         1735440446000
        ],
        [
         "dbfs:/mydata/retail_599/part-00012-0f95667b-5a43-4c4c-864b-23bdaaebacea-c000.snappy.parquet",
         "part-00012-0f95667b-5a43-4c4c-864b-23bdaaebacea-c000.snappy.parquet",
         476530,
         1735440446000
        ],
        [
         "dbfs:/mydata/retail_599/part-00013-d2eeabd6-3466-4898-a872-a1c77a459a59-c000.snappy.parquet",
         "part-00013-d2eeabd6-3466-4898-a872-a1c77a459a59-c000.snappy.parquet",
         476522,
         1735440446000
        ],
        [
         "dbfs:/mydata/retail_599/part-00014-02a37711-2c4b-476f-89d5-2b26bb6dabcb-c000.snappy.parquet",
         "part-00014-02a37711-2c4b-476f-89d5-2b26bb6dabcb-c000.snappy.parquet",
         475683,
         1735440446000
        ],
        [
         "dbfs:/mydata/retail_599/part-00015-7277e6d2-ecf5-4304-bd8e-44631c7e78f8-c000.snappy.parquet",
         "part-00015-7277e6d2-ecf5-4304-bd8e-44631c7e78f8-c000.snappy.parquet",
         475936,
         1735440446000
        ],
        [
         "dbfs:/mydata/retail_599/part-00016-9dc37b8e-ddf9-48b4-9146-1fb50c0bd0d7-c000.snappy.parquet",
         "part-00016-9dc37b8e-ddf9-48b4-9146-1fb50c0bd0d7-c000.snappy.parquet",
         476531,
         1735440447000
        ],
        [
         "dbfs:/mydata/retail_599/part-00017-f8605cc0-672c-4028-8e59-25d56f3e4739-c000.snappy.parquet",
         "part-00017-f8605cc0-672c-4028-8e59-25d56f3e4739-c000.snappy.parquet",
         475511,
         1735440447000
        ],
        [
         "dbfs:/mydata/retail_599/part-00018-1d654f33-c7fd-4ffa-b7af-07f87f0dae15-c000.snappy.parquet",
         "part-00018-1d654f33-c7fd-4ffa-b7af-07f87f0dae15-c000.snappy.parquet",
         474728,
         1735440447000
        ],
        [
         "dbfs:/mydata/retail_599/part-00019-db2ed99b-5690-43a3-a0b8-5db2d84766b8-c000.snappy.parquet",
         "part-00019-db2ed99b-5690-43a3-a0b8-5db2d84766b8-c000.snappy.parquet",
         475157,
         1735440447000
        ]
       ],
       "datasetInfos": [],
       "dbfsResultPath": null,
       "isJsonSchema": true,
       "metadata": {},
       "overflow": false,
       "plotOptions": {
        "customPlotOptions": {},
        "displayType": "table",
        "pivotAggregation": null,
        "pivotColumns": null,
        "xColumns": null,
        "yColumns": null
       },
       "removedWidgets": [],
       "schema": [
        {
         "metadata": "{}",
         "name": "path",
         "type": "\"string\""
        },
        {
         "metadata": "{}",
         "name": "name",
         "type": "\"string\""
        },
        {
         "metadata": "{}",
         "name": "size",
         "type": "\"long\""
        },
        {
         "metadata": "{}",
         "name": "modificationTime",
         "type": "\"long\""
        }
       ],
       "type": "table"
      }
     },
     "output_type": "display_data"
    }
   ],
   "source": [
    "display(dbutils.fs.ls(\"/mydata/retail_599\"))"
   ]
  },
  {
   "cell_type": "code",
   "execution_count": 0,
   "metadata": {
    "application/vnd.databricks.v1+cell": {
     "cellMetadata": {
      "byteLimit": 2048000,
      "implicitDf": true,
      "rowLimit": 10000
     },
     "inputWidgets": {},
     "nuid": "312fca8b-81a9-4878-b9d2-9f0a0b31599c",
     "showTitle": false,
     "tableResultSettingsMap": {},
     "title": ""
    }
   },
   "outputs": [
    {
     "output_type": "display_data",
     "data": {
      "text/html": [
       "<style scoped>\n",
       "  .table-result-container {\n",
       "    max-height: 300px;\n",
       "    overflow: auto;\n",
       "  }\n",
       "  table, th, td {\n",
       "    border: 1px solid black;\n",
       "    border-collapse: collapse;\n",
       "  }\n",
       "  th, td {\n",
       "    padding: 5px;\n",
       "  }\n",
       "  th {\n",
       "    text-align: left;\n",
       "  }\n",
       "</style><div class='table-result-container'><table class='table-result'><thead style='background-color: white'><tr><th>version</th><th>timestamp</th><th>userId</th><th>userName</th><th>operation</th><th>operationParameters</th><th>job</th><th>notebook</th><th>clusterId</th><th>readVersion</th><th>isolationLevel</th><th>isBlindAppend</th><th>operationMetrics</th><th>userMetadata</th><th>engineInfo</th></tr></thead><tbody><tr><td>0</td><td>2024-12-29T02:47:28Z</td><td>141785285425900</td><td>qbex.azure@gmail.com</td><td>CREATE OR REPLACE TABLE AS SELECT</td><td>Map(partitionBy -> [], clusterBy -> [], description -> null, isManaged -> false, properties -> {}, statsOnLoad -> false)</td><td>null</td><td>List(2209238712519839)</td><td>1229-012503-3fn8yz6w</td><td>null</td><td>WriteSerializable</td><td>false</td><td>Map(numFiles -> 20, numOutputRows -> 541909, numOutputBytes -> 9518509)</td><td>null</td><td>Databricks-Runtime/15.4.x-scala2.12</td></tr></tbody></table></div>"
      ]
     },
     "metadata": {
      "application/vnd.databricks.v1+output": {
       "addedWidgets": {},
       "aggData": [],
       "aggError": "",
       "aggOverflow": false,
       "aggSchema": [],
       "aggSeriesLimitReached": false,
       "aggType": "",
       "arguments": {},
       "columnCustomDisplayInfos": {},
       "data": [
        [
         0,
         "2024-12-29T02:47:28Z",
         "141785285425900",
         "qbex.azure@gmail.com",
         "CREATE OR REPLACE TABLE AS SELECT",
         {
          "clusterBy": "[]",
          "description": null,
          "isManaged": "false",
          "partitionBy": "[]",
          "properties": "{}",
          "statsOnLoad": "false"
         },
         null,
         [
          "2209238712519839"
         ],
         "1229-012503-3fn8yz6w",
         null,
         "WriteSerializable",
         false,
         {
          "numFiles": "20",
          "numOutputBytes": "9518509",
          "numOutputRows": "541909"
         },
         null,
         "Databricks-Runtime/15.4.x-scala2.12"
        ]
       ],
       "datasetInfos": [],
       "dbfsResultPath": null,
       "isJsonSchema": true,
       "metadata": {
        "createTempViewForImplicitDf": true,
        "dataframeName": "_sqldf",
        "executionCount": 11
       },
       "overflow": false,
       "plotOptions": {
        "customPlotOptions": {},
        "displayType": "table",
        "pivotAggregation": null,
        "pivotColumns": null,
        "xColumns": null,
        "yColumns": null
       },
       "removedWidgets": [],
       "schema": [
        {
         "metadata": "{}",
         "name": "version",
         "type": "\"long\""
        },
        {
         "metadata": "{}",
         "name": "timestamp",
         "type": "\"timestamp\""
        },
        {
         "metadata": "{}",
         "name": "userId",
         "type": "\"string\""
        },
        {
         "metadata": "{}",
         "name": "userName",
         "type": "\"string\""
        },
        {
         "metadata": "{}",
         "name": "operation",
         "type": "\"string\""
        },
        {
         "metadata": "{}",
         "name": "operationParameters",
         "type": "{\"type\":\"map\",\"keyType\":\"string\",\"valueType\":\"string\",\"valueContainsNull\":true}"
        },
        {
         "metadata": "{}",
         "name": "job",
         "type": "{\"type\":\"struct\",\"fields\":[{\"name\":\"jobId\",\"type\":\"string\",\"nullable\":true,\"metadata\":{}},{\"name\":\"jobName\",\"type\":\"string\",\"nullable\":true,\"metadata\":{}},{\"name\":\"jobRunId\",\"type\":\"string\",\"nullable\":true,\"metadata\":{}},{\"name\":\"runId\",\"type\":\"string\",\"nullable\":true,\"metadata\":{}},{\"name\":\"jobOwnerId\",\"type\":\"string\",\"nullable\":true,\"metadata\":{}},{\"name\":\"triggerType\",\"type\":\"string\",\"nullable\":true,\"metadata\":{}}]}"
        },
        {
         "metadata": "{}",
         "name": "notebook",
         "type": "{\"type\":\"struct\",\"fields\":[{\"name\":\"notebookId\",\"type\":\"string\",\"nullable\":true,\"metadata\":{}}]}"
        },
        {
         "metadata": "{}",
         "name": "clusterId",
         "type": "\"string\""
        },
        {
         "metadata": "{}",
         "name": "readVersion",
         "type": "\"long\""
        },
        {
         "metadata": "{}",
         "name": "isolationLevel",
         "type": "\"string\""
        },
        {
         "metadata": "{}",
         "name": "isBlindAppend",
         "type": "\"boolean\""
        },
        {
         "metadata": "{}",
         "name": "operationMetrics",
         "type": "{\"type\":\"map\",\"keyType\":\"string\",\"valueType\":\"string\",\"valueContainsNull\":true}"
        },
        {
         "metadata": "{}",
         "name": "userMetadata",
         "type": "\"string\""
        },
        {
         "metadata": "{}",
         "name": "engineInfo",
         "type": "\"string\""
        }
       ],
       "type": "table"
      }
     },
     "output_type": "display_data"
    }
   ],
   "source": [
    "%sql\n",
    "describe history qbex.retail_599"
   ]
  },
  {
   "cell_type": "code",
   "execution_count": 0,
   "metadata": {
    "application/vnd.databricks.v1+cell": {
     "cellMetadata": {
      "byteLimit": 2048000,
      "implicitDf": true,
      "rowLimit": 10000
     },
     "inputWidgets": {},
     "nuid": "be862d94-aa8a-494b-a04b-97a274aa7346",
     "showTitle": false,
     "tableResultSettingsMap": {},
     "title": ""
    }
   },
   "outputs": [
    {
     "output_type": "display_data",
     "data": {
      "text/html": [
       "<style scoped>\n",
       "  .table-result-container {\n",
       "    max-height: 300px;\n",
       "    overflow: auto;\n",
       "  }\n",
       "  table, th, td {\n",
       "    border: 1px solid black;\n",
       "    border-collapse: collapse;\n",
       "  }\n",
       "  th, td {\n",
       "    padding: 5px;\n",
       "  }\n",
       "  th {\n",
       "    text-align: left;\n",
       "  }\n",
       "</style><div class='table-result-container'><table class='table-result'><thead style='background-color: white'><tr><th>qtysold</th></tr></thead><tbody><tr><td>110480</td></tr></tbody></table></div>"
      ]
     },
     "metadata": {
      "application/vnd.databricks.v1+output": {
       "addedWidgets": {},
       "aggData": [],
       "aggError": "",
       "aggOverflow": false,
       "aggSchema": [],
       "aggSeriesLimitReached": false,
       "aggType": "",
       "arguments": {},
       "columnCustomDisplayInfos": {},
       "data": [
        [
         110480
        ]
       ],
       "datasetInfos": [],
       "dbfsResultPath": null,
       "isJsonSchema": true,
       "metadata": {
        "createTempViewForImplicitDf": true,
        "dataframeName": "_sqldf",
        "executionCount": 20
       },
       "overflow": false,
       "plotOptions": {
        "customPlotOptions": {},
        "displayType": "table",
        "pivotAggregation": null,
        "pivotColumns": null,
        "xColumns": null,
        "yColumns": null
       },
       "removedWidgets": [],
       "schema": [
        {
         "metadata": "{}",
         "name": "qtysold",
         "type": "\"long\""
        }
       ],
       "type": "table"
      }
     },
     "output_type": "display_data"
    }
   ],
   "source": [
    "%sql\n",
    "select sum(Quantity) as qtysold\n",
    "from qbex.retail_partitioned_599\n",
    "where Country = 'France'\n",
    "-- group by Country"
   ]
  },
  {
   "cell_type": "code",
   "execution_count": 0,
   "metadata": {
    "application/vnd.databricks.v1+cell": {
     "cellMetadata": {
      "byteLimit": 2048000,
      "rowLimit": 10000
     },
     "inputWidgets": {},
     "nuid": "81cbce04-fc51-41c3-9999-24aa53e13e0b",
     "showTitle": false,
     "tableResultSettingsMap": {},
     "title": ""
    }
   },
   "outputs": [],
   "source": [
    "reatil_df.write.format(\"delta\").mode(\"overwrite\").partitionBy(\"Country\").option(\"path\",\"/mydata/retail_partitioned_599\").saveAsTable(\"qbex.retail_partitioned_599\")"
   ]
  },
  {
   "cell_type": "code",
   "execution_count": 0,
   "metadata": {
    "application/vnd.databricks.v1+cell": {
     "cellMetadata": {
      "byteLimit": 2048000,
      "rowLimit": 10000
     },
     "inputWidgets": {},
     "nuid": "a70f635a-304c-4880-8ce1-d88ca71cfcd9",
     "showTitle": false,
     "tableResultSettingsMap": {},
     "title": ""
    }
   },
   "outputs": [
    {
     "output_type": "display_data",
     "data": {
      "text/html": [
       "<style scoped>\n",
       "  .table-result-container {\n",
       "    max-height: 300px;\n",
       "    overflow: auto;\n",
       "  }\n",
       "  table, th, td {\n",
       "    border: 1px solid black;\n",
       "    border-collapse: collapse;\n",
       "  }\n",
       "  th, td {\n",
       "    padding: 5px;\n",
       "  }\n",
       "  th {\n",
       "    text-align: left;\n",
       "  }\n",
       "</style><div class='table-result-container'><table class='table-result'><thead style='background-color: white'><tr><th>path</th><th>name</th><th>size</th><th>modificationTime</th></tr></thead><tbody><tr><td>dbfs:/mydata/retail_partitioned_599/Country=France/part-00000-90e78a47-d44f-4a76-aa02-480f4bea9d50.c000.snappy.parquet</td><td>part-00000-90e78a47-d44f-4a76-aa02-480f4bea9d50.c000.snappy.parquet</td><td>17883</td><td>1735440863000</td></tr><tr><td>dbfs:/mydata/retail_partitioned_599/Country=France/part-00001-f3dcc0f5-26d5-4588-a5a4-79d44acf226d.c000.snappy.parquet</td><td>part-00001-f3dcc0f5-26d5-4588-a5a4-79d44acf226d.c000.snappy.parquet</td><td>19047</td><td>1735440863000</td></tr><tr><td>dbfs:/mydata/retail_partitioned_599/Country=France/part-00002-be6fc8f0-10fc-4483-a1e7-b1b8a8eb260c.c000.snappy.parquet</td><td>part-00002-be6fc8f0-10fc-4483-a1e7-b1b8a8eb260c.c000.snappy.parquet</td><td>20544</td><td>1735440864000</td></tr><tr><td>dbfs:/mydata/retail_partitioned_599/Country=France/part-00003-0935f1b9-183d-4ae0-9cf1-d819692102c5.c000.snappy.parquet</td><td>part-00003-0935f1b9-183d-4ae0-9cf1-d819692102c5.c000.snappy.parquet</td><td>16305</td><td>1735440863000</td></tr><tr><td>dbfs:/mydata/retail_partitioned_599/Country=France/part-00004-60ed1524-49a2-4dc1-a145-6dc5c84ad146.c000.snappy.parquet</td><td>part-00004-60ed1524-49a2-4dc1-a145-6dc5c84ad146.c000.snappy.parquet</td><td>23973</td><td>1735440863000</td></tr><tr><td>dbfs:/mydata/retail_partitioned_599/Country=France/part-00005-84c30549-a95d-43b1-ae27-c2873ddf1c67.c000.snappy.parquet</td><td>part-00005-84c30549-a95d-43b1-ae27-c2873ddf1c67.c000.snappy.parquet</td><td>22806</td><td>1735440864000</td></tr><tr><td>dbfs:/mydata/retail_partitioned_599/Country=France/part-00006-ce09260d-cb6d-4a6c-a617-7ed2b20d265a.c000.snappy.parquet</td><td>part-00006-ce09260d-cb6d-4a6c-a617-7ed2b20d265a.c000.snappy.parquet</td><td>23164</td><td>1735440863000</td></tr><tr><td>dbfs:/mydata/retail_partitioned_599/Country=France/part-00007-9949071f-1e5d-4a79-9dfd-496ef47d00df.c000.snappy.parquet</td><td>part-00007-9949071f-1e5d-4a79-9dfd-496ef47d00df.c000.snappy.parquet</td><td>9740</td><td>1735440863000</td></tr></tbody></table></div>"
      ]
     },
     "metadata": {
      "application/vnd.databricks.v1+output": {
       "addedWidgets": {},
       "aggData": [],
       "aggError": "",
       "aggOverflow": false,
       "aggSchema": [],
       "aggSeriesLimitReached": false,
       "aggType": "",
       "arguments": {},
       "columnCustomDisplayInfos": {},
       "data": [
        [
         "dbfs:/mydata/retail_partitioned_599/Country=France/part-00000-90e78a47-d44f-4a76-aa02-480f4bea9d50.c000.snappy.parquet",
         "part-00000-90e78a47-d44f-4a76-aa02-480f4bea9d50.c000.snappy.parquet",
         17883,
         1735440863000
        ],
        [
         "dbfs:/mydata/retail_partitioned_599/Country=France/part-00001-f3dcc0f5-26d5-4588-a5a4-79d44acf226d.c000.snappy.parquet",
         "part-00001-f3dcc0f5-26d5-4588-a5a4-79d44acf226d.c000.snappy.parquet",
         19047,
         1735440863000
        ],
        [
         "dbfs:/mydata/retail_partitioned_599/Country=France/part-00002-be6fc8f0-10fc-4483-a1e7-b1b8a8eb260c.c000.snappy.parquet",
         "part-00002-be6fc8f0-10fc-4483-a1e7-b1b8a8eb260c.c000.snappy.parquet",
         20544,
         1735440864000
        ],
        [
         "dbfs:/mydata/retail_partitioned_599/Country=France/part-00003-0935f1b9-183d-4ae0-9cf1-d819692102c5.c000.snappy.parquet",
         "part-00003-0935f1b9-183d-4ae0-9cf1-d819692102c5.c000.snappy.parquet",
         16305,
         1735440863000
        ],
        [
         "dbfs:/mydata/retail_partitioned_599/Country=France/part-00004-60ed1524-49a2-4dc1-a145-6dc5c84ad146.c000.snappy.parquet",
         "part-00004-60ed1524-49a2-4dc1-a145-6dc5c84ad146.c000.snappy.parquet",
         23973,
         1735440863000
        ],
        [
         "dbfs:/mydata/retail_partitioned_599/Country=France/part-00005-84c30549-a95d-43b1-ae27-c2873ddf1c67.c000.snappy.parquet",
         "part-00005-84c30549-a95d-43b1-ae27-c2873ddf1c67.c000.snappy.parquet",
         22806,
         1735440864000
        ],
        [
         "dbfs:/mydata/retail_partitioned_599/Country=France/part-00006-ce09260d-cb6d-4a6c-a617-7ed2b20d265a.c000.snappy.parquet",
         "part-00006-ce09260d-cb6d-4a6c-a617-7ed2b20d265a.c000.snappy.parquet",
         23164,
         1735440863000
        ],
        [
         "dbfs:/mydata/retail_partitioned_599/Country=France/part-00007-9949071f-1e5d-4a79-9dfd-496ef47d00df.c000.snappy.parquet",
         "part-00007-9949071f-1e5d-4a79-9dfd-496ef47d00df.c000.snappy.parquet",
         9740,
         1735440863000
        ]
       ],
       "datasetInfos": [],
       "dbfsResultPath": null,
       "isJsonSchema": true,
       "metadata": {},
       "overflow": false,
       "plotOptions": {
        "customPlotOptions": {},
        "displayType": "table",
        "pivotAggregation": null,
        "pivotColumns": null,
        "xColumns": null,
        "yColumns": null
       },
       "removedWidgets": [],
       "schema": [
        {
         "metadata": "{}",
         "name": "path",
         "type": "\"string\""
        },
        {
         "metadata": "{}",
         "name": "name",
         "type": "\"string\""
        },
        {
         "metadata": "{}",
         "name": "size",
         "type": "\"long\""
        },
        {
         "metadata": "{}",
         "name": "modificationTime",
         "type": "\"long\""
        }
       ],
       "type": "table"
      }
     },
     "output_type": "display_data"
    }
   ],
   "source": [
    "display(dbutils.fs.ls(\"/mydata/retail_partitioned_599/Country=France/\"))"
   ]
  },
  {
   "cell_type": "code",
   "execution_count": 0,
   "metadata": {
    "application/vnd.databricks.v1+cell": {
     "cellMetadata": {
      "byteLimit": 2048000,
      "implicitDf": true,
      "rowLimit": 10000
     },
     "inputWidgets": {},
     "nuid": "9059659a-3d64-49ca-a2f9-718da9d9a44c",
     "showTitle": false,
     "tableResultSettingsMap": {},
     "title": ""
    }
   },
   "outputs": [
    {
     "output_type": "display_data",
     "data": {
      "text/html": [
       "<style scoped>\n",
       "  .table-result-container {\n",
       "    max-height: 300px;\n",
       "    overflow: auto;\n",
       "  }\n",
       "  table, th, td {\n",
       "    border: 1px solid black;\n",
       "    border-collapse: collapse;\n",
       "  }\n",
       "  th, td {\n",
       "    padding: 5px;\n",
       "  }\n",
       "  th {\n",
       "    text-align: left;\n",
       "  }\n",
       "</style><div class='table-result-container'><table class='table-result'><thead style='background-color: white'><tr><th>InvoiceNo</th><th>StockCode</th><th>Description</th><th>Quantity</th><th>InvoiceDate</th><th>UnitPrice</th><th>CustomerID</th><th>Country</th></tr></thead><tbody></tbody></table></div>"
      ]
     },
     "metadata": {
      "application/vnd.databricks.v1+output": {
       "addedWidgets": {},
       "aggData": [],
       "aggError": "",
       "aggOverflow": false,
       "aggSchema": [],
       "aggSeriesLimitReached": false,
       "aggType": "",
       "arguments": {},
       "columnCustomDisplayInfos": {},
       "data": [],
       "datasetInfos": [],
       "dbfsResultPath": null,
       "isJsonSchema": true,
       "metadata": {
        "createTempViewForImplicitDf": true,
        "dataframeName": "_sqldf",
        "executionCount": 35
       },
       "overflow": false,
       "plotOptions": {
        "customPlotOptions": {},
        "displayType": "table",
        "pivotAggregation": null,
        "pivotColumns": null,
        "xColumns": null,
        "yColumns": null
       },
       "removedWidgets": [],
       "schema": [
        {
         "metadata": "{}",
         "name": "InvoiceNo",
         "type": "\"string\""
        },
        {
         "metadata": "{}",
         "name": "StockCode",
         "type": "\"string\""
        },
        {
         "metadata": "{}",
         "name": "Description",
         "type": "\"string\""
        },
        {
         "metadata": "{}",
         "name": "Quantity",
         "type": "\"integer\""
        },
        {
         "metadata": "{}",
         "name": "InvoiceDate",
         "type": "\"string\""
        },
        {
         "metadata": "{}",
         "name": "UnitPrice",
         "type": "\"double\""
        },
        {
         "metadata": "{}",
         "name": "CustomerID",
         "type": "\"integer\""
        },
        {
         "metadata": "{}",
         "name": "Country",
         "type": "\"string\""
        }
       ],
       "type": "table"
      }
     },
     "output_type": "display_data"
    }
   ],
   "source": [
    "%sql\n",
    "-- describe extended qbex.retail_partitioned_599\n",
    "select * from qbex.retail_partitioned_599 where Country = 'France'  and InvoiceNo = '536367'\n",
    "\n",
    "\n",
    "-- select min(InvoiceNo), max(InvoiceNo), _metadata.file_name\n",
    "-- from qbex.retail_partitioned_599\n",
    "-- where Country = 'France'\n",
    "-- group by _metadata.file_name\n",
    "\n",
    "-- describe history qbex.retail_599\n",
    "-- OPTIMIZE qbex.retail_partitioned_599 where Country = 'France' ZORDER BY (InvoiceNo)"
   ]
  },
  {
   "cell_type": "code",
   "execution_count": 0,
   "metadata": {
    "application/vnd.databricks.v1+cell": {
     "cellMetadata": {
      "byteLimit": 2048000,
      "rowLimit": 10000
     },
     "inputWidgets": {},
     "nuid": "61c5b9db-73dc-44da-a282-0950a9fd3da0",
     "showTitle": false,
     "tableResultSettingsMap": {},
     "title": ""
    }
   },
   "outputs": [
    {
     "output_type": "execute_result",
     "data": {
      "text/plain": [
       "'50000'"
      ]
     },
     "execution_count": 36,
     "metadata": {},
     "output_type": "execute_result"
    }
   ],
   "source": [
    "spark.conf.get(\"spark.databricks.delta.checkpoint.partSize\")"
   ]
  },
  {
   "cell_type": "code",
   "execution_count": 0,
   "metadata": {
    "application/vnd.databricks.v1+cell": {
     "cellMetadata": {
      "byteLimit": 2048000,
      "rowLimit": 10000
     },
     "inputWidgets": {},
     "nuid": "1a26987b-99f5-4bce-9273-5c47819518a3",
     "showTitle": false,
     "tableResultSettingsMap": {},
     "title": ""
    }
   },
   "outputs": [
    {
     "output_type": "display_data",
     "data": {
      "text/html": [
       "<style scoped>\n",
       "  .table-result-container {\n",
       "    max-height: 300px;\n",
       "    overflow: auto;\n",
       "  }\n",
       "  table, th, td {\n",
       "    border: 1px solid black;\n",
       "    border-collapse: collapse;\n",
       "  }\n",
       "  th, td {\n",
       "    padding: 5px;\n",
       "  }\n",
       "  th {\n",
       "    text-align: left;\n",
       "  }\n",
       "</style><div class='table-result-container'><table class='table-result'><thead style='background-color: white'><tr><th>path</th><th>name</th><th>size</th><th>modificationTime</th></tr></thead><tbody><tr><td>dbfs:/mydata/retail_partitioned_199/Country=France/part-00000-449a13ce-7e76-4853-95c1-23bdc001500c.c000.snappy.parquet</td><td>part-00000-449a13ce-7e76-4853-95c1-23bdc001500c.c000.snappy.parquet</td><td>17883</td><td>1735392295000</td></tr><tr><td>dbfs:/mydata/retail_partitioned_199/Country=France/part-00001-dde2a786-fd05-4090-b091-de17d128fcff.c000.snappy.parquet</td><td>part-00001-dde2a786-fd05-4090-b091-de17d128fcff.c000.snappy.parquet</td><td>19047</td><td>1735392296000</td></tr><tr><td>dbfs:/mydata/retail_partitioned_199/Country=France/part-00002-ff674efa-4196-4f15-94e9-d96658213b1b.c000.snappy.parquet</td><td>part-00002-ff674efa-4196-4f15-94e9-d96658213b1b.c000.snappy.parquet</td><td>20544</td><td>1735392296000</td></tr><tr><td>dbfs:/mydata/retail_partitioned_199/Country=France/part-00003-a446942e-7ed2-4424-b8a1-ceaaf207689e.c000.snappy.parquet</td><td>part-00003-a446942e-7ed2-4424-b8a1-ceaaf207689e.c000.snappy.parquet</td><td>16305</td><td>1735392296000</td></tr><tr><td>dbfs:/mydata/retail_partitioned_199/Country=France/part-00004-d9616632-54bb-4567-9c04-08298c2e42ca.c000.snappy.parquet</td><td>part-00004-d9616632-54bb-4567-9c04-08298c2e42ca.c000.snappy.parquet</td><td>23973</td><td>1735392296000</td></tr><tr><td>dbfs:/mydata/retail_partitioned_199/Country=France/part-00005-af5d5c49-8d79-43ea-8f9d-3f8740a86f52.c000.snappy.parquet</td><td>part-00005-af5d5c49-8d79-43ea-8f9d-3f8740a86f52.c000.snappy.parquet</td><td>22806</td><td>1735392295000</td></tr><tr><td>dbfs:/mydata/retail_partitioned_199/Country=France/part-00006-d1f194fc-2ac1-47b9-8bbe-8b7967c6d6d6.c000.snappy.parquet</td><td>part-00006-d1f194fc-2ac1-47b9-8bbe-8b7967c6d6d6.c000.snappy.parquet</td><td>23164</td><td>1735392296000</td></tr><tr><td>dbfs:/mydata/retail_partitioned_199/Country=France/part-00007-db04e6df-3c0f-4eb4-9057-3628ee0a9e02.c000.snappy.parquet</td><td>part-00007-db04e6df-3c0f-4eb4-9057-3628ee0a9e02.c000.snappy.parquet</td><td>9740</td><td>1735392295000</td></tr></tbody></table></div>"
      ]
     },
     "metadata": {
      "application/vnd.databricks.v1+output": {
       "addedWidgets": {},
       "aggData": [],
       "aggError": "",
       "aggOverflow": false,
       "aggSchema": [],
       "aggSeriesLimitReached": false,
       "aggType": "",
       "arguments": {},
       "columnCustomDisplayInfos": {},
       "data": [
        [
         "dbfs:/mydata/retail_partitioned_199/Country=France/part-00000-449a13ce-7e76-4853-95c1-23bdc001500c.c000.snappy.parquet",
         "part-00000-449a13ce-7e76-4853-95c1-23bdc001500c.c000.snappy.parquet",
         17883,
         1735392295000
        ],
        [
         "dbfs:/mydata/retail_partitioned_199/Country=France/part-00001-dde2a786-fd05-4090-b091-de17d128fcff.c000.snappy.parquet",
         "part-00001-dde2a786-fd05-4090-b091-de17d128fcff.c000.snappy.parquet",
         19047,
         1735392296000
        ],
        [
         "dbfs:/mydata/retail_partitioned_199/Country=France/part-00002-ff674efa-4196-4f15-94e9-d96658213b1b.c000.snappy.parquet",
         "part-00002-ff674efa-4196-4f15-94e9-d96658213b1b.c000.snappy.parquet",
         20544,
         1735392296000
        ],
        [
         "dbfs:/mydata/retail_partitioned_199/Country=France/part-00003-a446942e-7ed2-4424-b8a1-ceaaf207689e.c000.snappy.parquet",
         "part-00003-a446942e-7ed2-4424-b8a1-ceaaf207689e.c000.snappy.parquet",
         16305,
         1735392296000
        ],
        [
         "dbfs:/mydata/retail_partitioned_199/Country=France/part-00004-d9616632-54bb-4567-9c04-08298c2e42ca.c000.snappy.parquet",
         "part-00004-d9616632-54bb-4567-9c04-08298c2e42ca.c000.snappy.parquet",
         23973,
         1735392296000
        ],
        [
         "dbfs:/mydata/retail_partitioned_199/Country=France/part-00005-af5d5c49-8d79-43ea-8f9d-3f8740a86f52.c000.snappy.parquet",
         "part-00005-af5d5c49-8d79-43ea-8f9d-3f8740a86f52.c000.snappy.parquet",
         22806,
         1735392295000
        ],
        [
         "dbfs:/mydata/retail_partitioned_199/Country=France/part-00006-d1f194fc-2ac1-47b9-8bbe-8b7967c6d6d6.c000.snappy.parquet",
         "part-00006-d1f194fc-2ac1-47b9-8bbe-8b7967c6d6d6.c000.snappy.parquet",
         23164,
         1735392296000
        ],
        [
         "dbfs:/mydata/retail_partitioned_199/Country=France/part-00007-db04e6df-3c0f-4eb4-9057-3628ee0a9e02.c000.snappy.parquet",
         "part-00007-db04e6df-3c0f-4eb4-9057-3628ee0a9e02.c000.snappy.parquet",
         9740,
         1735392295000
        ]
       ],
       "datasetInfos": [],
       "dbfsResultPath": null,
       "isJsonSchema": true,
       "metadata": {},
       "overflow": false,
       "plotOptions": {
        "customPlotOptions": {},
        "displayType": "table",
        "pivotAggregation": null,
        "pivotColumns": null,
        "xColumns": null,
        "yColumns": null
       },
       "removedWidgets": [],
       "schema": [
        {
         "metadata": "{}",
         "name": "path",
         "type": "\"string\""
        },
        {
         "metadata": "{}",
         "name": "name",
         "type": "\"string\""
        },
        {
         "metadata": "{}",
         "name": "size",
         "type": "\"long\""
        },
        {
         "metadata": "{}",
         "name": "modificationTime",
         "type": "\"long\""
        }
       ],
       "type": "table"
      }
     },
     "output_type": "display_data"
    }
   ],
   "source": [
    "display(dbutils.fs.ls(\"/mydata/retail_partitioned_199/Country=France/\"))"
   ]
  },
  {
   "cell_type": "code",
   "execution_count": 0,
   "metadata": {
    "application/vnd.databricks.v1+cell": {
     "cellMetadata": {
      "byteLimit": 2048000,
      "implicitDf": true,
      "rowLimit": 10000
     },
     "inputWidgets": {},
     "nuid": "aa36a39b-741e-4929-aa3e-49d608af08e1",
     "showTitle": false,
     "tableResultSettingsMap": {},
     "title": ""
    }
   },
   "outputs": [
    {
     "output_type": "display_data",
     "data": {
      "text/html": [
       "<style scoped>\n",
       "  .table-result-container {\n",
       "    max-height: 300px;\n",
       "    overflow: auto;\n",
       "  }\n",
       "  table, th, td {\n",
       "    border: 1px solid black;\n",
       "    border-collapse: collapse;\n",
       "  }\n",
       "  th, td {\n",
       "    padding: 5px;\n",
       "  }\n",
       "  th {\n",
       "    text-align: left;\n",
       "  }\n",
       "</style><div class='table-result-container'><table class='table-result'><thead style='background-color: white'><tr><th>qtysold</th></tr></thead><tbody><tr><td>110480</td></tr></tbody></table></div>"
      ]
     },
     "metadata": {
      "application/vnd.databricks.v1+output": {
       "addedWidgets": {},
       "aggData": [],
       "aggError": "",
       "aggOverflow": false,
       "aggSchema": [],
       "aggSeriesLimitReached": false,
       "aggType": "",
       "arguments": {},
       "columnCustomDisplayInfos": {},
       "data": [
        [
         110480
        ]
       ],
       "datasetInfos": [],
       "dbfsResultPath": null,
       "isJsonSchema": true,
       "metadata": {
        "createTempViewForImplicitDf": true,
        "dataframeName": "_sqldf",
        "executionCount": 9
       },
       "overflow": false,
       "plotOptions": {
        "customPlotOptions": {},
        "displayType": "table",
        "pivotAggregation": null,
        "pivotColumns": null,
        "xColumns": null,
        "yColumns": null
       },
       "removedWidgets": [],
       "schema": [
        {
         "metadata": "{}",
         "name": "qtysold",
         "type": "\"long\""
        }
       ],
       "type": "table"
      }
     },
     "output_type": "display_data"
    }
   ],
   "source": [
    "%sql\n",
    "select sum(Quantity) as qtysold\n",
    "from qbex.retail_partitioned_199\n",
    "where Country = 'France'"
   ]
  },
  {
   "cell_type": "code",
   "execution_count": 0,
   "metadata": {
    "application/vnd.databricks.v1+cell": {
     "cellMetadata": {
      "byteLimit": 2048000,
      "implicitDf": true,
      "rowLimit": 10000
     },
     "inputWidgets": {},
     "nuid": "97d77afb-a0ef-47bf-b6ca-2628b539541a",
     "showTitle": false,
     "tableResultSettingsMap": {},
     "title": ""
    }
   },
   "outputs": [
    {
     "output_type": "display_data",
     "data": {
      "text/html": [
       "<style scoped>\n",
       "  .table-result-container {\n",
       "    max-height: 300px;\n",
       "    overflow: auto;\n",
       "  }\n",
       "  table, th, td {\n",
       "    border: 1px solid black;\n",
       "    border-collapse: collapse;\n",
       "  }\n",
       "  th, td {\n",
       "    padding: 5px;\n",
       "  }\n",
       "  th {\n",
       "    text-align: left;\n",
       "  }\n",
       "</style><div class='table-result-container'><table class='table-result'><thead style='background-color: white'><tr><th>InvoiceNo</th><th>StockCode</th><th>Description</th><th>Quantity</th><th>InvoiceDate</th><th>UnitPrice</th><th>CustomerID</th><th>Country</th></tr></thead><tbody><tr><td>536365</td><td>21730</td><td>GLASS STAR FROSTED T-LIGHT HOLDER</td><td>6</td><td>12/1/2010 8:26</td><td>4.25</td><td>17850</td><td>United Kingdom</td></tr><tr><td>536365</td><td>85123A</td><td>WHITE HANGING HEART T-LIGHT HOLDER</td><td>6</td><td>12/1/2010 8:26</td><td>2.55</td><td>17850</td><td>United Kingdom</td></tr><tr><td>536365</td><td>84029G</td><td>KNITTED UNION FLAG HOT WATER BOTTLE</td><td>6</td><td>12/1/2010 8:26</td><td>3.39</td><td>17850</td><td>United Kingdom</td></tr><tr><td>536365</td><td>84406B</td><td>CREAM CUPID HEARTS COAT HANGER</td><td>8</td><td>12/1/2010 8:26</td><td>2.75</td><td>17850</td><td>United Kingdom</td></tr><tr><td>536365</td><td>71053</td><td>WHITE METAL LANTERN</td><td>6</td><td>12/1/2010 8:26</td><td>3.39</td><td>17850</td><td>United Kingdom</td></tr><tr><td>536365</td><td>84029E</td><td>RED WOOLLY HOTTIE WHITE HEART.</td><td>6</td><td>12/1/2010 8:26</td><td>3.39</td><td>17850</td><td>United Kingdom</td></tr><tr><td>536365</td><td>22752</td><td>SET 7 BABUSHKA NESTING BOXES</td><td>2</td><td>12/1/2010 8:26</td><td>7.65</td><td>17850</td><td>United Kingdom</td></tr></tbody></table></div>"
      ]
     },
     "metadata": {
      "application/vnd.databricks.v1+output": {
       "addedWidgets": {},
       "aggData": [],
       "aggError": "",
       "aggOverflow": false,
       "aggSchema": [],
       "aggSeriesLimitReached": false,
       "aggType": "",
       "arguments": {},
       "columnCustomDisplayInfos": {},
       "data": [
        [
         "536365",
         "21730",
         "GLASS STAR FROSTED T-LIGHT HOLDER",
         6,
         "12/1/2010 8:26",
         4.25,
         17850,
         "United Kingdom"
        ],
        [
         "536365",
         "85123A",
         "WHITE HANGING HEART T-LIGHT HOLDER",
         6,
         "12/1/2010 8:26",
         2.55,
         17850,
         "United Kingdom"
        ],
        [
         "536365",
         "84029G",
         "KNITTED UNION FLAG HOT WATER BOTTLE",
         6,
         "12/1/2010 8:26",
         3.39,
         17850,
         "United Kingdom"
        ],
        [
         "536365",
         "84406B",
         "CREAM CUPID HEARTS COAT HANGER",
         8,
         "12/1/2010 8:26",
         2.75,
         17850,
         "United Kingdom"
        ],
        [
         "536365",
         "71053",
         "WHITE METAL LANTERN",
         6,
         "12/1/2010 8:26",
         3.39,
         17850,
         "United Kingdom"
        ],
        [
         "536365",
         "84029E",
         "RED WOOLLY HOTTIE WHITE HEART.",
         6,
         "12/1/2010 8:26",
         3.39,
         17850,
         "United Kingdom"
        ],
        [
         "536365",
         "22752",
         "SET 7 BABUSHKA NESTING BOXES",
         2,
         "12/1/2010 8:26",
         7.65,
         17850,
         "United Kingdom"
        ]
       ],
       "datasetInfos": [],
       "dbfsResultPath": null,
       "isJsonSchema": true,
       "metadata": {
        "createTempViewForImplicitDf": true,
        "dataframeName": "_sqldf",
        "executionCount": 10
       },
       "overflow": false,
       "plotOptions": {
        "customPlotOptions": {},
        "displayType": "table",
        "pivotAggregation": null,
        "pivotColumns": null,
        "xColumns": null,
        "yColumns": null
       },
       "removedWidgets": [],
       "schema": [
        {
         "metadata": "{}",
         "name": "InvoiceNo",
         "type": "\"string\""
        },
        {
         "metadata": "{}",
         "name": "StockCode",
         "type": "\"string\""
        },
        {
         "metadata": "{}",
         "name": "Description",
         "type": "\"string\""
        },
        {
         "metadata": "{}",
         "name": "Quantity",
         "type": "\"integer\""
        },
        {
         "metadata": "{}",
         "name": "InvoiceDate",
         "type": "\"string\""
        },
        {
         "metadata": "{}",
         "name": "UnitPrice",
         "type": "\"double\""
        },
        {
         "metadata": "{}",
         "name": "CustomerID",
         "type": "\"integer\""
        },
        {
         "metadata": "{}",
         "name": "Country",
         "type": "\"string\""
        }
       ],
       "type": "table"
      }
     },
     "output_type": "display_data"
    }
   ],
   "source": [
    "%sql\n",
    "select *\n",
    "from qbex.retail_199\n",
    "where InvoiceNo = '536365'"
   ]
  },
  {
   "cell_type": "code",
   "execution_count": 0,
   "metadata": {
    "application/vnd.databricks.v1+cell": {
     "cellMetadata": {
      "byteLimit": 2048000,
      "implicitDf": true,
      "rowLimit": 10000
     },
     "inputWidgets": {},
     "nuid": "e328f9fa-bcc8-40cc-975f-d281084e760c",
     "showTitle": false,
     "tableResultSettingsMap": {},
     "title": ""
    }
   },
   "outputs": [
    {
     "output_type": "display_data",
     "data": {
      "text/html": [
       "<style scoped>\n",
       "  .table-result-container {\n",
       "    max-height: 300px;\n",
       "    overflow: auto;\n",
       "  }\n",
       "  table, th, td {\n",
       "    border: 1px solid black;\n",
       "    border-collapse: collapse;\n",
       "  }\n",
       "  th, td {\n",
       "    padding: 5px;\n",
       "  }\n",
       "  th {\n",
       "    text-align: left;\n",
       "  }\n",
       "</style><div class='table-result-container'><table class='table-result'><thead style='background-color: white'><tr><th>min(InvoiceNo)</th><th>max(InvoiceNo)</th><th>file_name</th></tr></thead><tbody><tr><td>536367</td><td>C581409</td><td>part-00000-40b936fe-dcdf-42a7-a55e-13c70acc10e7-c000.snappy.parquet</td></tr><tr><td>536370</td><td>C581393</td><td>part-00001-b792a122-f5d9-433c-942a-5ceb253a1a97-c000.snappy.parquet</td></tr><tr><td>536367</td><td>C581470</td><td>part-00002-7d012de0-4c16-48e7-92a1-ff4410ca9884-c000.snappy.parquet</td></tr><tr><td>536375</td><td>C581569</td><td>part-00003-c9d3eb99-877d-491b-a2d8-660c70568de2-c000.snappy.parquet</td></tr><tr><td>536373</td><td>C581466</td><td>part-00004-07c374ff-f190-415d-8295-ac3bec6d054f-c000.snappy.parquet</td></tr><tr><td>536368</td><td>C581316</td><td>part-00005-9aa05471-7d57-4912-89a3-cb24e93d1d4c-c000.snappy.parquet</td></tr><tr><td>536367</td><td>C581466</td><td>part-00006-4f342210-41be-46c7-a188-9d70c41b64a3-c000.snappy.parquet</td></tr><tr><td>536365</td><td>C581484</td><td>part-00007-915bf77f-1f2c-4d1e-8d6f-e11683d63499-c000.snappy.parquet</td></tr><tr><td>536365</td><td>C581465</td><td>part-00008-b5cb5d6e-053b-40dc-a4c4-752e3110dd0e-c000.snappy.parquet</td></tr><tr><td>536365</td><td>C581468</td><td>part-00009-60bbe8bd-7cee-4f95-bd4b-5a7dc1f29fdd-c000.snappy.parquet</td></tr><tr><td>536368</td><td>C581568</td><td>part-00010-b501d0fb-c449-4257-ba8a-9ea28d069e61-c000.snappy.parquet</td></tr><tr><td>536367</td><td>C581466</td><td>part-00011-8b9c18c5-9f6f-43d8-b5c7-47e4779c1c7a-c000.snappy.parquet</td></tr><tr><td>536367</td><td>C581117</td><td>part-00012-e38a3194-7cec-4238-a056-e7c2dc1f8786-c000.snappy.parquet</td></tr><tr><td>536367</td><td>C581569</td><td>part-00013-af55d2c7-5c90-4856-b1a4-120edb8647df-c000.snappy.parquet</td></tr><tr><td>536370</td><td>C581462</td><td>part-00014-703a8e0a-1bfe-49bf-b4a6-5bc7a5547956-c000.snappy.parquet</td></tr><tr><td>536367</td><td>C581229</td><td>part-00015-9a2a94fc-92b8-4566-bb0b-49d669a5790e-c000.snappy.parquet</td></tr><tr><td>536370</td><td>C581490</td><td>part-00016-df4e314f-ce6b-4e24-9b4c-e07735e3d3bb-c000.snappy.parquet</td></tr><tr><td>536365</td><td>C581464</td><td>part-00017-7b07d60e-4374-40a8-81ce-c0abfbd8ceef-c000.snappy.parquet</td></tr><tr><td>536365</td><td>C581305</td><td>part-00018-3e6ba612-3902-4ef5-af5e-471284cbfea3-c000.snappy.parquet</td></tr><tr><td>536375</td><td>C581490</td><td>part-00019-624cd3d2-044f-4f8d-8a09-63b6ba8809af-c000.snappy.parquet</td></tr></tbody></table></div>"
      ]
     },
     "metadata": {
      "application/vnd.databricks.v1+output": {
       "addedWidgets": {},
       "aggData": [],
       "aggError": "",
       "aggOverflow": false,
       "aggSchema": [],
       "aggSeriesLimitReached": false,
       "aggType": "",
       "arguments": {},
       "columnCustomDisplayInfos": {},
       "data": [
        [
         "536367",
         "C581409",
         "part-00000-40b936fe-dcdf-42a7-a55e-13c70acc10e7-c000.snappy.parquet"
        ],
        [
         "536370",
         "C581393",
         "part-00001-b792a122-f5d9-433c-942a-5ceb253a1a97-c000.snappy.parquet"
        ],
        [
         "536367",
         "C581470",
         "part-00002-7d012de0-4c16-48e7-92a1-ff4410ca9884-c000.snappy.parquet"
        ],
        [
         "536375",
         "C581569",
         "part-00003-c9d3eb99-877d-491b-a2d8-660c70568de2-c000.snappy.parquet"
        ],
        [
         "536373",
         "C581466",
         "part-00004-07c374ff-f190-415d-8295-ac3bec6d054f-c000.snappy.parquet"
        ],
        [
         "536368",
         "C581316",
         "part-00005-9aa05471-7d57-4912-89a3-cb24e93d1d4c-c000.snappy.parquet"
        ],
        [
         "536367",
         "C581466",
         "part-00006-4f342210-41be-46c7-a188-9d70c41b64a3-c000.snappy.parquet"
        ],
        [
         "536365",
         "C581484",
         "part-00007-915bf77f-1f2c-4d1e-8d6f-e11683d63499-c000.snappy.parquet"
        ],
        [
         "536365",
         "C581465",
         "part-00008-b5cb5d6e-053b-40dc-a4c4-752e3110dd0e-c000.snappy.parquet"
        ],
        [
         "536365",
         "C581468",
         "part-00009-60bbe8bd-7cee-4f95-bd4b-5a7dc1f29fdd-c000.snappy.parquet"
        ],
        [
         "536368",
         "C581568",
         "part-00010-b501d0fb-c449-4257-ba8a-9ea28d069e61-c000.snappy.parquet"
        ],
        [
         "536367",
         "C581466",
         "part-00011-8b9c18c5-9f6f-43d8-b5c7-47e4779c1c7a-c000.snappy.parquet"
        ],
        [
         "536367",
         "C581117",
         "part-00012-e38a3194-7cec-4238-a056-e7c2dc1f8786-c000.snappy.parquet"
        ],
        [
         "536367",
         "C581569",
         "part-00013-af55d2c7-5c90-4856-b1a4-120edb8647df-c000.snappy.parquet"
        ],
        [
         "536370",
         "C581462",
         "part-00014-703a8e0a-1bfe-49bf-b4a6-5bc7a5547956-c000.snappy.parquet"
        ],
        [
         "536367",
         "C581229",
         "part-00015-9a2a94fc-92b8-4566-bb0b-49d669a5790e-c000.snappy.parquet"
        ],
        [
         "536370",
         "C581490",
         "part-00016-df4e314f-ce6b-4e24-9b4c-e07735e3d3bb-c000.snappy.parquet"
        ],
        [
         "536365",
         "C581464",
         "part-00017-7b07d60e-4374-40a8-81ce-c0abfbd8ceef-c000.snappy.parquet"
        ],
        [
         "536365",
         "C581305",
         "part-00018-3e6ba612-3902-4ef5-af5e-471284cbfea3-c000.snappy.parquet"
        ],
        [
         "536375",
         "C581490",
         "part-00019-624cd3d2-044f-4f8d-8a09-63b6ba8809af-c000.snappy.parquet"
        ]
       ],
       "datasetInfos": [],
       "dbfsResultPath": null,
       "isJsonSchema": true,
       "metadata": {
        "createTempViewForImplicitDf": true,
        "dataframeName": "_sqldf",
        "executionCount": 11
       },
       "overflow": false,
       "plotOptions": {
        "customPlotOptions": {},
        "displayType": "table",
        "pivotAggregation": null,
        "pivotColumns": null,
        "xColumns": null,
        "yColumns": null
       },
       "removedWidgets": [],
       "schema": [
        {
         "metadata": "{\"__autoGeneratedAlias\":\"true\"}",
         "name": "min(InvoiceNo)",
         "type": "\"string\""
        },
        {
         "metadata": "{\"__autoGeneratedAlias\":\"true\"}",
         "name": "max(InvoiceNo)",
         "type": "\"string\""
        },
        {
         "metadata": "{}",
         "name": "file_name",
         "type": "\"string\""
        }
       ],
       "type": "table"
      }
     },
     "output_type": "display_data"
    }
   ],
   "source": [
    "%sql\n",
    "select min(InvoiceNo), max(InvoiceNo), _metadata.file_name\n",
    "from qbex.retail_199\n",
    "group by _metadata.file_name\n",
    "-- where InvoiceNo = 536365"
   ]
  },
  {
   "cell_type": "code",
   "execution_count": 0,
   "metadata": {
    "application/vnd.databricks.v1+cell": {
     "cellMetadata": {
      "byteLimit": 2048000,
      "rowLimit": 10000
     },
     "inputWidgets": {},
     "nuid": "ecedbf90-af38-4952-9cff-79b97a0d06b5",
     "showTitle": false,
     "tableResultSettingsMap": {},
     "title": ""
    }
   },
   "outputs": [
    {
     "output_type": "execute_result",
     "data": {
      "text/plain": [
       "'524288'"
      ]
     },
     "execution_count": 28,
     "metadata": {},
     "output_type": "execute_result"
    }
   ],
   "source": [
    "spark.conf.get(\"spark.databricks.delta.optimize.maxFileSize\")\n",
    "# spark.conf.set(\"spark.databricks.delta.optimize.maxFileSize\", 64*1024*8)"
   ]
  },
  {
   "cell_type": "code",
   "execution_count": 0,
   "metadata": {
    "application/vnd.databricks.v1+cell": {
     "cellMetadata": {
      "byteLimit": 2048000,
      "implicitDf": true,
      "rowLimit": 10000
     },
     "inputWidgets": {},
     "nuid": "6557baea-c37f-4675-bc40-5c940bb2bea9",
     "showTitle": false,
     "tableResultSettingsMap": {},
     "title": ""
    }
   },
   "outputs": [
    {
     "output_type": "display_data",
     "data": {
      "text/html": [
       "<style scoped>\n",
       "  .table-result-container {\n",
       "    max-height: 300px;\n",
       "    overflow: auto;\n",
       "  }\n",
       "  table, th, td {\n",
       "    border: 1px solid black;\n",
       "    border-collapse: collapse;\n",
       "  }\n",
       "  th, td {\n",
       "    padding: 5px;\n",
       "  }\n",
       "  th {\n",
       "    text-align: left;\n",
       "  }\n",
       "</style><div class='table-result-container'><table class='table-result'><thead style='background-color: white'><tr><th>path</th><th>metrics</th></tr></thead><tbody><tr><td>dbfs:/mydata/retail_199</td><td>List(18, 20, List(312486, 414036, 348352.8888888889, 18, 6270352), List(474684, 477168, 475925.45, 20, 9518509), 0, List(minCubeSize(107374182400), List(0, 0), List(20, 9518509), 0, List(20, 9518509), 1, null), null, 0, 1, 20, 0, false, 0, 0, 1735392486117, 1735392505732, 8, 1, null, List(0, 0), 8, 8, 33861, 0, null)</td></tr></tbody></table></div>"
      ]
     },
     "metadata": {
      "application/vnd.databricks.v1+output": {
       "addedWidgets": {},
       "aggData": [],
       "aggError": "",
       "aggOverflow": false,
       "aggSchema": [],
       "aggSeriesLimitReached": false,
       "aggType": "",
       "arguments": {},
       "columnCustomDisplayInfos": {},
       "data": [
        [
         "dbfs:/mydata/retail_199",
         [
          18,
          20,
          [
           312486,
           414036,
           348352.8888888889,
           18,
           6270352
          ],
          [
           474684,
           477168,
           475925.45,
           20,
           9518509
          ],
          0,
          [
           "minCubeSize(107374182400)",
           [
            0,
            0
           ],
           [
            20,
            9518509
           ],
           0,
           [
            20,
            9518509
           ],
           1,
           null
          ],
          null,
          0,
          1,
          20,
          0,
          false,
          0,
          0,
          1735392486117,
          1735392505732,
          8,
          1,
          null,
          [
           0,
           0
          ],
          8,
          8,
          33861,
          0,
          null
         ]
        ]
       ],
       "datasetInfos": [],
       "dbfsResultPath": null,
       "isJsonSchema": true,
       "metadata": {
        "createTempViewForImplicitDf": true,
        "dataframeName": "_sqldf",
        "executionCount": 13
       },
       "overflow": false,
       "plotOptions": {
        "customPlotOptions": {},
        "displayType": "table",
        "pivotAggregation": null,
        "pivotColumns": null,
        "xColumns": null,
        "yColumns": null
       },
       "removedWidgets": [],
       "schema": [
        {
         "metadata": "{}",
         "name": "path",
         "type": "\"string\""
        },
        {
         "metadata": "{}",
         "name": "metrics",
         "type": "{\"type\":\"struct\",\"fields\":[{\"name\":\"numFilesAdded\",\"type\":\"long\",\"nullable\":false,\"metadata\":{}},{\"name\":\"numFilesRemoved\",\"type\":\"long\",\"nullable\":false,\"metadata\":{}},{\"name\":\"filesAdded\",\"type\":{\"type\":\"struct\",\"fields\":[{\"name\":\"min\",\"type\":\"long\",\"nullable\":true,\"metadata\":{}},{\"name\":\"max\",\"type\":\"long\",\"nullable\":true,\"metadata\":{}},{\"name\":\"avg\",\"type\":\"double\",\"nullable\":false,\"metadata\":{}},{\"name\":\"totalFiles\",\"type\":\"long\",\"nullable\":false,\"metadata\":{}},{\"name\":\"totalSize\",\"type\":\"long\",\"nullable\":false,\"metadata\":{}}]},\"nullable\":true,\"metadata\":{}},{\"name\":\"filesRemoved\",\"type\":{\"type\":\"struct\",\"fields\":[{\"name\":\"min\",\"type\":\"long\",\"nullable\":true,\"metadata\":{}},{\"name\":\"max\",\"type\":\"long\",\"nullable\":true,\"metadata\":{}},{\"name\":\"avg\",\"type\":\"double\",\"nullable\":false,\"metadata\":{}},{\"name\":\"totalFiles\",\"type\":\"long\",\"nullable\":false,\"metadata\":{}},{\"name\":\"totalSize\",\"type\":\"long\",\"nullable\":false,\"metadata\":{}}]},\"nullable\":true,\"metadata\":{}},{\"name\":\"partitionsOptimized\",\"type\":\"long\",\"nullable\":false,\"metadata\":{}},{\"name\":\"zOrderStats\",\"type\":{\"type\":\"struct\",\"fields\":[{\"name\":\"strategyName\",\"type\":\"string\",\"nullable\":true,\"metadata\":{}},{\"name\":\"inputCubeFiles\",\"type\":{\"type\":\"struct\",\"fields\":[{\"name\":\"num\",\"type\":\"long\",\"nullable\":false,\"metadata\":{}},{\"name\":\"size\",\"type\":\"long\",\"nullable\":false,\"metadata\":{}}]},\"nullable\":true,\"metadata\":{}},{\"name\":\"inputOtherFiles\",\"type\":{\"type\":\"struct\",\"fields\":[{\"name\":\"num\",\"type\":\"long\",\"nullable\":false,\"metadata\":{}},{\"name\":\"size\",\"type\":\"long\",\"nullable\":false,\"metadata\":{}}]},\"nullable\":true,\"metadata\":{}},{\"name\":\"inputNumCubes\",\"type\":\"long\",\"nullable\":false,\"metadata\":{}},{\"name\":\"mergedFiles\",\"type\":{\"type\":\"struct\",\"fields\":[{\"name\":\"num\",\"type\":\"long\",\"nullable\":false,\"metadata\":{}},{\"name\":\"size\",\"type\":\"long\",\"nullable\":false,\"metadata\":{}}]},\"nullable\":true,\"metadata\":{}},{\"name\":\"numOutputCubes\",\"type\":\"long\",\"nullable\":false,\"metadata\":{}},{\"name\":\"mergedNumCubes\",\"type\":\"long\",\"nullable\":true,\"metadata\":{}}]},\"nullable\":true,\"metadata\":{}},{\"name\":\"clusteringStats\",\"type\":{\"type\":\"struct\",\"fields\":[{\"name\":\"inputZCubeFiles\",\"type\":{\"type\":\"struct\",\"fields\":[{\"name\":\"numFiles\",\"type\":\"long\",\"nullable\":false,\"metadata\":{}},{\"name\":\"size\",\"type\":\"long\",\"nullable\":false,\"metadata\":{}}]},\"nullable\":true,\"metadata\":{}},{\"name\":\"inputOtherFiles\",\"type\":{\"type\":\"struct\",\"fields\":[{\"name\":\"numFiles\",\"type\":\"long\",\"nullable\":false,\"metadata\":{}},{\"name\":\"size\",\"type\":\"long\",\"nullable\":false,\"metadata\":{}}]},\"nullable\":true,\"metadata\":{}},{\"name\":\"inputNumZCubes\",\"type\":\"long\",\"nullable\":false,\"metadata\":{}},{\"name\":\"mergedFiles\",\"type\":{\"type\":\"struct\",\"fields\":[{\"name\":\"numFiles\",\"type\":\"long\",\"nullable\":false,\"metadata\":{}},{\"name\":\"size\",\"type\":\"long\",\"nullable\":false,\"metadata\":{}}]},\"nullable\":true,\"metadata\":{}},{\"name\":\"numOutputZCubes\",\"type\":\"long\",\"nullable\":false,\"metadata\":{}}]},\"nullable\":true,\"metadata\":{}},{\"name\":\"numBins\",\"type\":\"long\",\"nullable\":false,\"metadata\":{}},{\"name\":\"numBatches\",\"type\":\"long\",\"nullable\":false,\"metadata\":{}},{\"name\":\"totalConsideredFiles\",\"type\":\"long\",\"nullable\":false,\"metadata\":{}},{\"name\":\"totalFilesSkipped\",\"type\":\"long\",\"nullable\":false,\"metadata\":{}},{\"name\":\"preserveInsertionOrder\",\"type\":\"boolean\",\"nullable\":false,\"metadata\":{}},{\"name\":\"numFilesSkippedToReduceWriteAmplification\",\"type\":\"long\",\"nullable\":false,\"metadata\":{}},{\"name\":\"numBytesSkippedToReduceWriteAmplification\",\"type\":\"long\",\"nullable\":false,\"metadata\":{}},{\"name\":\"startTimeMs\",\"type\":\"long\",\"nullable\":false,\"metadata\":{}},{\"name\":\"endTimeMs\",\"type\":\"long\",\"nullable\":false,\"metadata\":{}},{\"name\":\"totalClusterParallelism\",\"type\":\"long\",\"nullable\":false,\"metadata\":{}},{\"name\":\"totalScheduledTasks\",\"type\":\"long\",\"nullable\":false,\"metadata\":{}},{\"name\":\"autoCompactParallelismStats\",\"type\":{\"type\":\"struct\",\"fields\":[{\"name\":\"maxClusterActiveParallelism\",\"type\":\"long\",\"nullable\":true,\"metadata\":{}},{\"name\":\"minClusterActiveParallelism\",\"type\":\"long\",\"nullable\":true,\"metadata\":{}},{\"name\":\"maxSessionActiveParallelism\",\"type\":\"long\",\"nullable\":true,\"metadata\":{}},{\"name\":\"minSessionActiveParallelism\",\"type\":\"long\",\"nullable\":true,\"metadata\":{}}]},\"nullable\":true,\"metadata\":{}},{\"name\":\"deletionVectorStats\",\"type\":{\"type\":\"struct\",\"fields\":[{\"name\":\"numDeletionVectorsRemoved\",\"type\":\"long\",\"nullable\":false,\"metadata\":{}},{\"name\":\"numDeletionVectorRowsRemoved\",\"type\":\"long\",\"nullable\":false,\"metadata\":{}}]},\"nullable\":true,\"metadata\":{}},{\"name\":\"numTableColumns\",\"type\":\"long\",\"nullable\":false,\"metadata\":{}},{\"name\":\"numTableColumnsWithStats\",\"type\":\"long\",\"nullable\":false,\"metadata\":{}},{\"name\":\"totalTaskExecutionTimeMs\",\"type\":\"long\",\"nullable\":false,\"metadata\":{}},{\"name\":\"skippedArchivedFiles\",\"type\":\"long\",\"nullable\":false,\"metadata\":{}},{\"name\":\"clusteringMetrics\",\"type\":{\"type\":\"struct\",\"fields\":[{\"name\":\"sizeOfTableInBytesBeforeLazyClustering\",\"type\":\"long\",\"nullable\":false,\"metadata\":{}},{\"name\":\"isNewMetadataCreated\",\"type\":\"boolean\",\"nullable\":false,\"metadata\":{}},{\"name\":\"isPOTriggered\",\"type\":\"boolean\",\"nullable\":false,\"metadata\":{}},{\"name\":\"numFilesSkippedWithoutStats\",\"type\":\"long\",\"nullable\":false,\"metadata\":{}},{\"name\":\"numFilesClassifiedToIntermediateNodes\",\"type\":\"long\",\"nullable\":false,\"metadata\":{}},{\"name\":\"sizeOfFilesClassifiedToIntermediateNodesInBytes\",\"type\":\"long\",\"nullable\":false,\"metadata\":{}},{\"name\":\"logicalSizeOfFilesClassifiedToIntermediateNodesInBytes\",\"type\":\"long\",\"nullable\":false,\"metadata\":{}},{\"name\":\"numFilesClassifiedToLeafNodes\",\"type\":\"long\",\"nullable\":false,\"metadata\":{}},{\"name\":\"sizeOfFilesClassifiedToLeafNodesInBytes\",\"type\":\"long\",\"nullable\":false,\"metadata\":{}},{\"name\":\"logicalSizeOfFilesClassifiedToLeafNodesInBytes\",\"type\":\"long\",\"nullable\":false,\"metadata\":{}},{\"name\":\"numThreadsForClassifier\",\"type\":\"integer\",\"nullable\":true,\"metadata\":{}},{\"name\":\"clusterThresholdStrategy\",\"type\":\"string\",\"nullable\":true,\"metadata\":{}},{\"name\":\"minFileSize\",\"type\":\"long\",\"nullable\":false,\"metadata\":{}},{\"name\":\"maxFileSize\",\"type\":\"long\",\"nullable\":false,\"metadata\":{}},{\"name\":\"nodeMinNumFilesToCompact\",\"type\":\"long\",\"nullable\":false,\"metadata\":{}},{\"name\":\"numIdealFiles\",\"type\":\"long\",\"nullable\":false,\"metadata\":{}},{\"name\":\"numClusteringTasksPlanned\",\"type\":\"integer\",\"nullable\":false,\"metadata\":{}},{\"name\":\"numCompactionTasksPlanned\",\"type\":\"integer\",\"nullable\":false,\"metadata\":{}},{\"name\":\"numOptimizeBatchesPlanned\",\"type\":\"integer\",\"nullable\":false,\"metadata\":{}},{\"name\":\"numLeafNodesExpanded\",\"type\":\"long\",\"nullable\":false,\"metadata\":{}},{\"name\":\"numLeafNodesClustered\",\"type\":\"long\",\"nullable\":false,\"metadata\":{}},{\"name\":\"numGetFilesForNodeCalls\",\"type\":\"long\",\"nullable\":false,\"metadata\":{}},{\"name\":\"numSamplingJobs\",\"type\":\"long\",\"nullable\":false,\"metadata\":{}},{\"name\":\"numLeafNodesCompacted\",\"type\":\"long\",\"nullable\":false,\"metadata\":{}},{\"name\":\"numIntermediateNodesCompacted\",\"type\":\"long\",\"nullable\":false,\"metadata\":{}},{\"name\":\"totalSizeOfDataToCompactInBytes\",\"type\":\"long\",\"nullable\":false,\"metadata\":{}},{\"name\":\"totalLogicalSizeOfDataToCompactInBytes\",\"type\":\"long\",\"nullable\":false,\"metadata\":{}},{\"name\":\"numIntermediateNodesClustered\",\"type\":\"long\",\"nullable\":false,\"metadata\":{}},{\"name\":\"numFilesSkippedAfterExpansion\",\"type\":\"long\",\"nullable\":false,\"metadata\":{}},{\"name\":\"totalSizeOfFilesSkippedAfterExpansionInBytes\",\"type\":\"long\",\"nullable\":false,\"metadata\":{}},{\"name\":\"totalLogicalSizeOfFilesSkippedAfterExpansionInBytes\",\"type\":\"long\",\"nullable\":false,\"metadata\":{}},{\"name\":\"totalSizeOfDataToRewriteInBytes\",\"type\":\"long\",\"nullable\":false,\"metadata\":{}},{\"name\":\"totalLogicalSizeOfDataToRewriteInBytes\",\"type\":\"long\",\"nullable\":false,\"metadata\":{}},{\"name\":\"timeMetrics\",\"type\":{\"type\":\"struct\",\"fields\":[{\"name\":\"classifierTimeMs\",\"type\":\"long\",\"nullable\":false,\"metadata\":{}},{\"name\":\"optimizerTimeMs\",\"type\":\"long\",\"nullable\":false,\"metadata\":{}},{\"name\":\"metadataLoadTimeMs\",\"type\":\"long\",\"nullable\":false,\"metadata\":{}},{\"name\":\"totalGetFilesForNodeCallsTimeMs\",\"type\":\"long\",\"nullable\":false,\"metadata\":{}},{\"name\":\"totalSamplingTimeMs\",\"type\":\"long\",\"nullable\":false,\"metadata\":{}},{\"name\":\"metadataCreationTimeMs\",\"type\":\"long\",\"nullable\":false,\"metadata\":{}}]},\"nullable\":true,\"metadata\":{}},{\"name\":\"maxOptimizeBatchesInParallel\",\"type\":\"long\",\"nullable\":false,\"metadata\":{}},{\"name\":\"currentIteration\",\"type\":\"integer\",\"nullable\":false,\"metadata\":{}},{\"name\":\"maxIterations\",\"type\":\"integer\",\"nullable\":false,\"metadata\":{}},{\"name\":\"clusteringStrategy\",\"type\":\"string\",\"nullable\":true,\"metadata\":{}}]},\"nullable\":true,\"metadata\":{}}]}"
        }
       ],
       "type": "table"
      }
     },
     "output_type": "display_data"
    }
   ],
   "source": [
    "%sql\n",
    "OPTIMIZE qbex.retail_199 ZORDER BY (InvoiceNo)"
   ]
  },
  {
   "cell_type": "code",
   "execution_count": 0,
   "metadata": {
    "application/vnd.databricks.v1+cell": {
     "cellMetadata": {
      "byteLimit": 2048000,
      "implicitDf": true,
      "rowLimit": 10000
     },
     "inputWidgets": {},
     "nuid": "81790650-a3c1-4704-8497-61624160f6a7",
     "showTitle": false,
     "tableResultSettingsMap": {},
     "title": ""
    }
   },
   "outputs": [
    {
     "output_type": "display_data",
     "data": {
      "text/html": [
       "<style scoped>\n",
       "  .table-result-container {\n",
       "    max-height: 300px;\n",
       "    overflow: auto;\n",
       "  }\n",
       "  table, th, td {\n",
       "    border: 1px solid black;\n",
       "    border-collapse: collapse;\n",
       "  }\n",
       "  th, td {\n",
       "    padding: 5px;\n",
       "  }\n",
       "  th {\n",
       "    text-align: left;\n",
       "  }\n",
       "</style><div class='table-result-container'><table class='table-result'><thead style='background-color: white'><tr><th>file_name</th></tr></thead><tbody><tr><td>part-00000-8082059d-174d-4c8e-875f-4bc4a0501cbb-c000.snappy.parquet</td></tr><tr><td>part-00000-8082059d-174d-4c8e-875f-4bc4a0501cbb-c000.snappy.parquet</td></tr></tbody></table></div>"
      ]
     },
     "metadata": {
      "application/vnd.databricks.v1+output": {
       "addedWidgets": {},
       "aggData": [],
       "aggError": "",
       "aggOverflow": false,
       "aggSchema": [],
       "aggSeriesLimitReached": false,
       "aggType": "",
       "arguments": {},
       "columnCustomDisplayInfos": {},
       "data": [
        [
         "part-00000-8082059d-174d-4c8e-875f-4bc4a0501cbb-c000.snappy.parquet"
        ],
        [
         "part-00000-8082059d-174d-4c8e-875f-4bc4a0501cbb-c000.snappy.parquet"
        ]
       ],
       "datasetInfos": [],
       "dbfsResultPath": null,
       "isJsonSchema": true,
       "metadata": {
        "createTempViewForImplicitDf": true,
        "dataframeName": "_sqldf",
        "executionCount": 14
       },
       "overflow": false,
       "plotOptions": {
        "customPlotOptions": {},
        "displayType": "table",
        "pivotAggregation": null,
        "pivotColumns": null,
        "xColumns": null,
        "yColumns": null
       },
       "removedWidgets": [],
       "schema": [
        {
         "metadata": "{}",
         "name": "file_name",
         "type": "\"string\""
        }
       ],
       "type": "table"
      }
     },
     "output_type": "display_data"
    }
   ],
   "source": [
    "%sql\n",
    "select _metadata.file_name\n",
    "from qbex.retail_199\n",
    "where InvoiceNo = '536366'"
   ]
  },
  {
   "cell_type": "code",
   "execution_count": 0,
   "metadata": {
    "application/vnd.databricks.v1+cell": {
     "cellMetadata": {
      "byteLimit": 2048000,
      "implicitDf": true,
      "rowLimit": 10000
     },
     "inputWidgets": {},
     "nuid": "75628ea4-518c-4d3c-8d9f-a034d9b419f0",
     "showTitle": false,
     "tableResultSettingsMap": {},
     "title": ""
    }
   },
   "outputs": [
    {
     "output_type": "display_data",
     "data": {
      "text/html": [
       "<style scoped>\n",
       "  .table-result-container {\n",
       "    max-height: 300px;\n",
       "    overflow: auto;\n",
       "  }\n",
       "  table, th, td {\n",
       "    border: 1px solid black;\n",
       "    border-collapse: collapse;\n",
       "  }\n",
       "  th, td {\n",
       "    padding: 5px;\n",
       "  }\n",
       "  th {\n",
       "    text-align: left;\n",
       "  }\n",
       "</style><div class='table-result-container'><table class='table-result'><thead style='background-color: white'><tr><th>version</th><th>timestamp</th><th>userId</th><th>userName</th><th>operation</th><th>operationParameters</th><th>job</th><th>notebook</th><th>clusterId</th><th>readVersion</th><th>isolationLevel</th><th>isBlindAppend</th><th>operationMetrics</th><th>userMetadata</th><th>engineInfo</th></tr></thead><tbody><tr><td>1</td><td>2024-12-28T13:28:23Z</td><td>141785285425900</td><td>qbex.azure@gmail.com</td><td>OPTIMIZE</td><td>Map(predicate -> [], auto -> false, clusterBy -> [], zOrderBy -> [\"InvoiceNo\"], batchId -> 0)</td><td>null</td><td>List(2209238712519839)</td><td>1228-131604-l7verqvn</td><td>0</td><td>SnapshotIsolation</td><td>false</td><td>Map(numRemovedFiles -> 20, numRemovedBytes -> 9518509, p25FileSize -> 337865, numDeletionVectorsRemoved -> 0, minFileSize -> 312486, numAddedFiles -> 18, maxFileSize -> 414036, p75FileSize -> 350781, p50FileSize -> 343136, numAddedBytes -> 6270352)</td><td>null</td><td>Databricks-Runtime/15.4.x-scala2.12</td></tr><tr><td>0</td><td>2024-12-28T13:23:55Z</td><td>141785285425900</td><td>qbex.azure@gmail.com</td><td>CREATE OR REPLACE TABLE AS SELECT</td><td>Map(partitionBy -> [], clusterBy -> [], description -> null, isManaged -> false, properties -> {}, statsOnLoad -> false)</td><td>null</td><td>List(2209238712519839)</td><td>1228-131604-l7verqvn</td><td>null</td><td>WriteSerializable</td><td>false</td><td>Map(numFiles -> 20, numOutputRows -> 541909, numOutputBytes -> 9518509)</td><td>null</td><td>Databricks-Runtime/15.4.x-scala2.12</td></tr></tbody></table></div>"
      ]
     },
     "metadata": {
      "application/vnd.databricks.v1+output": {
       "addedWidgets": {},
       "aggData": [],
       "aggError": "",
       "aggOverflow": false,
       "aggSchema": [],
       "aggSeriesLimitReached": false,
       "aggType": "",
       "arguments": {},
       "columnCustomDisplayInfos": {},
       "data": [
        [
         1,
         "2024-12-28T13:28:23Z",
         "141785285425900",
         "qbex.azure@gmail.com",
         "OPTIMIZE",
         {
          "auto": "false",
          "batchId": "0",
          "clusterBy": "[]",
          "predicate": "[]",
          "zOrderBy": "[\"InvoiceNo\"]"
         },
         null,
         [
          "2209238712519839"
         ],
         "1228-131604-l7verqvn",
         0,
         "SnapshotIsolation",
         false,
         {
          "maxFileSize": "414036",
          "minFileSize": "312486",
          "numAddedBytes": "6270352",
          "numAddedFiles": "18",
          "numDeletionVectorsRemoved": "0",
          "numRemovedBytes": "9518509",
          "numRemovedFiles": "20",
          "p25FileSize": "337865",
          "p50FileSize": "343136",
          "p75FileSize": "350781"
         },
         null,
         "Databricks-Runtime/15.4.x-scala2.12"
        ],
        [
         0,
         "2024-12-28T13:23:55Z",
         "141785285425900",
         "qbex.azure@gmail.com",
         "CREATE OR REPLACE TABLE AS SELECT",
         {
          "clusterBy": "[]",
          "description": null,
          "isManaged": "false",
          "partitionBy": "[]",
          "properties": "{}",
          "statsOnLoad": "false"
         },
         null,
         [
          "2209238712519839"
         ],
         "1228-131604-l7verqvn",
         null,
         "WriteSerializable",
         false,
         {
          "numFiles": "20",
          "numOutputBytes": "9518509",
          "numOutputRows": "541909"
         },
         null,
         "Databricks-Runtime/15.4.x-scala2.12"
        ]
       ],
       "datasetInfos": [],
       "dbfsResultPath": null,
       "isJsonSchema": true,
       "metadata": {
        "createTempViewForImplicitDf": true,
        "dataframeName": "_sqldf",
        "executionCount": 15
       },
       "overflow": false,
       "plotOptions": {
        "customPlotOptions": {},
        "displayType": "table",
        "pivotAggregation": null,
        "pivotColumns": null,
        "xColumns": null,
        "yColumns": null
       },
       "removedWidgets": [],
       "schema": [
        {
         "metadata": "{}",
         "name": "version",
         "type": "\"long\""
        },
        {
         "metadata": "{}",
         "name": "timestamp",
         "type": "\"timestamp\""
        },
        {
         "metadata": "{}",
         "name": "userId",
         "type": "\"string\""
        },
        {
         "metadata": "{}",
         "name": "userName",
         "type": "\"string\""
        },
        {
         "metadata": "{}",
         "name": "operation",
         "type": "\"string\""
        },
        {
         "metadata": "{}",
         "name": "operationParameters",
         "type": "{\"type\":\"map\",\"keyType\":\"string\",\"valueType\":\"string\",\"valueContainsNull\":true}"
        },
        {
         "metadata": "{}",
         "name": "job",
         "type": "{\"type\":\"struct\",\"fields\":[{\"name\":\"jobId\",\"type\":\"string\",\"nullable\":true,\"metadata\":{}},{\"name\":\"jobName\",\"type\":\"string\",\"nullable\":true,\"metadata\":{}},{\"name\":\"jobRunId\",\"type\":\"string\",\"nullable\":true,\"metadata\":{}},{\"name\":\"runId\",\"type\":\"string\",\"nullable\":true,\"metadata\":{}},{\"name\":\"jobOwnerId\",\"type\":\"string\",\"nullable\":true,\"metadata\":{}},{\"name\":\"triggerType\",\"type\":\"string\",\"nullable\":true,\"metadata\":{}}]}"
        },
        {
         "metadata": "{}",
         "name": "notebook",
         "type": "{\"type\":\"struct\",\"fields\":[{\"name\":\"notebookId\",\"type\":\"string\",\"nullable\":true,\"metadata\":{}}]}"
        },
        {
         "metadata": "{}",
         "name": "clusterId",
         "type": "\"string\""
        },
        {
         "metadata": "{}",
         "name": "readVersion",
         "type": "\"long\""
        },
        {
         "metadata": "{}",
         "name": "isolationLevel",
         "type": "\"string\""
        },
        {
         "metadata": "{}",
         "name": "isBlindAppend",
         "type": "\"boolean\""
        },
        {
         "metadata": "{}",
         "name": "operationMetrics",
         "type": "{\"type\":\"map\",\"keyType\":\"string\",\"valueType\":\"string\",\"valueContainsNull\":true}"
        },
        {
         "metadata": "{}",
         "name": "userMetadata",
         "type": "\"string\""
        },
        {
         "metadata": "{}",
         "name": "engineInfo",
         "type": "\"string\""
        }
       ],
       "type": "table"
      }
     },
     "output_type": "display_data"
    }
   ],
   "source": [
    "%sql\n",
    "describe history qbex.retail_199"
   ]
  },
  {
   "cell_type": "markdown",
   "metadata": {
    "application/vnd.databricks.v1+cell": {
     "cellMetadata": {},
     "inputWidgets": {},
     "nuid": "1d7b1f52-7d11-4f14-9a1f-2941c047edf9",
     "showTitle": false,
     "tableResultSettingsMap": {},
     "title": ""
    }
   },
   "source": [
    "#### Deletion Vectors"
   ]
  },
  {
   "cell_type": "code",
   "execution_count": 0,
   "metadata": {
    "application/vnd.databricks.v1+cell": {
     "cellMetadata": {
      "byteLimit": 2048000,
      "implicitDf": true,
      "rowLimit": 10000
     },
     "inputWidgets": {},
     "nuid": "778d3ad0-82ef-4313-b7b2-cd09f29f5e43",
     "showTitle": false,
     "tableResultSettingsMap": {},
     "title": ""
    }
   },
   "outputs": [
    {
     "output_type": "display_data",
     "data": {
      "text/html": [
       "<style scoped>\n",
       "  .table-result-container {\n",
       "    max-height: 300px;\n",
       "    overflow: auto;\n",
       "  }\n",
       "  table, th, td {\n",
       "    border: 1px solid black;\n",
       "    border-collapse: collapse;\n",
       "  }\n",
       "  th, td {\n",
       "    padding: 5px;\n",
       "  }\n",
       "  th {\n",
       "    text-align: left;\n",
       "  }\n",
       "</style><div class='table-result-container'><table class='table-result'><thead style='background-color: white'><tr><th>num_affected_rows</th><th>num_inserted_rows</th></tr></thead><tbody></tbody></table></div>"
      ]
     },
     "metadata": {
      "application/vnd.databricks.v1+output": {
       "addedWidgets": {},
       "aggData": [],
       "aggError": "",
       "aggOverflow": false,
       "aggSchema": [],
       "aggSeriesLimitReached": false,
       "aggType": "",
       "arguments": {},
       "columnCustomDisplayInfos": {},
       "data": [],
       "datasetInfos": [],
       "dbfsResultPath": null,
       "isJsonSchema": true,
       "metadata": {
        "createTempViewForImplicitDf": true,
        "dataframeName": "_sqldf",
        "executionCount": 37
       },
       "overflow": false,
       "plotOptions": {
        "customPlotOptions": {},
        "displayType": "table",
        "pivotAggregation": null,
        "pivotColumns": null,
        "xColumns": null,
        "yColumns": null
       },
       "removedWidgets": [],
       "schema": [
        {
         "metadata": "{}",
         "name": "num_affected_rows",
         "type": "\"long\""
        },
        {
         "metadata": "{}",
         "name": "num_inserted_rows",
         "type": "\"long\""
        }
       ],
       "type": "table"
      }
     },
     "output_type": "display_data"
    }
   ],
   "source": [
    "%sql\n",
    "create table qbex.retail_799 USING delta\n",
    "select * from \n",
    "read_files(\"/databricks-datasets/definitive-guide/data/retail-data/all/online-retail-dataset.csv\",\n",
    "header => True)"
   ]
  },
  {
   "cell_type": "code",
   "execution_count": 0,
   "metadata": {
    "application/vnd.databricks.v1+cell": {
     "cellMetadata": {
      "byteLimit": 2048000,
      "implicitDf": true,
      "rowLimit": 10000
     },
     "inputWidgets": {},
     "nuid": "a07a1194-8e5e-4a80-9a8a-ea8dccdcee46",
     "showTitle": false,
     "tableResultSettingsMap": {},
     "title": ""
    }
   },
   "outputs": [
    {
     "output_type": "display_data",
     "data": {
      "text/html": [
       "<style scoped>\n",
       "  .table-result-container {\n",
       "    max-height: 300px;\n",
       "    overflow: auto;\n",
       "  }\n",
       "  table, th, td {\n",
       "    border: 1px solid black;\n",
       "    border-collapse: collapse;\n",
       "  }\n",
       "  th, td {\n",
       "    padding: 5px;\n",
       "  }\n",
       "  th {\n",
       "    text-align: left;\n",
       "  }\n",
       "</style><div class='table-result-container'><table class='table-result'><thead style='background-color: white'><tr><th>col_name</th><th>data_type</th><th>comment</th></tr></thead><tbody><tr><td>InvoiceNo</td><td>string</td><td>null</td></tr><tr><td>StockCode</td><td>string</td><td>null</td></tr><tr><td>Description</td><td>string</td><td>null</td></tr><tr><td>Quantity</td><td>int</td><td>null</td></tr><tr><td>InvoiceDate</td><td>string</td><td>null</td></tr><tr><td>UnitPrice</td><td>double</td><td>null</td></tr><tr><td>CustomerID</td><td>int</td><td>null</td></tr><tr><td>Country</td><td>string</td><td>null</td></tr><tr><td>_rescued_data</td><td>string</td><td>null</td></tr><tr><td></td><td></td><td></td></tr><tr><td># Delta Statistics Columns</td><td></td><td></td></tr><tr><td>Column Names</td><td>Quantity, UnitPrice, Country, CustomerID, StockCode, Description, _rescued_data, InvoiceDate, InvoiceNo</td><td></td></tr><tr><td>Column Selection Method</td><td>first-32</td><td></td></tr><tr><td></td><td></td><td></td></tr><tr><td># Detailed Table Information</td><td></td><td></td></tr><tr><td>Catalog</td><td>spark_catalog</td><td></td></tr><tr><td>Database</td><td>qbex</td><td></td></tr><tr><td>Table</td><td>retail_799</td><td></td></tr><tr><td>Created Time</td><td>Sun Dec 29 03:32:19 UTC 2024</td><td></td></tr><tr><td>Last Access</td><td>UNKNOWN</td><td></td></tr><tr><td>Created By</td><td>Spark 3.5.0</td><td></td></tr><tr><td>Statistics</td><td>4306048 bytes</td><td></td></tr><tr><td>Type</td><td>MANAGED</td><td></td></tr><tr><td>Location</td><td>dbfs:/user/hive/warehouse/qbex.db/retail_799</td><td></td></tr><tr><td>Provider</td><td>delta</td><td></td></tr><tr><td>Owner</td><td>root</td><td></td></tr><tr><td>Is_managed_location</td><td>true</td><td></td></tr><tr><td>Table Properties</td><td>[delta.enableDeletionVectors=true,delta.feature.appendOnly=supported,delta.feature.deletionVectors=supported,delta.feature.invariants=supported,delta.minReaderVersion=3,delta.minWriterVersion=7]</td><td></td></tr></tbody></table></div>"
      ]
     },
     "metadata": {
      "application/vnd.databricks.v1+output": {
       "addedWidgets": {},
       "aggData": [],
       "aggError": "",
       "aggOverflow": false,
       "aggSchema": [],
       "aggSeriesLimitReached": false,
       "aggType": "",
       "arguments": {},
       "columnCustomDisplayInfos": {},
       "data": [
        [
         "InvoiceNo",
         "string",
         null
        ],
        [
         "StockCode",
         "string",
         null
        ],
        [
         "Description",
         "string",
         null
        ],
        [
         "Quantity",
         "int",
         null
        ],
        [
         "InvoiceDate",
         "string",
         null
        ],
        [
         "UnitPrice",
         "double",
         null
        ],
        [
         "CustomerID",
         "int",
         null
        ],
        [
         "Country",
         "string",
         null
        ],
        [
         "_rescued_data",
         "string",
         null
        ],
        [
         "",
         "",
         ""
        ],
        [
         "# Delta Statistics Columns",
         "",
         ""
        ],
        [
         "Column Names",
         "Quantity, UnitPrice, Country, CustomerID, StockCode, Description, _rescued_data, InvoiceDate, InvoiceNo",
         ""
        ],
        [
         "Column Selection Method",
         "first-32",
         ""
        ],
        [
         "",
         "",
         ""
        ],
        [
         "# Detailed Table Information",
         "",
         ""
        ],
        [
         "Catalog",
         "spark_catalog",
         ""
        ],
        [
         "Database",
         "qbex",
         ""
        ],
        [
         "Table",
         "retail_799",
         ""
        ],
        [
         "Created Time",
         "Sun Dec 29 03:32:19 UTC 2024",
         ""
        ],
        [
         "Last Access",
         "UNKNOWN",
         ""
        ],
        [
         "Created By",
         "Spark 3.5.0",
         ""
        ],
        [
         "Statistics",
         "4306048 bytes",
         ""
        ],
        [
         "Type",
         "MANAGED",
         ""
        ],
        [
         "Location",
         "dbfs:/user/hive/warehouse/qbex.db/retail_799",
         ""
        ],
        [
         "Provider",
         "delta",
         ""
        ],
        [
         "Owner",
         "root",
         ""
        ],
        [
         "Is_managed_location",
         "true",
         ""
        ],
        [
         "Table Properties",
         "[delta.enableDeletionVectors=true,delta.feature.appendOnly=supported,delta.feature.deletionVectors=supported,delta.feature.invariants=supported,delta.minReaderVersion=3,delta.minWriterVersion=7]",
         ""
        ]
       ],
       "datasetInfos": [],
       "dbfsResultPath": null,
       "isJsonSchema": true,
       "metadata": {
        "createTempViewForImplicitDf": true,
        "dataframeName": "_sqldf",
        "executionCount": 43
       },
       "overflow": false,
       "plotOptions": {
        "customPlotOptions": {},
        "displayType": "table",
        "pivotAggregation": null,
        "pivotColumns": null,
        "xColumns": null,
        "yColumns": null
       },
       "removedWidgets": [],
       "schema": [
        {
         "metadata": "{\"comment\":\"name of the column\"}",
         "name": "col_name",
         "type": "\"string\""
        },
        {
         "metadata": "{\"comment\":\"data type of the column\"}",
         "name": "data_type",
         "type": "\"string\""
        },
        {
         "metadata": "{\"comment\":\"comment of the column\"}",
         "name": "comment",
         "type": "\"string\""
        }
       ],
       "type": "table"
      }
     },
     "output_type": "display_data"
    }
   ],
   "source": [
    "%sql\n",
    "describe extended qbex.retail_799"
   ]
  },
  {
   "cell_type": "code",
   "execution_count": 0,
   "metadata": {
    "application/vnd.databricks.v1+cell": {
     "cellMetadata": {
      "byteLimit": 2048000,
      "rowLimit": 10000
     },
     "inputWidgets": {},
     "nuid": "0cec695e-3c26-4255-8cd6-7abce373f634",
     "showTitle": false,
     "tableResultSettingsMap": {},
     "title": ""
    }
   },
   "outputs": [
    {
     "output_type": "display_data",
     "data": {
      "text/html": [
       "<style scoped>\n",
       "  .table-result-container {\n",
       "    max-height: 300px;\n",
       "    overflow: auto;\n",
       "  }\n",
       "  table, th, td {\n",
       "    border: 1px solid black;\n",
       "    border-collapse: collapse;\n",
       "  }\n",
       "  th, td {\n",
       "    padding: 5px;\n",
       "  }\n",
       "  th {\n",
       "    text-align: left;\n",
       "  }\n",
       "</style><div class='table-result-container'><table class='table-result'><thead style='background-color: white'><tr><th>path</th><th>name</th><th>size</th><th>modificationTime</th></tr></thead><tbody><tr><td>dbfs:/user/hive/warehouse/qbex.db/retail_799/_delta_log/00000000000000000000.crc</td><td>00000000000000000000.crc</td><td>10591</td><td>1735443140000</td></tr><tr><td>dbfs:/user/hive/warehouse/qbex.db/retail_799/_delta_log/00000000000000000000.json</td><td>00000000000000000000.json</td><td>9744</td><td>1735443138000</td></tr><tr><td>dbfs:/user/hive/warehouse/qbex.db/retail_799/_delta_log/00000000000000000001.crc</td><td>00000000000000000001.crc</td><td>10628</td><td>1735443179000</td></tr><tr><td>dbfs:/user/hive/warehouse/qbex.db/retail_799/_delta_log/00000000000000000001.json</td><td>00000000000000000001.json</td><td>1474</td><td>1735443178000</td></tr><tr><td>dbfs:/user/hive/warehouse/qbex.db/retail_799/_delta_log/00000000000000000002.crc</td><td>00000000000000000002.crc</td><td>10628</td><td>1735443284000</td></tr><tr><td>dbfs:/user/hive/warehouse/qbex.db/retail_799/_delta_log/00000000000000000002.json</td><td>00000000000000000002.json</td><td>2296</td><td>1735443282000</td></tr><tr><td>dbfs:/user/hive/warehouse/qbex.db/retail_799/_delta_log/00000000000000000003.crc</td><td>00000000000000000003.crc</td><td>10858</td><td>1735443353000</td></tr><tr><td>dbfs:/user/hive/warehouse/qbex.db/retail_799/_delta_log/00000000000000000003.json</td><td>00000000000000000003.json</td><td>1629</td><td>1735443351000</td></tr><tr><td>dbfs:/user/hive/warehouse/qbex.db/retail_799/_delta_log/00000000000000000004.crc</td><td>00000000000000000004.crc</td><td>11001</td><td>1735443398000</td></tr><tr><td>dbfs:/user/hive/warehouse/qbex.db/retail_799/_delta_log/00000000000000000004.json</td><td>00000000000000000004.json</td><td>3085</td><td>1735443396000</td></tr><tr><td>dbfs:/user/hive/warehouse/qbex.db/retail_799/_delta_log/00000000000000000005.checkpoint.parquet</td><td>00000000000000000005.checkpoint.parquet</td><td>33053</td><td>1735443677000</td></tr><tr><td>dbfs:/user/hive/warehouse/qbex.db/retail_799/_delta_log/00000000000000000005.crc</td><td>00000000000000000005.crc</td><td>2799</td><td>1735443676000</td></tr><tr><td>dbfs:/user/hive/warehouse/qbex.db/retail_799/_delta_log/00000000000000000005.json</td><td>00000000000000000005.json</td><td>3931</td><td>1735443673000</td></tr><tr><td>dbfs:/user/hive/warehouse/qbex.db/retail_799/_delta_log/_commits/</td><td>_commits/</td><td>0</td><td>0</td></tr><tr><td>dbfs:/user/hive/warehouse/qbex.db/retail_799/_delta_log/_last_checkpoint</td><td>_last_checkpoint</td><td>7228</td><td>1735443677000</td></tr></tbody></table></div>"
      ]
     },
     "metadata": {
      "application/vnd.databricks.v1+output": {
       "addedWidgets": {},
       "aggData": [],
       "aggError": "",
       "aggOverflow": false,
       "aggSchema": [],
       "aggSeriesLimitReached": false,
       "aggType": "",
       "arguments": {},
       "columnCustomDisplayInfos": {},
       "data": [
        [
         "dbfs:/user/hive/warehouse/qbex.db/retail_799/_delta_log/00000000000000000000.crc",
         "00000000000000000000.crc",
         10591,
         1735443140000
        ],
        [
         "dbfs:/user/hive/warehouse/qbex.db/retail_799/_delta_log/00000000000000000000.json",
         "00000000000000000000.json",
         9744,
         1735443138000
        ],
        [
         "dbfs:/user/hive/warehouse/qbex.db/retail_799/_delta_log/00000000000000000001.crc",
         "00000000000000000001.crc",
         10628,
         1735443179000
        ],
        [
         "dbfs:/user/hive/warehouse/qbex.db/retail_799/_delta_log/00000000000000000001.json",
         "00000000000000000001.json",
         1474,
         1735443178000
        ],
        [
         "dbfs:/user/hive/warehouse/qbex.db/retail_799/_delta_log/00000000000000000002.crc",
         "00000000000000000002.crc",
         10628,
         1735443284000
        ],
        [
         "dbfs:/user/hive/warehouse/qbex.db/retail_799/_delta_log/00000000000000000002.json",
         "00000000000000000002.json",
         2296,
         1735443282000
        ],
        [
         "dbfs:/user/hive/warehouse/qbex.db/retail_799/_delta_log/00000000000000000003.crc",
         "00000000000000000003.crc",
         10858,
         1735443353000
        ],
        [
         "dbfs:/user/hive/warehouse/qbex.db/retail_799/_delta_log/00000000000000000003.json",
         "00000000000000000003.json",
         1629,
         1735443351000
        ],
        [
         "dbfs:/user/hive/warehouse/qbex.db/retail_799/_delta_log/00000000000000000004.crc",
         "00000000000000000004.crc",
         11001,
         1735443398000
        ],
        [
         "dbfs:/user/hive/warehouse/qbex.db/retail_799/_delta_log/00000000000000000004.json",
         "00000000000000000004.json",
         3085,
         1735443396000
        ],
        [
         "dbfs:/user/hive/warehouse/qbex.db/retail_799/_delta_log/00000000000000000005.checkpoint.parquet",
         "00000000000000000005.checkpoint.parquet",
         33053,
         1735443677000
        ],
        [
         "dbfs:/user/hive/warehouse/qbex.db/retail_799/_delta_log/00000000000000000005.crc",
         "00000000000000000005.crc",
         2799,
         1735443676000
        ],
        [
         "dbfs:/user/hive/warehouse/qbex.db/retail_799/_delta_log/00000000000000000005.json",
         "00000000000000000005.json",
         3931,
         1735443673000
        ],
        [
         "dbfs:/user/hive/warehouse/qbex.db/retail_799/_delta_log/_commits/",
         "_commits/",
         0,
         0
        ],
        [
         "dbfs:/user/hive/warehouse/qbex.db/retail_799/_delta_log/_last_checkpoint",
         "_last_checkpoint",
         7228,
         1735443677000
        ]
       ],
       "datasetInfos": [],
       "dbfsResultPath": null,
       "isJsonSchema": true,
       "metadata": {},
       "overflow": false,
       "plotOptions": {
        "customPlotOptions": {},
        "displayType": "table",
        "pivotAggregation": null,
        "pivotColumns": null,
        "xColumns": null,
        "yColumns": null
       },
       "removedWidgets": [],
       "schema": [
        {
         "metadata": "{}",
         "name": "path",
         "type": "\"string\""
        },
        {
         "metadata": "{}",
         "name": "name",
         "type": "\"string\""
        },
        {
         "metadata": "{}",
         "name": "size",
         "type": "\"long\""
        },
        {
         "metadata": "{}",
         "name": "modificationTime",
         "type": "\"long\""
        }
       ],
       "type": "table"
      }
     },
     "output_type": "display_data"
    }
   ],
   "source": [
    "display(dbutils.fs.ls(\"/user/hive/warehouse/qbex.db/retail_799/_delta_log/\"))"
   ]
  },
  {
   "cell_type": "code",
   "execution_count": 0,
   "metadata": {
    "application/vnd.databricks.v1+cell": {
     "cellMetadata": {
      "byteLimit": 2048000,
      "implicitDf": true,
      "rowLimit": 10000
     },
     "inputWidgets": {},
     "nuid": "71cf5d78-956d-4602-a947-a1880f11db15",
     "showTitle": false,
     "tableResultSettingsMap": {},
     "title": ""
    }
   },
   "outputs": [
    {
     "output_type": "display_data",
     "data": {
      "text/html": [
       "<style scoped>\n",
       "  .table-result-container {\n",
       "    max-height: 300px;\n",
       "    overflow: auto;\n",
       "  }\n",
       "  table, th, td {\n",
       "    border: 1px solid black;\n",
       "    border-collapse: collapse;\n",
       "  }\n",
       "  th, td {\n",
       "    padding: 5px;\n",
       "  }\n",
       "  th {\n",
       "    text-align: left;\n",
       "  }\n",
       "</style><div class='table-result-container'><table class='table-result'><thead style='background-color: white'><tr></tr></thead><tbody></tbody></table></div>"
      ]
     },
     "metadata": {
      "application/vnd.databricks.v1+output": {
       "addedWidgets": {},
       "aggData": [],
       "aggError": "",
       "aggOverflow": false,
       "aggSchema": [],
       "aggSeriesLimitReached": false,
       "aggType": "",
       "arguments": {},
       "columnCustomDisplayInfos": {},
       "data": [],
       "datasetInfos": [],
       "dbfsResultPath": null,
       "isJsonSchema": true,
       "metadata": {
        "dataframeName": null
       },
       "overflow": false,
       "plotOptions": {
        "customPlotOptions": {},
        "displayType": "table",
        "pivotAggregation": null,
        "pivotColumns": null,
        "xColumns": null,
        "yColumns": null
       },
       "removedWidgets": [],
       "schema": [],
       "type": "table"
      }
     },
     "output_type": "display_data"
    }
   ],
   "source": [
    "%sql\n",
    "ALTER TABLE qbex.retail_799 SET TBLPROPERTIES ('delta.enableDeletionVectors' = true);"
   ]
  },
  {
   "cell_type": "code",
   "execution_count": 0,
   "metadata": {
    "application/vnd.databricks.v1+cell": {
     "cellMetadata": {
      "byteLimit": 2048000,
      "implicitDf": true,
      "rowLimit": 10000
     },
     "inputWidgets": {},
     "nuid": "47c5fdb5-c26a-4f69-b6b4-9f61ac97b289",
     "showTitle": false,
     "tableResultSettingsMap": {},
     "title": ""
    }
   },
   "outputs": [
    {
     "output_type": "display_data",
     "data": {
      "text/html": [
       "<style scoped>\n",
       "  .table-result-container {\n",
       "    max-height: 300px;\n",
       "    overflow: auto;\n",
       "  }\n",
       "  table, th, td {\n",
       "    border: 1px solid black;\n",
       "    border-collapse: collapse;\n",
       "  }\n",
       "  th, td {\n",
       "    padding: 5px;\n",
       "  }\n",
       "  th {\n",
       "    text-align: left;\n",
       "  }\n",
       "</style><div class='table-result-container'><table class='table-result'><thead style='background-color: white'><tr><th>version</th><th>timestamp</th><th>userId</th><th>userName</th><th>operation</th><th>operationParameters</th><th>job</th><th>notebook</th><th>clusterId</th><th>readVersion</th><th>isolationLevel</th><th>isBlindAppend</th><th>operationMetrics</th><th>userMetadata</th><th>engineInfo</th></tr></thead><tbody><tr><td>5</td><td>2024-12-29T03:41:13Z</td><td>141785285425900</td><td>qbex.azure@gmail.com</td><td>RESTORE</td><td>Map(version -> 3, timestamp -> null)</td><td>null</td><td>List(2209238712519839)</td><td>1229-012503-3fn8yz6w</td><td>4</td><td>Serializable</td><td>false</td><td>Map(numRestoredFiles -> 1, removedFilesSize -> 503170, numRemovedFiles -> 1, restoredFilesSize -> 503170, numOfFilesAfterRestore -> 8, tableSizeAfterRestore -> 3802291)</td><td>null</td><td>Databricks-Runtime/15.4.x-scala2.12</td></tr><tr><td>4</td><td>2024-12-29T03:36:36Z</td><td>141785285425900</td><td>qbex.azure@gmail.com</td><td>DELETE</td><td>Map(predicate -> [\"(InvoiceNo#17463 = 536376)\"])</td><td>null</td><td>List(2209238712519839)</td><td>1229-012503-3fn8yz6w</td><td>3</td><td>WriteSerializable</td><td>false</td><td>Map(numRemovedFiles -> 0, numRemovedBytes -> 0, numCopiedRows -> 0, numDeletionVectorsAdded -> 1, numDeletionVectorsRemoved -> 0, numAddedChangeFiles -> 0, executionTimeMs -> 3708, numDeletionVectorsUpdated -> 0, numDeletedRows -> 2, scanTimeMs -> 1681, numAddedFiles -> 0, numAddedBytes -> 0, rewriteTimeMs -> 2017)</td><td>null</td><td>Databricks-Runtime/15.4.x-scala2.12</td></tr><tr><td>3</td><td>2024-12-29T03:35:51Z</td><td>141785285425900</td><td>qbex.azure@gmail.com</td><td>SET TBLPROPERTIES</td><td>Map(properties -> {\"delta.enableDeletionVectors\":\"true\"})</td><td>null</td><td>List(2209238712519839)</td><td>1229-012503-3fn8yz6w</td><td>2</td><td>WriteSerializable</td><td>true</td><td>Map()</td><td>null</td><td>Databricks-Runtime/15.4.x-scala2.12</td></tr><tr><td>2</td><td>2024-12-29T03:34:42Z</td><td>141785285425900</td><td>qbex.azure@gmail.com</td><td>DELETE</td><td>Map(predicate -> [\"(InvoiceNo#15932 = 536375)\"])</td><td>null</td><td>List(2209238712519839)</td><td>1229-012503-3fn8yz6w</td><td>1</td><td>WriteSerializable</td><td>false</td><td>Map(numRemovedFiles -> 1, numRemovedBytes -> 503757, numCopiedRows -> 74334, numDeletionVectorsAdded -> 0, numDeletionVectorsRemoved -> 0, numAddedChangeFiles -> 0, executionTimeMs -> 2744, numDeletionVectorsUpdated -> 0, numDeletedRows -> 16, scanTimeMs -> 1178, numAddedFiles -> 1, numAddedBytes -> 503170, rewriteTimeMs -> 1566)</td><td>null</td><td>Databricks-Runtime/15.4.x-scala2.12</td></tr><tr><td>1</td><td>2024-12-29T03:32:58Z</td><td>141785285425900</td><td>qbex.azure@gmail.com</td><td>SET TBLPROPERTIES</td><td>Map(properties -> {\"delta.enableDeletionVectors\":\"false\"})</td><td>null</td><td>List(2209238712519839)</td><td>1229-012503-3fn8yz6w</td><td>0</td><td>WriteSerializable</td><td>true</td><td>Map()</td><td>null</td><td>Databricks-Runtime/15.4.x-scala2.12</td></tr><tr><td>0</td><td>2024-12-29T03:32:18Z</td><td>141785285425900</td><td>qbex.azure@gmail.com</td><td>CREATE TABLE AS SELECT</td><td>Map(partitionBy -> [], clusterBy -> [], description -> null, isManaged -> true, properties -> {}, statsOnLoad -> false)</td><td>null</td><td>List(2209238712519839)</td><td>1229-012503-3fn8yz6w</td><td>null</td><td>WriteSerializable</td><td>true</td><td>Map(numFiles -> 8, numOutputRows -> 541909, numOutputBytes -> 3802878)</td><td>null</td><td>Databricks-Runtime/15.4.x-scala2.12</td></tr></tbody></table></div>"
      ]
     },
     "metadata": {
      "application/vnd.databricks.v1+output": {
       "addedWidgets": {},
       "aggData": [],
       "aggError": "",
       "aggOverflow": false,
       "aggSchema": [],
       "aggSeriesLimitReached": false,
       "aggType": "",
       "arguments": {},
       "columnCustomDisplayInfos": {},
       "data": [
        [
         5,
         "2024-12-29T03:41:13Z",
         "141785285425900",
         "qbex.azure@gmail.com",
         "RESTORE",
         {
          "timestamp": null,
          "version": "3"
         },
         null,
         [
          "2209238712519839"
         ],
         "1229-012503-3fn8yz6w",
         4,
         "Serializable",
         false,
         {
          "numOfFilesAfterRestore": "8",
          "numRemovedFiles": "1",
          "numRestoredFiles": "1",
          "removedFilesSize": "503170",
          "restoredFilesSize": "503170",
          "tableSizeAfterRestore": "3802291"
         },
         null,
         "Databricks-Runtime/15.4.x-scala2.12"
        ],
        [
         4,
         "2024-12-29T03:36:36Z",
         "141785285425900",
         "qbex.azure@gmail.com",
         "DELETE",
         {
          "predicate": "[\"(InvoiceNo#17463 = 536376)\"]"
         },
         null,
         [
          "2209238712519839"
         ],
         "1229-012503-3fn8yz6w",
         3,
         "WriteSerializable",
         false,
         {
          "executionTimeMs": "3708",
          "numAddedBytes": "0",
          "numAddedChangeFiles": "0",
          "numAddedFiles": "0",
          "numCopiedRows": "0",
          "numDeletedRows": "2",
          "numDeletionVectorsAdded": "1",
          "numDeletionVectorsRemoved": "0",
          "numDeletionVectorsUpdated": "0",
          "numRemovedBytes": "0",
          "numRemovedFiles": "0",
          "rewriteTimeMs": "2017",
          "scanTimeMs": "1681"
         },
         null,
         "Databricks-Runtime/15.4.x-scala2.12"
        ],
        [
         3,
         "2024-12-29T03:35:51Z",
         "141785285425900",
         "qbex.azure@gmail.com",
         "SET TBLPROPERTIES",
         {
          "properties": "{\"delta.enableDeletionVectors\":\"true\"}"
         },
         null,
         [
          "2209238712519839"
         ],
         "1229-012503-3fn8yz6w",
         2,
         "WriteSerializable",
         true,
         {},
         null,
         "Databricks-Runtime/15.4.x-scala2.12"
        ],
        [
         2,
         "2024-12-29T03:34:42Z",
         "141785285425900",
         "qbex.azure@gmail.com",
         "DELETE",
         {
          "predicate": "[\"(InvoiceNo#15932 = 536375)\"]"
         },
         null,
         [
          "2209238712519839"
         ],
         "1229-012503-3fn8yz6w",
         1,
         "WriteSerializable",
         false,
         {
          "executionTimeMs": "2744",
          "numAddedBytes": "503170",
          "numAddedChangeFiles": "0",
          "numAddedFiles": "1",
          "numCopiedRows": "74334",
          "numDeletedRows": "16",
          "numDeletionVectorsAdded": "0",
          "numDeletionVectorsRemoved": "0",
          "numDeletionVectorsUpdated": "0",
          "numRemovedBytes": "503757",
          "numRemovedFiles": "1",
          "rewriteTimeMs": "1566",
          "scanTimeMs": "1178"
         },
         null,
         "Databricks-Runtime/15.4.x-scala2.12"
        ],
        [
         1,
         "2024-12-29T03:32:58Z",
         "141785285425900",
         "qbex.azure@gmail.com",
         "SET TBLPROPERTIES",
         {
          "properties": "{\"delta.enableDeletionVectors\":\"false\"}"
         },
         null,
         [
          "2209238712519839"
         ],
         "1229-012503-3fn8yz6w",
         0,
         "WriteSerializable",
         true,
         {},
         null,
         "Databricks-Runtime/15.4.x-scala2.12"
        ],
        [
         0,
         "2024-12-29T03:32:18Z",
         "141785285425900",
         "qbex.azure@gmail.com",
         "CREATE TABLE AS SELECT",
         {
          "clusterBy": "[]",
          "description": null,
          "isManaged": "true",
          "partitionBy": "[]",
          "properties": "{}",
          "statsOnLoad": "false"
         },
         null,
         [
          "2209238712519839"
         ],
         "1229-012503-3fn8yz6w",
         null,
         "WriteSerializable",
         true,
         {
          "numFiles": "8",
          "numOutputBytes": "3802878",
          "numOutputRows": "541909"
         },
         null,
         "Databricks-Runtime/15.4.x-scala2.12"
        ]
       ],
       "datasetInfos": [],
       "dbfsResultPath": null,
       "isJsonSchema": true,
       "metadata": {
        "createTempViewForImplicitDf": true,
        "dataframeName": "_sqldf",
        "executionCount": 56
       },
       "overflow": false,
       "plotOptions": {
        "customPlotOptions": {},
        "displayType": "table",
        "pivotAggregation": null,
        "pivotColumns": null,
        "xColumns": null,
        "yColumns": null
       },
       "removedWidgets": [],
       "schema": [
        {
         "metadata": "{}",
         "name": "version",
         "type": "\"long\""
        },
        {
         "metadata": "{}",
         "name": "timestamp",
         "type": "\"timestamp\""
        },
        {
         "metadata": "{}",
         "name": "userId",
         "type": "\"string\""
        },
        {
         "metadata": "{}",
         "name": "userName",
         "type": "\"string\""
        },
        {
         "metadata": "{}",
         "name": "operation",
         "type": "\"string\""
        },
        {
         "metadata": "{}",
         "name": "operationParameters",
         "type": "{\"type\":\"map\",\"keyType\":\"string\",\"valueType\":\"string\",\"valueContainsNull\":true}"
        },
        {
         "metadata": "{}",
         "name": "job",
         "type": "{\"type\":\"struct\",\"fields\":[{\"name\":\"jobId\",\"type\":\"string\",\"nullable\":true,\"metadata\":{}},{\"name\":\"jobName\",\"type\":\"string\",\"nullable\":true,\"metadata\":{}},{\"name\":\"jobRunId\",\"type\":\"string\",\"nullable\":true,\"metadata\":{}},{\"name\":\"runId\",\"type\":\"string\",\"nullable\":true,\"metadata\":{}},{\"name\":\"jobOwnerId\",\"type\":\"string\",\"nullable\":true,\"metadata\":{}},{\"name\":\"triggerType\",\"type\":\"string\",\"nullable\":true,\"metadata\":{}}]}"
        },
        {
         "metadata": "{}",
         "name": "notebook",
         "type": "{\"type\":\"struct\",\"fields\":[{\"name\":\"notebookId\",\"type\":\"string\",\"nullable\":true,\"metadata\":{}}]}"
        },
        {
         "metadata": "{}",
         "name": "clusterId",
         "type": "\"string\""
        },
        {
         "metadata": "{}",
         "name": "readVersion",
         "type": "\"long\""
        },
        {
         "metadata": "{}",
         "name": "isolationLevel",
         "type": "\"string\""
        },
        {
         "metadata": "{}",
         "name": "isBlindAppend",
         "type": "\"boolean\""
        },
        {
         "metadata": "{}",
         "name": "operationMetrics",
         "type": "{\"type\":\"map\",\"keyType\":\"string\",\"valueType\":\"string\",\"valueContainsNull\":true}"
        },
        {
         "metadata": "{}",
         "name": "userMetadata",
         "type": "\"string\""
        },
        {
         "metadata": "{}",
         "name": "engineInfo",
         "type": "\"string\""
        }
       ],
       "type": "table"
      }
     },
     "output_type": "display_data"
    }
   ],
   "source": [
    "%sql\n",
    "describe history qbex.retail_799\n",
    "-- select * from qbex.retail_799 where InvoiceNo = '536376'\n",
    "-- delete from qbex.retail_799 where InvoiceNo = '536376'\n",
    "\n",
    "-- RESTORE TABLE qbex.retail_799 TO VERSION AS OF 3"
   ]
  },
  {
   "cell_type": "code",
   "execution_count": 0,
   "metadata": {
    "application/vnd.databricks.v1+cell": {
     "cellMetadata": {
      "byteLimit": 2048000,
      "implicitDf": true,
      "rowLimit": 10000
     },
     "inputWidgets": {},
     "nuid": "df28f280-f07d-40fa-9771-4aa5c7cae1ab",
     "showTitle": false,
     "tableResultSettingsMap": {},
     "title": ""
    }
   },
   "outputs": [
    {
     "output_type": "display_data",
     "data": {
      "text/html": [
       "<style scoped>\n",
       "  .table-result-container {\n",
       "    max-height: 300px;\n",
       "    overflow: auto;\n",
       "  }\n",
       "  table, th, td {\n",
       "    border: 1px solid black;\n",
       "    border-collapse: collapse;\n",
       "  }\n",
       "  th, td {\n",
       "    padding: 5px;\n",
       "  }\n",
       "  th {\n",
       "    text-align: left;\n",
       "  }\n",
       "</style><div class='table-result-container'><table class='table-result'><thead style='background-color: white'><tr></tr></thead><tbody></tbody></table></div>"
      ]
     },
     "metadata": {
      "application/vnd.databricks.v1+output": {
       "addedWidgets": {},
       "aggData": [],
       "aggError": "",
       "aggOverflow": false,
       "aggSchema": [],
       "aggSeriesLimitReached": false,
       "aggType": "",
       "arguments": {},
       "columnCustomDisplayInfos": {},
       "data": [],
       "datasetInfos": [],
       "dbfsResultPath": null,
       "isJsonSchema": true,
       "metadata": {
        "dataframeName": null
       },
       "overflow": false,
       "plotOptions": {
        "customPlotOptions": {},
        "displayType": "table",
        "pivotAggregation": null,
        "pivotColumns": null,
        "xColumns": null,
        "yColumns": null
       },
       "removedWidgets": [],
       "schema": [],
       "type": "table"
      }
     },
     "output_type": "display_data"
    }
   ],
   "source": [
    "%sql\n",
    "ALTER TABLE qbex.retail_799 CLUSTER BY (InvoiceNo);"
   ]
  },
  {
   "cell_type": "code",
   "execution_count": 0,
   "metadata": {
    "application/vnd.databricks.v1+cell": {
     "cellMetadata": {
      "byteLimit": 2048000,
      "implicitDf": true,
      "rowLimit": 10000
     },
     "inputWidgets": {},
     "nuid": "24f83410-5640-4f85-b642-9b47d96d05db",
     "showTitle": false,
     "tableResultSettingsMap": {},
     "title": ""
    }
   },
   "outputs": [
    {
     "output_type": "display_data",
     "data": {
      "text/html": [
       "<style scoped>\n",
       "  .table-result-container {\n",
       "    max-height: 300px;\n",
       "    overflow: auto;\n",
       "  }\n",
       "  table, th, td {\n",
       "    border: 1px solid black;\n",
       "    border-collapse: collapse;\n",
       "  }\n",
       "  th, td {\n",
       "    padding: 5px;\n",
       "  }\n",
       "  th {\n",
       "    text-align: left;\n",
       "  }\n",
       "</style><div class='table-result-container'><table class='table-result'><thead style='background-color: white'><tr><th>path</th><th>metrics</th></tr></thead><tbody><tr><td>dbfs:/user/hive/warehouse/qbex.db/retail_799</td><td>List(5, 4, List(216624, 545917, 430353.0, 5, 2151765), List(503170, 535496, 522063.5, 4, 2088254), 0, null, null, 0, 1, 8, 0, false, 0, 0, 1735444546389, 1735444568098, 8, 1, null, List(0, 0), 9, 9, 10488, 0, List(3802291, true, false, 0, 7, 3614516, 3614516, 1, 187775, 187775, null, log, 524288, 524288, 1, 0, 1, 0, 1, 0, 0, 3, 0, 0, 1, 0, 0, 1, 0, 0, 0, 2088254, 2088254, List(339, 2156, 0, 1877, 0, 4595), 2, 1, 5, sizeAware))</td></tr><tr><td>dbfs:/user/hive/warehouse/qbex.db/retail_799</td><td>List(3, 3, List(268300, 533391, 413098.6666666667, 3, 1239296), List(216624, 517896, 413035.3333333333, 3, 1239106), 0, null, null, 0, 1, 9, 0, false, 0, 0, 1735444568167, 1735444581965, 8, 1, null, List(0, 0), 9, 9, 4791, 0, List(3865802, false, false, 0, 3, 1526262, 1526262, 1, 187775, 187775, null, log, 524288, 524288, 1, 0, 1, 0, 1, 0, 0, 2, 0, 0, 0, 0, 0, 1, 0, 0, 0, 1239106, 1239106, List(288, 1578, 1397, 1496, 0, 0), 2, 2, 5, sizeAware))</td></tr><tr><td>dbfs:/user/hive/warehouse/qbex.db/retail_799</td><td>List(0, 0, List(null, null, 0.0, 0, 0), List(null, null, 0.0, 0, 0), 0, null, null, 0, 0, 9, 0, false, 0, 0, 1735444582026, 1735444587314, 8, 0, null, List(0, 0), 9, 9, 0, 0, List(3865992, false, false, 0, 1, 503780, 503780, 1, 187775, 187775, null, log, 524288, 524288, 1, 0, 0, 0, 0, 0, 0, 1, 0, 0, 1, 0, 0, 0, 0, 0, 0, 0, 0, List(531, 517, 943, 501, 0, 0), 2, 3, 5, sizeAware))</td></tr></tbody></table></div>"
      ]
     },
     "metadata": {
      "application/vnd.databricks.v1+output": {
       "addedWidgets": {},
       "aggData": [],
       "aggError": "",
       "aggOverflow": false,
       "aggSchema": [],
       "aggSeriesLimitReached": false,
       "aggType": "",
       "arguments": {},
       "columnCustomDisplayInfos": {},
       "data": [
        [
         "dbfs:/user/hive/warehouse/qbex.db/retail_799",
         [
          5,
          4,
          [
           216624,
           545917,
           430353.0,
           5,
           2151765
          ],
          [
           503170,
           535496,
           522063.5,
           4,
           2088254
          ],
          0,
          null,
          null,
          0,
          1,
          8,
          0,
          false,
          0,
          0,
          1735444546389,
          1735444568098,
          8,
          1,
          null,
          [
           0,
           0
          ],
          9,
          9,
          10488,
          0,
          [
           3802291,
           true,
           false,
           0,
           7,
           3614516,
           3614516,
           1,
           187775,
           187775,
           null,
           "log",
           524288,
           524288,
           1,
           0,
           1,
           0,
           1,
           0,
           0,
           3,
           0,
           0,
           1,
           0,
           0,
           1,
           0,
           0,
           0,
           2088254,
           2088254,
           [
            339,
            2156,
            0,
            1877,
            0,
            4595
           ],
           2,
           1,
           5,
           "sizeAware"
          ]
         ]
        ],
        [
         "dbfs:/user/hive/warehouse/qbex.db/retail_799",
         [
          3,
          3,
          [
           268300,
           533391,
           413098.6666666667,
           3,
           1239296
          ],
          [
           216624,
           517896,
           413035.3333333333,
           3,
           1239106
          ],
          0,
          null,
          null,
          0,
          1,
          9,
          0,
          false,
          0,
          0,
          1735444568167,
          1735444581965,
          8,
          1,
          null,
          [
           0,
           0
          ],
          9,
          9,
          4791,
          0,
          [
           3865802,
           false,
           false,
           0,
           3,
           1526262,
           1526262,
           1,
           187775,
           187775,
           null,
           "log",
           524288,
           524288,
           1,
           0,
           1,
           0,
           1,
           0,
           0,
           2,
           0,
           0,
           0,
           0,
           0,
           1,
           0,
           0,
           0,
           1239106,
           1239106,
           [
            288,
            1578,
            1397,
            1496,
            0,
            0
           ],
           2,
           2,
           5,
           "sizeAware"
          ]
         ]
        ],
        [
         "dbfs:/user/hive/warehouse/qbex.db/retail_799",
         [
          0,
          0,
          [
           null,
           null,
           0.0,
           0,
           0
          ],
          [
           null,
           null,
           0.0,
           0,
           0
          ],
          0,
          null,
          null,
          0,
          0,
          9,
          0,
          false,
          0,
          0,
          1735444582026,
          1735444587314,
          8,
          0,
          null,
          [
           0,
           0
          ],
          9,
          9,
          0,
          0,
          [
           3865992,
           false,
           false,
           0,
           1,
           503780,
           503780,
           1,
           187775,
           187775,
           null,
           "log",
           524288,
           524288,
           1,
           0,
           0,
           0,
           0,
           0,
           0,
           1,
           0,
           0,
           1,
           0,
           0,
           0,
           0,
           0,
           0,
           0,
           0,
           [
            531,
            517,
            943,
            501,
            0,
            0
           ],
           2,
           3,
           5,
           "sizeAware"
          ]
         ]
        ]
       ],
       "datasetInfos": [],
       "dbfsResultPath": null,
       "isJsonSchema": true,
       "metadata": {
        "createTempViewForImplicitDf": true,
        "dataframeName": "_sqldf",
        "executionCount": 59
       },
       "overflow": false,
       "plotOptions": {
        "customPlotOptions": {},
        "displayType": "table",
        "pivotAggregation": null,
        "pivotColumns": null,
        "xColumns": null,
        "yColumns": null
       },
       "removedWidgets": [],
       "schema": [
        {
         "metadata": "{}",
         "name": "path",
         "type": "\"string\""
        },
        {
         "metadata": "{}",
         "name": "metrics",
         "type": "{\"type\":\"struct\",\"fields\":[{\"name\":\"numFilesAdded\",\"type\":\"long\",\"nullable\":false,\"metadata\":{}},{\"name\":\"numFilesRemoved\",\"type\":\"long\",\"nullable\":false,\"metadata\":{}},{\"name\":\"filesAdded\",\"type\":{\"type\":\"struct\",\"fields\":[{\"name\":\"min\",\"type\":\"long\",\"nullable\":true,\"metadata\":{}},{\"name\":\"max\",\"type\":\"long\",\"nullable\":true,\"metadata\":{}},{\"name\":\"avg\",\"type\":\"double\",\"nullable\":false,\"metadata\":{}},{\"name\":\"totalFiles\",\"type\":\"long\",\"nullable\":false,\"metadata\":{}},{\"name\":\"totalSize\",\"type\":\"long\",\"nullable\":false,\"metadata\":{}}]},\"nullable\":true,\"metadata\":{}},{\"name\":\"filesRemoved\",\"type\":{\"type\":\"struct\",\"fields\":[{\"name\":\"min\",\"type\":\"long\",\"nullable\":true,\"metadata\":{}},{\"name\":\"max\",\"type\":\"long\",\"nullable\":true,\"metadata\":{}},{\"name\":\"avg\",\"type\":\"double\",\"nullable\":false,\"metadata\":{}},{\"name\":\"totalFiles\",\"type\":\"long\",\"nullable\":false,\"metadata\":{}},{\"name\":\"totalSize\",\"type\":\"long\",\"nullable\":false,\"metadata\":{}}]},\"nullable\":true,\"metadata\":{}},{\"name\":\"partitionsOptimized\",\"type\":\"long\",\"nullable\":false,\"metadata\":{}},{\"name\":\"zOrderStats\",\"type\":{\"type\":\"struct\",\"fields\":[{\"name\":\"strategyName\",\"type\":\"string\",\"nullable\":true,\"metadata\":{}},{\"name\":\"inputCubeFiles\",\"type\":{\"type\":\"struct\",\"fields\":[{\"name\":\"num\",\"type\":\"long\",\"nullable\":false,\"metadata\":{}},{\"name\":\"size\",\"type\":\"long\",\"nullable\":false,\"metadata\":{}}]},\"nullable\":true,\"metadata\":{}},{\"name\":\"inputOtherFiles\",\"type\":{\"type\":\"struct\",\"fields\":[{\"name\":\"num\",\"type\":\"long\",\"nullable\":false,\"metadata\":{}},{\"name\":\"size\",\"type\":\"long\",\"nullable\":false,\"metadata\":{}}]},\"nullable\":true,\"metadata\":{}},{\"name\":\"inputNumCubes\",\"type\":\"long\",\"nullable\":false,\"metadata\":{}},{\"name\":\"mergedFiles\",\"type\":{\"type\":\"struct\",\"fields\":[{\"name\":\"num\",\"type\":\"long\",\"nullable\":false,\"metadata\":{}},{\"name\":\"size\",\"type\":\"long\",\"nullable\":false,\"metadata\":{}}]},\"nullable\":true,\"metadata\":{}},{\"name\":\"numOutputCubes\",\"type\":\"long\",\"nullable\":false,\"metadata\":{}},{\"name\":\"mergedNumCubes\",\"type\":\"long\",\"nullable\":true,\"metadata\":{}}]},\"nullable\":true,\"metadata\":{}},{\"name\":\"clusteringStats\",\"type\":{\"type\":\"struct\",\"fields\":[{\"name\":\"inputZCubeFiles\",\"type\":{\"type\":\"struct\",\"fields\":[{\"name\":\"numFiles\",\"type\":\"long\",\"nullable\":false,\"metadata\":{}},{\"name\":\"size\",\"type\":\"long\",\"nullable\":false,\"metadata\":{}}]},\"nullable\":true,\"metadata\":{}},{\"name\":\"inputOtherFiles\",\"type\":{\"type\":\"struct\",\"fields\":[{\"name\":\"numFiles\",\"type\":\"long\",\"nullable\":false,\"metadata\":{}},{\"name\":\"size\",\"type\":\"long\",\"nullable\":false,\"metadata\":{}}]},\"nullable\":true,\"metadata\":{}},{\"name\":\"inputNumZCubes\",\"type\":\"long\",\"nullable\":false,\"metadata\":{}},{\"name\":\"mergedFiles\",\"type\":{\"type\":\"struct\",\"fields\":[{\"name\":\"numFiles\",\"type\":\"long\",\"nullable\":false,\"metadata\":{}},{\"name\":\"size\",\"type\":\"long\",\"nullable\":false,\"metadata\":{}}]},\"nullable\":true,\"metadata\":{}},{\"name\":\"numOutputZCubes\",\"type\":\"long\",\"nullable\":false,\"metadata\":{}}]},\"nullable\":true,\"metadata\":{}},{\"name\":\"numBins\",\"type\":\"long\",\"nullable\":false,\"metadata\":{}},{\"name\":\"numBatches\",\"type\":\"long\",\"nullable\":false,\"metadata\":{}},{\"name\":\"totalConsideredFiles\",\"type\":\"long\",\"nullable\":false,\"metadata\":{}},{\"name\":\"totalFilesSkipped\",\"type\":\"long\",\"nullable\":false,\"metadata\":{}},{\"name\":\"preserveInsertionOrder\",\"type\":\"boolean\",\"nullable\":false,\"metadata\":{}},{\"name\":\"numFilesSkippedToReduceWriteAmplification\",\"type\":\"long\",\"nullable\":false,\"metadata\":{}},{\"name\":\"numBytesSkippedToReduceWriteAmplification\",\"type\":\"long\",\"nullable\":false,\"metadata\":{}},{\"name\":\"startTimeMs\",\"type\":\"long\",\"nullable\":false,\"metadata\":{}},{\"name\":\"endTimeMs\",\"type\":\"long\",\"nullable\":false,\"metadata\":{}},{\"name\":\"totalClusterParallelism\",\"type\":\"long\",\"nullable\":false,\"metadata\":{}},{\"name\":\"totalScheduledTasks\",\"type\":\"long\",\"nullable\":false,\"metadata\":{}},{\"name\":\"autoCompactParallelismStats\",\"type\":{\"type\":\"struct\",\"fields\":[{\"name\":\"maxClusterActiveParallelism\",\"type\":\"long\",\"nullable\":true,\"metadata\":{}},{\"name\":\"minClusterActiveParallelism\",\"type\":\"long\",\"nullable\":true,\"metadata\":{}},{\"name\":\"maxSessionActiveParallelism\",\"type\":\"long\",\"nullable\":true,\"metadata\":{}},{\"name\":\"minSessionActiveParallelism\",\"type\":\"long\",\"nullable\":true,\"metadata\":{}}]},\"nullable\":true,\"metadata\":{}},{\"name\":\"deletionVectorStats\",\"type\":{\"type\":\"struct\",\"fields\":[{\"name\":\"numDeletionVectorsRemoved\",\"type\":\"long\",\"nullable\":false,\"metadata\":{}},{\"name\":\"numDeletionVectorRowsRemoved\",\"type\":\"long\",\"nullable\":false,\"metadata\":{}}]},\"nullable\":true,\"metadata\":{}},{\"name\":\"numTableColumns\",\"type\":\"long\",\"nullable\":false,\"metadata\":{}},{\"name\":\"numTableColumnsWithStats\",\"type\":\"long\",\"nullable\":false,\"metadata\":{}},{\"name\":\"totalTaskExecutionTimeMs\",\"type\":\"long\",\"nullable\":false,\"metadata\":{}},{\"name\":\"skippedArchivedFiles\",\"type\":\"long\",\"nullable\":false,\"metadata\":{}},{\"name\":\"clusteringMetrics\",\"type\":{\"type\":\"struct\",\"fields\":[{\"name\":\"sizeOfTableInBytesBeforeLazyClustering\",\"type\":\"long\",\"nullable\":false,\"metadata\":{}},{\"name\":\"isNewMetadataCreated\",\"type\":\"boolean\",\"nullable\":false,\"metadata\":{}},{\"name\":\"isPOTriggered\",\"type\":\"boolean\",\"nullable\":false,\"metadata\":{}},{\"name\":\"numFilesSkippedWithoutStats\",\"type\":\"long\",\"nullable\":false,\"metadata\":{}},{\"name\":\"numFilesClassifiedToIntermediateNodes\",\"type\":\"long\",\"nullable\":false,\"metadata\":{}},{\"name\":\"sizeOfFilesClassifiedToIntermediateNodesInBytes\",\"type\":\"long\",\"nullable\":false,\"metadata\":{}},{\"name\":\"logicalSizeOfFilesClassifiedToIntermediateNodesInBytes\",\"type\":\"long\",\"nullable\":false,\"metadata\":{}},{\"name\":\"numFilesClassifiedToLeafNodes\",\"type\":\"long\",\"nullable\":false,\"metadata\":{}},{\"name\":\"sizeOfFilesClassifiedToLeafNodesInBytes\",\"type\":\"long\",\"nullable\":false,\"metadata\":{}},{\"name\":\"logicalSizeOfFilesClassifiedToLeafNodesInBytes\",\"type\":\"long\",\"nullable\":false,\"metadata\":{}},{\"name\":\"numThreadsForClassifier\",\"type\":\"integer\",\"nullable\":true,\"metadata\":{}},{\"name\":\"clusterThresholdStrategy\",\"type\":\"string\",\"nullable\":true,\"metadata\":{}},{\"name\":\"minFileSize\",\"type\":\"long\",\"nullable\":false,\"metadata\":{}},{\"name\":\"maxFileSize\",\"type\":\"long\",\"nullable\":false,\"metadata\":{}},{\"name\":\"nodeMinNumFilesToCompact\",\"type\":\"long\",\"nullable\":false,\"metadata\":{}},{\"name\":\"numIdealFiles\",\"type\":\"long\",\"nullable\":false,\"metadata\":{}},{\"name\":\"numClusteringTasksPlanned\",\"type\":\"integer\",\"nullable\":false,\"metadata\":{}},{\"name\":\"numCompactionTasksPlanned\",\"type\":\"integer\",\"nullable\":false,\"metadata\":{}},{\"name\":\"numOptimizeBatchesPlanned\",\"type\":\"integer\",\"nullable\":false,\"metadata\":{}},{\"name\":\"numLeafNodesExpanded\",\"type\":\"long\",\"nullable\":false,\"metadata\":{}},{\"name\":\"numLeafNodesClustered\",\"type\":\"long\",\"nullable\":false,\"metadata\":{}},{\"name\":\"numGetFilesForNodeCalls\",\"type\":\"long\",\"nullable\":false,\"metadata\":{}},{\"name\":\"numSamplingJobs\",\"type\":\"long\",\"nullable\":false,\"metadata\":{}},{\"name\":\"numLeafNodesCompacted\",\"type\":\"long\",\"nullable\":false,\"metadata\":{}},{\"name\":\"numIntermediateNodesCompacted\",\"type\":\"long\",\"nullable\":false,\"metadata\":{}},{\"name\":\"totalSizeOfDataToCompactInBytes\",\"type\":\"long\",\"nullable\":false,\"metadata\":{}},{\"name\":\"totalLogicalSizeOfDataToCompactInBytes\",\"type\":\"long\",\"nullable\":false,\"metadata\":{}},{\"name\":\"numIntermediateNodesClustered\",\"type\":\"long\",\"nullable\":false,\"metadata\":{}},{\"name\":\"numFilesSkippedAfterExpansion\",\"type\":\"long\",\"nullable\":false,\"metadata\":{}},{\"name\":\"totalSizeOfFilesSkippedAfterExpansionInBytes\",\"type\":\"long\",\"nullable\":false,\"metadata\":{}},{\"name\":\"totalLogicalSizeOfFilesSkippedAfterExpansionInBytes\",\"type\":\"long\",\"nullable\":false,\"metadata\":{}},{\"name\":\"totalSizeOfDataToRewriteInBytes\",\"type\":\"long\",\"nullable\":false,\"metadata\":{}},{\"name\":\"totalLogicalSizeOfDataToRewriteInBytes\",\"type\":\"long\",\"nullable\":false,\"metadata\":{}},{\"name\":\"timeMetrics\",\"type\":{\"type\":\"struct\",\"fields\":[{\"name\":\"classifierTimeMs\",\"type\":\"long\",\"nullable\":false,\"metadata\":{}},{\"name\":\"optimizerTimeMs\",\"type\":\"long\",\"nullable\":false,\"metadata\":{}},{\"name\":\"metadataLoadTimeMs\",\"type\":\"long\",\"nullable\":false,\"metadata\":{}},{\"name\":\"totalGetFilesForNodeCallsTimeMs\",\"type\":\"long\",\"nullable\":false,\"metadata\":{}},{\"name\":\"totalSamplingTimeMs\",\"type\":\"long\",\"nullable\":false,\"metadata\":{}},{\"name\":\"metadataCreationTimeMs\",\"type\":\"long\",\"nullable\":false,\"metadata\":{}}]},\"nullable\":true,\"metadata\":{}},{\"name\":\"maxOptimizeBatchesInParallel\",\"type\":\"long\",\"nullable\":false,\"metadata\":{}},{\"name\":\"currentIteration\",\"type\":\"integer\",\"nullable\":false,\"metadata\":{}},{\"name\":\"maxIterations\",\"type\":\"integer\",\"nullable\":false,\"metadata\":{}},{\"name\":\"clusteringStrategy\",\"type\":\"string\",\"nullable\":true,\"metadata\":{}}]},\"nullable\":true,\"metadata\":{}}]}"
        }
       ],
       "type": "table"
      }
     },
     "output_type": "display_data"
    }
   ],
   "source": [
    "%sql\n",
    "optimize qbex.retail_799"
   ]
  },
  {
   "cell_type": "code",
   "execution_count": 0,
   "metadata": {
    "application/vnd.databricks.v1+cell": {
     "cellMetadata": {
      "byteLimit": 2048000,
      "implicitDf": true,
      "rowLimit": 10000
     },
     "inputWidgets": {},
     "nuid": "9190983f-dc25-4dd2-bd74-0a9675363c68",
     "showTitle": false,
     "tableResultSettingsMap": {},
     "title": ""
    }
   },
   "outputs": [
    {
     "output_type": "display_data",
     "data": {
      "text/html": [
       "<style scoped>\n",
       "  .table-result-container {\n",
       "    max-height: 300px;\n",
       "    overflow: auto;\n",
       "  }\n",
       "  table, th, td {\n",
       "    border: 1px solid black;\n",
       "    border-collapse: collapse;\n",
       "  }\n",
       "  th, td {\n",
       "    padding: 5px;\n",
       "  }\n",
       "  th {\n",
       "    text-align: left;\n",
       "  }\n",
       "</style><div class='table-result-container'><table class='table-result'><thead style='background-color: white'><tr><th>InvoiceNo</th><th>StockCode</th><th>Description</th><th>Quantity</th><th>InvoiceDate</th><th>UnitPrice</th><th>CustomerID</th><th>Country</th><th>_rescued_data</th></tr></thead><tbody><tr><td>536368</td><td>22960</td><td>JAM MAKING SET WITH JARS</td><td>6</td><td>12/1/2010 8:34</td><td>4.25</td><td>13047</td><td>United Kingdom</td><td>null</td></tr><tr><td>536368</td><td>22913</td><td>RED COAT RACK PARIS FASHION</td><td>3</td><td>12/1/2010 8:34</td><td>4.95</td><td>13047</td><td>United Kingdom</td><td>null</td></tr><tr><td>536368</td><td>22912</td><td>YELLOW COAT RACK PARIS FASHION</td><td>3</td><td>12/1/2010 8:34</td><td>4.95</td><td>13047</td><td>United Kingdom</td><td>null</td></tr><tr><td>536368</td><td>22914</td><td>BLUE COAT RACK PARIS FASHION</td><td>3</td><td>12/1/2010 8:34</td><td>4.95</td><td>13047</td><td>United Kingdom</td><td>null</td></tr></tbody></table></div>"
      ]
     },
     "metadata": {
      "application/vnd.databricks.v1+output": {
       "addedWidgets": {},
       "aggData": [],
       "aggError": "",
       "aggOverflow": false,
       "aggSchema": [],
       "aggSeriesLimitReached": false,
       "aggType": "",
       "arguments": {},
       "columnCustomDisplayInfos": {},
       "data": [
        [
         "536368",
         "22960",
         "JAM MAKING SET WITH JARS",
         6,
         "12/1/2010 8:34",
         4.25,
         13047,
         "United Kingdom",
         null
        ],
        [
         "536368",
         "22913",
         "RED COAT RACK PARIS FASHION",
         3,
         "12/1/2010 8:34",
         4.95,
         13047,
         "United Kingdom",
         null
        ],
        [
         "536368",
         "22912",
         "YELLOW COAT RACK PARIS FASHION",
         3,
         "12/1/2010 8:34",
         4.95,
         13047,
         "United Kingdom",
         null
        ],
        [
         "536368",
         "22914",
         "BLUE COAT RACK PARIS FASHION",
         3,
         "12/1/2010 8:34",
         4.95,
         13047,
         "United Kingdom",
         null
        ]
       ],
       "datasetInfos": [],
       "dbfsResultPath": null,
       "isJsonSchema": true,
       "metadata": {
        "createTempViewForImplicitDf": true,
        "dataframeName": "_sqldf",
        "executionCount": 58
       },
       "overflow": false,
       "plotOptions": {
        "customPlotOptions": {},
        "displayType": "table",
        "pivotAggregation": null,
        "pivotColumns": null,
        "xColumns": null,
        "yColumns": null
       },
       "removedWidgets": [],
       "schema": [
        {
         "metadata": "{}",
         "name": "InvoiceNo",
         "type": "\"string\""
        },
        {
         "metadata": "{}",
         "name": "StockCode",
         "type": "\"string\""
        },
        {
         "metadata": "{}",
         "name": "Description",
         "type": "\"string\""
        },
        {
         "metadata": "{}",
         "name": "Quantity",
         "type": "\"integer\""
        },
        {
         "metadata": "{}",
         "name": "InvoiceDate",
         "type": "\"string\""
        },
        {
         "metadata": "{}",
         "name": "UnitPrice",
         "type": "\"double\""
        },
        {
         "metadata": "{}",
         "name": "CustomerID",
         "type": "\"integer\""
        },
        {
         "metadata": "{}",
         "name": "Country",
         "type": "\"string\""
        },
        {
         "metadata": "{}",
         "name": "_rescued_data",
         "type": "\"string\""
        }
       ],
       "type": "table"
      }
     },
     "output_type": "display_data"
    }
   ],
   "source": [
    "%sql\n",
    "select * from qbex.retail_799 where InvoiceNo = '536368'"
   ]
  },
  {
   "cell_type": "code",
   "execution_count": 0,
   "metadata": {
    "application/vnd.databricks.v1+cell": {
     "cellMetadata": {
      "byteLimit": 2048000,
      "implicitDf": true,
      "rowLimit": 10000
     },
     "inputWidgets": {},
     "nuid": "9dbfcc6b-c534-4b07-b392-24f7a7ed7909",
     "showTitle": false,
     "tableResultSettingsMap": {},
     "title": ""
    }
   },
   "outputs": [
    {
     "output_type": "display_data",
     "data": {
      "text/html": [
       "<style scoped>\n",
       "  .table-result-container {\n",
       "    max-height: 300px;\n",
       "    overflow: auto;\n",
       "  }\n",
       "  table, th, td {\n",
       "    border: 1px solid black;\n",
       "    border-collapse: collapse;\n",
       "  }\n",
       "  th, td {\n",
       "    padding: 5px;\n",
       "  }\n",
       "  th {\n",
       "    text-align: left;\n",
       "  }\n",
       "</style><div class='table-result-container'><table class='table-result'><thead style='background-color: white'><tr><th>col_name</th><th>data_type</th><th>comment</th></tr></thead><tbody><tr><td>InvoiceNo</td><td>string</td><td>null</td></tr><tr><td>StockCode</td><td>string</td><td>null</td></tr><tr><td>Description</td><td>string</td><td>null</td></tr><tr><td>Quantity</td><td>int</td><td>null</td></tr><tr><td>InvoiceDate</td><td>string</td><td>null</td></tr><tr><td>UnitPrice</td><td>double</td><td>null</td></tr><tr><td>CustomerID</td><td>int</td><td>null</td></tr><tr><td>Country</td><td>string</td><td>null</td></tr><tr><td>_rescued_data</td><td>string</td><td>null</td></tr><tr><td># Clustering Information</td><td></td><td></td></tr><tr><td># col_name</td><td>data_type</td><td>comment</td></tr><tr><td>InvoiceNo</td><td>string</td><td>null</td></tr><tr><td></td><td></td><td></td></tr><tr><td># Delta Statistics Columns</td><td></td><td></td></tr><tr><td>Column Names</td><td>Quantity, UnitPrice, Country, CustomerID, StockCode, Description, _rescued_data, InvoiceDate, InvoiceNo</td><td></td></tr><tr><td>Column Selection Method</td><td>first-32</td><td></td></tr><tr><td></td><td></td><td></td></tr><tr><td># Detailed Table Information</td><td></td><td></td></tr><tr><td>Catalog</td><td>spark_catalog</td><td></td></tr><tr><td>Database</td><td>qbex</td><td></td></tr><tr><td>Table</td><td>retail_799</td><td></td></tr><tr><td>Created Time</td><td>Sun Dec 29 03:32:19 UTC 2024</td><td></td></tr><tr><td>Last Access</td><td>UNKNOWN</td><td></td></tr><tr><td>Created By</td><td>Spark 3.5.0</td><td></td></tr><tr><td>Statistics</td><td>4306093 bytes</td><td></td></tr><tr><td>Type</td><td>MANAGED</td><td></td></tr><tr><td>Location</td><td>dbfs:/user/hive/warehouse/qbex.db/retail_799</td><td></td></tr><tr><td>Provider</td><td>delta</td><td></td></tr><tr><td>Owner</td><td>root</td><td></td></tr><tr><td>Is_managed_location</td><td>true</td><td></td></tr><tr><td>Table Properties</td><td>[clusteringColumns=[[\"InvoiceNo\"]],delta.checkpointPolicy=v2,delta.enableDeletionVectors=true,delta.enableRowTracking=true,delta.feature.appendOnly=supported,delta.feature.clustering=supported,delta.feature.deletionVectors=supported,delta.feature.domainMetadata=supported,delta.feature.invariants=supported,delta.feature.rowTracking=supported,delta.feature.v2Checkpoint=supported,delta.minReaderVersion=3,delta.minWriterVersion=7,delta.rowTracking.materializedRowCommitVersionColumnName=_row-commit-version-col-a0d667b0-1333-4bd2-8eb8-5187f4a10dd9,delta.rowTracking.materializedRowIdColumnName=_row-id-col-fb630930-ef04-4cf9-bdcb-5d4ea388243a]</td><td></td></tr></tbody></table></div>"
      ]
     },
     "metadata": {
      "application/vnd.databricks.v1+output": {
       "addedWidgets": {},
       "aggData": [],
       "aggError": "",
       "aggOverflow": false,
       "aggSchema": [],
       "aggSeriesLimitReached": false,
       "aggType": "",
       "arguments": {},
       "columnCustomDisplayInfos": {},
       "data": [
        [
         "InvoiceNo",
         "string",
         null
        ],
        [
         "StockCode",
         "string",
         null
        ],
        [
         "Description",
         "string",
         null
        ],
        [
         "Quantity",
         "int",
         null
        ],
        [
         "InvoiceDate",
         "string",
         null
        ],
        [
         "UnitPrice",
         "double",
         null
        ],
        [
         "CustomerID",
         "int",
         null
        ],
        [
         "Country",
         "string",
         null
        ],
        [
         "_rescued_data",
         "string",
         null
        ],
        [
         "# Clustering Information",
         "",
         ""
        ],
        [
         "# col_name",
         "data_type",
         "comment"
        ],
        [
         "InvoiceNo",
         "string",
         null
        ],
        [
         "",
         "",
         ""
        ],
        [
         "# Delta Statistics Columns",
         "",
         ""
        ],
        [
         "Column Names",
         "Quantity, UnitPrice, Country, CustomerID, StockCode, Description, _rescued_data, InvoiceDate, InvoiceNo",
         ""
        ],
        [
         "Column Selection Method",
         "first-32",
         ""
        ],
        [
         "",
         "",
         ""
        ],
        [
         "# Detailed Table Information",
         "",
         ""
        ],
        [
         "Catalog",
         "spark_catalog",
         ""
        ],
        [
         "Database",
         "qbex",
         ""
        ],
        [
         "Table",
         "retail_799",
         ""
        ],
        [
         "Created Time",
         "Sun Dec 29 03:32:19 UTC 2024",
         ""
        ],
        [
         "Last Access",
         "UNKNOWN",
         ""
        ],
        [
         "Created By",
         "Spark 3.5.0",
         ""
        ],
        [
         "Statistics",
         "4306093 bytes",
         ""
        ],
        [
         "Type",
         "MANAGED",
         ""
        ],
        [
         "Location",
         "dbfs:/user/hive/warehouse/qbex.db/retail_799",
         ""
        ],
        [
         "Provider",
         "delta",
         ""
        ],
        [
         "Owner",
         "root",
         ""
        ],
        [
         "Is_managed_location",
         "true",
         ""
        ],
        [
         "Table Properties",
         "[clusteringColumns=[[\"InvoiceNo\"]],delta.checkpointPolicy=v2,delta.enableDeletionVectors=true,delta.enableRowTracking=true,delta.feature.appendOnly=supported,delta.feature.clustering=supported,delta.feature.deletionVectors=supported,delta.feature.domainMetadata=supported,delta.feature.invariants=supported,delta.feature.rowTracking=supported,delta.feature.v2Checkpoint=supported,delta.minReaderVersion=3,delta.minWriterVersion=7,delta.rowTracking.materializedRowCommitVersionColumnName=_row-commit-version-col-a0d667b0-1333-4bd2-8eb8-5187f4a10dd9,delta.rowTracking.materializedRowIdColumnName=_row-id-col-fb630930-ef04-4cf9-bdcb-5d4ea388243a]",
         ""
        ]
       ],
       "datasetInfos": [],
       "dbfsResultPath": null,
       "isJsonSchema": true,
       "metadata": {
        "createTempViewForImplicitDf": true,
        "dataframeName": "_sqldf",
        "executionCount": 60
       },
       "overflow": false,
       "plotOptions": {
        "customPlotOptions": {},
        "displayType": "table",
        "pivotAggregation": null,
        "pivotColumns": null,
        "xColumns": null,
        "yColumns": null
       },
       "removedWidgets": [],
       "schema": [
        {
         "metadata": "{\"comment\":\"name of the column\"}",
         "name": "col_name",
         "type": "\"string\""
        },
        {
         "metadata": "{\"comment\":\"data type of the column\"}",
         "name": "data_type",
         "type": "\"string\""
        },
        {
         "metadata": "{\"comment\":\"comment of the column\"}",
         "name": "comment",
         "type": "\"string\""
        }
       ],
       "type": "table"
      }
     },
     "output_type": "display_data"
    }
   ],
   "source": [
    "%sql\n",
    "DESCRIBE extended qbex.retail_799"
   ]
  },
  {
   "cell_type": "code",
   "execution_count": 0,
   "metadata": {
    "application/vnd.databricks.v1+cell": {
     "cellMetadata": {
      "byteLimit": 2048000,
      "implicitDf": true,
      "rowLimit": 10000
     },
     "inputWidgets": {},
     "nuid": "48080fa6-ed4a-4fae-8a3b-c076704b736a",
     "showTitle": false,
     "tableResultSettingsMap": {},
     "title": ""
    }
   },
   "outputs": [
    {
     "output_type": "display_data",
     "data": {
      "text/html": [
       "<style scoped>\n",
       "  .table-result-container {\n",
       "    max-height: 300px;\n",
       "    overflow: auto;\n",
       "  }\n",
       "  table, th, td {\n",
       "    border: 1px solid black;\n",
       "    border-collapse: collapse;\n",
       "  }\n",
       "  th, td {\n",
       "    padding: 5px;\n",
       "  }\n",
       "  th {\n",
       "    text-align: left;\n",
       "  }\n",
       "</style><div class='table-result-container'><table class='table-result'><thead style='background-color: white'><tr><th>version</th><th>timestamp</th><th>userId</th><th>userName</th><th>operation</th><th>operationParameters</th><th>job</th><th>notebook</th><th>clusterId</th><th>readVersion</th><th>isolationLevel</th><th>isBlindAppend</th><th>operationMetrics</th><th>userMetadata</th><th>engineInfo</th></tr></thead><tbody><tr><td>4</td><td>2024-12-28T13:59:48Z</td><td>141785285425900</td><td>qbex.azure@gmail.com</td><td>DELETE</td><td>Map(predicate -> [\"(InvoiceNo#7661 = 536367)\"])</td><td>null</td><td>List(2209238712519839)</td><td>1228-131604-l7verqvn</td><td>3</td><td>WriteSerializable</td><td>false</td><td>Map(numRemovedFiles -> 0, numRemovedBytes -> 0, numCopiedRows -> 0, numDeletionVectorsAdded -> 1, numDeletionVectorsRemoved -> 0, numAddedChangeFiles -> 0, executionTimeMs -> 5252, numDeletionVectorsUpdated -> 0, numDeletedRows -> 12, scanTimeMs -> 2478, numAddedFiles -> 0, numAddedBytes -> 0, rewriteTimeMs -> 2701)</td><td>null</td><td>Databricks-Runtime/15.4.x-scala2.12</td></tr><tr><td>3</td><td>2024-12-28T13:59:14Z</td><td>141785285425900</td><td>qbex.azure@gmail.com</td><td>SET TBLPROPERTIES</td><td>Map(properties -> {\"delta.enableDeletionVectors\":\"true\"})</td><td>null</td><td>List(2209238712519839)</td><td>1228-131604-l7verqvn</td><td>2</td><td>WriteSerializable</td><td>true</td><td>Map()</td><td>null</td><td>Databricks-Runtime/15.4.x-scala2.12</td></tr><tr><td>2</td><td>2024-12-28T13:58:30Z</td><td>141785285425900</td><td>qbex.azure@gmail.com</td><td>DELETE</td><td>Map(predicate -> [\"(InvoiceNo#6329 = 536366)\"])</td><td>null</td><td>List(2209238712519839)</td><td>1228-131604-l7verqvn</td><td>1</td><td>WriteSerializable</td><td>false</td><td>Map(numRemovedFiles -> 1, numRemovedBytes -> 503757, numCopiedRows -> 74348, numDeletionVectorsAdded -> 0, numDeletionVectorsRemoved -> 0, numAddedChangeFiles -> 0, executionTimeMs -> 3811, numDeletionVectorsUpdated -> 0, numDeletedRows -> 2, scanTimeMs -> 1879, numAddedFiles -> 1, numAddedBytes -> 503531, rewriteTimeMs -> 1908)</td><td>null</td><td>Databricks-Runtime/15.4.x-scala2.12</td></tr><tr><td>1</td><td>2024-12-28T13:57:15Z</td><td>141785285425900</td><td>qbex.azure@gmail.com</td><td>SET TBLPROPERTIES</td><td>Map(properties -> {\"delta.enableDeletionVectors\":\"false\"})</td><td>null</td><td>List(2209238712519839)</td><td>1228-131604-l7verqvn</td><td>0</td><td>WriteSerializable</td><td>true</td><td>Map()</td><td>null</td><td>Databricks-Runtime/15.4.x-scala2.12</td></tr><tr><td>0</td><td>2024-12-28T13:55:59Z</td><td>141785285425900</td><td>qbex.azure@gmail.com</td><td>CREATE TABLE AS SELECT</td><td>Map(partitionBy -> [], clusterBy -> [], description -> null, isManaged -> true, properties -> {}, statsOnLoad -> false)</td><td>null</td><td>List(2209238712519839)</td><td>1228-131604-l7verqvn</td><td>null</td><td>WriteSerializable</td><td>true</td><td>Map(numFiles -> 8, numOutputRows -> 541909, numOutputBytes -> 3802878)</td><td>null</td><td>Databricks-Runtime/15.4.x-scala2.12</td></tr></tbody></table></div>"
      ]
     },
     "metadata": {
      "application/vnd.databricks.v1+output": {
       "addedWidgets": {},
       "aggData": [],
       "aggError": "",
       "aggOverflow": false,
       "aggSchema": [],
       "aggSeriesLimitReached": false,
       "aggType": "",
       "arguments": {},
       "columnCustomDisplayInfos": {},
       "data": [
        [
         4,
         "2024-12-28T13:59:48Z",
         "141785285425900",
         "qbex.azure@gmail.com",
         "DELETE",
         {
          "predicate": "[\"(InvoiceNo#7661 = 536367)\"]"
         },
         null,
         [
          "2209238712519839"
         ],
         "1228-131604-l7verqvn",
         3,
         "WriteSerializable",
         false,
         {
          "executionTimeMs": "5252",
          "numAddedBytes": "0",
          "numAddedChangeFiles": "0",
          "numAddedFiles": "0",
          "numCopiedRows": "0",
          "numDeletedRows": "12",
          "numDeletionVectorsAdded": "1",
          "numDeletionVectorsRemoved": "0",
          "numDeletionVectorsUpdated": "0",
          "numRemovedBytes": "0",
          "numRemovedFiles": "0",
          "rewriteTimeMs": "2701",
          "scanTimeMs": "2478"
         },
         null,
         "Databricks-Runtime/15.4.x-scala2.12"
        ],
        [
         3,
         "2024-12-28T13:59:14Z",
         "141785285425900",
         "qbex.azure@gmail.com",
         "SET TBLPROPERTIES",
         {
          "properties": "{\"delta.enableDeletionVectors\":\"true\"}"
         },
         null,
         [
          "2209238712519839"
         ],
         "1228-131604-l7verqvn",
         2,
         "WriteSerializable",
         true,
         {},
         null,
         "Databricks-Runtime/15.4.x-scala2.12"
        ],
        [
         2,
         "2024-12-28T13:58:30Z",
         "141785285425900",
         "qbex.azure@gmail.com",
         "DELETE",
         {
          "predicate": "[\"(InvoiceNo#6329 = 536366)\"]"
         },
         null,
         [
          "2209238712519839"
         ],
         "1228-131604-l7verqvn",
         1,
         "WriteSerializable",
         false,
         {
          "executionTimeMs": "3811",
          "numAddedBytes": "503531",
          "numAddedChangeFiles": "0",
          "numAddedFiles": "1",
          "numCopiedRows": "74348",
          "numDeletedRows": "2",
          "numDeletionVectorsAdded": "0",
          "numDeletionVectorsRemoved": "0",
          "numDeletionVectorsUpdated": "0",
          "numRemovedBytes": "503757",
          "numRemovedFiles": "1",
          "rewriteTimeMs": "1908",
          "scanTimeMs": "1879"
         },
         null,
         "Databricks-Runtime/15.4.x-scala2.12"
        ],
        [
         1,
         "2024-12-28T13:57:15Z",
         "141785285425900",
         "qbex.azure@gmail.com",
         "SET TBLPROPERTIES",
         {
          "properties": "{\"delta.enableDeletionVectors\":\"false\"}"
         },
         null,
         [
          "2209238712519839"
         ],
         "1228-131604-l7verqvn",
         0,
         "WriteSerializable",
         true,
         {},
         null,
         "Databricks-Runtime/15.4.x-scala2.12"
        ],
        [
         0,
         "2024-12-28T13:55:59Z",
         "141785285425900",
         "qbex.azure@gmail.com",
         "CREATE TABLE AS SELECT",
         {
          "clusterBy": "[]",
          "description": null,
          "isManaged": "true",
          "partitionBy": "[]",
          "properties": "{}",
          "statsOnLoad": "false"
         },
         null,
         [
          "2209238712519839"
         ],
         "1228-131604-l7verqvn",
         null,
         "WriteSerializable",
         true,
         {
          "numFiles": "8",
          "numOutputBytes": "3802878",
          "numOutputRows": "541909"
         },
         null,
         "Databricks-Runtime/15.4.x-scala2.12"
        ]
       ],
       "datasetInfos": [],
       "dbfsResultPath": null,
       "isJsonSchema": true,
       "metadata": {
        "createTempViewForImplicitDf": true,
        "dataframeName": "_sqldf",
        "executionCount": 23
       },
       "overflow": false,
       "plotOptions": {
        "customPlotOptions": {},
        "displayType": "table",
        "pivotAggregation": null,
        "pivotColumns": null,
        "xColumns": null,
        "yColumns": null
       },
       "removedWidgets": [],
       "schema": [
        {
         "metadata": "{}",
         "name": "version",
         "type": "\"long\""
        },
        {
         "metadata": "{}",
         "name": "timestamp",
         "type": "\"timestamp\""
        },
        {
         "metadata": "{}",
         "name": "userId",
         "type": "\"string\""
        },
        {
         "metadata": "{}",
         "name": "userName",
         "type": "\"string\""
        },
        {
         "metadata": "{}",
         "name": "operation",
         "type": "\"string\""
        },
        {
         "metadata": "{}",
         "name": "operationParameters",
         "type": "{\"type\":\"map\",\"keyType\":\"string\",\"valueType\":\"string\",\"valueContainsNull\":true}"
        },
        {
         "metadata": "{}",
         "name": "job",
         "type": "{\"type\":\"struct\",\"fields\":[{\"name\":\"jobId\",\"type\":\"string\",\"nullable\":true,\"metadata\":{}},{\"name\":\"jobName\",\"type\":\"string\",\"nullable\":true,\"metadata\":{}},{\"name\":\"jobRunId\",\"type\":\"string\",\"nullable\":true,\"metadata\":{}},{\"name\":\"runId\",\"type\":\"string\",\"nullable\":true,\"metadata\":{}},{\"name\":\"jobOwnerId\",\"type\":\"string\",\"nullable\":true,\"metadata\":{}},{\"name\":\"triggerType\",\"type\":\"string\",\"nullable\":true,\"metadata\":{}}]}"
        },
        {
         "metadata": "{}",
         "name": "notebook",
         "type": "{\"type\":\"struct\",\"fields\":[{\"name\":\"notebookId\",\"type\":\"string\",\"nullable\":true,\"metadata\":{}}]}"
        },
        {
         "metadata": "{}",
         "name": "clusterId",
         "type": "\"string\""
        },
        {
         "metadata": "{}",
         "name": "readVersion",
         "type": "\"long\""
        },
        {
         "metadata": "{}",
         "name": "isolationLevel",
         "type": "\"string\""
        },
        {
         "metadata": "{}",
         "name": "isBlindAppend",
         "type": "\"boolean\""
        },
        {
         "metadata": "{}",
         "name": "operationMetrics",
         "type": "{\"type\":\"map\",\"keyType\":\"string\",\"valueType\":\"string\",\"valueContainsNull\":true}"
        },
        {
         "metadata": "{}",
         "name": "userMetadata",
         "type": "\"string\""
        },
        {
         "metadata": "{}",
         "name": "engineInfo",
         "type": "\"string\""
        }
       ],
       "type": "table"
      }
     },
     "output_type": "display_data"
    }
   ],
   "source": [
    "%sql\n",
    "describe history qbex.retail_299"
   ]
  },
  {
   "cell_type": "code",
   "execution_count": 0,
   "metadata": {
    "application/vnd.databricks.v1+cell": {
     "cellMetadata": {
      "byteLimit": 2048000,
      "implicitDf": true,
      "rowLimit": 10000
     },
     "inputWidgets": {},
     "nuid": "92fc2419-a175-49e7-9b93-00577183b9d2",
     "showTitle": false,
     "tableResultSettingsMap": {},
     "title": ""
    }
   },
   "outputs": [
    {
     "output_type": "display_data",
     "data": {
      "text/html": [
       "<style scoped>\n",
       "  .table-result-container {\n",
       "    max-height: 300px;\n",
       "    overflow: auto;\n",
       "  }\n",
       "  table, th, td {\n",
       "    border: 1px solid black;\n",
       "    border-collapse: collapse;\n",
       "  }\n",
       "  th, td {\n",
       "    padding: 5px;\n",
       "  }\n",
       "  th {\n",
       "    text-align: left;\n",
       "  }\n",
       "</style><div class='table-result-container'><table class='table-result'><thead style='background-color: white'><tr><th>num_affected_rows</th></tr></thead><tbody><tr><td>2</td></tr></tbody></table></div>"
      ]
     },
     "metadata": {
      "application/vnd.databricks.v1+output": {
       "addedWidgets": {},
       "aggData": [],
       "aggError": "",
       "aggOverflow": false,
       "aggSchema": [],
       "aggSeriesLimitReached": false,
       "aggType": "",
       "arguments": {},
       "columnCustomDisplayInfos": {},
       "data": [
        [
         2
        ]
       ],
       "datasetInfos": [],
       "dbfsResultPath": null,
       "isJsonSchema": true,
       "metadata": {
        "createTempViewForImplicitDf": true,
        "dataframeName": "_sqldf",
        "executionCount": 20
       },
       "overflow": false,
       "plotOptions": {
        "customPlotOptions": {},
        "displayType": "table",
        "pivotAggregation": null,
        "pivotColumns": null,
        "xColumns": null,
        "yColumns": null
       },
       "removedWidgets": [],
       "schema": [
        {
         "metadata": "{}",
         "name": "num_affected_rows",
         "type": "\"long\""
        }
       ],
       "type": "table"
      }
     },
     "output_type": "display_data"
    }
   ],
   "source": [
    "%sql\n",
    "delete from qbex.retail_299 where InvoiceNo = '536366'"
   ]
  },
  {
   "cell_type": "code",
   "execution_count": 0,
   "metadata": {
    "application/vnd.databricks.v1+cell": {
     "cellMetadata": {
      "byteLimit": 2048000,
      "implicitDf": true,
      "rowLimit": 10000
     },
     "inputWidgets": {},
     "nuid": "d93ff7ee-d13b-4bca-8652-fc57f08a7b76",
     "showTitle": false,
     "tableResultSettingsMap": {},
     "title": ""
    }
   },
   "outputs": [
    {
     "output_type": "display_data",
     "data": {
      "text/html": [
       "<style scoped>\n",
       "  .table-result-container {\n",
       "    max-height: 300px;\n",
       "    overflow: auto;\n",
       "  }\n",
       "  table, th, td {\n",
       "    border: 1px solid black;\n",
       "    border-collapse: collapse;\n",
       "  }\n",
       "  th, td {\n",
       "    padding: 5px;\n",
       "  }\n",
       "  th {\n",
       "    text-align: left;\n",
       "  }\n",
       "</style><div class='table-result-container'><table class='table-result'><thead style='background-color: white'><tr></tr></thead><tbody></tbody></table></div>"
      ]
     },
     "metadata": {
      "application/vnd.databricks.v1+output": {
       "addedWidgets": {},
       "aggData": [],
       "aggError": "",
       "aggOverflow": false,
       "aggSchema": [],
       "aggSeriesLimitReached": false,
       "aggType": "",
       "arguments": {},
       "columnCustomDisplayInfos": {},
       "data": [],
       "datasetInfos": [],
       "dbfsResultPath": null,
       "isJsonSchema": true,
       "metadata": {
        "dataframeName": null
       },
       "overflow": false,
       "plotOptions": {
        "customPlotOptions": {},
        "displayType": "table",
        "pivotAggregation": null,
        "pivotColumns": null,
        "xColumns": null,
        "yColumns": null
       },
       "removedWidgets": [],
       "schema": [],
       "type": "table"
      }
     },
     "output_type": "display_data"
    }
   ],
   "source": [
    "%sql\n",
    "ALTER TABLE qbex.retail_299 SET TBLPROPERTIES ('delta.enableDeletionVectors' = true);"
   ]
  },
  {
   "cell_type": "code",
   "execution_count": 0,
   "metadata": {
    "application/vnd.databricks.v1+cell": {
     "cellMetadata": {
      "byteLimit": 2048000,
      "implicitDf": true,
      "rowLimit": 10000
     },
     "inputWidgets": {},
     "nuid": "8cdae3cb-e8f2-4e2d-87bc-b3c168f91c93",
     "showTitle": false,
     "tableResultSettingsMap": {},
     "title": ""
    }
   },
   "outputs": [
    {
     "output_type": "display_data",
     "data": {
      "text/html": [
       "<style scoped>\n",
       "  .table-result-container {\n",
       "    max-height: 300px;\n",
       "    overflow: auto;\n",
       "  }\n",
       "  table, th, td {\n",
       "    border: 1px solid black;\n",
       "    border-collapse: collapse;\n",
       "  }\n",
       "  th, td {\n",
       "    padding: 5px;\n",
       "  }\n",
       "  th {\n",
       "    text-align: left;\n",
       "  }\n",
       "</style><div class='table-result-container'><table class='table-result'><thead style='background-color: white'><tr><th>num_affected_rows</th></tr></thead><tbody><tr><td>12</td></tr></tbody></table></div>"
      ]
     },
     "metadata": {
      "application/vnd.databricks.v1+output": {
       "addedWidgets": {},
       "aggData": [],
       "aggError": "",
       "aggOverflow": false,
       "aggSchema": [],
       "aggSeriesLimitReached": false,
       "aggType": "",
       "arguments": {},
       "columnCustomDisplayInfos": {},
       "data": [
        [
         12
        ]
       ],
       "datasetInfos": [],
       "dbfsResultPath": null,
       "isJsonSchema": true,
       "metadata": {
        "createTempViewForImplicitDf": true,
        "dataframeName": "_sqldf",
        "executionCount": 22
       },
       "overflow": false,
       "plotOptions": {
        "customPlotOptions": {},
        "displayType": "table",
        "pivotAggregation": null,
        "pivotColumns": null,
        "xColumns": null,
        "yColumns": null
       },
       "removedWidgets": [],
       "schema": [
        {
         "metadata": "{}",
         "name": "num_affected_rows",
         "type": "\"long\""
        }
       ],
       "type": "table"
      }
     },
     "output_type": "display_data"
    }
   ],
   "source": [
    "%sql\n",
    "delete from qbex.retail_299 where InvoiceNo = '536367'"
   ]
  },
  {
   "cell_type": "markdown",
   "metadata": {
    "application/vnd.databricks.v1+cell": {
     "cellMetadata": {},
     "inputWidgets": {},
     "nuid": "1b14392f-7006-42ad-8f09-93d2b2c586ad",
     "showTitle": false,
     "tableResultSettingsMap": {},
     "title": ""
    }
   },
   "source": [
    "#### liquid clustering"
   ]
  },
  {
   "cell_type": "code",
   "execution_count": 0,
   "metadata": {
    "application/vnd.databricks.v1+cell": {
     "cellMetadata": {
      "byteLimit": 2048000,
      "implicitDf": true,
      "rowLimit": 10000
     },
     "inputWidgets": {},
     "nuid": "e8619536-3e14-47ab-a079-3aa50285e2db",
     "showTitle": false,
     "tableResultSettingsMap": {},
     "title": ""
    }
   },
   "outputs": [
    {
     "output_type": "display_data",
     "data": {
      "text/html": [
       "<style scoped>\n",
       "  .table-result-container {\n",
       "    max-height: 300px;\n",
       "    overflow: auto;\n",
       "  }\n",
       "  table, th, td {\n",
       "    border: 1px solid black;\n",
       "    border-collapse: collapse;\n",
       "  }\n",
       "  th, td {\n",
       "    padding: 5px;\n",
       "  }\n",
       "  th {\n",
       "    text-align: left;\n",
       "  }\n",
       "</style><div class='table-result-container'><table class='table-result'><thead style='background-color: white'><tr><th>num_affected_rows</th><th>num_inserted_rows</th></tr></thead><tbody></tbody></table></div>"
      ]
     },
     "metadata": {
      "application/vnd.databricks.v1+output": {
       "addedWidgets": {},
       "aggData": [],
       "aggError": "",
       "aggOverflow": false,
       "aggSchema": [],
       "aggSeriesLimitReached": false,
       "aggType": "",
       "arguments": {},
       "columnCustomDisplayInfos": {},
       "data": [],
       "datasetInfos": [],
       "dbfsResultPath": null,
       "isJsonSchema": true,
       "metadata": {
        "createTempViewForImplicitDf": true,
        "dataframeName": "_sqldf",
        "executionCount": 26
       },
       "overflow": false,
       "plotOptions": {
        "customPlotOptions": {},
        "displayType": "table",
        "pivotAggregation": null,
        "pivotColumns": null,
        "xColumns": null,
        "yColumns": null
       },
       "removedWidgets": [],
       "schema": [
        {
         "metadata": "{}",
         "name": "num_affected_rows",
         "type": "\"long\""
        },
        {
         "metadata": "{}",
         "name": "num_inserted_rows",
         "type": "\"long\""
        }
       ],
       "type": "table"
      }
     },
     "output_type": "display_data"
    }
   ],
   "source": [
    "%sql\n",
    "\n",
    "create table qbex.retail_499 USING delta\n",
    "OPTIONS ('delta.dataSkippingNumIndexedCols' = '0')\n",
    "select * from \n",
    "read_files(\"/databricks-datasets/definitive-guide/data/retail-data/all/online-retail-dataset.csv\",\n",
    "header => True);\n"
   ]
  },
  {
   "cell_type": "code",
   "execution_count": 0,
   "metadata": {
    "application/vnd.databricks.v1+cell": {
     "cellMetadata": {
      "byteLimit": 2048000,
      "implicitDf": true,
      "rowLimit": 10000
     },
     "inputWidgets": {},
     "nuid": "d392ccad-11d1-472d-a889-bca90fa2c1b4",
     "showTitle": false,
     "tableResultSettingsMap": {},
     "title": ""
    }
   },
   "outputs": [
    {
     "output_type": "display_data",
     "data": {
      "text/html": [
       "<style scoped>\n",
       "  .table-result-container {\n",
       "    max-height: 300px;\n",
       "    overflow: auto;\n",
       "  }\n",
       "  table, th, td {\n",
       "    border: 1px solid black;\n",
       "    border-collapse: collapse;\n",
       "  }\n",
       "  th, td {\n",
       "    padding: 5px;\n",
       "  }\n",
       "  th {\n",
       "    text-align: left;\n",
       "  }\n",
       "</style><div class='table-result-container'><table class='table-result'><thead style='background-color: white'><tr><th>InvoiceNo</th><th>StockCode</th><th>Description</th><th>Quantity</th><th>InvoiceDate</th><th>UnitPrice</th><th>CustomerID</th><th>Country</th><th>_rescued_data</th></tr></thead><tbody><tr><td>536368</td><td>22960</td><td>JAM MAKING SET WITH JARS</td><td>6</td><td>12/1/2010 8:34</td><td>4.25</td><td>13047</td><td>United Kingdom</td><td>null</td></tr><tr><td>536368</td><td>22913</td><td>RED COAT RACK PARIS FASHION</td><td>3</td><td>12/1/2010 8:34</td><td>4.95</td><td>13047</td><td>United Kingdom</td><td>null</td></tr><tr><td>536368</td><td>22912</td><td>YELLOW COAT RACK PARIS FASHION</td><td>3</td><td>12/1/2010 8:34</td><td>4.95</td><td>13047</td><td>United Kingdom</td><td>null</td></tr><tr><td>536368</td><td>22914</td><td>BLUE COAT RACK PARIS FASHION</td><td>3</td><td>12/1/2010 8:34</td><td>4.95</td><td>13047</td><td>United Kingdom</td><td>null</td></tr></tbody></table></div>"
      ]
     },
     "metadata": {
      "application/vnd.databricks.v1+output": {
       "addedWidgets": {},
       "aggData": [],
       "aggError": "",
       "aggOverflow": false,
       "aggSchema": [],
       "aggSeriesLimitReached": false,
       "aggType": "",
       "arguments": {},
       "columnCustomDisplayInfos": {},
       "data": [
        [
         "536368",
         "22960",
         "JAM MAKING SET WITH JARS",
         6,
         "12/1/2010 8:34",
         4.25,
         13047,
         "United Kingdom",
         null
        ],
        [
         "536368",
         "22913",
         "RED COAT RACK PARIS FASHION",
         3,
         "12/1/2010 8:34",
         4.95,
         13047,
         "United Kingdom",
         null
        ],
        [
         "536368",
         "22912",
         "YELLOW COAT RACK PARIS FASHION",
         3,
         "12/1/2010 8:34",
         4.95,
         13047,
         "United Kingdom",
         null
        ],
        [
         "536368",
         "22914",
         "BLUE COAT RACK PARIS FASHION",
         3,
         "12/1/2010 8:34",
         4.95,
         13047,
         "United Kingdom",
         null
        ]
       ],
       "datasetInfos": [],
       "dbfsResultPath": null,
       "isJsonSchema": true,
       "metadata": {
        "createTempViewForImplicitDf": true,
        "dataframeName": "_sqldf",
        "executionCount": 27
       },
       "overflow": false,
       "plotOptions": {
        "customPlotOptions": {},
        "displayType": "table",
        "pivotAggregation": null,
        "pivotColumns": null,
        "xColumns": null,
        "yColumns": null
       },
       "removedWidgets": [],
       "schema": [
        {
         "metadata": "{}",
         "name": "InvoiceNo",
         "type": "\"string\""
        },
        {
         "metadata": "{}",
         "name": "StockCode",
         "type": "\"string\""
        },
        {
         "metadata": "{}",
         "name": "Description",
         "type": "\"string\""
        },
        {
         "metadata": "{}",
         "name": "Quantity",
         "type": "\"integer\""
        },
        {
         "metadata": "{}",
         "name": "InvoiceDate",
         "type": "\"string\""
        },
        {
         "metadata": "{}",
         "name": "UnitPrice",
         "type": "\"double\""
        },
        {
         "metadata": "{}",
         "name": "CustomerID",
         "type": "\"integer\""
        },
        {
         "metadata": "{}",
         "name": "Country",
         "type": "\"string\""
        },
        {
         "metadata": "{}",
         "name": "_rescued_data",
         "type": "\"string\""
        }
       ],
       "type": "table"
      }
     },
     "output_type": "display_data"
    }
   ],
   "source": [
    "%sql\n",
    "select *\n",
    "from qbex.retail_499\n",
    "where InvoiceNo = '536368'"
   ]
  },
  {
   "cell_type": "code",
   "execution_count": 0,
   "metadata": {
    "application/vnd.databricks.v1+cell": {
     "cellMetadata": {
      "byteLimit": 2048000,
      "implicitDf": true,
      "rowLimit": 10000
     },
     "inputWidgets": {},
     "nuid": "b5d60d28-9df4-4e23-ab37-1e5f55d3144e",
     "showTitle": false,
     "tableResultSettingsMap": {},
     "title": ""
    }
   },
   "outputs": [
    {
     "output_type": "display_data",
     "data": {
      "text/html": [
       "<style scoped>\n",
       "  .table-result-container {\n",
       "    max-height: 300px;\n",
       "    overflow: auto;\n",
       "  }\n",
       "  table, th, td {\n",
       "    border: 1px solid black;\n",
       "    border-collapse: collapse;\n",
       "  }\n",
       "  th, td {\n",
       "    padding: 5px;\n",
       "  }\n",
       "  th {\n",
       "    text-align: left;\n",
       "  }\n",
       "</style><div class='table-result-container'><table class='table-result'><thead style='background-color: white'><tr></tr></thead><tbody></tbody></table></div>"
      ]
     },
     "metadata": {
      "application/vnd.databricks.v1+output": {
       "addedWidgets": {},
       "aggData": [],
       "aggError": "",
       "aggOverflow": false,
       "aggSchema": [],
       "aggSeriesLimitReached": false,
       "aggType": "",
       "arguments": {},
       "columnCustomDisplayInfos": {},
       "data": [],
       "datasetInfos": [],
       "dbfsResultPath": null,
       "isJsonSchema": true,
       "metadata": {
        "dataframeName": null
       },
       "overflow": false,
       "plotOptions": {
        "customPlotOptions": {},
        "displayType": "table",
        "pivotAggregation": null,
        "pivotColumns": null,
        "xColumns": null,
        "yColumns": null
       },
       "removedWidgets": [],
       "schema": [],
       "type": "table"
      }
     },
     "output_type": "display_data"
    }
   ],
   "source": [
    "%sql\n",
    "ALTER TABLE qbex.retail_499 SET TBLPROPERTIES ('delta.dataSkippingNumIndexedCols' = '-1');\n"
   ]
  },
  {
   "cell_type": "code",
   "execution_count": 0,
   "metadata": {
    "application/vnd.databricks.v1+cell": {
     "cellMetadata": {
      "byteLimit": 2048000,
      "implicitDf": true,
      "rowLimit": 10000
     },
     "inputWidgets": {},
     "nuid": "44d0beda-c6d6-4902-b24b-d162586c0a5d",
     "showTitle": false,
     "tableResultSettingsMap": {},
     "title": ""
    }
   },
   "outputs": [
    {
     "output_type": "display_data",
     "data": {
      "text/html": [
       "<style scoped>\n",
       "  .table-result-container {\n",
       "    max-height: 300px;\n",
       "    overflow: auto;\n",
       "  }\n",
       "  table, th, td {\n",
       "    border: 1px solid black;\n",
       "    border-collapse: collapse;\n",
       "  }\n",
       "  th, td {\n",
       "    padding: 5px;\n",
       "  }\n",
       "  th {\n",
       "    text-align: left;\n",
       "  }\n",
       "</style><div class='table-result-container'><table class='table-result'><thead style='background-color: white'><tr></tr></thead><tbody></tbody></table></div>"
      ]
     },
     "metadata": {
      "application/vnd.databricks.v1+output": {
       "addedWidgets": {},
       "aggData": [],
       "aggError": "",
       "aggOverflow": false,
       "aggSchema": [],
       "aggSeriesLimitReached": false,
       "aggType": "",
       "arguments": {},
       "columnCustomDisplayInfos": {},
       "data": [],
       "datasetInfos": [],
       "dbfsResultPath": null,
       "isJsonSchema": true,
       "metadata": {
        "dataframeName": null
       },
       "overflow": false,
       "plotOptions": {
        "customPlotOptions": {},
        "displayType": "table",
        "pivotAggregation": null,
        "pivotColumns": null,
        "xColumns": null,
        "yColumns": null
       },
       "removedWidgets": [],
       "schema": [],
       "type": "table"
      }
     },
     "output_type": "display_data"
    }
   ],
   "source": [
    "%sql\n",
    "ALTER TABLE qbex.retail_499 CLUSTER BY (InvoiceNo)"
   ]
  },
  {
   "cell_type": "code",
   "execution_count": 0,
   "metadata": {
    "application/vnd.databricks.v1+cell": {
     "cellMetadata": {
      "byteLimit": 2048000,
      "implicitDf": true,
      "rowLimit": 10000
     },
     "inputWidgets": {},
     "nuid": "a5546aa2-8c33-47ce-bb10-0c1bde29dd40",
     "showTitle": false,
     "tableResultSettingsMap": {},
     "title": ""
    }
   },
   "outputs": [
    {
     "output_type": "display_data",
     "data": {
      "text/html": [
       "<style scoped>\n",
       "  .table-result-container {\n",
       "    max-height: 300px;\n",
       "    overflow: auto;\n",
       "  }\n",
       "  table, th, td {\n",
       "    border: 1px solid black;\n",
       "    border-collapse: collapse;\n",
       "  }\n",
       "  th, td {\n",
       "    padding: 5px;\n",
       "  }\n",
       "  th {\n",
       "    text-align: left;\n",
       "  }\n",
       "</style><div class='table-result-container'><table class='table-result'><thead style='background-color: white'><tr><th>version</th><th>timestamp</th><th>userId</th><th>userName</th><th>operation</th><th>operationParameters</th><th>job</th><th>notebook</th><th>clusterId</th><th>readVersion</th><th>isolationLevel</th><th>isBlindAppend</th><th>operationMetrics</th><th>userMetadata</th><th>engineInfo</th></tr></thead><tbody><tr><td>4</td><td>2024-12-28T14:10:50Z</td><td>141785285425900</td><td>qbex.azure@gmail.com</td><td>CLUSTER BY</td><td>Map(oldClusteringColumns -> , newClusteringColumns -> InvoiceNo)</td><td>null</td><td>List(2209238712519839)</td><td>1228-131604-l7verqvn</td><td>3</td><td>WriteSerializable</td><td>true</td><td>Map()</td><td>null</td><td>Databricks-Runtime/15.4.x-scala2.12</td></tr><tr><td>3</td><td>2024-12-28T14:09:39Z</td><td>141785285425900</td><td>qbex.azure@gmail.com</td><td>SET TBLPROPERTIES</td><td>Map(properties -> {\"delta.dataSkippingNumIndexedCols\":\"-1\"})</td><td>null</td><td>List(2209238712519839)</td><td>1228-131604-l7verqvn</td><td>2</td><td>WriteSerializable</td><td>true</td><td>Map()</td><td>null</td><td>Databricks-Runtime/15.4.x-scala2.12</td></tr><tr><td>2</td><td>2024-12-28T14:06:46Z</td><td>141785285425900</td><td>qbex.azure@gmail.com</td><td>ROW TRACKING BACKFILL</td><td>Map(batchId -> 0)</td><td>null</td><td>List(2209238712519839)</td><td>1228-131604-l7verqvn</td><td>1</td><td>SnapshotIsolation</td><td>false</td><td>Map()</td><td>null</td><td>Databricks-Runtime/15.4.x-scala2.12</td></tr><tr><td>1</td><td>2024-12-28T14:06:42Z</td><td>141785285425900</td><td>qbex.azure@gmail.com</td><td>UPGRADE PROTOCOL</td><td>Map(newProtocol -> {\"minReaderVersion\":1,\"minWriterVersion\":7,\"readerFeatures\":null,\"writerFeatures\":[\"appendOnly\",\"invariants\",\"domainMetadata\",\"rowTracking\"]})</td><td>null</td><td>List(2209238712519839)</td><td>1228-131604-l7verqvn</td><td>0</td><td>WriteSerializable</td><td>true</td><td>Map()</td><td>null</td><td>Databricks-Runtime/15.4.x-scala2.12</td></tr><tr><td>0</td><td>2024-12-28T14:05:09Z</td><td>141785285425900</td><td>qbex.azure@gmail.com</td><td>CREATE TABLE AS SELECT</td><td>Map(partitionBy -> [], clusterBy -> [], description -> null, isManaged -> true, properties -> {\"delta.dataSkippingNumIndexedCols\":\"0\"}, statsOnLoad -> false)</td><td>null</td><td>List(2209238712519839)</td><td>1228-131604-l7verqvn</td><td>null</td><td>WriteSerializable</td><td>true</td><td>Map(numFiles -> 8, numOutputRows -> 541909, numOutputBytes -> 3802878)</td><td>null</td><td>Databricks-Runtime/15.4.x-scala2.12</td></tr></tbody></table></div>"
      ]
     },
     "metadata": {
      "application/vnd.databricks.v1+output": {
       "addedWidgets": {},
       "aggData": [],
       "aggError": "",
       "aggOverflow": false,
       "aggSchema": [],
       "aggSeriesLimitReached": false,
       "aggType": "",
       "arguments": {},
       "columnCustomDisplayInfos": {},
       "data": [
        [
         4,
         "2024-12-28T14:10:50Z",
         "141785285425900",
         "qbex.azure@gmail.com",
         "CLUSTER BY",
         {
          "newClusteringColumns": "InvoiceNo",
          "oldClusteringColumns": ""
         },
         null,
         [
          "2209238712519839"
         ],
         "1228-131604-l7verqvn",
         3,
         "WriteSerializable",
         true,
         {},
         null,
         "Databricks-Runtime/15.4.x-scala2.12"
        ],
        [
         3,
         "2024-12-28T14:09:39Z",
         "141785285425900",
         "qbex.azure@gmail.com",
         "SET TBLPROPERTIES",
         {
          "properties": "{\"delta.dataSkippingNumIndexedCols\":\"-1\"}"
         },
         null,
         [
          "2209238712519839"
         ],
         "1228-131604-l7verqvn",
         2,
         "WriteSerializable",
         true,
         {},
         null,
         "Databricks-Runtime/15.4.x-scala2.12"
        ],
        [
         2,
         "2024-12-28T14:06:46Z",
         "141785285425900",
         "qbex.azure@gmail.com",
         "ROW TRACKING BACKFILL",
         {
          "batchId": "0"
         },
         null,
         [
          "2209238712519839"
         ],
         "1228-131604-l7verqvn",
         1,
         "SnapshotIsolation",
         false,
         {},
         null,
         "Databricks-Runtime/15.4.x-scala2.12"
        ],
        [
         1,
         "2024-12-28T14:06:42Z",
         "141785285425900",
         "qbex.azure@gmail.com",
         "UPGRADE PROTOCOL",
         {
          "newProtocol": "{\"minReaderVersion\":1,\"minWriterVersion\":7,\"readerFeatures\":null,\"writerFeatures\":[\"appendOnly\",\"invariants\",\"domainMetadata\",\"rowTracking\"]}"
         },
         null,
         [
          "2209238712519839"
         ],
         "1228-131604-l7verqvn",
         0,
         "WriteSerializable",
         true,
         {},
         null,
         "Databricks-Runtime/15.4.x-scala2.12"
        ],
        [
         0,
         "2024-12-28T14:05:09Z",
         "141785285425900",
         "qbex.azure@gmail.com",
         "CREATE TABLE AS SELECT",
         {
          "clusterBy": "[]",
          "description": null,
          "isManaged": "true",
          "partitionBy": "[]",
          "properties": "{\"delta.dataSkippingNumIndexedCols\":\"0\"}",
          "statsOnLoad": "false"
         },
         null,
         [
          "2209238712519839"
         ],
         "1228-131604-l7verqvn",
         null,
         "WriteSerializable",
         true,
         {
          "numFiles": "8",
          "numOutputBytes": "3802878",
          "numOutputRows": "541909"
         },
         null,
         "Databricks-Runtime/15.4.x-scala2.12"
        ]
       ],
       "datasetInfos": [],
       "dbfsResultPath": null,
       "isJsonSchema": true,
       "metadata": {
        "createTempViewForImplicitDf": true,
        "dataframeName": "_sqldf",
        "executionCount": 31
       },
       "overflow": false,
       "plotOptions": {
        "customPlotOptions": {},
        "displayType": "table",
        "pivotAggregation": null,
        "pivotColumns": null,
        "xColumns": null,
        "yColumns": null
       },
       "removedWidgets": [],
       "schema": [
        {
         "metadata": "{}",
         "name": "version",
         "type": "\"long\""
        },
        {
         "metadata": "{}",
         "name": "timestamp",
         "type": "\"timestamp\""
        },
        {
         "metadata": "{}",
         "name": "userId",
         "type": "\"string\""
        },
        {
         "metadata": "{}",
         "name": "userName",
         "type": "\"string\""
        },
        {
         "metadata": "{}",
         "name": "operation",
         "type": "\"string\""
        },
        {
         "metadata": "{}",
         "name": "operationParameters",
         "type": "{\"type\":\"map\",\"keyType\":\"string\",\"valueType\":\"string\",\"valueContainsNull\":true}"
        },
        {
         "metadata": "{}",
         "name": "job",
         "type": "{\"type\":\"struct\",\"fields\":[{\"name\":\"jobId\",\"type\":\"string\",\"nullable\":true,\"metadata\":{}},{\"name\":\"jobName\",\"type\":\"string\",\"nullable\":true,\"metadata\":{}},{\"name\":\"jobRunId\",\"type\":\"string\",\"nullable\":true,\"metadata\":{}},{\"name\":\"runId\",\"type\":\"string\",\"nullable\":true,\"metadata\":{}},{\"name\":\"jobOwnerId\",\"type\":\"string\",\"nullable\":true,\"metadata\":{}},{\"name\":\"triggerType\",\"type\":\"string\",\"nullable\":true,\"metadata\":{}}]}"
        },
        {
         "metadata": "{}",
         "name": "notebook",
         "type": "{\"type\":\"struct\",\"fields\":[{\"name\":\"notebookId\",\"type\":\"string\",\"nullable\":true,\"metadata\":{}}]}"
        },
        {
         "metadata": "{}",
         "name": "clusterId",
         "type": "\"string\""
        },
        {
         "metadata": "{}",
         "name": "readVersion",
         "type": "\"long\""
        },
        {
         "metadata": "{}",
         "name": "isolationLevel",
         "type": "\"string\""
        },
        {
         "metadata": "{}",
         "name": "isBlindAppend",
         "type": "\"boolean\""
        },
        {
         "metadata": "{}",
         "name": "operationMetrics",
         "type": "{\"type\":\"map\",\"keyType\":\"string\",\"valueType\":\"string\",\"valueContainsNull\":true}"
        },
        {
         "metadata": "{}",
         "name": "userMetadata",
         "type": "\"string\""
        },
        {
         "metadata": "{}",
         "name": "engineInfo",
         "type": "\"string\""
        }
       ],
       "type": "table"
      }
     },
     "output_type": "display_data"
    }
   ],
   "source": [
    "%sql\n",
    "describe history qbex.retail_499"
   ]
  },
  {
   "cell_type": "code",
   "execution_count": 0,
   "metadata": {
    "application/vnd.databricks.v1+cell": {
     "cellMetadata": {
      "byteLimit": 2048000,
      "implicitDf": true,
      "rowLimit": 10000
     },
     "inputWidgets": {},
     "nuid": "2e000326-6040-4162-bb0d-a84d3cca1a18",
     "showTitle": false,
     "tableResultSettingsMap": {},
     "title": ""
    }
   },
   "outputs": [
    {
     "output_type": "display_data",
     "data": {
      "text/html": [
       "<style scoped>\n",
       "  .table-result-container {\n",
       "    max-height: 300px;\n",
       "    overflow: auto;\n",
       "  }\n",
       "  table, th, td {\n",
       "    border: 1px solid black;\n",
       "    border-collapse: collapse;\n",
       "  }\n",
       "  th, td {\n",
       "    padding: 5px;\n",
       "  }\n",
       "  th {\n",
       "    text-align: left;\n",
       "  }\n",
       "</style><div class='table-result-container'><table class='table-result'><thead style='background-color: white'><tr><th>path</th><th>metrics</th></tr></thead><tbody><tr><td>dbfs:/user/hive/warehouse/qbex.db/retail_499</td><td>List(0, 0, List(null, null, 0.0, 0, 0), List(null, null, 0.0, 0, 0), 0, null, null, 0, 0, 8, 0, false, 0, 0, 1735395229621, 1735395238620, 8, 0, null, List(0, 0), 9, -1, 0, 0, List(3802878, true, false, 8, 0, 0, 0, 0, 0, 0, null, log, 524288, 524288, 1, 0, 0, 0, 0, 0, 0, 0, 0, 0, 0, 0, 0, 0, 0, 0, 0, 0, 0, List(367, 190, 0, 0, 0, 1817), 2, 1, 5, sizeAware))</td></tr></tbody></table></div>"
      ]
     },
     "metadata": {
      "application/vnd.databricks.v1+output": {
       "addedWidgets": {},
       "aggData": [],
       "aggError": "",
       "aggOverflow": false,
       "aggSchema": [],
       "aggSeriesLimitReached": false,
       "aggType": "",
       "arguments": {},
       "columnCustomDisplayInfos": {},
       "data": [
        [
         "dbfs:/user/hive/warehouse/qbex.db/retail_499",
         [
          0,
          0,
          [
           null,
           null,
           0.0,
           0,
           0
          ],
          [
           null,
           null,
           0.0,
           0,
           0
          ],
          0,
          null,
          null,
          0,
          0,
          8,
          0,
          false,
          0,
          0,
          1735395229621,
          1735395238620,
          8,
          0,
          null,
          [
           0,
           0
          ],
          9,
          -1,
          0,
          0,
          [
           3802878,
           true,
           false,
           8,
           0,
           0,
           0,
           0,
           0,
           0,
           null,
           "log",
           524288,
           524288,
           1,
           0,
           0,
           0,
           0,
           0,
           0,
           0,
           0,
           0,
           0,
           0,
           0,
           0,
           0,
           0,
           0,
           0,
           0,
           [
            367,
            190,
            0,
            0,
            0,
            1817
           ],
           2,
           1,
           5,
           "sizeAware"
          ]
         ]
        ]
       ],
       "datasetInfos": [],
       "dbfsResultPath": null,
       "isJsonSchema": true,
       "metadata": {
        "createTempViewForImplicitDf": true,
        "dataframeName": "_sqldf",
        "executionCount": 34
       },
       "overflow": false,
       "plotOptions": {
        "customPlotOptions": {},
        "displayType": "table",
        "pivotAggregation": null,
        "pivotColumns": null,
        "xColumns": null,
        "yColumns": null
       },
       "removedWidgets": [],
       "schema": [
        {
         "metadata": "{}",
         "name": "path",
         "type": "\"string\""
        },
        {
         "metadata": "{}",
         "name": "metrics",
         "type": "{\"type\":\"struct\",\"fields\":[{\"name\":\"numFilesAdded\",\"type\":\"long\",\"nullable\":false,\"metadata\":{}},{\"name\":\"numFilesRemoved\",\"type\":\"long\",\"nullable\":false,\"metadata\":{}},{\"name\":\"filesAdded\",\"type\":{\"type\":\"struct\",\"fields\":[{\"name\":\"min\",\"type\":\"long\",\"nullable\":true,\"metadata\":{}},{\"name\":\"max\",\"type\":\"long\",\"nullable\":true,\"metadata\":{}},{\"name\":\"avg\",\"type\":\"double\",\"nullable\":false,\"metadata\":{}},{\"name\":\"totalFiles\",\"type\":\"long\",\"nullable\":false,\"metadata\":{}},{\"name\":\"totalSize\",\"type\":\"long\",\"nullable\":false,\"metadata\":{}}]},\"nullable\":true,\"metadata\":{}},{\"name\":\"filesRemoved\",\"type\":{\"type\":\"struct\",\"fields\":[{\"name\":\"min\",\"type\":\"long\",\"nullable\":true,\"metadata\":{}},{\"name\":\"max\",\"type\":\"long\",\"nullable\":true,\"metadata\":{}},{\"name\":\"avg\",\"type\":\"double\",\"nullable\":false,\"metadata\":{}},{\"name\":\"totalFiles\",\"type\":\"long\",\"nullable\":false,\"metadata\":{}},{\"name\":\"totalSize\",\"type\":\"long\",\"nullable\":false,\"metadata\":{}}]},\"nullable\":true,\"metadata\":{}},{\"name\":\"partitionsOptimized\",\"type\":\"long\",\"nullable\":false,\"metadata\":{}},{\"name\":\"zOrderStats\",\"type\":{\"type\":\"struct\",\"fields\":[{\"name\":\"strategyName\",\"type\":\"string\",\"nullable\":true,\"metadata\":{}},{\"name\":\"inputCubeFiles\",\"type\":{\"type\":\"struct\",\"fields\":[{\"name\":\"num\",\"type\":\"long\",\"nullable\":false,\"metadata\":{}},{\"name\":\"size\",\"type\":\"long\",\"nullable\":false,\"metadata\":{}}]},\"nullable\":true,\"metadata\":{}},{\"name\":\"inputOtherFiles\",\"type\":{\"type\":\"struct\",\"fields\":[{\"name\":\"num\",\"type\":\"long\",\"nullable\":false,\"metadata\":{}},{\"name\":\"size\",\"type\":\"long\",\"nullable\":false,\"metadata\":{}}]},\"nullable\":true,\"metadata\":{}},{\"name\":\"inputNumCubes\",\"type\":\"long\",\"nullable\":false,\"metadata\":{}},{\"name\":\"mergedFiles\",\"type\":{\"type\":\"struct\",\"fields\":[{\"name\":\"num\",\"type\":\"long\",\"nullable\":false,\"metadata\":{}},{\"name\":\"size\",\"type\":\"long\",\"nullable\":false,\"metadata\":{}}]},\"nullable\":true,\"metadata\":{}},{\"name\":\"numOutputCubes\",\"type\":\"long\",\"nullable\":false,\"metadata\":{}},{\"name\":\"mergedNumCubes\",\"type\":\"long\",\"nullable\":true,\"metadata\":{}}]},\"nullable\":true,\"metadata\":{}},{\"name\":\"clusteringStats\",\"type\":{\"type\":\"struct\",\"fields\":[{\"name\":\"inputZCubeFiles\",\"type\":{\"type\":\"struct\",\"fields\":[{\"name\":\"numFiles\",\"type\":\"long\",\"nullable\":false,\"metadata\":{}},{\"name\":\"size\",\"type\":\"long\",\"nullable\":false,\"metadata\":{}}]},\"nullable\":true,\"metadata\":{}},{\"name\":\"inputOtherFiles\",\"type\":{\"type\":\"struct\",\"fields\":[{\"name\":\"numFiles\",\"type\":\"long\",\"nullable\":false,\"metadata\":{}},{\"name\":\"size\",\"type\":\"long\",\"nullable\":false,\"metadata\":{}}]},\"nullable\":true,\"metadata\":{}},{\"name\":\"inputNumZCubes\",\"type\":\"long\",\"nullable\":false,\"metadata\":{}},{\"name\":\"mergedFiles\",\"type\":{\"type\":\"struct\",\"fields\":[{\"name\":\"numFiles\",\"type\":\"long\",\"nullable\":false,\"metadata\":{}},{\"name\":\"size\",\"type\":\"long\",\"nullable\":false,\"metadata\":{}}]},\"nullable\":true,\"metadata\":{}},{\"name\":\"numOutputZCubes\",\"type\":\"long\",\"nullable\":false,\"metadata\":{}}]},\"nullable\":true,\"metadata\":{}},{\"name\":\"numBins\",\"type\":\"long\",\"nullable\":false,\"metadata\":{}},{\"name\":\"numBatches\",\"type\":\"long\",\"nullable\":false,\"metadata\":{}},{\"name\":\"totalConsideredFiles\",\"type\":\"long\",\"nullable\":false,\"metadata\":{}},{\"name\":\"totalFilesSkipped\",\"type\":\"long\",\"nullable\":false,\"metadata\":{}},{\"name\":\"preserveInsertionOrder\",\"type\":\"boolean\",\"nullable\":false,\"metadata\":{}},{\"name\":\"numFilesSkippedToReduceWriteAmplification\",\"type\":\"long\",\"nullable\":false,\"metadata\":{}},{\"name\":\"numBytesSkippedToReduceWriteAmplification\",\"type\":\"long\",\"nullable\":false,\"metadata\":{}},{\"name\":\"startTimeMs\",\"type\":\"long\",\"nullable\":false,\"metadata\":{}},{\"name\":\"endTimeMs\",\"type\":\"long\",\"nullable\":false,\"metadata\":{}},{\"name\":\"totalClusterParallelism\",\"type\":\"long\",\"nullable\":false,\"metadata\":{}},{\"name\":\"totalScheduledTasks\",\"type\":\"long\",\"nullable\":false,\"metadata\":{}},{\"name\":\"autoCompactParallelismStats\",\"type\":{\"type\":\"struct\",\"fields\":[{\"name\":\"maxClusterActiveParallelism\",\"type\":\"long\",\"nullable\":true,\"metadata\":{}},{\"name\":\"minClusterActiveParallelism\",\"type\":\"long\",\"nullable\":true,\"metadata\":{}},{\"name\":\"maxSessionActiveParallelism\",\"type\":\"long\",\"nullable\":true,\"metadata\":{}},{\"name\":\"minSessionActiveParallelism\",\"type\":\"long\",\"nullable\":true,\"metadata\":{}}]},\"nullable\":true,\"metadata\":{}},{\"name\":\"deletionVectorStats\",\"type\":{\"type\":\"struct\",\"fields\":[{\"name\":\"numDeletionVectorsRemoved\",\"type\":\"long\",\"nullable\":false,\"metadata\":{}},{\"name\":\"numDeletionVectorRowsRemoved\",\"type\":\"long\",\"nullable\":false,\"metadata\":{}}]},\"nullable\":true,\"metadata\":{}},{\"name\":\"numTableColumns\",\"type\":\"long\",\"nullable\":false,\"metadata\":{}},{\"name\":\"numTableColumnsWithStats\",\"type\":\"long\",\"nullable\":false,\"metadata\":{}},{\"name\":\"totalTaskExecutionTimeMs\",\"type\":\"long\",\"nullable\":false,\"metadata\":{}},{\"name\":\"skippedArchivedFiles\",\"type\":\"long\",\"nullable\":false,\"metadata\":{}},{\"name\":\"clusteringMetrics\",\"type\":{\"type\":\"struct\",\"fields\":[{\"name\":\"sizeOfTableInBytesBeforeLazyClustering\",\"type\":\"long\",\"nullable\":false,\"metadata\":{}},{\"name\":\"isNewMetadataCreated\",\"type\":\"boolean\",\"nullable\":false,\"metadata\":{}},{\"name\":\"isPOTriggered\",\"type\":\"boolean\",\"nullable\":false,\"metadata\":{}},{\"name\":\"numFilesSkippedWithoutStats\",\"type\":\"long\",\"nullable\":false,\"metadata\":{}},{\"name\":\"numFilesClassifiedToIntermediateNodes\",\"type\":\"long\",\"nullable\":false,\"metadata\":{}},{\"name\":\"sizeOfFilesClassifiedToIntermediateNodesInBytes\",\"type\":\"long\",\"nullable\":false,\"metadata\":{}},{\"name\":\"logicalSizeOfFilesClassifiedToIntermediateNodesInBytes\",\"type\":\"long\",\"nullable\":false,\"metadata\":{}},{\"name\":\"numFilesClassifiedToLeafNodes\",\"type\":\"long\",\"nullable\":false,\"metadata\":{}},{\"name\":\"sizeOfFilesClassifiedToLeafNodesInBytes\",\"type\":\"long\",\"nullable\":false,\"metadata\":{}},{\"name\":\"logicalSizeOfFilesClassifiedToLeafNodesInBytes\",\"type\":\"long\",\"nullable\":false,\"metadata\":{}},{\"name\":\"numThreadsForClassifier\",\"type\":\"integer\",\"nullable\":true,\"metadata\":{}},{\"name\":\"clusterThresholdStrategy\",\"type\":\"string\",\"nullable\":true,\"metadata\":{}},{\"name\":\"minFileSize\",\"type\":\"long\",\"nullable\":false,\"metadata\":{}},{\"name\":\"maxFileSize\",\"type\":\"long\",\"nullable\":false,\"metadata\":{}},{\"name\":\"nodeMinNumFilesToCompact\",\"type\":\"long\",\"nullable\":false,\"metadata\":{}},{\"name\":\"numIdealFiles\",\"type\":\"long\",\"nullable\":false,\"metadata\":{}},{\"name\":\"numClusteringTasksPlanned\",\"type\":\"integer\",\"nullable\":false,\"metadata\":{}},{\"name\":\"numCompactionTasksPlanned\",\"type\":\"integer\",\"nullable\":false,\"metadata\":{}},{\"name\":\"numOptimizeBatchesPlanned\",\"type\":\"integer\",\"nullable\":false,\"metadata\":{}},{\"name\":\"numLeafNodesExpanded\",\"type\":\"long\",\"nullable\":false,\"metadata\":{}},{\"name\":\"numLeafNodesClustered\",\"type\":\"long\",\"nullable\":false,\"metadata\":{}},{\"name\":\"numGetFilesForNodeCalls\",\"type\":\"long\",\"nullable\":false,\"metadata\":{}},{\"name\":\"numSamplingJobs\",\"type\":\"long\",\"nullable\":false,\"metadata\":{}},{\"name\":\"numLeafNodesCompacted\",\"type\":\"long\",\"nullable\":false,\"metadata\":{}},{\"name\":\"numIntermediateNodesCompacted\",\"type\":\"long\",\"nullable\":false,\"metadata\":{}},{\"name\":\"totalSizeOfDataToCompactInBytes\",\"type\":\"long\",\"nullable\":false,\"metadata\":{}},{\"name\":\"totalLogicalSizeOfDataToCompactInBytes\",\"type\":\"long\",\"nullable\":false,\"metadata\":{}},{\"name\":\"numIntermediateNodesClustered\",\"type\":\"long\",\"nullable\":false,\"metadata\":{}},{\"name\":\"numFilesSkippedAfterExpansion\",\"type\":\"long\",\"nullable\":false,\"metadata\":{}},{\"name\":\"totalSizeOfFilesSkippedAfterExpansionInBytes\",\"type\":\"long\",\"nullable\":false,\"metadata\":{}},{\"name\":\"totalLogicalSizeOfFilesSkippedAfterExpansionInBytes\",\"type\":\"long\",\"nullable\":false,\"metadata\":{}},{\"name\":\"totalSizeOfDataToRewriteInBytes\",\"type\":\"long\",\"nullable\":false,\"metadata\":{}},{\"name\":\"totalLogicalSizeOfDataToRewriteInBytes\",\"type\":\"long\",\"nullable\":false,\"metadata\":{}},{\"name\":\"timeMetrics\",\"type\":{\"type\":\"struct\",\"fields\":[{\"name\":\"classifierTimeMs\",\"type\":\"long\",\"nullable\":false,\"metadata\":{}},{\"name\":\"optimizerTimeMs\",\"type\":\"long\",\"nullable\":false,\"metadata\":{}},{\"name\":\"metadataLoadTimeMs\",\"type\":\"long\",\"nullable\":false,\"metadata\":{}},{\"name\":\"totalGetFilesForNodeCallsTimeMs\",\"type\":\"long\",\"nullable\":false,\"metadata\":{}},{\"name\":\"totalSamplingTimeMs\",\"type\":\"long\",\"nullable\":false,\"metadata\":{}},{\"name\":\"metadataCreationTimeMs\",\"type\":\"long\",\"nullable\":false,\"metadata\":{}}]},\"nullable\":true,\"metadata\":{}},{\"name\":\"maxOptimizeBatchesInParallel\",\"type\":\"long\",\"nullable\":false,\"metadata\":{}},{\"name\":\"currentIteration\",\"type\":\"integer\",\"nullable\":false,\"metadata\":{}},{\"name\":\"maxIterations\",\"type\":\"integer\",\"nullable\":false,\"metadata\":{}},{\"name\":\"clusteringStrategy\",\"type\":\"string\",\"nullable\":true,\"metadata\":{}}]},\"nullable\":true,\"metadata\":{}}]}"
        }
       ],
       "type": "table"
      }
     },
     "output_type": "display_data"
    }
   ],
   "source": [
    "%sql\n",
    "optimize qbex.retail_499"
   ]
  },
  {
   "cell_type": "code",
   "execution_count": 0,
   "metadata": {
    "application/vnd.databricks.v1+cell": {
     "cellMetadata": {
      "byteLimit": 2048000,
      "implicitDf": true,
      "rowLimit": 10000
     },
     "inputWidgets": {},
     "nuid": "ee51e0b7-986e-446f-9a48-db70647e8f62",
     "showTitle": false,
     "tableResultSettingsMap": {},
     "title": ""
    }
   },
   "outputs": [
    {
     "output_type": "display_data",
     "data": {
      "text/html": [
       "<style scoped>\n",
       "  .table-result-container {\n",
       "    max-height: 300px;\n",
       "    overflow: auto;\n",
       "  }\n",
       "  table, th, td {\n",
       "    border: 1px solid black;\n",
       "    border-collapse: collapse;\n",
       "  }\n",
       "  th, td {\n",
       "    padding: 5px;\n",
       "  }\n",
       "  th {\n",
       "    text-align: left;\n",
       "  }\n",
       "</style><div class='table-result-container'><table class='table-result'><thead style='background-color: white'><tr><th>InvoiceNo</th><th>StockCode</th><th>Description</th><th>Quantity</th><th>InvoiceDate</th><th>UnitPrice</th><th>CustomerID</th><th>Country</th><th>_rescued_data</th></tr></thead><tbody><tr><td>536368</td><td>22960</td><td>JAM MAKING SET WITH JARS</td><td>6</td><td>12/1/2010 8:34</td><td>4.25</td><td>13047</td><td>United Kingdom</td><td>null</td></tr><tr><td>536368</td><td>22913</td><td>RED COAT RACK PARIS FASHION</td><td>3</td><td>12/1/2010 8:34</td><td>4.95</td><td>13047</td><td>United Kingdom</td><td>null</td></tr><tr><td>536368</td><td>22912</td><td>YELLOW COAT RACK PARIS FASHION</td><td>3</td><td>12/1/2010 8:34</td><td>4.95</td><td>13047</td><td>United Kingdom</td><td>null</td></tr><tr><td>536368</td><td>22914</td><td>BLUE COAT RACK PARIS FASHION</td><td>3</td><td>12/1/2010 8:34</td><td>4.95</td><td>13047</td><td>United Kingdom</td><td>null</td></tr></tbody></table></div>"
      ]
     },
     "metadata": {
      "application/vnd.databricks.v1+output": {
       "addedWidgets": {},
       "aggData": [],
       "aggError": "",
       "aggOverflow": false,
       "aggSchema": [],
       "aggSeriesLimitReached": false,
       "aggType": "",
       "arguments": {},
       "columnCustomDisplayInfos": {},
       "data": [
        [
         "536368",
         "22960",
         "JAM MAKING SET WITH JARS",
         6,
         "12/1/2010 8:34",
         4.25,
         13047,
         "United Kingdom",
         null
        ],
        [
         "536368",
         "22913",
         "RED COAT RACK PARIS FASHION",
         3,
         "12/1/2010 8:34",
         4.95,
         13047,
         "United Kingdom",
         null
        ],
        [
         "536368",
         "22912",
         "YELLOW COAT RACK PARIS FASHION",
         3,
         "12/1/2010 8:34",
         4.95,
         13047,
         "United Kingdom",
         null
        ],
        [
         "536368",
         "22914",
         "BLUE COAT RACK PARIS FASHION",
         3,
         "12/1/2010 8:34",
         4.95,
         13047,
         "United Kingdom",
         null
        ]
       ],
       "datasetInfos": [],
       "dbfsResultPath": null,
       "isJsonSchema": true,
       "metadata": {
        "createTempViewForImplicitDf": true,
        "dataframeName": "_sqldf",
        "executionCount": 35
       },
       "overflow": false,
       "plotOptions": {
        "customPlotOptions": {},
        "displayType": "table",
        "pivotAggregation": null,
        "pivotColumns": null,
        "xColumns": null,
        "yColumns": null
       },
       "removedWidgets": [],
       "schema": [
        {
         "metadata": "{}",
         "name": "InvoiceNo",
         "type": "\"string\""
        },
        {
         "metadata": "{}",
         "name": "StockCode",
         "type": "\"string\""
        },
        {
         "metadata": "{}",
         "name": "Description",
         "type": "\"string\""
        },
        {
         "metadata": "{}",
         "name": "Quantity",
         "type": "\"integer\""
        },
        {
         "metadata": "{}",
         "name": "InvoiceDate",
         "type": "\"string\""
        },
        {
         "metadata": "{}",
         "name": "UnitPrice",
         "type": "\"double\""
        },
        {
         "metadata": "{}",
         "name": "CustomerID",
         "type": "\"integer\""
        },
        {
         "metadata": "{}",
         "name": "Country",
         "type": "\"string\""
        },
        {
         "metadata": "{}",
         "name": "_rescued_data",
         "type": "\"string\""
        }
       ],
       "type": "table"
      }
     },
     "output_type": "display_data"
    }
   ],
   "source": [
    "%sql\n",
    "select *\n",
    "from qbex.retail_499\n",
    "where InvoiceNo = '536368'"
   ]
  },
  {
   "cell_type": "code",
   "execution_count": 0,
   "metadata": {
    "application/vnd.databricks.v1+cell": {
     "cellMetadata": {
      "byteLimit": 2048000,
      "rowLimit": 10000
     },
     "inputWidgets": {},
     "nuid": "e0513457-4701-4ef3-a169-06ad13aeeddf",
     "showTitle": false,
     "tableResultSettingsMap": {},
     "title": ""
    }
   },
   "outputs": [],
   "source": [
    "spark.conf.set(\"spark.databricks.delta.retentionDurationCheck.enabled\",False)"
   ]
  },
  {
   "cell_type": "code",
   "execution_count": 0,
   "metadata": {
    "application/vnd.databricks.v1+cell": {
     "cellMetadata": {
      "byteLimit": 2048000,
      "implicitDf": true,
      "rowLimit": 10000
     },
     "inputWidgets": {},
     "nuid": "78230d02-98e1-4ae2-b953-3661c66b6ab2",
     "showTitle": false,
     "tableResultSettingsMap": {},
     "title": ""
    }
   },
   "outputs": [
    {
     "output_type": "display_data",
     "data": {
      "text/html": [
       "<style scoped>\n",
       "  .table-result-container {\n",
       "    max-height: 300px;\n",
       "    overflow: auto;\n",
       "  }\n",
       "  table, th, td {\n",
       "    border: 1px solid black;\n",
       "    border-collapse: collapse;\n",
       "  }\n",
       "  th, td {\n",
       "    padding: 5px;\n",
       "  }\n",
       "  th {\n",
       "    text-align: left;\n",
       "  }\n",
       "</style><div class='table-result-container'><table class='table-result'><thead style='background-color: white'><tr><th>path</th></tr></thead><tbody><tr><td>dbfs:/mydata/retail_199</td></tr></tbody></table></div>"
      ]
     },
     "metadata": {
      "application/vnd.databricks.v1+output": {
       "addedWidgets": {},
       "aggData": [],
       "aggError": "",
       "aggOverflow": false,
       "aggSchema": [],
       "aggSeriesLimitReached": false,
       "aggType": "",
       "arguments": {},
       "columnCustomDisplayInfos": {},
       "data": [
        [
         "dbfs:/mydata/retail_199"
        ]
       ],
       "datasetInfos": [],
       "dbfsResultPath": null,
       "isJsonSchema": true,
       "metadata": {
        "createTempViewForImplicitDf": true,
        "dataframeName": "_sqldf",
        "executionCount": 38
       },
       "overflow": false,
       "plotOptions": {
        "customPlotOptions": {},
        "displayType": "table",
        "pivotAggregation": null,
        "pivotColumns": null,
        "xColumns": null,
        "yColumns": null
       },
       "removedWidgets": [],
       "schema": [
        {
         "metadata": "{}",
         "name": "path",
         "type": "\"string\""
        }
       ],
       "type": "table"
      }
     },
     "output_type": "display_data"
    }
   ],
   "source": [
    "%sql\n",
    "vacuum qbex.retail_199"
   ]
  },
  {
   "cell_type": "code",
   "execution_count": 0,
   "metadata": {
    "application/vnd.databricks.v1+cell": {
     "cellMetadata": {
      "byteLimit": 2048000,
      "implicitDf": true,
      "rowLimit": 10000
     },
     "inputWidgets": {},
     "nuid": "e9c66116-cbe9-47ff-9e68-67d08a2fe7bb",
     "showTitle": false,
     "tableResultSettingsMap": {},
     "title": ""
    }
   },
   "outputs": [
    {
     "output_type": "display_data",
     "data": {
      "text/html": [
       "<style scoped>\n",
       "  .table-result-container {\n",
       "    max-height: 300px;\n",
       "    overflow: auto;\n",
       "  }\n",
       "  table, th, td {\n",
       "    border: 1px solid black;\n",
       "    border-collapse: collapse;\n",
       "  }\n",
       "  th, td {\n",
       "    padding: 5px;\n",
       "  }\n",
       "  th {\n",
       "    text-align: left;\n",
       "  }\n",
       "</style><div class='table-result-container'><table class='table-result'><thead style='background-color: white'><tr><th>version</th><th>timestamp</th><th>userId</th><th>userName</th><th>operation</th><th>operationParameters</th><th>job</th><th>notebook</th><th>clusterId</th><th>readVersion</th><th>isolationLevel</th><th>isBlindAppend</th><th>operationMetrics</th><th>userMetadata</th><th>engineInfo</th></tr></thead><tbody><tr><td>1</td><td>2024-12-28T13:28:23Z</td><td>141785285425900</td><td>qbex.azure@gmail.com</td><td>OPTIMIZE</td><td>Map(predicate -> [], auto -> false, clusterBy -> [], zOrderBy -> [\"InvoiceNo\"], batchId -> 0)</td><td>null</td><td>List(2209238712519839)</td><td>1228-131604-l7verqvn</td><td>0</td><td>SnapshotIsolation</td><td>false</td><td>Map(numRemovedFiles -> 20, numRemovedBytes -> 9518509, p25FileSize -> 337865, numDeletionVectorsRemoved -> 0, minFileSize -> 312486, numAddedFiles -> 18, maxFileSize -> 414036, p75FileSize -> 350781, p50FileSize -> 343136, numAddedBytes -> 6270352)</td><td>null</td><td>Databricks-Runtime/15.4.x-scala2.12</td></tr><tr><td>0</td><td>2024-12-28T13:23:55Z</td><td>141785285425900</td><td>qbex.azure@gmail.com</td><td>CREATE OR REPLACE TABLE AS SELECT</td><td>Map(partitionBy -> [], clusterBy -> [], description -> null, isManaged -> false, properties -> {}, statsOnLoad -> false)</td><td>null</td><td>List(2209238712519839)</td><td>1228-131604-l7verqvn</td><td>null</td><td>WriteSerializable</td><td>false</td><td>Map(numFiles -> 20, numOutputRows -> 541909, numOutputBytes -> 9518509)</td><td>null</td><td>Databricks-Runtime/15.4.x-scala2.12</td></tr></tbody></table></div>"
      ]
     },
     "metadata": {
      "application/vnd.databricks.v1+output": {
       "addedWidgets": {},
       "aggData": [],
       "aggError": "",
       "aggOverflow": false,
       "aggSchema": [],
       "aggSeriesLimitReached": false,
       "aggType": "",
       "arguments": {},
       "columnCustomDisplayInfos": {},
       "data": [
        [
         1,
         "2024-12-28T13:28:23Z",
         "141785285425900",
         "qbex.azure@gmail.com",
         "OPTIMIZE",
         {
          "auto": "false",
          "batchId": "0",
          "clusterBy": "[]",
          "predicate": "[]",
          "zOrderBy": "[\"InvoiceNo\"]"
         },
         null,
         [
          "2209238712519839"
         ],
         "1228-131604-l7verqvn",
         0,
         "SnapshotIsolation",
         false,
         {
          "maxFileSize": "414036",
          "minFileSize": "312486",
          "numAddedBytes": "6270352",
          "numAddedFiles": "18",
          "numDeletionVectorsRemoved": "0",
          "numRemovedBytes": "9518509",
          "numRemovedFiles": "20",
          "p25FileSize": "337865",
          "p50FileSize": "343136",
          "p75FileSize": "350781"
         },
         null,
         "Databricks-Runtime/15.4.x-scala2.12"
        ],
        [
         0,
         "2024-12-28T13:23:55Z",
         "141785285425900",
         "qbex.azure@gmail.com",
         "CREATE OR REPLACE TABLE AS SELECT",
         {
          "clusterBy": "[]",
          "description": null,
          "isManaged": "false",
          "partitionBy": "[]",
          "properties": "{}",
          "statsOnLoad": "false"
         },
         null,
         [
          "2209238712519839"
         ],
         "1228-131604-l7verqvn",
         null,
         "WriteSerializable",
         false,
         {
          "numFiles": "20",
          "numOutputBytes": "9518509",
          "numOutputRows": "541909"
         },
         null,
         "Databricks-Runtime/15.4.x-scala2.12"
        ]
       ],
       "datasetInfos": [],
       "dbfsResultPath": null,
       "isJsonSchema": true,
       "metadata": {
        "createTempViewForImplicitDf": true,
        "dataframeName": "_sqldf",
        "executionCount": 39
       },
       "overflow": false,
       "plotOptions": {
        "customPlotOptions": {},
        "displayType": "table",
        "pivotAggregation": null,
        "pivotColumns": null,
        "xColumns": null,
        "yColumns": null
       },
       "removedWidgets": [],
       "schema": [
        {
         "metadata": "{}",
         "name": "version",
         "type": "\"long\""
        },
        {
         "metadata": "{}",
         "name": "timestamp",
         "type": "\"timestamp\""
        },
        {
         "metadata": "{}",
         "name": "userId",
         "type": "\"string\""
        },
        {
         "metadata": "{}",
         "name": "userName",
         "type": "\"string\""
        },
        {
         "metadata": "{}",
         "name": "operation",
         "type": "\"string\""
        },
        {
         "metadata": "{}",
         "name": "operationParameters",
         "type": "{\"type\":\"map\",\"keyType\":\"string\",\"valueType\":\"string\",\"valueContainsNull\":true}"
        },
        {
         "metadata": "{}",
         "name": "job",
         "type": "{\"type\":\"struct\",\"fields\":[{\"name\":\"jobId\",\"type\":\"string\",\"nullable\":true,\"metadata\":{}},{\"name\":\"jobName\",\"type\":\"string\",\"nullable\":true,\"metadata\":{}},{\"name\":\"jobRunId\",\"type\":\"string\",\"nullable\":true,\"metadata\":{}},{\"name\":\"runId\",\"type\":\"string\",\"nullable\":true,\"metadata\":{}},{\"name\":\"jobOwnerId\",\"type\":\"string\",\"nullable\":true,\"metadata\":{}},{\"name\":\"triggerType\",\"type\":\"string\",\"nullable\":true,\"metadata\":{}}]}"
        },
        {
         "metadata": "{}",
         "name": "notebook",
         "type": "{\"type\":\"struct\",\"fields\":[{\"name\":\"notebookId\",\"type\":\"string\",\"nullable\":true,\"metadata\":{}}]}"
        },
        {
         "metadata": "{}",
         "name": "clusterId",
         "type": "\"string\""
        },
        {
         "metadata": "{}",
         "name": "readVersion",
         "type": "\"long\""
        },
        {
         "metadata": "{}",
         "name": "isolationLevel",
         "type": "\"string\""
        },
        {
         "metadata": "{}",
         "name": "isBlindAppend",
         "type": "\"boolean\""
        },
        {
         "metadata": "{}",
         "name": "operationMetrics",
         "type": "{\"type\":\"map\",\"keyType\":\"string\",\"valueType\":\"string\",\"valueContainsNull\":true}"
        },
        {
         "metadata": "{}",
         "name": "userMetadata",
         "type": "\"string\""
        },
        {
         "metadata": "{}",
         "name": "engineInfo",
         "type": "\"string\""
        }
       ],
       "type": "table"
      }
     },
     "output_type": "display_data"
    }
   ],
   "source": [
    "%sql\n",
    "describe history qbex.retail_199"
   ]
  }
 ],
 "metadata": {
  "application/vnd.databricks.v1+notebook": {
   "computePreferences": null,
   "dashboards": [],
   "environmentMetadata": {
    "base_environment": "",
    "client": "1"
   },
   "language": "python",
   "notebookMetadata": {
    "mostRecentlyExecutedCommandWithImplicitDF": {
     "commandId": 1925726911627549,
     "dataframes": [
      "_sqldf"
     ]
    },
    "pythonIndentUnit": 4
   },
   "notebookName": "Data Partitioning and ZORDERING",
   "widgets": {}
  }
 },
 "nbformat": 4,
 "nbformat_minor": 0
}
