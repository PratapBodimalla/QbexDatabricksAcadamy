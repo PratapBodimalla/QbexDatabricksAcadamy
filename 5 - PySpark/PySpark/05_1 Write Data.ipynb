{
 "cells": [
  {
   "cell_type": "code",
   "execution_count": 1,
   "id": "bbd0800b-28fb-4108-95af-1b4cfefa18a4",
   "metadata": {},
   "outputs": [],
   "source": [
    "from pyspark.sql import SparkSession\n",
    "\n",
    "spark = SparkSession.builder \\\n",
    "                    .master(\"local[*]\") \\\n",
    "                    .appName(\"Create Dataframe\") \\\n",
    "                    .getOrCreate()"
   ]
  },
  {
   "cell_type": "code",
   "execution_count": 2,
   "id": "8b0c4a14-b4ae-406e-a18f-8eadc594338b",
   "metadata": {},
   "outputs": [
    {
     "data": {
      "text/html": [
       "\n",
       "            <div>\n",
       "                <p><b>SparkSession - in-memory</b></p>\n",
       "                \n",
       "        <div>\n",
       "            <p><b>SparkContext</b></p>\n",
       "\n",
       "            <p><a href=\"http://ba03929a6386:4043\">Spark UI</a></p>\n",
       "\n",
       "            <dl>\n",
       "              <dt>Version</dt>\n",
       "                <dd><code>v3.5.3</code></dd>\n",
       "              <dt>Master</dt>\n",
       "                <dd><code>local[*]</code></dd>\n",
       "              <dt>AppName</dt>\n",
       "                <dd><code>Create Dataframe</code></dd>\n",
       "            </dl>\n",
       "        </div>\n",
       "        \n",
       "            </div>\n",
       "        "
      ],
      "text/plain": [
       "<pyspark.sql.session.SparkSession at 0x7f4628953700>"
      ]
     },
     "execution_count": 2,
     "metadata": {},
     "output_type": "execute_result"
    }
   ],
   "source": [
    "spark"
   ]
  },
  {
   "cell_type": "code",
   "execution_count": 3,
   "id": "c594d840-a366-460c-ade6-bec73bcc5e65",
   "metadata": {},
   "outputs": [],
   "source": [
    "sales_schema = \"\"\"SalesOrder string, \n",
    "                    OrderDate string, \n",
    "                    CustomerID integer, \n",
    "                    City string, \n",
    "                    Country string, \n",
    "                    ProductID integer, \n",
    "                    Price integer, \n",
    "                    Qty_Sold integer, \n",
    "                    Qty_Sold_Units string, \n",
    "                    Amount integer, \n",
    "                    Amount_Currency string, \n",
    "                    ShipDate string,\n",
    "                    OrderStatus string\n",
    "                    \"\"\"\n",
    "\n",
    "customer_schema = \"\"\"\n",
    "                    CustomerID integer,\n",
    "                    CustomerName string,\n",
    "                    CustomerBucket string,\n",
    "                    CustomerRegion string,\n",
    "                    LessThanFullTruckLoad string,\n",
    "                    YearOnYearVolumeIncrease string\n",
    "                \"\"\"\n",
    "product_schema = \"\"\"\n",
    "                    ProductID integer,\n",
    "                    ProductName string,\n",
    "                    ProductCategory string,\n",
    "                    ProductSubCategory string\n",
    "                \"\"\"\n",
    "\n"
   ]
  },
  {
   "cell_type": "code",
   "execution_count": 8,
   "id": "6ebc66da-1ad6-4adf-a786-e59b118beeef",
   "metadata": {},
   "outputs": [],
   "source": [
    "sales_df = spark.read.format(\"csv\") \\\n",
    "                    .option(\"header\", True ) \\\n",
    "                    .schema(sales_schema) \\\n",
    "                    .load(\"../04 - Read Data from Files/Input/1_sales_orders.csv\")\n",
    "\n",
    "customer_df = spark.read.format(\"csv\") \\\n",
    "                    .option(\"header\", True ) \\\n",
    "                    .schema(customer_schema) \\\n",
    "                    .load(\"../04 - Read Data from Files/Input/2_Customer_Master_Data.csv\")\n",
    "\n",
    "product_df = spark.read.format(\"csv\") \\\n",
    "                    .option(\"header\", True ) \\\n",
    "                    .schema(product_schema) \\\n",
    "                    .load(\"../04 - Read Data from Files/Input/3_product_master.csv\")"
   ]
  },
  {
   "cell_type": "code",
   "execution_count": 9,
   "id": "aecf4b9e-a138-4da4-b915-2dba732ac680",
   "metadata": {},
   "outputs": [
    {
     "name": "stdout",
     "output_type": "stream",
     "text": [
      "+----------+----------+----------+---------+-------+---------+-----+--------+--------------+------+---------------+----------+-----------+\n",
      "|SalesOrder| OrderDate|CustomerID|     City|Country|ProductID|Price|Qty_Sold|Qty_Sold_Units|Amount|Amount_Currency|  ShipDate|OrderStatus|\n",
      "+----------+----------+----------+---------+-------+---------+-----+--------+--------------+------+---------------+----------+-----------+\n",
      "|     SO101|08-01-2024|         1|Hyderabad|  India|        1| 3000|       4|        pieces| 12000|            INR|18-01-2024|       Open|\n",
      "|     SO102|19-01-2024|         2|   Mumbai|  India|        2| 1500|       5|        pieces|  7500|            INR|29-01-2024|       Open|\n",
      "|     SO103|01-01-2024|         3|     Pune|  India|        3| 1500|      10|        pieces| 15000|            INR|11-01-2024|     Closed|\n",
      "|     SO104|30-03-2024|         2|     Pune|  India|        4|10000|       8|        pieces| 80000|            INR|09-04-2024|     Closed|\n",
      "|     SO105|14-03-2024|         4|Ahmedabad|  India|        5| 8000|      10|        pieces| 80000|            INR|19-03-2024|       Open|\n",
      "|     SO106|20-03-2024|         5|Hyderabad|  India|        6| 8000|      10|        pieces| 80000|            INR|25-03-2024|       Hold|\n",
      "|     SO107|10-03-2024|         1|   Mumbai|  India|        7|10000|       2|        pieces| 20000|            INR|15-03-2024|       Hold|\n",
      "|     SO108|03-04-2024|         4|     Pune|  India|        5| 8000|       1|        pieces|  8000|            INR|08-04-2024|       Open|\n",
      "|     SO109|03-05-2024|         1|Ahmedabad|  India|        6|70000|       5|        pieces|350000|            INR|18-05-2024|       Open|\n",
      "|    SO1010|01-05-2024|         4|Ahmedabad|  India|        6| 2000|       7|        pieces| 14000|            INR|16-05-2024|     Closed|\n",
      "|    SO1011|19-06-2024|         1|  Chennai|  India|        2| 2000|       1|        pieces|  2000|            INR|04-07-2024|     Closed|\n",
      "|    SO1012|08-07-2024|         3|   Mumbai|  India|        1| 3000|       5|        pieces| 15000|            INR|23-07-2024|       Open|\n",
      "|    SO1013|14-08-2024|         4|   Mumbai|  India|        1|10000|      10|        pieces|100000|            INR|29-08-2024|       Open|\n",
      "|    SO1014|02-09-2024|         5|Ahmedabad|  India|        3|10000|      10|        pieces|100000|            INR|17-09-2024|       Open|\n",
      "|    SO1015|23-09-2024|         1|  Chennai|  India|        3| 8000|       6|        pieces| 48000|            INR|08-10-2024|       Open|\n",
      "|    SO1016|20-01-2023|         4|Ahmedabad|  India|        7| 8000|       4|        pieces| 32000|            INR|09-02-2023|       Open|\n",
      "|    SO1017|01-01-2023|         4|   Mumbai|  India|        1| 8000|       6|        pieces| 48000|            INR|21-01-2023|     Closed|\n",
      "|    SO1018|26-01-2023|         4|     Pune|  India|        3|10000|       5|        pieces| 50000|            INR|15-02-2023|     Closed|\n",
      "|    SO1019|18-02-2023|         3|   Mumbai|  India|        1| 2000|       5|        pieces| 10000|            INR|10-03-2023|     Closed|\n",
      "|    SO1020|24-03-2023|         1|     Pune|  India|        4| 5000|       5|        pieces| 25000|            INR|13-04-2023|     Closed|\n",
      "+----------+----------+----------+---------+-------+---------+-----+--------+--------------+------+---------------+----------+-----------+\n",
      "only showing top 20 rows\n",
      "\n",
      "+----------+------------+--------------+--------------+---------------------+------------------------+\n",
      "|CustomerID|CustomerName|CustomerBucket|CustomerRegion|LessThanFullTruckLoad|YearOnYearVolumeIncrease|\n",
      "+----------+------------+--------------+--------------+---------------------+------------------------+\n",
      "|         1|  Amit Joshi|      Bucket-1|         South|                  Yes|                      No|\n",
      "|         2| Divya Reddy|      Bucket-2|         North|                   No|                     Yes|\n",
      "|         3| Rohan Patel|      Bucket-1|         South|                  Yes|                      No|\n",
      "|         4|Nikhil Desai|      Bucket-1|         South|                  Yes|                     Yes|\n",
      "|         5| Pooja Mehta|      Bucket-2|         South|                   No|                      No|\n",
      "+----------+------------+--------------+--------------+---------------------+------------------------+\n",
      "\n",
      "+---------+-------------------+----------------+------------------+\n",
      "|ProductID|        ProductName| ProductCategory|ProductSubCategory|\n",
      "+---------+-------------------+----------------+------------------+\n",
      "|        1|           Keyboard|     Peripherals|      Input Device|\n",
      "|        2|            Printer|     Peripherals|     Output Device|\n",
      "|        3|             Laptop|Computing Device| Portable Computer|\n",
      "|        4|External Hard Drive|         Storage|  External Storage|\n",
      "|        5|     Wireless Mouse|     Peripherals|      Input Device|\n",
      "|        6|            Monitor|     Peripherals|     Output Device|\n",
      "|        7|             Webcam|     Peripherals|      Video Device|\n",
      "+---------+-------------------+----------------+------------------+\n",
      "\n"
     ]
    }
   ],
   "source": [
    "sales_df.show()\n",
    "customer_df.show()\n",
    "product_df.show()"
   ]
  },
  {
   "cell_type": "code",
   "execution_count": 13,
   "id": "224ff146-f7cb-4154-bef0-64ae49e6b7e0",
   "metadata": {},
   "outputs": [],
   "source": [
    "customer_df.write.format(\"csv\") \\\n",
    "                 .option(\"header\", True) \\\n",
    "                 .mode(\"overwrite\") \\\n",
    "                 .save(\"./files/customer.csv\")"
   ]
  },
  {
   "cell_type": "code",
   "execution_count": 16,
   "id": "91b19524-745d-4d0f-94d7-2b00941d55fa",
   "metadata": {},
   "outputs": [
    {
     "data": {
      "text/plain": [
       "1"
      ]
     },
     "execution_count": 16,
     "metadata": {},
     "output_type": "execute_result"
    }
   ],
   "source": [
    "sales_df.rdd.getNumPartitions()"
   ]
  },
  {
   "cell_type": "code",
   "execution_count": 17,
   "id": "845fea6b-17f3-4624-93ff-46825f96f7e7",
   "metadata": {},
   "outputs": [],
   "source": [
    "sales_part_df = sales_df.repartition(8)"
   ]
  },
  {
   "cell_type": "code",
   "execution_count": 18,
   "id": "c020caaf-f673-4883-948f-3a1bc8624a92",
   "metadata": {},
   "outputs": [
    {
     "data": {
      "text/plain": [
       "8"
      ]
     },
     "execution_count": 18,
     "metadata": {},
     "output_type": "execute_result"
    }
   ],
   "source": [
    "sales_part_df.rdd.getNumPartitions()"
   ]
  },
  {
   "cell_type": "code",
   "execution_count": 19,
   "id": "045e5db1-9f75-4732-9cec-3dd4042b9793",
   "metadata": {},
   "outputs": [],
   "source": [
    "sales_part_df.write.format(\"csv\") \\\n",
    "                 .option(\"header\", True) \\\n",
    "                 .mode(\"overwrite\") \\\n",
    "                 .save(\"./files/sales\")"
   ]
  },
  {
   "cell_type": "code",
   "execution_count": 20,
   "id": "aac798c6-bf33-4aab-9eed-f5d71eb962ae",
   "metadata": {},
   "outputs": [
    {
     "name": "stdout",
     "output_type": "stream",
     "text": [
      "+----------+----------+----------+---------+-------+---------+-----+--------+--------------+------+---------------+----------+-----------+----------+\n",
      "|SalesOrder| OrderDate|CustomerID|     City|Country|ProductID|Price|Qty_Sold|Qty_Sold_Units|Amount|Amount_Currency|  ShipDate|OrderStatus|part_colum|\n",
      "+----------+----------+----------+---------+-------+---------+-----+--------+--------------+------+---------------+----------+-----------+----------+\n",
      "|     SO108|03-04-2024|         4|     Pune|  India|        5| 8000|       1|        pieces|  8000|            INR|08-04-2024|       Open|         0|\n",
      "|    SO1029|17-09-2023|         2|  Chennai|  India|        5| 1500|       8|        pieces| 12000|            INR|12-10-2023|       Open|         0|\n",
      "|     SO105|14-03-2024|         4|Ahmedabad|  India|        5| 8000|      10|        pieces| 80000|            INR|19-03-2024|       Open|         0|\n",
      "|     SO101|08-01-2024|         1|Hyderabad|  India|        1| 3000|       4|        pieces| 12000|            INR|18-01-2024|       Open|         1|\n",
      "|     SO109|03-05-2024|         1|Ahmedabad|  India|        6|70000|       5|        pieces|350000|            INR|18-05-2024|       Open|         1|\n",
      "|    SO1030|08-09-2023|         4|  Chennai|  India|        7| 8000|       9|        pieces| 72000|            INR|03-10-2023|       Open|         1|\n",
      "|    SO1013|14-08-2024|         4|   Mumbai|  India|        1|10000|      10|        pieces|100000|            INR|29-08-2024|       Open|         2|\n",
      "|    SO1026|14-07-2023|         2|Ahmedabad|  India|        1| 1500|       8|        pieces| 12000|            INR|08-08-2023|       Open|         2|\n",
      "|     SO104|30-03-2024|         2|     Pune|  India|        4|10000|       8|        pieces| 80000|            INR|09-04-2024|     Closed|         2|\n",
      "|    SO1019|18-02-2023|         3|   Mumbai|  India|        1| 2000|       5|        pieces| 10000|            INR|10-03-2023|     Closed|         2|\n",
      "|    SO1015|23-09-2024|         1|  Chennai|  India|        3| 8000|       6|        pieces| 48000|            INR|08-10-2024|       Open|         3|\n",
      "|    SO1027|24-07-2023|         3|Hyderabad|  India|        3| 3000|       9|        pieces| 27000|            INR|18-08-2023|       Hold|         3|\n",
      "|    SO1011|19-06-2024|         1|  Chennai|  India|        2| 2000|       1|        pieces|  2000|            INR|04-07-2024|     Closed|         3|\n",
      "|    SO1020|24-03-2023|         1|     Pune|  India|        4| 5000|       5|        pieces| 25000|            INR|13-04-2023|     Closed|         3|\n",
      "|     SO102|19-01-2024|         2|   Mumbai|  India|        2| 1500|       5|        pieces|  7500|            INR|29-01-2024|       Open|         4|\n",
      "|     SO106|20-03-2024|         5|Hyderabad|  India|        6| 8000|      10|        pieces| 80000|            INR|25-03-2024|       Hold|         4|\n",
      "|    SO1010|01-05-2024|         4|Ahmedabad|  India|        6| 2000|       7|        pieces| 14000|            INR|16-05-2024|     Closed|         4|\n",
      "|     SO103|01-01-2024|         3|     Pune|  India|        3| 1500|      10|        pieces| 15000|            INR|11-01-2024|     Closed|         4|\n",
      "|    SO1023|13-04-2023|         4|   Mumbai|  India|        5| 3000|       3|        pieces|  9000|            INR|08-05-2023|     Closed|         5|\n",
      "|    SO1025|25-07-2023|         3|  Chennai|  India|        4| 5000|       7|        pieces| 35000|            INR|19-08-2023|     Closed|         5|\n",
      "+----------+----------+----------+---------+-------+---------+-----+--------+--------------+------+---------------+----------+-----------+----------+\n",
      "only showing top 20 rows\n",
      "\n"
     ]
    }
   ],
   "source": [
    "from pyspark.sql.functions import spark_partition_id\n",
    "sales_part_df.withColumn(\"part_colum\",spark_partition_id()).show()"
   ]
  },
  {
   "cell_type": "code",
   "execution_count": 24,
   "id": "32a543ac-3456-46d1-87f9-aecbbbd8640a",
   "metadata": {},
   "outputs": [],
   "source": [
    "sales_part_df.repartition(1).write.format(\"csv\") \\\n",
    "                 .option(\"header\", True) \\\n",
    "                 .mode(\"ignore\") \\\n",
    "                 .save(\"./files/sales_single\")"
   ]
  },
  {
   "cell_type": "code",
   "execution_count": 28,
   "id": "50b20059-ff7c-443a-a0b5-f50abda7ee3d",
   "metadata": {},
   "outputs": [],
   "source": [
    "sales_part_df.write.format(\"parquet\") \\\n",
    "                .partitionBy(\"City\") \\\n",
    "                 .option(\"header\", True) \\\n",
    "                 .mode(\"ignore\") \\\n",
    "                 .save(\"./files/sales_partitioned_parquet\")"
   ]
  },
  {
   "cell_type": "code",
   "execution_count": 27,
   "id": "605db77f-8a5a-49cd-a36c-06c3929a17eb",
   "metadata": {},
   "outputs": [
    {
     "name": "stdout",
     "output_type": "stream",
     "text": [
      "+----------+----------+----------+---------+-------+---------+-----+--------+--------------+------+---------------+----------+-----------+----------+\n",
      "|SalesOrder| OrderDate|CustomerID|     City|Country|ProductID|Price|Qty_Sold|Qty_Sold_Units|Amount|Amount_Currency|  ShipDate|OrderStatus|part_colum|\n",
      "+----------+----------+----------+---------+-------+---------+-----+--------+--------------+------+---------------+----------+-----------+----------+\n",
      "|     SO105|14-03-2024|         4|Ahmedabad|  India|        5| 8000|      10|        pieces| 80000|            INR|19-03-2024|       Open|         0|\n",
      "|     SO109|03-05-2024|         1|Ahmedabad|  India|        6|70000|       5|        pieces|350000|            INR|18-05-2024|       Open|         1|\n",
      "|    SO1026|14-07-2023|         2|Ahmedabad|  India|        1| 1500|       8|        pieces| 12000|            INR|08-08-2023|       Open|         2|\n",
      "|    SO1010|01-05-2024|         4|Ahmedabad|  India|        6| 2000|       7|        pieces| 14000|            INR|16-05-2024|     Closed|         4|\n",
      "|    SO1014|02-09-2024|         5|Ahmedabad|  India|        3|10000|      10|        pieces|100000|            INR|17-09-2024|       Open|         5|\n",
      "|    SO1024|08-07-2023|         5|Ahmedabad|  India|        5| 5000|       2|        pieces| 10000|            INR|02-08-2023|     Closed|         5|\n",
      "|    SO1016|20-01-2023|         4|Ahmedabad|  India|        7| 8000|       4|        pieces| 32000|            INR|09-02-2023|       Open|         6|\n",
      "+----------+----------+----------+---------+-------+---------+-----+--------+--------------+------+---------------+----------+-----------+----------+\n",
      "\n"
     ]
    }
   ],
   "source": [
    "from pyspark.sql.functions import spark_partition_id\n",
    "sales_part_df.withColumn(\"part_colum\",spark_partition_id()) \\\n",
    "             .where(\"City = 'Ahmedabad'\").show()"
   ]
  },
  {
   "cell_type": "code",
   "execution_count": null,
   "id": "c345c1ee-da02-4dfd-a3d6-bab728d85668",
   "metadata": {},
   "outputs": [],
   "source": []
  },
  {
   "cell_type": "code",
   "execution_count": null,
   "id": "d8a77d50-7a71-4e49-aa7b-d2873d5e6b56",
   "metadata": {},
   "outputs": [],
   "source": [
    "sales_df.repartition(1).write.format(\"parquet\") \\\n",
    "               .mode(\"overwrite\") \\\n",
    "               .save(\"./Input/Parquet/Sales\")\n",
    "\n",
    "customer_df.repartition(1).write.format(\"parquet\") \\\n",
    "               .mode(\"overwrite\") \\\n",
    "               .save(\"./Input/Parquet/Customer\")\n",
    "\n",
    "product_df.repartition(1).write.format(\"parquet\") \\\n",
    "               .mode(\"overwrite\") \\\n",
    "               .save(\"./Input/Parquet/Product\")"
   ]
  },
  {
   "cell_type": "code",
   "execution_count": null,
   "id": "d9e357d1-af76-4393-96a6-e363b0a48168",
   "metadata": {},
   "outputs": [],
   "source": [
    "sales_df.repartition(8).write.format(\"parquet\") \\\n",
    "               .mode(\"overwrite\") \\\n",
    "               .save(\"./Input/Multi_Parquet/Sales\")\n"
   ]
  },
  {
   "cell_type": "code",
   "execution_count": null,
   "id": "7a84c5a2-70ca-4145-9986-95629178e1f4",
   "metadata": {},
   "outputs": [],
   "source": [
    "sales_df.repartition(1).write.format(\"orc\") \\\n",
    "               .mode(\"overwrite\") \\\n",
    "               .save(\"./Input/ORC/Sales\")\n",
    "\n",
    "customer_df.repartition(1).write.format(\"orc\") \\\n",
    "               .mode(\"overwrite\") \\\n",
    "               .save(\"./Input/ORC/Customer\")\n",
    "\n",
    "product_df.repartition(1).write.format(\"orc\") \\\n",
    "               .mode(\"overwrite\") \\\n",
    "               .save(\"./Input/ORC/Product\")"
   ]
  },
  {
   "cell_type": "code",
   "execution_count": null,
   "id": "55efe226-5120-4506-910f-e087387c7d20",
   "metadata": {},
   "outputs": [],
   "source": [
    "sales_df.repartition(8).write.format(\"orc\") \\\n",
    "               .mode(\"overwrite\") \\\n",
    "               .save(\"./Input/Multi_ORC/Sales\")\n"
   ]
  },
  {
   "cell_type": "code",
   "execution_count": null,
   "id": "aa65afdb-4c9f-4e51-aa95-14b65abfc005",
   "metadata": {},
   "outputs": [],
   "source": [
    "sales_df.write.partitionBy(\"City\")\\\n",
    "                .format(\"parquet\") \\\n",
    "               .mode(\"overwrite\") \\\n",
    "               .save(\"./Input/city_partitioned/Sales\")"
   ]
  },
  {
   "cell_type": "code",
   "execution_count": null,
   "id": "f5bc02e5-e825-4bd3-abf9-6040463c12c9",
   "metadata": {},
   "outputs": [],
   "source": [
    "sales_df.write.partitionBy(\"City\",\"OrderStatus\")\\\n",
    "                .format(\"csv\") \\\n",
    "               .mode(\"overwrite\") \\\n",
    "               .save(\"./Input/city_order_status_partitioned/Sales\")"
   ]
  },
  {
   "cell_type": "code",
   "execution_count": null,
   "id": "0f36f449-936d-4626-a1ca-5afbb1df735d",
   "metadata": {},
   "outputs": [],
   "source": [
    "# mode overwrite, append, ignore, error"
   ]
  }
 ],
 "metadata": {
  "kernelspec": {
   "display_name": "Python 3 (ipykernel)",
   "language": "python",
   "name": "python3"
  },
  "language_info": {
   "codemirror_mode": {
    "name": "ipython",
    "version": 3
   },
   "file_extension": ".py",
   "mimetype": "text/x-python",
   "name": "python",
   "nbconvert_exporter": "python",
   "pygments_lexer": "ipython3",
   "version": "3.10.12"
  }
 },
 "nbformat": 4,
 "nbformat_minor": 5
}
