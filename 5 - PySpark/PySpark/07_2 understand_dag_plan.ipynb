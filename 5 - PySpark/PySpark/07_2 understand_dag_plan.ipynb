{
 "cells": [
  {
   "cell_type": "code",
   "execution_count": null,
   "id": "b0e0b911-e7cc-419c-a95b-dc97c24d6fa4",
   "metadata": {
    "tags": []
   },
   "outputs": [],
   "source": [
    "# Spark Session\n",
    "from pyspark.sql import SparkSession\n",
    "\n",
    "spark = (\n",
    "    SparkSession\n",
    "    .builder\n",
    "    .appName(\"Understand Plans and DAG\")\n",
    "    .master(\"local[*]\")\n",
    "    .getOrCreate()\n",
    ")\n",
    "\n",
    "spark"
   ]
  },
  {
   "cell_type": "code",
   "execution_count": null,
   "id": "9ab6ffff-a775-4d89-8eee-4e7ba6d26a6c",
   "metadata": {},
   "outputs": [],
   "source": [
    "spark.stop()"
   ]
  },
  {
   "cell_type": "code",
   "execution_count": null,
   "id": "bc2dd4e0-8939-4a77-bf9c-5372e6c1b5e9",
   "metadata": {
    "tags": []
   },
   "outputs": [],
   "source": [
    "# Disable AQE and Broadcast join\n",
    "\n",
    "spark.conf.set(\"spark.sql.adaptive.enabled\", True)\n",
    "spark.conf.set(\"spark.sql.adaptive.coalescePartitions.enabled\", True)\n",
    "# spark.conf.set(\"spark.sql.autoBroadcastJoinThreshold\", -1)"
   ]
  },
  {
   "cell_type": "code",
   "execution_count": null,
   "id": "b0c41b28-3f8d-4fdc-8741-6b6f80a0e79d",
   "metadata": {
    "tags": []
   },
   "outputs": [],
   "source": [
    "# Check default Parallism\n",
    "\n",
    "spark.sparkContext.defaultParallelism"
   ]
  },
  {
   "cell_type": "code",
   "execution_count": null,
   "id": "59fffb02-2518-43d7-a637-403c27fe75af",
   "metadata": {
    "tags": []
   },
   "outputs": [],
   "source": [
    "# Create dataframes\n",
    "\n",
    "df_1 = spark.range(4, 200, 2)\n",
    "df_2 = spark.range(2, 200, 4)"
   ]
  },
  {
   "cell_type": "code",
   "execution_count": null,
   "id": "224a4e9e-1e95-4010-80eb-bff32f9d8f50",
   "metadata": {
    "tags": []
   },
   "outputs": [],
   "source": [
    "df_1.rdd.getNumPartitions()"
   ]
  },
  {
   "cell_type": "code",
   "execution_count": null,
   "id": "c212fcb6-5828-4bf5-ae7e-03867309a991",
   "metadata": {
    "tags": []
   },
   "outputs": [],
   "source": [
    "# Re-partition data\n",
    "\n",
    "df_3 = df_1.repartition(5)\n",
    "df_4 = df_2.repartition(7)"
   ]
  },
  {
   "cell_type": "code",
   "execution_count": null,
   "id": "b8b6c036-4c82-47f1-9290-fba68cb6278f",
   "metadata": {
    "tags": []
   },
   "outputs": [],
   "source": [
    "df_3.rdd.getNumPartitions()"
   ]
  },
  {
   "cell_type": "code",
   "execution_count": null,
   "id": "bc3818cd-3741-4d7f-9370-88bf01b00444",
   "metadata": {},
   "outputs": [],
   "source": [
    "spark.conf.set(\"spark.sql.shuffle.partitions\",80)"
   ]
  },
  {
   "cell_type": "code",
   "execution_count": null,
   "id": "aab3aecf-4304-43f4-8257-a7f61e5ea8fc",
   "metadata": {
    "tags": []
   },
   "outputs": [],
   "source": [
    "# Join the dataframes\n",
    "\n",
    "df_joined = df_3.join(df_4, on=\"id\")"
   ]
  },
  {
   "cell_type": "code",
   "execution_count": null,
   "id": "ec0f9d25-fbe5-4c29-8626-5cd79944a688",
   "metadata": {
    "tags": []
   },
   "outputs": [],
   "source": [
    "# Get the sum of ids\n",
    "\n",
    "df_sum = df_joined.selectExpr(\"sum(id) as total_sum\")"
   ]
  },
  {
   "cell_type": "code",
   "execution_count": null,
   "id": "b2ed9c22-c27e-4b55-bfa0-1f2bf6eb8347",
   "metadata": {
    "tags": []
   },
   "outputs": [],
   "source": [
    "# View data\n",
    "df_sum.show()"
   ]
  },
  {
   "cell_type": "code",
   "execution_count": null,
   "id": "f3f14a77-f582-40c0-a42e-7e677271a3ab",
   "metadata": {
    "tags": []
   },
   "outputs": [],
   "source": [
    "# Explain plan\n",
    "\n",
    "df_sum.explain()"
   ]
  },
  {
   "cell_type": "code",
   "execution_count": null,
   "id": "15f3172e-2b4f-4b9b-919c-46b4ac614905",
   "metadata": {
    "tags": []
   },
   "outputs": [],
   "source": [
    "# Union the data again to see the skipped stages\n",
    "\n",
    "df_union = df_sum.union(df_4)"
   ]
  },
  {
   "cell_type": "code",
   "execution_count": null,
   "id": "0fd2b7c3-5fcd-4680-8a95-ff0cdca384a6",
   "metadata": {
    "tags": []
   },
   "outputs": [],
   "source": [
    "df_union.show()"
   ]
  },
  {
   "cell_type": "code",
   "execution_count": null,
   "id": "3dee3ce2-8982-427e-abd7-d5f8b214759e",
   "metadata": {
    "tags": []
   },
   "outputs": [],
   "source": [
    "# Explain plan\n",
    "\n",
    "df_union.explain()"
   ]
  },
  {
   "cell_type": "code",
   "execution_count": null,
   "id": "1d002584-be6b-411a-95eb-7c25104105d4",
   "metadata": {
    "tags": []
   },
   "outputs": [],
   "source": [
    "# DataFrame to RDD\n",
    "\n",
    "df_1.rdd"
   ]
  },
  {
   "cell_type": "code",
   "execution_count": null,
   "id": "8a43e45b-ac67-4799-9de5-b9668684cc3b",
   "metadata": {},
   "outputs": [],
   "source": []
  }
 ],
 "metadata": {
  "kernelspec": {
   "display_name": "Python 3 (ipykernel)",
   "language": "python",
   "name": "python3"
  },
  "language_info": {
   "codemirror_mode": {
    "name": "ipython",
    "version": 3
   },
   "file_extension": ".py",
   "mimetype": "text/x-python",
   "name": "python",
   "nbconvert_exporter": "python",
   "pygments_lexer": "ipython3",
   "version": "3.10.12"
  }
 },
 "nbformat": 4,
 "nbformat_minor": 5
}
