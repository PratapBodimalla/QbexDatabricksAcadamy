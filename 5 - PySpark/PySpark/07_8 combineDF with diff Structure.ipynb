{
 "cells": [
  {
   "cell_type": "code",
   "execution_count": 1,
   "id": "f8dec0ae-2e65-4f9b-afe2-1208259a12ca",
   "metadata": {},
   "outputs": [
    {
     "data": {
      "text/html": [
       "\n",
       "            <div>\n",
       "                <p><b>SparkSession - in-memory</b></p>\n",
       "                \n",
       "        <div>\n",
       "            <p><b>SparkContext</b></p>\n",
       "\n",
       "            <p><a href=\"http://ba03929a6386:4040\">Spark UI</a></p>\n",
       "\n",
       "            <dl>\n",
       "              <dt>Version</dt>\n",
       "                <dd><code>v3.5.3</code></dd>\n",
       "              <dt>Master</dt>\n",
       "                <dd><code>local[*]</code></dd>\n",
       "              <dt>AppName</dt>\n",
       "                <dd><code>Factor of cores</code></dd>\n",
       "            </dl>\n",
       "        </div>\n",
       "        \n",
       "            </div>\n",
       "        "
      ],
      "text/plain": [
       "<pyspark.sql.session.SparkSession at 0x7f2c14187c10>"
      ]
     },
     "execution_count": 1,
     "metadata": {},
     "output_type": "execute_result"
    }
   ],
   "source": [
    "# Create Spark Session\n",
    "from pyspark.sql import SparkSession\n",
    "spark = SparkSession \\\n",
    "    .builder \\\n",
    "    .appName(\"Factor of cores\") \\\n",
    "    .master(\"local[*]\") \\\n",
    "    .config(\"spark.executor.instances\", \"4\") \\\n",
    "    .config(\"spark.executor.cores\", \"2\") \\\n",
    "    .config(\"spark.executor.memory\", \"1G\") \\\n",
    "    .config(\"spark.driver.memory\", \"4G\") \\\n",
    "    .getOrCreate()\n",
    "spark"
   ]
  },
  {
   "cell_type": "code",
   "execution_count": 3,
   "id": "4f44a351-2d5e-44cd-8da1-e3fc83857942",
   "metadata": {},
   "outputs": [
    {
     "name": "stdout",
     "output_type": "stream",
     "text": [
      "root\n",
      " |-- ID: string (nullable = true)\n",
      " |-- NAME: string (nullable = true)\n",
      " |-- AGE: long (nullable = true)\n",
      " |-- DOB: string (nullable = true)\n",
      "\n",
      "+----+------+---+----------+\n",
      "|ID  |NAME  |AGE|DOB       |\n",
      "+----+------+---+----------+\n",
      "|C101|Akshay|21 |22-10-2001|\n",
      "|C102|Sivay |20 |07-09-2000|\n",
      "|C103|Aslam |23 |04-05-1998|\n",
      "+----+------+---+----------+\n",
      "\n"
     ]
    }
   ],
   "source": [
    "# Example DataFrame 1\n",
    "_data = [\n",
    "    [\"C101\", \"Akshay\", 21, \"22-10-2001\"],\n",
    "    [\"C102\", \"Sivay\", 20, \"07-09-2000\"],\n",
    "    [\"C103\", \"Aslam\", 23, \"04-05-1998\"],\n",
    "]\n",
    "_cols = [\"ID\", \"NAME\", \"AGE\", \"DOB\"]\n",
    "df_1 = spark.createDataFrame(data = _data, schema = _cols)\n",
    "df_1.printSchema()\n",
    "df_1.show(10, False)"
   ]
  },
  {
   "cell_type": "code",
   "execution_count": 5,
   "id": "ebb3594a-6fc9-4d0b-93e9-299cf8731502",
   "metadata": {},
   "outputs": [
    {
     "data": {
      "text/plain": [
       "['ID', 'NAME', 'AGE', 'DOB']"
      ]
     },
     "execution_count": 5,
     "metadata": {},
     "output_type": "execute_result"
    }
   ],
   "source": [
    "df_1.columns"
   ]
  },
  {
   "cell_type": "code",
   "execution_count": 4,
   "id": "1de06345-3be0-4a0b-8d6f-b682d405b2c3",
   "metadata": {},
   "outputs": [
    {
     "name": "stdout",
     "output_type": "stream",
     "text": [
      "root\n",
      " |-- ID: string (nullable = true)\n",
      " |-- NAME: string (nullable = true)\n",
      " |-- ADDRESS: string (nullable = true)\n",
      " |-- SUBJECTS: array (nullable = true)\n",
      " |    |-- element: string (containsNull = true)\n",
      "\n",
      "+----+----+-------+-------------------------+\n",
      "|ID  |NAME|ADDRESS|SUBJECTS                 |\n",
      "+----+----+-------+-------------------------+\n",
      "|C106|Suku|Indore |[Maths, English]         |\n",
      "|C110|Jack|Mumbai |[Maths, English, Science]|\n",
      "|C113|Gopi|Rajkot |[Social Science]         |\n",
      "+----+----+-------+-------------------------+\n",
      "\n"
     ]
    }
   ],
   "source": [
    "# Example DataFrame 2\n",
    "_data = [\n",
    "    [\"C106\", \"Suku\", \"Indore\", [\"Maths\", \"English\"]],\n",
    "    [\"C110\", \"Jack\", \"Mumbai\", [\"Maths\", \"English\", \"Science\"]],\n",
    "    [\"C113\", \"Gopi\", \"Rajkot\", [\"Social Science\"]],\n",
    "]\n",
    "_cols = [\"ID\", \"NAME\", \"ADDRESS\", \"SUBJECTS\"]\n",
    "df_2 = spark.createDataFrame(data = _data, schema = _cols)\n",
    "df_2.printSchema()\n",
    "df_2.show(10, False)"
   ]
  },
  {
   "cell_type": "code",
   "execution_count": 6,
   "id": "72f1eb91-2a62-4c4b-8c42-f265ea38bc84",
   "metadata": {},
   "outputs": [
    {
     "name": "stdout",
     "output_type": "stream",
     "text": [
      "+----+------+---+----------+-------+--------+\n",
      "|  ID|  NAME|AGE|       DOB|ADDRESS|SUBJECTS|\n",
      "+----+------+---+----------+-------+--------+\n",
      "|C101|Akshay| 21|22-10-2001|   NULL|    NULL|\n",
      "|C102| Sivay| 20|07-09-2000|   NULL|    NULL|\n",
      "|C103| Aslam| 23|04-05-1998|   NULL|    NULL|\n",
      "+----+------+---+----------+-------+--------+\n",
      "\n",
      "+----+----+-------+--------------------+----+----+\n",
      "|  ID|NAME|ADDRESS|            SUBJECTS| AGE| DOB|\n",
      "+----+----+-------+--------------------+----+----+\n",
      "|C106|Suku| Indore|    [Maths, English]|NULL|NULL|\n",
      "|C110|Jack| Mumbai|[Maths, English, ...|NULL|NULL|\n",
      "|C113|Gopi| Rajkot|    [Social Science]|NULL|NULL|\n",
      "+----+----+-------+--------------------+----+----+\n",
      "\n"
     ]
    }
   ],
   "source": [
    "# Now before we can merge the dataframes we have to add the extra columns from either dataframes\n",
    "from pyspark.sql.functions import lit\n",
    "# Lets add missing columns from df_2 to df_1\n",
    "for col in df_2.columns:\n",
    "    if col not in df_1.columns:\n",
    "        df_1 = df_1.withColumn(col, lit(None))\n",
    "        \n",
    "# Lets add missing columns from df_1 to df_2\n",
    "for col in df_1.columns:\n",
    "    if col not in df_2.columns:\n",
    "        df_2 = df_2.withColumn(col, lit(None))\n",
    "        \n",
    "# View the dataframes\n",
    "df_1.show()\n",
    "df_2.show()"
   ]
  },
  {
   "cell_type": "code",
   "execution_count": 7,
   "id": "ed1c1996-eb99-4ae6-b49d-3d2ca7c241d5",
   "metadata": {},
   "outputs": [
    {
     "name": "stdout",
     "output_type": "stream",
     "text": [
      "root\n",
      " |-- ID: string (nullable = true)\n",
      " |-- NAME: string (nullable = true)\n",
      " |-- AGE: long (nullable = true)\n",
      " |-- DOB: string (nullable = true)\n",
      " |-- ADDRESS: string (nullable = true)\n",
      " |-- SUBJECTS: array (nullable = true)\n",
      " |    |-- element: string (containsNull = true)\n",
      "\n",
      "+----+------+----+----------+-------+-------------------------+\n",
      "|ID  |NAME  |AGE |DOB       |ADDRESS|SUBJECTS                 |\n",
      "+----+------+----+----------+-------+-------------------------+\n",
      "|C101|Akshay|21  |22-10-2001|NULL   |NULL                     |\n",
      "|C102|Sivay |20  |07-09-2000|NULL   |NULL                     |\n",
      "|C103|Aslam |23  |04-05-1998|NULL   |NULL                     |\n",
      "|C106|Suku  |NULL|NULL      |Indore |[Maths, English]         |\n",
      "|C110|Jack  |NULL|NULL      |Mumbai |[Maths, English, Science]|\n",
      "|C113|Gopi  |NULL|NULL      |Rajkot |[Social Science]         |\n",
      "+----+------+----+----------+-------+-------------------------+\n",
      "\n"
     ]
    }
   ],
   "source": [
    "# Lets use unionByName to do the merge successfully\n",
    "df = df_1.unionByName(df_2)\n",
    "df.printSchema()\n",
    "df.show(10, False)"
   ]
  },
  {
   "cell_type": "code",
   "execution_count": 8,
   "id": "db6ade7f-c32c-4db0-b5b0-46bbf486725c",
   "metadata": {},
   "outputs": [],
   "source": [
    "spark.stop()"
   ]
  },
  {
   "cell_type": "code",
   "execution_count": null,
   "id": "91fcadd3-4a6a-4f3b-b9c5-31c216ad1bf9",
   "metadata": {},
   "outputs": [],
   "source": []
  }
 ],
 "metadata": {
  "kernelspec": {
   "display_name": "Python 3 (ipykernel)",
   "language": "python",
   "name": "python3"
  },
  "language_info": {
   "codemirror_mode": {
    "name": "ipython",
    "version": 3
   },
   "file_extension": ".py",
   "mimetype": "text/x-python",
   "name": "python",
   "nbconvert_exporter": "python",
   "pygments_lexer": "ipython3",
   "version": "3.10.12"
  }
 },
 "nbformat": 4,
 "nbformat_minor": 5
}
