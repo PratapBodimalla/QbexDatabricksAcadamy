{
 "cells": [
  {
   "cell_type": "code",
   "execution_count": null,
   "id": "a549b0dd-0b43-444f-8a2a-f73bb9867440",
   "metadata": {},
   "outputs": [],
   "source": [
    "from pyspark.sql import SparkSession\n",
    "\n",
    "spark = SparkSession.builder \\\n",
    "                    .master(\"local[*]\") \\\n",
    "                    .appName(\"Create Dataframe\") \\\n",
    "                    .getOrCreate()"
   ]
  },
  {
   "cell_type": "code",
   "execution_count": null,
   "id": "1f593969-0bb7-42cd-b3fd-33718fc97bfd",
   "metadata": {},
   "outputs": [],
   "source": [
    "spark.stop()"
   ]
  },
  {
   "cell_type": "code",
   "execution_count": null,
   "id": "c5d5a4ad-72a6-4cc9-9f5a-533e492d57ae",
   "metadata": {},
   "outputs": [],
   "source": [
    "# Parquet\n",
    "sales_parquet_df = spark.read.format(\"parquet\") \\\n",
    "                             .load(\"./Input/Parquet/Sales/part-00000-b1595b31-3ad4-48b7-9f05-a98f4897b19b-c000.snappy.parquet\")"
   ]
  },
  {
   "cell_type": "code",
   "execution_count": null,
   "id": "afc53051-34d1-425d-863e-1683aec8c980",
   "metadata": {},
   "outputs": [],
   "source": [
    "sales_parquet_df.show()\n",
    "# sales_parquet_df.printSchema()"
   ]
  },
  {
   "cell_type": "code",
   "execution_count": null,
   "id": "3644435e-2c4d-4a2b-869c-5b9676894e79",
   "metadata": {},
   "outputs": [],
   "source": [
    "# ORC\n",
    "# Parquet\n",
    "sales_orc_df = spark.read.format(\"ORC\") \\\n",
    "                             .load(\"./Input/ORC/Sales/part-00000-7675c4db-367f-445a-bc43-5f03f92fefd0-c000.snappy.orc\")"
   ]
  },
  {
   "cell_type": "code",
   "execution_count": null,
   "id": "320ca3ec-cb3f-459b-9289-e5792a106589",
   "metadata": {},
   "outputs": [],
   "source": [
    "sales_orc_df.printSchema()\n",
    "# sales_orc_df.show()"
   ]
  },
  {
   "cell_type": "code",
   "execution_count": null,
   "id": "732a9503-120e-4ad4-9fcf-34e1350d95bb",
   "metadata": {},
   "outputs": [],
   "source": [
    "# Folder\n",
    "# Parquet\n",
    "sales_parquet_mdf = spark.read.format(\"parquet\") \\\n",
    "                             .load(\"./Input/Multi_Parquet/Sales/\")"
   ]
  },
  {
   "cell_type": "code",
   "execution_count": null,
   "id": "3e9405df-df87-4e9d-8483-2cfb56d50b98",
   "metadata": {},
   "outputs": [],
   "source": [
    "from pyspark.sql.functions import input_file_name, current_timestamp\n",
    "\n",
    "sales_parquet_mdf.withColumn(\"filename\",input_file_name()) \\\n",
    "                 .withColumn(\"UpdateTimestamp\", current_timestamp()).show(truncate=False)"
   ]
  },
  {
   "cell_type": "code",
   "execution_count": 16,
   "id": "7e7d8508-7f5a-4efb-926f-27d533d51d57",
   "metadata": {},
   "outputs": [],
   "source": [
    "sales_parquet_city_pdf = spark.read.format(\"parquet\") \\\n",
    "                             .load(\"./Input/city_partitioned/Sales/\")"
   ]
  },
  {
   "cell_type": "code",
   "execution_count": 18,
   "id": "2e592a30-f212-4637-9ec1-5dccbaf6b5d9",
   "metadata": {},
   "outputs": [
    {
     "data": {
      "text/plain": [
       "[Row(SalesOrder='SO102', OrderDate='19-01-2024', CustomerID=2, Country='India', ProductID=2, Price=1500, Qty_Sold=5, Qty_Sold_Units='pieces', Amount=7500, Amount_Currency='INR', ShipDate='29-01-2024', OrderStatus='Open', City='Mumbai'),\n",
       " Row(SalesOrder='SO107', OrderDate='10-03-2024', CustomerID=1, Country='India', ProductID=7, Price=10000, Qty_Sold=2, Qty_Sold_Units='pieces', Amount=20000, Amount_Currency='INR', ShipDate='15-03-2024', OrderStatus='Hold', City='Mumbai'),\n",
       " Row(SalesOrder='SO1012', OrderDate='08-07-2024', CustomerID=3, Country='India', ProductID=1, Price=3000, Qty_Sold=5, Qty_Sold_Units='pieces', Amount=15000, Amount_Currency='INR', ShipDate='23-07-2024', OrderStatus='Open', City='Mumbai'),\n",
       " Row(SalesOrder='SO1013', OrderDate='14-08-2024', CustomerID=4, Country='India', ProductID=1, Price=10000, Qty_Sold=10, Qty_Sold_Units='pieces', Amount=100000, Amount_Currency='INR', ShipDate='29-08-2024', OrderStatus='Open', City='Mumbai'),\n",
       " Row(SalesOrder='SO1017', OrderDate='01-01-2023', CustomerID=4, Country='India', ProductID=1, Price=8000, Qty_Sold=6, Qty_Sold_Units='pieces', Amount=48000, Amount_Currency='INR', ShipDate='21-01-2023', OrderStatus='Closed', City='Mumbai'),\n",
       " Row(SalesOrder='SO1019', OrderDate='18-02-2023', CustomerID=3, Country='India', ProductID=1, Price=2000, Qty_Sold=5, Qty_Sold_Units='pieces', Amount=10000, Amount_Currency='INR', ShipDate='10-03-2023', OrderStatus='Closed', City='Mumbai'),\n",
       " Row(SalesOrder='SO1021', OrderDate='16-03-2023', CustomerID=1, Country='India', ProductID=7, Price=10000, Qty_Sold=7, Qty_Sold_Units='pieces', Amount=70000, Amount_Currency='INR', ShipDate='10-04-2023', OrderStatus='Closed', City='Mumbai'),\n",
       " Row(SalesOrder='SO1023', OrderDate='13-04-2023', CustomerID=4, Country='India', ProductID=5, Price=3000, Qty_Sold=3, Qty_Sold_Units='pieces', Amount=9000, Amount_Currency='INR', ShipDate='08-05-2023', OrderStatus='Closed', City='Mumbai'),\n",
       " Row(SalesOrder='SO1011', OrderDate='19-06-2024', CustomerID=1, Country='India', ProductID=2, Price=2000, Qty_Sold=1, Qty_Sold_Units='pieces', Amount=2000, Amount_Currency='INR', ShipDate='04-07-2024', OrderStatus='Closed', City='Chennai'),\n",
       " Row(SalesOrder='SO1015', OrderDate='23-09-2024', CustomerID=1, Country='India', ProductID=3, Price=8000, Qty_Sold=6, Qty_Sold_Units='pieces', Amount=48000, Amount_Currency='INR', ShipDate='08-10-2024', OrderStatus='Open', City='Chennai'),\n",
       " Row(SalesOrder='SO1025', OrderDate='25-07-2023', CustomerID=3, Country='India', ProductID=4, Price=5000, Qty_Sold=7, Qty_Sold_Units='pieces', Amount=35000, Amount_Currency='INR', ShipDate='19-08-2023', OrderStatus='Closed', City='Chennai'),\n",
       " Row(SalesOrder='SO1028', OrderDate='25-07-2023', CustomerID=3, Country='India', ProductID=6, Price=5000, Qty_Sold=8, Qty_Sold_Units='pieces', Amount=40000, Amount_Currency='INR', ShipDate='19-08-2023', OrderStatus='Hold', City='Chennai'),\n",
       " Row(SalesOrder='SO1029', OrderDate='17-09-2023', CustomerID=2, Country='India', ProductID=5, Price=1500, Qty_Sold=8, Qty_Sold_Units='pieces', Amount=12000, Amount_Currency='INR', ShipDate='12-10-2023', OrderStatus='Open', City='Chennai'),\n",
       " Row(SalesOrder='SO1030', OrderDate='08-09-2023', CustomerID=4, Country='India', ProductID=7, Price=8000, Qty_Sold=9, Qty_Sold_Units='pieces', Amount=72000, Amount_Currency='INR', ShipDate='03-10-2023', OrderStatus='Open', City='Chennai'),\n",
       " Row(SalesOrder='SO105', OrderDate='14-03-2024', CustomerID=4, Country='India', ProductID=5, Price=8000, Qty_Sold=10, Qty_Sold_Units='pieces', Amount=80000, Amount_Currency='INR', ShipDate='19-03-2024', OrderStatus='Open', City='Ahmedabad'),\n",
       " Row(SalesOrder='SO109', OrderDate='03-05-2024', CustomerID=1, Country='India', ProductID=6, Price=70000, Qty_Sold=5, Qty_Sold_Units='pieces', Amount=350000, Amount_Currency='INR', ShipDate='18-05-2024', OrderStatus='Open', City='Ahmedabad'),\n",
       " Row(SalesOrder='SO1010', OrderDate='01-05-2024', CustomerID=4, Country='India', ProductID=6, Price=2000, Qty_Sold=7, Qty_Sold_Units='pieces', Amount=14000, Amount_Currency='INR', ShipDate='16-05-2024', OrderStatus='Closed', City='Ahmedabad'),\n",
       " Row(SalesOrder='SO1014', OrderDate='02-09-2024', CustomerID=5, Country='India', ProductID=3, Price=10000, Qty_Sold=10, Qty_Sold_Units='pieces', Amount=100000, Amount_Currency='INR', ShipDate='17-09-2024', OrderStatus='Open', City='Ahmedabad'),\n",
       " Row(SalesOrder='SO1016', OrderDate='20-01-2023', CustomerID=4, Country='India', ProductID=7, Price=8000, Qty_Sold=4, Qty_Sold_Units='pieces', Amount=32000, Amount_Currency='INR', ShipDate='09-02-2023', OrderStatus='Open', City='Ahmedabad'),\n",
       " Row(SalesOrder='SO1024', OrderDate='08-07-2023', CustomerID=5, Country='India', ProductID=5, Price=5000, Qty_Sold=2, Qty_Sold_Units='pieces', Amount=10000, Amount_Currency='INR', ShipDate='02-08-2023', OrderStatus='Closed', City='Ahmedabad'),\n",
       " Row(SalesOrder='SO1026', OrderDate='14-07-2023', CustomerID=2, Country='India', ProductID=1, Price=1500, Qty_Sold=8, Qty_Sold_Units='pieces', Amount=12000, Amount_Currency='INR', ShipDate='08-08-2023', OrderStatus='Open', City='Ahmedabad'),\n",
       " Row(SalesOrder='SO103', OrderDate='01-01-2024', CustomerID=3, Country='India', ProductID=3, Price=1500, Qty_Sold=10, Qty_Sold_Units='pieces', Amount=15000, Amount_Currency='INR', ShipDate='11-01-2024', OrderStatus='Closed', City='Pune'),\n",
       " Row(SalesOrder='SO104', OrderDate='30-03-2024', CustomerID=2, Country='India', ProductID=4, Price=10000, Qty_Sold=8, Qty_Sold_Units='pieces', Amount=80000, Amount_Currency='INR', ShipDate='09-04-2024', OrderStatus='Closed', City='Pune'),\n",
       " Row(SalesOrder='SO108', OrderDate='03-04-2024', CustomerID=4, Country='India', ProductID=5, Price=8000, Qty_Sold=1, Qty_Sold_Units='pieces', Amount=8000, Amount_Currency='INR', ShipDate='08-04-2024', OrderStatus='Open', City='Pune'),\n",
       " Row(SalesOrder='SO1018', OrderDate='26-01-2023', CustomerID=4, Country='India', ProductID=3, Price=10000, Qty_Sold=5, Qty_Sold_Units='pieces', Amount=50000, Amount_Currency='INR', ShipDate='15-02-2023', OrderStatus='Closed', City='Pune'),\n",
       " Row(SalesOrder='SO1020', OrderDate='24-03-2023', CustomerID=1, Country='India', ProductID=4, Price=5000, Qty_Sold=5, Qty_Sold_Units='pieces', Amount=25000, Amount_Currency='INR', ShipDate='13-04-2023', OrderStatus='Closed', City='Pune'),\n",
       " Row(SalesOrder='SO1022', OrderDate='30-04-2023', CustomerID=1, Country='India', ProductID=3, Price=70000, Qty_Sold=5, Qty_Sold_Units='pieces', Amount=350000, Amount_Currency='INR', ShipDate='25-05-2023', OrderStatus='Closed', City='Pune'),\n",
       " Row(SalesOrder='SO101', OrderDate='08-01-2024', CustomerID=1, Country='India', ProductID=1, Price=3000, Qty_Sold=4, Qty_Sold_Units='pieces', Amount=12000, Amount_Currency='INR', ShipDate='18-01-2024', OrderStatus='Open', City='Hyderabad'),\n",
       " Row(SalesOrder='SO106', OrderDate='20-03-2024', CustomerID=5, Country='India', ProductID=6, Price=8000, Qty_Sold=10, Qty_Sold_Units='pieces', Amount=80000, Amount_Currency='INR', ShipDate='25-03-2024', OrderStatus='Hold', City='Hyderabad'),\n",
       " Row(SalesOrder='SO1027', OrderDate='24-07-2023', CustomerID=3, Country='India', ProductID=3, Price=3000, Qty_Sold=9, Qty_Sold_Units='pieces', Amount=27000, Amount_Currency='INR', ShipDate='18-08-2023', OrderStatus='Hold', City='Hyderabad')]"
      ]
     },
     "execution_count": 18,
     "metadata": {},
     "output_type": "execute_result"
    }
   ],
   "source": [
    "sales_parquet_city_pdf.head(40)"
   ]
  },
  {
   "cell_type": "code",
   "execution_count": null,
   "id": "3f2002ab-a145-4a98-8386-5bacdabfa6bb",
   "metadata": {},
   "outputs": [],
   "source": [
    "# sales_parquet_mdf.printSchema()\n",
    "sales_parquet_mdf.show()"
   ]
  },
  {
   "cell_type": "code",
   "execution_count": 19,
   "id": "3aedfce1-b1bf-4c8c-bf77-a6ffa186ed4e",
   "metadata": {},
   "outputs": [],
   "source": [
    "sales_csv_city_mpdf = spark.read.format(\"csv\") \\\n",
    "                             .option(\"header\", True) \\\n",
    "                             .load(\"./Input/city_order_status_partitioned/Sales/\")"
   ]
  },
  {
   "cell_type": "code",
   "execution_count": 20,
   "id": "d9cb18f0-b831-4288-88aa-5a4e78775762",
   "metadata": {},
   "outputs": [
    {
     "name": "stdout",
     "output_type": "stream",
     "text": [
      "+------+----------+---+-----+---+-----+---+------+------+---+----------+---------+-----------+\n",
      "| SO105|14-03-2024|  4|India|  5| 8000| 10|pieces| 80000|INR|19-03-2024|     City|OrderStatus|\n",
      "+------+----------+---+-----+---+-----+---+------+------+---+----------+---------+-----------+\n",
      "| SO109|03-05-2024|  1|India|  6|70000|  5|pieces|350000|INR|18-05-2024|Ahmedabad|       Open|\n",
      "|SO1014|02-09-2024|  5|India|  3|10000| 10|pieces|100000|INR|17-09-2024|Ahmedabad|       Open|\n",
      "|SO1016|20-01-2023|  4|India|  7| 8000|  4|pieces| 32000|INR|09-02-2023|Ahmedabad|       Open|\n",
      "|SO1026|14-07-2023|  2|India|  1| 1500|  8|pieces| 12000|INR|08-08-2023|Ahmedabad|       Open|\n",
      "| SO104|30-03-2024|  2|India|  4|10000|  8|pieces| 80000|INR|09-04-2024|     Pune|     Closed|\n",
      "|SO1018|26-01-2023|  4|India|  3|10000|  5|pieces| 50000|INR|15-02-2023|     Pune|     Closed|\n",
      "|SO1020|24-03-2023|  1|India|  4| 5000|  5|pieces| 25000|INR|13-04-2023|     Pune|     Closed|\n",
      "|SO1022|30-04-2023|  1|India|  3|70000|  5|pieces|350000|INR|25-05-2023|     Pune|     Closed|\n",
      "|SO1019|18-02-2023|  3|India|  1| 2000|  5|pieces| 10000|INR|10-03-2023|   Mumbai|     Closed|\n",
      "|SO1021|16-03-2023|  1|India|  7|10000|  7|pieces| 70000|INR|10-04-2023|   Mumbai|     Closed|\n",
      "|SO1023|13-04-2023|  4|India|  5| 3000|  3|pieces|  9000|INR|08-05-2023|   Mumbai|     Closed|\n",
      "|SO1012|08-07-2024|  3|India|  1| 3000|  5|pieces| 15000|INR|23-07-2024|   Mumbai|       Open|\n",
      "|SO1013|14-08-2024|  4|India|  1|10000| 10|pieces|100000|INR|29-08-2024|   Mumbai|       Open|\n",
      "|SO1029|17-09-2023|  2|India|  5| 1500|  8|pieces| 12000|INR|12-10-2023|  Chennai|       Open|\n",
      "|SO1030|08-09-2023|  4|India|  7| 8000|  9|pieces| 72000|INR|03-10-2023|  Chennai|       Open|\n",
      "|SO1024|08-07-2023|  5|India|  5| 5000|  2|pieces| 10000|INR|02-08-2023|Ahmedabad|     Closed|\n",
      "|SO1027|24-07-2023|  3|India|  3| 3000|  9|pieces| 27000|INR|18-08-2023|Hyderabad|       Hold|\n",
      "|SO1025|25-07-2023|  3|India|  4| 5000|  7|pieces| 35000|INR|19-08-2023|  Chennai|     Closed|\n",
      "+------+----------+---+-----+---+-----+---+------+------+---+----------+---------+-----------+\n",
      "\n"
     ]
    }
   ],
   "source": [
    "sales_csv_city_mpdf.show()"
   ]
  },
  {
   "cell_type": "code",
   "execution_count": null,
   "id": "f95f3f91-bb10-4e52-ad4d-e632d39ad620",
   "metadata": {},
   "outputs": [],
   "source": [
    "from pyspark.sql.functions import input_file_name\n",
    "\n",
    "sales_parquet_mpdf.withColumn(\"inpu_file\",input_file_name()).show(truncate=False)"
   ]
  },
  {
   "cell_type": "code",
   "execution_count": null,
   "id": "71b3c296-7368-4cdd-88f9-7d749a414aca",
   "metadata": {},
   "outputs": [],
   "source": [
    "from pyspark.sql.functions import input_file_name, regexp_extract\n",
    "\n",
    "sales_parquet_mpdf.withColumn(\"inpu_file\",input_file_name()) \\\n",
    "                .withColumn(\n",
    "                        \"City\", regexp_extract(input_file_name(), r\"City=([^/]+)\", 1)\n",
    "                    ).withColumn(\n",
    "                    \"OrderStatus\", regexp_extract(input_file_name(), r\"OrderStatus=([^/]+)\", 1)\n",
    "                ).show()"
   ]
  },
  {
   "cell_type": "code",
   "execution_count": null,
   "id": "d872eb7a-2532-47c6-8dc5-cd9f7e2d0232",
   "metadata": {},
   "outputs": [],
   "source": [
    "# Recursive\n",
    "# .option(\"recursiveFileLookup\",True)\n",
    "MainFolder\n",
    "|_ FolderA - > file1\n",
    "|_ FolderA / FolderB - file 2, 3"
   ]
  },
  {
   "cell_type": "code",
   "execution_count": 21,
   "id": "9da5d82e-139b-4f94-bb07-17615fcd4a35",
   "metadata": {},
   "outputs": [],
   "source": [
    "sales_parquet_rpdf = spark.read.format(\"parquet\") \\\n",
    "                            .option(\"recursiveFileLookup\",True) \\\n",
    "                             .load(\"./Input/MainFolder\")"
   ]
  },
  {
   "cell_type": "code",
   "execution_count": 22,
   "id": "8ce89f54-078d-4abc-8a22-368aa072dc5f",
   "metadata": {},
   "outputs": [
    {
     "name": "stdout",
     "output_type": "stream",
     "text": [
      "+----------+----------+----------+---------+-------+---------+-----+--------+--------------+------+---------------+----------+-----------+---------------------------------------------------------------------------------------------------------------------------------------------------------------------------------------------+\n",
      "|SalesOrder|OrderDate |CustomerID|City     |Country|ProductID|Price|Qty_Sold|Qty_Sold_Units|Amount|Amount_Currency|ShipDate  |OrderStatus|inpu_file                                                                                                                                                                                    |\n",
      "+----------+----------+----------+---------+-------+---------+-----+--------+--------------+------+---------------+----------+-----------+---------------------------------------------------------------------------------------------------------------------------------------------------------------------------------------------+\n",
      "|SO1013    |14-08-2024|4         |Mumbai   |India  |1        |10000|10      |pieces        |100000|INR            |29-08-2024|Open       |file:///home/jupyter/PySpark%20Tutorials%20-%20Qbex/04%20-%20Read%20Data%20from%20Files/Input/MainFolder/FolderA/ForlderB/part-00002-12cb13b1-3ae2-4331-a91d-d8dd0dc8c870-c000.snappy.parquet|\n",
      "|SO1026    |14-07-2023|2         |Ahmedabad|India  |1        |1500 |8       |pieces        |12000 |INR            |08-08-2023|Open       |file:///home/jupyter/PySpark%20Tutorials%20-%20Qbex/04%20-%20Read%20Data%20from%20Files/Input/MainFolder/FolderA/ForlderB/part-00002-12cb13b1-3ae2-4331-a91d-d8dd0dc8c870-c000.snappy.parquet|\n",
      "|SO104     |30-03-2024|2         |Pune     |India  |4        |10000|8       |pieces        |80000 |INR            |09-04-2024|Closed     |file:///home/jupyter/PySpark%20Tutorials%20-%20Qbex/04%20-%20Read%20Data%20from%20Files/Input/MainFolder/FolderA/ForlderB/part-00002-12cb13b1-3ae2-4331-a91d-d8dd0dc8c870-c000.snappy.parquet|\n",
      "|SO1019    |18-02-2023|3         |Mumbai   |India  |1        |2000 |5       |pieces        |10000 |INR            |10-03-2023|Closed     |file:///home/jupyter/PySpark%20Tutorials%20-%20Qbex/04%20-%20Read%20Data%20from%20Files/Input/MainFolder/FolderA/ForlderB/part-00002-12cb13b1-3ae2-4331-a91d-d8dd0dc8c870-c000.snappy.parquet|\n",
      "|SO108     |03-04-2024|4         |Pune     |India  |5        |8000 |1       |pieces        |8000  |INR            |08-04-2024|Open       |file:///home/jupyter/PySpark%20Tutorials%20-%20Qbex/04%20-%20Read%20Data%20from%20Files/Input/MainFolder/FolderA/part-00000-12cb13b1-3ae2-4331-a91d-d8dd0dc8c870-c000.snappy.parquet         |\n",
      "|SO1029    |17-09-2023|2         |Chennai  |India  |5        |1500 |8       |pieces        |12000 |INR            |12-10-2023|Open       |file:///home/jupyter/PySpark%20Tutorials%20-%20Qbex/04%20-%20Read%20Data%20from%20Files/Input/MainFolder/FolderA/part-00000-12cb13b1-3ae2-4331-a91d-d8dd0dc8c870-c000.snappy.parquet         |\n",
      "|SO105     |14-03-2024|4         |Ahmedabad|India  |5        |8000 |10      |pieces        |80000 |INR            |19-03-2024|Open       |file:///home/jupyter/PySpark%20Tutorials%20-%20Qbex/04%20-%20Read%20Data%20from%20Files/Input/MainFolder/FolderA/part-00000-12cb13b1-3ae2-4331-a91d-d8dd0dc8c870-c000.snappy.parquet         |\n",
      "|SO101     |08-01-2024|1         |Hyderabad|India  |1        |3000 |4       |pieces        |12000 |INR            |18-01-2024|Open       |file:///home/jupyter/PySpark%20Tutorials%20-%20Qbex/04%20-%20Read%20Data%20from%20Files/Input/MainFolder/FolderA/ForlderB/part-00001-12cb13b1-3ae2-4331-a91d-d8dd0dc8c870-c000.snappy.parquet|\n",
      "|SO109     |03-05-2024|1         |Ahmedabad|India  |6        |70000|5       |pieces        |350000|INR            |18-05-2024|Open       |file:///home/jupyter/PySpark%20Tutorials%20-%20Qbex/04%20-%20Read%20Data%20from%20Files/Input/MainFolder/FolderA/ForlderB/part-00001-12cb13b1-3ae2-4331-a91d-d8dd0dc8c870-c000.snappy.parquet|\n",
      "|SO1030    |08-09-2023|4         |Chennai  |India  |7        |8000 |9       |pieces        |72000 |INR            |03-10-2023|Open       |file:///home/jupyter/PySpark%20Tutorials%20-%20Qbex/04%20-%20Read%20Data%20from%20Files/Input/MainFolder/FolderA/ForlderB/part-00001-12cb13b1-3ae2-4331-a91d-d8dd0dc8c870-c000.snappy.parquet|\n",
      "+----------+----------+----------+---------+-------+---------+-----+--------+--------------+------+---------------+----------+-----------+---------------------------------------------------------------------------------------------------------------------------------------------------------------------------------------------+\n",
      "\n"
     ]
    }
   ],
   "source": [
    "sales_parquet_rpdf.withColumn(\"inpu_file\",input_file_name()).show(truncate=False)"
   ]
  },
  {
   "cell_type": "code",
   "execution_count": null,
   "id": "5f14d40b-445d-4908-9258-112af2182800",
   "metadata": {},
   "outputs": [],
   "source": []
  }
 ],
 "metadata": {
  "kernelspec": {
   "display_name": "Python 3 (ipykernel)",
   "language": "python",
   "name": "python3"
  },
  "language_info": {
   "codemirror_mode": {
    "name": "ipython",
    "version": 3
   },
   "file_extension": ".py",
   "mimetype": "text/x-python",
   "name": "python",
   "nbconvert_exporter": "python",
   "pygments_lexer": "ipython3",
   "version": "3.10.12"
  }
 },
 "nbformat": 4,
 "nbformat_minor": 5
}
