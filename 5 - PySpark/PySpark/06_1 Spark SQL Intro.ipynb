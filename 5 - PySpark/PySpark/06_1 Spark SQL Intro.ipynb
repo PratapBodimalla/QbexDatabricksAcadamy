{
 "cells": [
  {
   "cell_type": "markdown",
   "id": "d5d7cdae-5127-46f9-b804-258fab3abd64",
   "metadata": {},
   "source": [
    "## Transformations\n",
    "\n",
    "    1. Select\n",
    "    2. expr, Col\n",
    "    3. SelectExpr"
   ]
  },
  {
   "cell_type": "code",
   "execution_count": 1,
   "id": "5ab2c2a9-7758-4d4d-9a86-619e25a7322f",
   "metadata": {
    "tags": []
   },
   "outputs": [],
   "source": [
    "from os.path import abspath\n",
    "from pyspark.sql import SparkSession\n",
    "warehouse_location = abspath('spark-warehouse')\n",
    "spark = SparkSession.builder \\\n",
    "                    .master(\"local[*]\") \\\n",
    "                    .appName(\"SAPRK SQL\") \\\n",
    "                    .config(\"spark.sql.warehouse.dir\", warehouse_location) \\\n",
    "                    .getOrCreate()"
   ]
  },
  {
   "cell_type": "code",
   "execution_count": null,
   "id": "abd7bbd9-efb2-4ad4-8ce0-ebeee4dc9264",
   "metadata": {
    "tags": []
   },
   "outputs": [],
   "source": [
    "spark.stop()"
   ]
  },
  {
   "cell_type": "code",
   "execution_count": null,
   "id": "671e2a70-01ab-4a81-805b-e922fd2e6d18",
   "metadata": {},
   "outputs": [],
   "source": [
    "warehouse_location"
   ]
  },
  {
   "cell_type": "code",
   "execution_count": null,
   "id": "c4f29400-2661-4fa9-9275-26aab29cc052",
   "metadata": {},
   "outputs": [],
   "source": [
    "spark"
   ]
  },
  {
   "cell_type": "code",
   "execution_count": 2,
   "id": "2290c5c1-1f92-4738-9620-3103ad0bb8d6",
   "metadata": {},
   "outputs": [
    {
     "data": {
      "text/plain": [
       "'in-memory'"
      ]
     },
     "execution_count": 2,
     "metadata": {},
     "output_type": "execute_result"
    }
   ],
   "source": [
    "spark.conf.get(\"spark.sql.catalogImplementation\")"
   ]
  },
  {
   "cell_type": "code",
   "execution_count": null,
   "id": "b7b6a22a-c597-4738-a5f5-40042028451b",
   "metadata": {
    "tags": []
   },
   "outputs": [],
   "source": [
    "spark.sparkContext.defaultParallelism"
   ]
  },
  {
   "cell_type": "code",
   "execution_count": null,
   "id": "5231afeb-922c-4c11-8e33-ecea22828e2c",
   "metadata": {
    "tags": []
   },
   "outputs": [],
   "source": [
    "sales_data = [\n",
    "['SO101', '08-01-2024', 'Amit Joshi', 'Hyderabad', 'India', 'Keyboard', '3000', '4', 'pieces', '12000', 'INR', '18-01-2024'],\n",
    "['SO102', '19-01-2024', 'Divya Reddy', 'Mumbai', 'India', 'Printer', '1500', '5', 'pieces', '7500', 'INR', '29-01-2024'],\n",
    "['SO103', '01-01-2024', 'Rohan Patel', 'Pune', 'India', 'Laptop', '1500', '10', 'pieces', '15000', 'INR', '11-01-2024'],\n",
    "['SO104', '30-03-2024', 'Divya Reddy', 'Pune', 'India', 'External Hard Drive', '10000', '8', 'pieces', '80000', 'INR', '09-04-2024'],\n",
    "['SO105', '14-03-2024', 'Nikhil Desai', 'Ahmedabad', 'India', 'Wireless Mouse', '8000', '10', 'pieces', '80000', 'INR', '19-03-2024'],\n",
    "['SO106', '20-03-2024', 'Pooja Mehta', 'Hyderabad', 'India', 'Monitor', '8000', '10', 'pieces', '80000', 'INR', '25-03-2024'],\n",
    "['SO107', '10-03-2024', 'Amit Joshi', 'Mumbai', 'India', 'Webcam', '10000', '2', 'pieces', '20000', 'INR', '15-03-2024'],\n",
    "['SO108', '03-04-2024', 'Nikhil Desai', 'Pune', 'India', 'Wireless Mouse', '8000', '1', 'pieces', '8000', 'INR', '08-04-2024'],\n",
    "['SO109', '03-05-2024', 'Amit Joshi', 'Ahmedabad', 'India', 'Monitor', '70000', '5', 'pieces', '350000', 'INR', '18-05-2024'],\n",
    "['SO1010', '01-05-2024', 'Nikhil Desai', 'Ahmedabad', 'India', 'Monitor', '2000', '7', 'pieces', '14000', 'INR', '16-05-2024'],\n",
    "['SO1011', '19-06-2024', 'Amit Joshi', 'Chennai', 'India', 'Printer', '2000', '1', 'pieces', '2000', 'INR', '04-07-2024'],\n",
    "['SO1012', '08-07-2024', 'Rohan Patel', 'Mumbai', 'India', 'Keyboard', '3000', '5', 'pieces', '15000', 'INR', '23-07-2024'],\n",
    "['SO1013', '14-08-2024', 'Nikhil Desai', 'Mumbai', 'India', 'Keyboard', '10000', '10', 'pieces', '100000', 'INR', '29-08-2024'],\n",
    "['SO1014', '02-09-2024', 'Pooja Mehta', 'Ahmedabad', 'India', 'Laptop', '10000', '10', 'pieces', '100000', 'INR', '17-09-2024'],\n",
    "['SO1015', '23-09-2024', 'Amit Joshi', 'Chennai', 'India', 'Laptop', '8000', '6', 'pieces', '48000', 'INR', '08-10-2024'],\n",
    "['SO1016', '20-01-2023', 'Nikhil Desai', 'Ahmedabad', 'India', 'Webcam', '8000', '4', 'pieces', '32000', 'INR', '09-02-2023'],\n",
    "['SO1017', '01-01-2023', 'Nikhil Desai', 'Mumbai', 'India', 'Keyboard', '8000', '6', 'pieces', '48000', 'INR', '21-01-2023'],\n",
    "['SO1018', '26-01-2023', 'Nikhil Desai', 'Pune', 'India', 'Laptop', '10000', '5', 'pieces', '50000', 'INR', '15-02-2023'],\n",
    "['SO1019', '18-02-2023', 'Rohan Patel', 'Mumbai', 'India', 'Keyboard', '2000', '5', 'pieces', '10000', 'INR', '10-03-2023'],\n",
    "['SO1020', '24-03-2023', 'Amit Joshi', 'Pune', 'India', 'External Hard Drive', '5000', '5', 'pieces', '25000', 'INR', '13-04-2023'],\n",
    "['SO1021', '16-03-2023', 'Amit Joshi', 'Mumbai', 'India', 'Webcam', '10000', '7', 'pieces', '70000', 'INR', '10-04-2023'],\n",
    "['SO1022', '30-04-2023', 'Amit Joshi', 'Pune', 'India', 'Laptop', '70000', '5', 'pieces', '350000', 'INR', '25-05-2023'],\n",
    "['SO1023', '13-04-2023', 'Nikhil Desai', 'Mumbai', 'India', 'Wireless Mouse', '3000', '3', 'pieces', '9000', 'INR', '08-05-2023'],\n",
    "['SO1024', '08-07-2023', 'Pooja Mehta', 'Ahmedabad', 'India', 'Wireless Mouse', '5000', '2', 'pieces', '10000', 'INR', '02-08-2023'],\n",
    "['SO1025', '25-07-2023', 'Rohan Patel', 'Chennai', 'India', 'External Hard Drive', '5000', '7', 'pieces', '35000', 'INR', '19-08-2023'],\n",
    "['SO1026', '14-07-2023', 'Divya Reddy', 'Ahmedabad', 'India', 'Keyboard', '1500', '8', 'pieces', '12000', 'INR', '08-08-2023'],\n",
    "['SO1027', '24-07-2023', 'Rohan Patel', 'Hyderabad', 'India', 'Laptop', '3000', '9', 'pieces', '27000', 'INR', '18-08-2023'],\n",
    "['SO1028', '25-07-2023', 'Rohan Patel', 'Chennai', 'India', 'Monitor', '5000', '8', 'pieces', '40000', 'INR', '19-08-2023'],\n",
    "['SO1029', '17-09-2023', 'Divya Reddy', 'Chennai', 'India', 'Wireless Mouse', '1500', '8', 'pieces', '12000', 'INR', '12-10-2023'],\n",
    "['SO1030', '08-09-2023', 'Nikhil Desai', 'Chennai', 'India', 'Webcam', '8000', '9', 'pieces', '72000', 'INR', '03-10-2023']\n",
    "]\n",
    "\n",
    "sales_schema = \"\"\"SalesOrder string, \n",
    "                    OrderDate string, \n",
    "                    CustomerName string, \n",
    "                    City string, \n",
    "                    Country string, \n",
    "                    Product string, \n",
    "                    Price string, \n",
    "                    Qty_Sold string, \n",
    "                    Qty_Sold_Units string, \n",
    "                    Amount string, \n",
    "                    Amount_Currency string, \n",
    "                    ShipDate string\"\"\"\n"
   ]
  },
  {
   "cell_type": "code",
   "execution_count": null,
   "id": "9647546a-790d-4304-83b4-d106965b308c",
   "metadata": {
    "tags": []
   },
   "outputs": [],
   "source": [
    "sales_df = spark.createDataFrame(data=sales_data, schema=sales_schema)"
   ]
  },
  {
   "cell_type": "code",
   "execution_count": null,
   "id": "d73714ee-dc9a-4a44-bf30-ce6a3e52a9d3",
   "metadata": {
    "tags": []
   },
   "outputs": [],
   "source": [
    "sales_df.printSchema()"
   ]
  },
  {
   "cell_type": "code",
   "execution_count": null,
   "id": "19f55297-7f4a-4e58-9ce3-95b375059b71",
   "metadata": {
    "tags": []
   },
   "outputs": [],
   "source": [
    "sales_df.show()"
   ]
  },
  {
   "cell_type": "code",
   "execution_count": null,
   "id": "68e0730b-d4eb-42b9-b658-5cc861506b1e",
   "metadata": {},
   "outputs": [],
   "source": [
    "## SPARK SQL"
   ]
  },
  {
   "cell_type": "code",
   "execution_count": null,
   "id": "039a1af0-543e-4eaf-a367-d30e4521454a",
   "metadata": {},
   "outputs": [],
   "source": []
  },
  {
   "cell_type": "code",
   "execution_count": 3,
   "id": "d7269ada-3da5-4e03-aca0-4f17c008f047",
   "metadata": {},
   "outputs": [
    {
     "name": "stdout",
     "output_type": "stream",
     "text": [
      "+---------+\n",
      "|namespace|\n",
      "+---------+\n",
      "|  default|\n",
      "+---------+\n",
      "\n"
     ]
    }
   ],
   "source": [
    "spark.sql(\"show databases;\").show()"
   ]
  },
  {
   "cell_type": "code",
   "execution_count": null,
   "id": "df4ba959-d5c8-4371-ab17-f83be109815b",
   "metadata": {},
   "outputs": [],
   "source": [
    "spark.sql(\"create database qbex;\").show()"
   ]
  },
  {
   "cell_type": "code",
   "execution_count": 43,
   "id": "948fd062-722d-4ba3-a707-476871c24339",
   "metadata": {},
   "outputs": [
    {
     "name": "stdout",
     "output_type": "stream",
     "text": [
      "+-----------+--------------+-----------+\n",
      "|  namespace|     tableName|isTemporary|\n",
      "+-----------+--------------+-----------+\n",
      "|global_temp|glb_temp_sales|       true|\n",
      "|           |    temp_sales|       true|\n",
      "+-----------+--------------+-----------+\n",
      "\n"
     ]
    }
   ],
   "source": [
    "spark.sql(\"show tables in global_temp;\").show()\n"
   ]
  },
  {
   "cell_type": "code",
   "execution_count": null,
   "id": "aa0b24e8-78bb-44ad-b8a9-3fbcb9a7336f",
   "metadata": {},
   "outputs": [],
   "source": [
    "sales_df.write.mode(\"overwrite\").format(\"parquet\").saveAsTable(\"qbex.sales\")"
   ]
  },
  {
   "cell_type": "code",
   "execution_count": null,
   "id": "dcbcbf18-ac4c-4a0d-bf58-a23ef88d1df4",
   "metadata": {},
   "outputs": [],
   "source": [
    "df = spark.sql(\"select * from qbex.sales;\")\n",
    "df.show()"
   ]
  },
  {
   "cell_type": "code",
   "execution_count": null,
   "id": "10d96eea-1245-4dcc-91d7-fe5ad0997c33",
   "metadata": {},
   "outputs": [],
   "source": [
    "df.createTempView(\"temp_sales\")"
   ]
  },
  {
   "cell_type": "code",
   "execution_count": null,
   "id": "22db5bf6-26f7-4aed-ace9-711ba89f86b4",
   "metadata": {},
   "outputs": [],
   "source": [
    "df.createGlobalTempView(\"glb_temp_sales\")"
   ]
  },
  {
   "cell_type": "code",
   "execution_count": 45,
   "id": "6525eec3-97ed-4a91-9ed0-427d98dd0833",
   "metadata": {},
   "outputs": [
    {
     "name": "stdout",
     "output_type": "stream",
     "text": [
      "+----------+----------+------------+---------+-------+-------------------+-----+--------+--------------+------+---------------+----------+\n",
      "|SalesOrder| OrderDate|CustomerName|     City|Country|            Product|Price|Qty_Sold|Qty_Sold_Units|Amount|Amount_Currency|  ShipDate|\n",
      "+----------+----------+------------+---------+-------+-------------------+-----+--------+--------------+------+---------------+----------+\n",
      "|    SO1025|25-07-2023| Rohan Patel|  Chennai|  India|External Hard Drive| 5000|       7|        pieces| 35000|            INR|19-08-2023|\n",
      "|    SO1026|14-07-2023| Divya Reddy|Ahmedabad|  India|           Keyboard| 1500|       8|        pieces| 12000|            INR|08-08-2023|\n",
      "|    SO1027|24-07-2023| Rohan Patel|Hyderabad|  India|             Laptop| 3000|       9|        pieces| 27000|            INR|18-08-2023|\n",
      "|    SO1028|25-07-2023| Rohan Patel|  Chennai|  India|            Monitor| 5000|       8|        pieces| 40000|            INR|19-08-2023|\n",
      "|    SO1029|17-09-2023| Divya Reddy|  Chennai|  India|     Wireless Mouse| 1500|       8|        pieces| 12000|            INR|12-10-2023|\n",
      "|    SO1030|08-09-2023|Nikhil Desai|  Chennai|  India|             Webcam| 8000|       9|        pieces| 72000|            INR|03-10-2023|\n",
      "|    SO1010|01-05-2024|Nikhil Desai|Ahmedabad|  India|            Monitor| 2000|       7|        pieces| 14000|            INR|16-05-2024|\n",
      "|    SO1011|19-06-2024|  Amit Joshi|  Chennai|  India|            Printer| 2000|       1|        pieces|  2000|            INR|04-07-2024|\n",
      "|    SO1012|08-07-2024| Rohan Patel|   Mumbai|  India|           Keyboard| 3000|       5|        pieces| 15000|            INR|23-07-2024|\n",
      "|    SO1013|14-08-2024|Nikhil Desai|   Mumbai|  India|           Keyboard|10000|      10|        pieces|100000|            INR|29-08-2024|\n",
      "|    SO1014|02-09-2024| Pooja Mehta|Ahmedabad|  India|             Laptop|10000|      10|        pieces|100000|            INR|17-09-2024|\n",
      "|    SO1015|23-09-2024|  Amit Joshi|  Chennai|  India|             Laptop| 8000|       6|        pieces| 48000|            INR|08-10-2024|\n",
      "|     SO104|30-03-2024| Divya Reddy|     Pune|  India|External Hard Drive|10000|       8|        pieces| 80000|            INR|09-04-2024|\n",
      "|     SO105|14-03-2024|Nikhil Desai|Ahmedabad|  India|     Wireless Mouse| 8000|      10|        pieces| 80000|            INR|19-03-2024|\n",
      "|     SO106|20-03-2024| Pooja Mehta|Hyderabad|  India|            Monitor| 8000|      10|        pieces| 80000|            INR|25-03-2024|\n",
      "|    SO1019|18-02-2023| Rohan Patel|   Mumbai|  India|           Keyboard| 2000|       5|        pieces| 10000|            INR|10-03-2023|\n",
      "|    SO1020|24-03-2023|  Amit Joshi|     Pune|  India|External Hard Drive| 5000|       5|        pieces| 25000|            INR|13-04-2023|\n",
      "|    SO1021|16-03-2023|  Amit Joshi|   Mumbai|  India|             Webcam|10000|       7|        pieces| 70000|            INR|10-04-2023|\n",
      "|    SO1016|20-01-2023|Nikhil Desai|Ahmedabad|  India|             Webcam| 8000|       4|        pieces| 32000|            INR|09-02-2023|\n",
      "|    SO1017|01-01-2023|Nikhil Desai|   Mumbai|  India|           Keyboard| 8000|       6|        pieces| 48000|            INR|21-01-2023|\n",
      "+----------+----------+------------+---------+-------+-------------------+-----+--------+--------------+------+---------------+----------+\n",
      "only showing top 20 rows\n",
      "\n"
     ]
    }
   ],
   "source": [
    "spark.sql(\"select * from global_temp.glb_temp_sales;\").show()"
   ]
  },
  {
   "cell_type": "code",
   "execution_count": null,
   "id": "58838af6-5aae-45f6-880d-19820c8adc4c",
   "metadata": {
    "tags": []
   },
   "outputs": [],
   "source": [
    "## Select City,CustomerName, Amount, Amount_Currency, OrderDate from sales_df\n",
    "\n",
    "from pyspark.sql.functions import expr, col\n",
    "\n",
    "sales_selected_df = sales_df.select(\"City\", col(\"CustomerName\"), expr(\"Amount\"), sales_df.Amount_Currency, sales_df[\"OrderDate\"]) "
   ]
  },
  {
   "cell_type": "code",
   "execution_count": null,
   "id": "7ee09373-ca83-4d6e-bf0e-3b895162709e",
   "metadata": {
    "tags": []
   },
   "outputs": [],
   "source": [
    "sales_selected_df.show()"
   ]
  },
  {
   "cell_type": "code",
   "execution_count": null,
   "id": "3386de61-8fdd-422e-8e02-0e973a6b8e74",
   "metadata": {
    "tags": []
   },
   "outputs": [],
   "source": [
    "## Select left(City,3) as city,\n",
    "          # CustomerName as Customer, \n",
    "          #  Amount - 1000 as AmountAfterTax, \n",
    "          #   cast(Price as integer) Price, \n",
    "          #   to_date(OrderDate, 'dd-MM-yyyy') as OrderDate, \n",
    "          #   Amount_Currency \n",
    "          #   from sales_df\n",
    "\n",
    "from pyspark.sql.functions import expr, col, to_date\n",
    "\n",
    "from pyspark.sql.types import DateType\n",
    "sales_selected_cal_df = sales_df.select(expr(\"left(City,3) as city\"), expr(\"CustomerName as Customer\"), expr(\"Amount - 1000 as AmountAfterTax\"), expr(\"cast(Price as integer) Price\"), expr(\"to_date(OrderDate, 'dd-MM-yyyy') as date\")) "
   ]
  },
  {
   "cell_type": "code",
   "execution_count": null,
   "id": "a8db1bed-6a56-49e5-a058-84dd1dbced0b",
   "metadata": {
    "tags": []
   },
   "outputs": [],
   "source": [
    "sales_selected_cal_df.show()"
   ]
  },
  {
   "cell_type": "code",
   "execution_count": null,
   "id": "5daf116b-3f84-4da3-8135-dddbe5210440",
   "metadata": {
    "tags": []
   },
   "outputs": [],
   "source": [
    "## Select left(City,3) as city,\n",
    "          # CustomerName as Customer, \n",
    "          #  Amount - 1000 as AmountAfterTax, \n",
    "          #   cast(Price as integer) Price, \n",
    "          #   to_date(OrderDate, 'dd-MM-yyyy') as OrderDate, \n",
    "          #   Amount_Currency \n",
    "          #   from sales_df\n",
    "\n",
    "sales_selected_cal_df = sales_df.selectExpr(\"left(City,3) as city\",\"CustomerName as Customer\", \"Amount - 1000 as AmountAfterTax\",\"cast(Price as integer) Price\", \"to_date(OrderDate, 'dd-MM-yyyy') as OrderDate\" ,\"Amount_Currency\" ) "
   ]
  },
  {
   "cell_type": "code",
   "execution_count": null,
   "id": "44cba8d8-f566-4406-ac67-4f7a71dacf4b",
   "metadata": {
    "tags": []
   },
   "outputs": [],
   "source": [
    "sales_selected_cal_df.show()"
   ]
  },
  {
   "cell_type": "code",
   "execution_count": null,
   "id": "aec0089d-e2e4-4a7b-9bbb-03b1075d16c5",
   "metadata": {},
   "outputs": [],
   "source": []
  }
 ],
 "metadata": {
  "kernelspec": {
   "display_name": "Python 3 (ipykernel)",
   "language": "python",
   "name": "python3"
  },
  "language_info": {
   "codemirror_mode": {
    "name": "ipython",
    "version": 3
   },
   "file_extension": ".py",
   "mimetype": "text/x-python",
   "name": "python",
   "nbconvert_exporter": "python",
   "pygments_lexer": "ipython3",
   "version": "3.10.12"
  }
 },
 "nbformat": 4,
 "nbformat_minor": 5
}
