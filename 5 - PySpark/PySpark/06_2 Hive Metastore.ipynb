{
 "cells": [
  {
   "cell_type": "markdown",
   "id": "d5d7cdae-5127-46f9-b804-258fab3abd64",
   "metadata": {},
   "source": [
    "## Transformations\n",
    "\n",
    "    1. Select\n",
    "    2. expr, Col\n",
    "    3. SelectExpr"
   ]
  },
  {
   "cell_type": "code",
   "execution_count": 1,
   "id": "e55e97f2-9b31-4e9d-ab09-ddcbad427076",
   "metadata": {},
   "outputs": [],
   "source": [
    "from os.path import abspath\n",
    "\n",
    "from pyspark.sql import SparkSession\n",
    "from pyspark.sql import Row\n",
    "\n",
    "# warehouse_location points to the default location for managed databases and tables\n",
    "warehouse_location = abspath('spark-warehouse')\n",
    "\n",
    "spark = SparkSession \\\n",
    "    .builder \\\n",
    "    .master(\"local[*]\") \\\n",
    "    .appName(\"Python Spark SQL Hive integration example\") \\\n",
    "    .config(\"spark.sql.warehouse.dir\", warehouse_location) \\\n",
    "    .enableHiveSupport() \\\n",
    "    .getOrCreate()"
   ]
  },
  {
   "cell_type": "code",
   "execution_count": null,
   "id": "abd7bbd9-efb2-4ad4-8ce0-ebeee4dc9264",
   "metadata": {
    "tags": []
   },
   "outputs": [],
   "source": [
    "spark.stop()"
   ]
  },
  {
   "cell_type": "code",
   "execution_count": null,
   "id": "5c59f7cf-c3e2-410c-ac22-d33462840f23",
   "metadata": {},
   "outputs": [],
   "source": [
    "print(warehouse_location)"
   ]
  },
  {
   "cell_type": "code",
   "execution_count": null,
   "id": "6a1062a8-6441-44a9-b05e-731cf5aed102",
   "metadata": {},
   "outputs": [],
   "source": [
    "spark.conf.get(\"hive.metastore.uris\")"
   ]
  },
  {
   "cell_type": "code",
   "execution_count": null,
   "id": "c4f29400-2661-4fa9-9275-26aab29cc052",
   "metadata": {},
   "outputs": [],
   "source": [
    "spark"
   ]
  },
  {
   "cell_type": "code",
   "execution_count": 2,
   "id": "2290c5c1-1f92-4738-9620-3103ad0bb8d6",
   "metadata": {},
   "outputs": [
    {
     "data": {
      "text/plain": [
       "'hive'"
      ]
     },
     "execution_count": 2,
     "metadata": {},
     "output_type": "execute_result"
    }
   ],
   "source": [
    "spark.conf.get(\"spark.sql.catalogImplementation\")"
   ]
  },
  {
   "cell_type": "code",
   "execution_count": null,
   "id": "b7b6a22a-c597-4738-a5f5-40042028451b",
   "metadata": {
    "tags": []
   },
   "outputs": [],
   "source": [
    "spark.sparkContext.defaultParallelism"
   ]
  },
  {
   "cell_type": "code",
   "execution_count": null,
   "id": "5231afeb-922c-4c11-8e33-ecea22828e2c",
   "metadata": {
    "tags": []
   },
   "outputs": [],
   "source": [
    "sales_data = [\n",
    "['SO101', '08-01-2024', 'Amit Joshi', 'Hyderabad', 'India', 'Keyboard', '3000', '4', 'pieces', '12000', 'INR', '18-01-2024'],\n",
    "['SO102', '19-01-2024', 'Divya Reddy', 'Mumbai', 'India', 'Printer', '1500', '5', 'pieces', '7500', 'INR', '29-01-2024'],\n",
    "['SO103', '01-01-2024', 'Rohan Patel', 'Pune', 'India', 'Laptop', '1500', '10', 'pieces', '15000', 'INR', '11-01-2024'],\n",
    "['SO104', '30-03-2024', 'Divya Reddy', 'Pune', 'India', 'External Hard Drive', '10000', '8', 'pieces', '80000', 'INR', '09-04-2024'],\n",
    "['SO105', '14-03-2024', 'Nikhil Desai', 'Ahmedabad', 'India', 'Wireless Mouse', '8000', '10', 'pieces', '80000', 'INR', '19-03-2024'],\n",
    "['SO106', '20-03-2024', 'Pooja Mehta', 'Hyderabad', 'India', 'Monitor', '8000', '10', 'pieces', '80000', 'INR', '25-03-2024'],\n",
    "['SO107', '10-03-2024', 'Amit Joshi', 'Mumbai', 'India', 'Webcam', '10000', '2', 'pieces', '20000', 'INR', '15-03-2024'],\n",
    "['SO108', '03-04-2024', 'Nikhil Desai', 'Pune', 'India', 'Wireless Mouse', '8000', '1', 'pieces', '8000', 'INR', '08-04-2024'],\n",
    "['SO109', '03-05-2024', 'Amit Joshi', 'Ahmedabad', 'India', 'Monitor', '70000', '5', 'pieces', '350000', 'INR', '18-05-2024'],\n",
    "['SO1010', '01-05-2024', 'Nikhil Desai', 'Ahmedabad', 'India', 'Monitor', '2000', '7', 'pieces', '14000', 'INR', '16-05-2024'],\n",
    "['SO1011', '19-06-2024', 'Amit Joshi', 'Chennai', 'India', 'Printer', '2000', '1', 'pieces', '2000', 'INR', '04-07-2024'],\n",
    "['SO1012', '08-07-2024', 'Rohan Patel', 'Mumbai', 'India', 'Keyboard', '3000', '5', 'pieces', '15000', 'INR', '23-07-2024'],\n",
    "['SO1013', '14-08-2024', 'Nikhil Desai', 'Mumbai', 'India', 'Keyboard', '10000', '10', 'pieces', '100000', 'INR', '29-08-2024'],\n",
    "['SO1014', '02-09-2024', 'Pooja Mehta', 'Ahmedabad', 'India', 'Laptop', '10000', '10', 'pieces', '100000', 'INR', '17-09-2024'],\n",
    "['SO1015', '23-09-2024', 'Amit Joshi', 'Chennai', 'India', 'Laptop', '8000', '6', 'pieces', '48000', 'INR', '08-10-2024'],\n",
    "['SO1016', '20-01-2023', 'Nikhil Desai', 'Ahmedabad', 'India', 'Webcam', '8000', '4', 'pieces', '32000', 'INR', '09-02-2023'],\n",
    "['SO1017', '01-01-2023', 'Nikhil Desai', 'Mumbai', 'India', 'Keyboard', '8000', '6', 'pieces', '48000', 'INR', '21-01-2023'],\n",
    "['SO1018', '26-01-2023', 'Nikhil Desai', 'Pune', 'India', 'Laptop', '10000', '5', 'pieces', '50000', 'INR', '15-02-2023'],\n",
    "['SO1019', '18-02-2023', 'Rohan Patel', 'Mumbai', 'India', 'Keyboard', '2000', '5', 'pieces', '10000', 'INR', '10-03-2023'],\n",
    "['SO1020', '24-03-2023', 'Amit Joshi', 'Pune', 'India', 'External Hard Drive', '5000', '5', 'pieces', '25000', 'INR', '13-04-2023'],\n",
    "['SO1021', '16-03-2023', 'Amit Joshi', 'Mumbai', 'India', 'Webcam', '10000', '7', 'pieces', '70000', 'INR', '10-04-2023'],\n",
    "['SO1022', '30-04-2023', 'Amit Joshi', 'Pune', 'India', 'Laptop', '70000', '5', 'pieces', '350000', 'INR', '25-05-2023'],\n",
    "['SO1023', '13-04-2023', 'Nikhil Desai', 'Mumbai', 'India', 'Wireless Mouse', '3000', '3', 'pieces', '9000', 'INR', '08-05-2023'],\n",
    "['SO1024', '08-07-2023', 'Pooja Mehta', 'Ahmedabad', 'India', 'Wireless Mouse', '5000', '2', 'pieces', '10000', 'INR', '02-08-2023'],\n",
    "['SO1025', '25-07-2023', 'Rohan Patel', 'Chennai', 'India', 'External Hard Drive', '5000', '7', 'pieces', '35000', 'INR', '19-08-2023'],\n",
    "['SO1026', '14-07-2023', 'Divya Reddy', 'Ahmedabad', 'India', 'Keyboard', '1500', '8', 'pieces', '12000', 'INR', '08-08-2023'],\n",
    "['SO1027', '24-07-2023', 'Rohan Patel', 'Hyderabad', 'India', 'Laptop', '3000', '9', 'pieces', '27000', 'INR', '18-08-2023'],\n",
    "['SO1028', '25-07-2023', 'Rohan Patel', 'Chennai', 'India', 'Monitor', '5000', '8', 'pieces', '40000', 'INR', '19-08-2023'],\n",
    "['SO1029', '17-09-2023', 'Divya Reddy', 'Chennai', 'India', 'Wireless Mouse', '1500', '8', 'pieces', '12000', 'INR', '12-10-2023'],\n",
    "['SO1030', '08-09-2023', 'Nikhil Desai', 'Chennai', 'India', 'Webcam', '8000', '9', 'pieces', '72000', 'INR', '03-10-2023']\n",
    "]\n",
    "\n",
    "sales_schema = \"\"\"SalesOrder string, \n",
    "                    OrderDate string, \n",
    "                    CustomerName string, \n",
    "                    City string, \n",
    "                    Country string, \n",
    "                    Product string, \n",
    "                    Price string, \n",
    "                    Qty_Sold string, \n",
    "                    Qty_Sold_Units string, \n",
    "                    Amount string, \n",
    "                    Amount_Currency string, \n",
    "                    ShipDate string\"\"\"\n"
   ]
  },
  {
   "cell_type": "code",
   "execution_count": null,
   "id": "9647546a-790d-4304-83b4-d106965b308c",
   "metadata": {
    "tags": []
   },
   "outputs": [],
   "source": [
    "sales_df = spark.createDataFrame(data=sales_data, schema=sales_schema)"
   ]
  },
  {
   "cell_type": "code",
   "execution_count": null,
   "id": "d73714ee-dc9a-4a44-bf30-ce6a3e52a9d3",
   "metadata": {
    "tags": []
   },
   "outputs": [],
   "source": [
    "sales_df.printSchema()"
   ]
  },
  {
   "cell_type": "code",
   "execution_count": null,
   "id": "19f55297-7f4a-4e58-9ce3-95b375059b71",
   "metadata": {
    "tags": []
   },
   "outputs": [],
   "source": [
    "sales_df.show()"
   ]
  },
  {
   "cell_type": "code",
   "execution_count": 3,
   "id": "d7269ada-3da5-4e03-aca0-4f17c008f047",
   "metadata": {},
   "outputs": [
    {
     "name": "stdout",
     "output_type": "stream",
     "text": [
      "+---------+\n",
      "|namespace|\n",
      "+---------+\n",
      "|  default|\n",
      "|    qbex1|\n",
      "+---------+\n",
      "\n"
     ]
    }
   ],
   "source": [
    "spark.sql(\"show databases;\").show()"
   ]
  },
  {
   "cell_type": "code",
   "execution_count": null,
   "id": "df4ba959-d5c8-4371-ab17-f83be109815b",
   "metadata": {},
   "outputs": [],
   "source": [
    "spark.sql(\"create database qbex1;\").show()"
   ]
  },
  {
   "cell_type": "code",
   "execution_count": null,
   "id": "948fd062-722d-4ba3-a707-476871c24339",
   "metadata": {},
   "outputs": [],
   "source": [
    "spark.sql(\"show tables in qbex1;\").show()"
   ]
  },
  {
   "cell_type": "code",
   "execution_count": null,
   "id": "aa0b24e8-78bb-44ad-b8a9-3fbcb9a7336f",
   "metadata": {},
   "outputs": [],
   "source": [
    "sales_df.write.mode(\"overwrite\").saveAsTable(\"qbex1.sales_lake\")"
   ]
  },
  {
   "cell_type": "code",
   "execution_count": null,
   "id": "456a1f1b-a716-473c-9e90-dd99ed1cc76d",
   "metadata": {},
   "outputs": [],
   "source": [
    "spark.sql(\"describe extended qbex1.sales_lake;\").head(30)"
   ]
  },
  {
   "cell_type": "code",
   "execution_count": 4,
   "id": "a4de2f21-b28a-4ebb-a4ee-a9c955f19951",
   "metadata": {},
   "outputs": [
    {
     "name": "stdout",
     "output_type": "stream",
     "text": [
      "+----------+----------+------------+---------+-------+-------------------+-----+--------+--------------+------+---------------+----------+--------------+----+\n",
      "|SalesOrder| OrderDate|CustomerName|     City|Country|            Product|Price|Qty_Sold|Qty_Sold_Units|Amount|Amount_Currency|  ShipDate|current_date()|year|\n",
      "+----------+----------+------------+---------+-------+-------------------+-----+--------+--------------+------+---------------+----------+--------------+----+\n",
      "|    SO1025|25-07-2023| Rohan Patel|  Chennai|  India|External Hard Drive| 5000|       7|        pieces| 35000|            INR|19-08-2023|    2024-12-22|2023|\n",
      "|    SO1026|14-07-2023| Divya Reddy|Ahmedabad|  India|           Keyboard| 1500|       8|        pieces| 12000|            INR|08-08-2023|    2024-12-22|2023|\n",
      "|    SO1027|24-07-2023| Rohan Patel|Hyderabad|  India|             Laptop| 3000|       9|        pieces| 27000|            INR|18-08-2023|    2024-12-22|2023|\n",
      "|    SO1028|25-07-2023| Rohan Patel|  Chennai|  India|            Monitor| 5000|       8|        pieces| 40000|            INR|19-08-2023|    2024-12-22|2023|\n",
      "|    SO1029|17-09-2023| Divya Reddy|  Chennai|  India|     Wireless Mouse| 1500|       8|        pieces| 12000|            INR|12-10-2023|    2024-12-22|2023|\n",
      "|    SO1030|08-09-2023|Nikhil Desai|  Chennai|  India|             Webcam| 8000|       9|        pieces| 72000|            INR|03-10-2023|    2024-12-22|2023|\n",
      "|    SO1010|01-05-2024|Nikhil Desai|Ahmedabad|  India|            Monitor| 2000|       7|        pieces| 14000|            INR|16-05-2024|    2024-12-22|2024|\n",
      "|    SO1011|19-06-2024|  Amit Joshi|  Chennai|  India|            Printer| 2000|       1|        pieces|  2000|            INR|04-07-2024|    2024-12-22|2024|\n",
      "|    SO1012|08-07-2024| Rohan Patel|   Mumbai|  India|           Keyboard| 3000|       5|        pieces| 15000|            INR|23-07-2024|    2024-12-22|2024|\n",
      "|    SO1013|14-08-2024|Nikhil Desai|   Mumbai|  India|           Keyboard|10000|      10|        pieces|100000|            INR|29-08-2024|    2024-12-22|2024|\n",
      "|    SO1014|02-09-2024| Pooja Mehta|Ahmedabad|  India|             Laptop|10000|      10|        pieces|100000|            INR|17-09-2024|    2024-12-22|2024|\n",
      "|    SO1015|23-09-2024|  Amit Joshi|  Chennai|  India|             Laptop| 8000|       6|        pieces| 48000|            INR|08-10-2024|    2024-12-22|2024|\n",
      "|     SO104|30-03-2024| Divya Reddy|     Pune|  India|External Hard Drive|10000|       8|        pieces| 80000|            INR|09-04-2024|    2024-12-22|2024|\n",
      "|     SO105|14-03-2024|Nikhil Desai|Ahmedabad|  India|     Wireless Mouse| 8000|      10|        pieces| 80000|            INR|19-03-2024|    2024-12-22|2024|\n",
      "|     SO106|20-03-2024| Pooja Mehta|Hyderabad|  India|            Monitor| 8000|      10|        pieces| 80000|            INR|25-03-2024|    2024-12-22|2024|\n",
      "|    SO1019|18-02-2023| Rohan Patel|   Mumbai|  India|           Keyboard| 2000|       5|        pieces| 10000|            INR|10-03-2023|    2024-12-22|2023|\n",
      "|    SO1020|24-03-2023|  Amit Joshi|     Pune|  India|External Hard Drive| 5000|       5|        pieces| 25000|            INR|13-04-2023|    2024-12-22|2023|\n",
      "|    SO1021|16-03-2023|  Amit Joshi|   Mumbai|  India|             Webcam|10000|       7|        pieces| 70000|            INR|10-04-2023|    2024-12-22|2023|\n",
      "|    SO1016|20-01-2023|Nikhil Desai|Ahmedabad|  India|             Webcam| 8000|       4|        pieces| 32000|            INR|09-02-2023|    2024-12-22|2023|\n",
      "|    SO1017|01-01-2023|Nikhil Desai|   Mumbai|  India|           Keyboard| 8000|       6|        pieces| 48000|            INR|21-01-2023|    2024-12-22|2023|\n",
      "+----------+----------+------------+---------+-------+-------------------+-----+--------+--------------+------+---------------+----------+--------------+----+\n",
      "only showing top 20 rows\n",
      "\n"
     ]
    }
   ],
   "source": [
    "spark.sql(\"select *, current_date, date_format(to_date(OrderDate,'dd-MM-yyyy'),'yyyy') as year from qbex1.sales;\").show()"
   ]
  },
  {
   "cell_type": "code",
   "execution_count": null,
   "id": "82990138-5820-4544-a994-5f112b5382e7",
   "metadata": {},
   "outputs": [],
   "source": [
    "df9 = spark.sql(\"select * from qbex1.sales;\")"
   ]
  },
  {
   "cell_type": "code",
   "execution_count": null,
   "id": "93fffe6b-44ac-48aa-b47b-130610e395d0",
   "metadata": {},
   "outputs": [],
   "source": [
    "df9.createTempView(\"\")"
   ]
  },
  {
   "cell_type": "code",
   "execution_count": null,
   "id": "44cba8d8-f566-4406-ac67-4f7a71dacf4b",
   "metadata": {
    "tags": []
   },
   "outputs": [],
   "source": [
    "sales_selected_cal_df.show()"
   ]
  },
  {
   "cell_type": "code",
   "execution_count": null,
   "id": "aec0089d-e2e4-4a7b-9bbb-03b1075d16c5",
   "metadata": {},
   "outputs": [],
   "source": []
  }
 ],
 "metadata": {
  "kernelspec": {
   "display_name": "Python 3 (ipykernel)",
   "language": "python",
   "name": "python3"
  },
  "language_info": {
   "codemirror_mode": {
    "name": "ipython",
    "version": 3
   },
   "file_extension": ".py",
   "mimetype": "text/x-python",
   "name": "python",
   "nbconvert_exporter": "python",
   "pygments_lexer": "ipython3",
   "version": "3.10.12"
  }
 },
 "nbformat": 4,
 "nbformat_minor": 5
}
