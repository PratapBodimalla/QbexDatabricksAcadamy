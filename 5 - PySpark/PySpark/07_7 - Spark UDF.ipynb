{
 "cells": [
  {
   "cell_type": "code",
   "execution_count": 1,
   "id": "852de599-1ded-4cc5-8376-7b87dbe3ca78",
   "metadata": {},
   "outputs": [
    {
     "data": {
      "text/html": [
       "\n",
       "            <div>\n",
       "                <p><b>SparkSession - in-memory</b></p>\n",
       "                \n",
       "        <div>\n",
       "            <p><b>SparkContext</b></p>\n",
       "\n",
       "            <p><a href=\"http://ba03929a6386:4040\">Spark UI</a></p>\n",
       "\n",
       "            <dl>\n",
       "              <dt>Version</dt>\n",
       "                <dd><code>v3.5.3</code></dd>\n",
       "              <dt>Master</dt>\n",
       "                <dd><code>local[*]</code></dd>\n",
       "              <dt>AppName</dt>\n",
       "                <dd><code>Factor of cores</code></dd>\n",
       "            </dl>\n",
       "        </div>\n",
       "        \n",
       "            </div>\n",
       "        "
      ],
      "text/plain": [
       "<pyspark.sql.session.SparkSession at 0x7f25c001bc10>"
      ]
     },
     "execution_count": 1,
     "metadata": {},
     "output_type": "execute_result"
    }
   ],
   "source": [
    "# Create Spark Session\n",
    "from pyspark.sql import SparkSession\n",
    "spark = SparkSession \\\n",
    "    .builder \\\n",
    "    .appName(\"Factor of cores\") \\\n",
    "    .master(\"local[*]\") \\\n",
    "    .config(\"spark.executor.instances\", \"4\") \\\n",
    "    .config(\"spark.executor.cores\", \"2\") \\\n",
    "    .config(\"spark.executor.memory\", \"1G\") \\\n",
    "    .config(\"spark.driver.memory\", \"4G\") \\\n",
    "    .getOrCreate()\n",
    "spark"
   ]
  },
  {
   "cell_type": "code",
   "execution_count": null,
   "id": "fbb0c284-72b4-416b-9659-cb593542a63c",
   "metadata": {},
   "outputs": [],
   "source": [
    "spark"
   ]
  },
  {
   "cell_type": "code",
   "execution_count": 2,
   "id": "9ac42e79-53b0-4dc5-8c63-69506616b06f",
   "metadata": {},
   "outputs": [],
   "source": [
    "sales_schema = \"\"\"SalesOrder string, \n",
    "                    OrderDate string, \n",
    "                    CustomerName string, \n",
    "                    City string, \n",
    "                    Country string, \n",
    "                    Product string, \n",
    "                    Price string, \n",
    "                    Qty_Sold string, \n",
    "                    Qty_Sold_Units string, \n",
    "                    Amount integer, \n",
    "                    Amount_Currency string, \n",
    "                    ShipDate string\"\"\""
   ]
  },
  {
   "cell_type": "code",
   "execution_count": 4,
   "id": "5469456e-eff2-4a61-87ab-cd39712177d8",
   "metadata": {},
   "outputs": [],
   "source": [
    "sales_df = spark.read.format(\"csv\").option(\"header\",True).schema(sales_schema).load(\"./Input/1_sales_orders.csv\")"
   ]
  },
  {
   "cell_type": "code",
   "execution_count": 5,
   "id": "b44d1a9d-9ef5-43b5-8a6f-11fa9aa85100",
   "metadata": {},
   "outputs": [
    {
     "name": "stdout",
     "output_type": "stream",
     "text": [
      "+----------+----------+------------+---------+-------+-------+-----+--------+--------------+------+---------------+----------+\n",
      "|SalesOrder| OrderDate|CustomerName|     City|Country|Product|Price|Qty_Sold|Qty_Sold_Units|Amount|Amount_Currency|  ShipDate|\n",
      "+----------+----------+------------+---------+-------+-------+-----+--------+--------------+------+---------------+----------+\n",
      "|     SO101|08-01-2024|           1|Hyderabad|  India|      1| 3000|       4|        pieces| 12000|            INR|18-01-2024|\n",
      "|     SO102|19-01-2024|           2|   Mumbai|  India|      2| 1500|       5|        pieces|  7500|            INR|29-01-2024|\n",
      "|     SO103|01-01-2024|           3|     Pune|  India|      3| 1500|      10|        pieces| 15000|            INR|11-01-2024|\n",
      "|     SO104|30-03-2024|           2|     Pune|  India|      4|10000|       8|        pieces| 80000|            INR|09-04-2024|\n",
      "|     SO105|14-03-2024|           4|Ahmedabad|  India|      5| 8000|      10|        pieces| 80000|            INR|19-03-2024|\n",
      "|     SO106|20-03-2024|           5|Hyderabad|  India|      6| 8000|      10|        pieces| 80000|            INR|25-03-2024|\n",
      "|     SO107|10-03-2024|           1|   Mumbai|  India|      7|10000|       2|        pieces| 20000|            INR|15-03-2024|\n",
      "|     SO108|03-04-2024|           4|     Pune|  India|      5| 8000|       1|        pieces|  8000|            INR|08-04-2024|\n",
      "|     SO109|03-05-2024|           1|Ahmedabad|  India|      6|70000|       5|        pieces|350000|            INR|18-05-2024|\n",
      "|    SO1010|01-05-2024|           4|Ahmedabad|  India|      6| 2000|       7|        pieces| 14000|            INR|16-05-2024|\n",
      "|    SO1011|19-06-2024|           1|  Chennai|  India|      2| 2000|       1|        pieces|  2000|            INR|04-07-2024|\n",
      "|    SO1012|08-07-2024|           3|   Mumbai|  India|      1| 3000|       5|        pieces| 15000|            INR|23-07-2024|\n",
      "|    SO1013|14-08-2024|           4|   Mumbai|  India|      1|10000|      10|        pieces|100000|            INR|29-08-2024|\n",
      "|    SO1014|02-09-2024|           5|Ahmedabad|  India|      3|10000|      10|        pieces|100000|            INR|17-09-2024|\n",
      "|    SO1015|23-09-2024|           1|  Chennai|  India|      3| 8000|       6|        pieces| 48000|            INR|08-10-2024|\n",
      "|    SO1016|20-01-2023|           4|Ahmedabad|  India|      7| 8000|       4|        pieces| 32000|            INR|09-02-2023|\n",
      "|    SO1017|01-01-2023|           4|   Mumbai|  India|      1| 8000|       6|        pieces| 48000|            INR|21-01-2023|\n",
      "|    SO1018|26-01-2023|           4|     Pune|  India|      3|10000|       5|        pieces| 50000|            INR|15-02-2023|\n",
      "|    SO1019|18-02-2023|           3|   Mumbai|  India|      1| 2000|       5|        pieces| 10000|            INR|10-03-2023|\n",
      "|    SO1020|24-03-2023|           1|     Pune|  India|      4| 5000|       5|        pieces| 25000|            INR|13-04-2023|\n",
      "+----------+----------+------------+---------+-------+-------+-----+--------+--------------+------+---------------+----------+\n",
      "only showing top 20 rows\n",
      "\n"
     ]
    }
   ],
   "source": [
    "sales_df.show()"
   ]
  },
  {
   "cell_type": "code",
   "execution_count": 6,
   "id": "c7bc3a62-d7f9-4c1e-8666-2546a3066221",
   "metadata": {},
   "outputs": [],
   "source": [
    "sales_df.createTempView(\"sales_view\")"
   ]
  },
  {
   "cell_type": "code",
   "execution_count": 7,
   "id": "5e9e7cf7-0b26-437d-90b0-82afe03ea786",
   "metadata": {},
   "outputs": [
    {
     "name": "stdout",
     "output_type": "stream",
     "text": [
      "+----------+----------+------------+---------+-------+-------+-----+--------+--------------+------+---------------+----------+--------------+\n",
      "|SalesOrder| OrderDate|CustomerName|     City|Country|Product|Price|Qty_Sold|Qty_Sold_Units|Amount|Amount_Currency|  ShipDate|amountaftertax|\n",
      "+----------+----------+------------+---------+-------+-------+-----+--------+--------------+------+---------------+----------+--------------+\n",
      "|     SO101|08-01-2024|           1|Hyderabad|  India|      1| 3000|       4|        pieces| 12000|            INR|18-01-2024|       1200.00|\n",
      "|     SO102|19-01-2024|           2|   Mumbai|  India|      2| 1500|       5|        pieces|  7500|            INR|29-01-2024|        750.00|\n",
      "|     SO103|01-01-2024|           3|     Pune|  India|      3| 1500|      10|        pieces| 15000|            INR|11-01-2024|       1500.00|\n",
      "|     SO104|30-03-2024|           2|     Pune|  India|      4|10000|       8|        pieces| 80000|            INR|09-04-2024|       8000.00|\n",
      "|     SO105|14-03-2024|           4|Ahmedabad|  India|      5| 8000|      10|        pieces| 80000|            INR|19-03-2024|       8000.00|\n",
      "|     SO106|20-03-2024|           5|Hyderabad|  India|      6| 8000|      10|        pieces| 80000|            INR|25-03-2024|       8000.00|\n",
      "|     SO107|10-03-2024|           1|   Mumbai|  India|      7|10000|       2|        pieces| 20000|            INR|15-03-2024|       2000.00|\n",
      "|     SO108|03-04-2024|           4|     Pune|  India|      5| 8000|       1|        pieces|  8000|            INR|08-04-2024|        800.00|\n",
      "|     SO109|03-05-2024|           1|Ahmedabad|  India|      6|70000|       5|        pieces|350000|            INR|18-05-2024|      35000.00|\n",
      "|    SO1010|01-05-2024|           4|Ahmedabad|  India|      6| 2000|       7|        pieces| 14000|            INR|16-05-2024|       1400.00|\n",
      "|    SO1011|19-06-2024|           1|  Chennai|  India|      2| 2000|       1|        pieces|  2000|            INR|04-07-2024|        200.00|\n",
      "|    SO1012|08-07-2024|           3|   Mumbai|  India|      1| 3000|       5|        pieces| 15000|            INR|23-07-2024|       1500.00|\n",
      "|    SO1013|14-08-2024|           4|   Mumbai|  India|      1|10000|      10|        pieces|100000|            INR|29-08-2024|      10000.00|\n",
      "|    SO1014|02-09-2024|           5|Ahmedabad|  India|      3|10000|      10|        pieces|100000|            INR|17-09-2024|      10000.00|\n",
      "|    SO1015|23-09-2024|           1|  Chennai|  India|      3| 8000|       6|        pieces| 48000|            INR|08-10-2024|       4800.00|\n",
      "|    SO1016|20-01-2023|           4|Ahmedabad|  India|      7| 8000|       4|        pieces| 32000|            INR|09-02-2023|       3200.00|\n",
      "|    SO1017|01-01-2023|           4|   Mumbai|  India|      1| 8000|       6|        pieces| 48000|            INR|21-01-2023|       4800.00|\n",
      "|    SO1018|26-01-2023|           4|     Pune|  India|      3|10000|       5|        pieces| 50000|            INR|15-02-2023|       5000.00|\n",
      "|    SO1019|18-02-2023|           3|   Mumbai|  India|      1| 2000|       5|        pieces| 10000|            INR|10-03-2023|       1000.00|\n",
      "|    SO1020|24-03-2023|           1|     Pune|  India|      4| 5000|       5|        pieces| 25000|            INR|13-04-2023|       2500.00|\n",
      "+----------+----------+------------+---------+-------+-------+-----+--------+--------------+------+---------------+----------+--------------+\n",
      "only showing top 20 rows\n",
      "\n"
     ]
    }
   ],
   "source": [
    "spark.sql(\"\"\" select *, Amount * 0.10 as amountaftertax \n",
    "            from sales_view \"\"\").show()"
   ]
  },
  {
   "cell_type": "code",
   "execution_count": 9,
   "id": "b6423068-5a10-4593-b5b3-983dded6d25b",
   "metadata": {},
   "outputs": [
    {
     "name": "stdout",
     "output_type": "stream",
     "text": [
      "+----------+----------+------------+---------+-------+-------+-----+--------+--------------+------+---------------+----------+--------------+\n",
      "|SalesOrder| OrderDate|CustomerName|     City|Country|Product|Price|Qty_Sold|Qty_Sold_Units|Amount|Amount_Currency|  ShipDate|Amountaftertax|\n",
      "+----------+----------+------------+---------+-------+-------+-----+--------+--------------+------+---------------+----------+--------------+\n",
      "|     SO101|08-01-2024|           1|Hyderabad|  India|      1| 3000|       4|        pieces| 12000|            INR|18-01-2024|       1200.00|\n",
      "|     SO102|19-01-2024|           2|   Mumbai|  India|      2| 1500|       5|        pieces|  7500|            INR|29-01-2024|        750.00|\n",
      "|     SO103|01-01-2024|           3|     Pune|  India|      3| 1500|      10|        pieces| 15000|            INR|11-01-2024|       1500.00|\n",
      "|     SO104|30-03-2024|           2|     Pune|  India|      4|10000|       8|        pieces| 80000|            INR|09-04-2024|       8000.00|\n",
      "|     SO105|14-03-2024|           4|Ahmedabad|  India|      5| 8000|      10|        pieces| 80000|            INR|19-03-2024|       8000.00|\n",
      "|     SO106|20-03-2024|           5|Hyderabad|  India|      6| 8000|      10|        pieces| 80000|            INR|25-03-2024|       8000.00|\n",
      "|     SO107|10-03-2024|           1|   Mumbai|  India|      7|10000|       2|        pieces| 20000|            INR|15-03-2024|       2000.00|\n",
      "|     SO108|03-04-2024|           4|     Pune|  India|      5| 8000|       1|        pieces|  8000|            INR|08-04-2024|        800.00|\n",
      "|     SO109|03-05-2024|           1|Ahmedabad|  India|      6|70000|       5|        pieces|350000|            INR|18-05-2024|      35000.00|\n",
      "|    SO1010|01-05-2024|           4|Ahmedabad|  India|      6| 2000|       7|        pieces| 14000|            INR|16-05-2024|       1400.00|\n",
      "|    SO1011|19-06-2024|           1|  Chennai|  India|      2| 2000|       1|        pieces|  2000|            INR|04-07-2024|        200.00|\n",
      "|    SO1012|08-07-2024|           3|   Mumbai|  India|      1| 3000|       5|        pieces| 15000|            INR|23-07-2024|       1500.00|\n",
      "|    SO1013|14-08-2024|           4|   Mumbai|  India|      1|10000|      10|        pieces|100000|            INR|29-08-2024|      10000.00|\n",
      "|    SO1014|02-09-2024|           5|Ahmedabad|  India|      3|10000|      10|        pieces|100000|            INR|17-09-2024|      10000.00|\n",
      "|    SO1015|23-09-2024|           1|  Chennai|  India|      3| 8000|       6|        pieces| 48000|            INR|08-10-2024|       4800.00|\n",
      "|    SO1016|20-01-2023|           4|Ahmedabad|  India|      7| 8000|       4|        pieces| 32000|            INR|09-02-2023|       3200.00|\n",
      "|    SO1017|01-01-2023|           4|   Mumbai|  India|      1| 8000|       6|        pieces| 48000|            INR|21-01-2023|       4800.00|\n",
      "|    SO1018|26-01-2023|           4|     Pune|  India|      3|10000|       5|        pieces| 50000|            INR|15-02-2023|       5000.00|\n",
      "|    SO1019|18-02-2023|           3|   Mumbai|  India|      1| 2000|       5|        pieces| 10000|            INR|10-03-2023|       1000.00|\n",
      "|    SO1020|24-03-2023|           1|     Pune|  India|      4| 5000|       5|        pieces| 25000|            INR|13-04-2023|       2500.00|\n",
      "+----------+----------+------------+---------+-------+-------+-----+--------+--------------+------+---------------+----------+--------------+\n",
      "only showing top 20 rows\n",
      "\n"
     ]
    }
   ],
   "source": [
    "from pyspark.sql.functions import expr\n",
    "sales_df.withColumn(\"Amountaftertax\", expr(\"Amount * 0.10\") ).show()"
   ]
  },
  {
   "cell_type": "code",
   "execution_count": 10,
   "id": "e14004cb-d1be-41ef-9ef9-6d60a2e4d2b7",
   "metadata": {},
   "outputs": [],
   "source": [
    "def sales_after_tax(amount):\n",
    "    return (amount + (amount * 0.10))"
   ]
  },
  {
   "cell_type": "code",
   "execution_count": 15,
   "id": "3c990b30-ba9c-4b33-93f9-8c575983116b",
   "metadata": {},
   "outputs": [],
   "source": [
    "import time \n",
    "def sales_after_tax(amount):\n",
    "    time.sleep(10)\n",
    "    return (amount + (amount * 0.10))"
   ]
  },
  {
   "cell_type": "code",
   "execution_count": 11,
   "id": "3bd8400b-3378-47e0-b0c5-e15b2894b5f3",
   "metadata": {},
   "outputs": [],
   "source": [
    "from pyspark.sql.functions import udf\n",
    "\n",
    "sales_tax_udf = udf(sales_after_tax)"
   ]
  },
  {
   "cell_type": "code",
   "execution_count": 12,
   "id": "a1e56d25-b24d-411d-94a0-587916ec368b",
   "metadata": {},
   "outputs": [
    {
     "name": "stdout",
     "output_type": "stream",
     "text": [
      "+----------+----------+------------+---------+-------+-------+-----+--------+--------------+------+---------------+----------+--------------+\n",
      "|SalesOrder| OrderDate|CustomerName|     City|Country|Product|Price|Qty_Sold|Qty_Sold_Units|Amount|Amount_Currency|  ShipDate|Amountaftertax|\n",
      "+----------+----------+------------+---------+-------+-------+-----+--------+--------------+------+---------------+----------+--------------+\n",
      "|     SO101|08-01-2024|           1|Hyderabad|  India|      1| 3000|       4|        pieces| 12000|            INR|18-01-2024|       13200.0|\n",
      "|     SO102|19-01-2024|           2|   Mumbai|  India|      2| 1500|       5|        pieces|  7500|            INR|29-01-2024|        8250.0|\n",
      "|     SO103|01-01-2024|           3|     Pune|  India|      3| 1500|      10|        pieces| 15000|            INR|11-01-2024|       16500.0|\n",
      "|     SO104|30-03-2024|           2|     Pune|  India|      4|10000|       8|        pieces| 80000|            INR|09-04-2024|       88000.0|\n",
      "|     SO105|14-03-2024|           4|Ahmedabad|  India|      5| 8000|      10|        pieces| 80000|            INR|19-03-2024|       88000.0|\n",
      "|     SO106|20-03-2024|           5|Hyderabad|  India|      6| 8000|      10|        pieces| 80000|            INR|25-03-2024|       88000.0|\n",
      "|     SO107|10-03-2024|           1|   Mumbai|  India|      7|10000|       2|        pieces| 20000|            INR|15-03-2024|       22000.0|\n",
      "|     SO108|03-04-2024|           4|     Pune|  India|      5| 8000|       1|        pieces|  8000|            INR|08-04-2024|        8800.0|\n",
      "|     SO109|03-05-2024|           1|Ahmedabad|  India|      6|70000|       5|        pieces|350000|            INR|18-05-2024|      385000.0|\n",
      "|    SO1010|01-05-2024|           4|Ahmedabad|  India|      6| 2000|       7|        pieces| 14000|            INR|16-05-2024|       15400.0|\n",
      "|    SO1011|19-06-2024|           1|  Chennai|  India|      2| 2000|       1|        pieces|  2000|            INR|04-07-2024|        2200.0|\n",
      "|    SO1012|08-07-2024|           3|   Mumbai|  India|      1| 3000|       5|        pieces| 15000|            INR|23-07-2024|       16500.0|\n",
      "|    SO1013|14-08-2024|           4|   Mumbai|  India|      1|10000|      10|        pieces|100000|            INR|29-08-2024|      110000.0|\n",
      "|    SO1014|02-09-2024|           5|Ahmedabad|  India|      3|10000|      10|        pieces|100000|            INR|17-09-2024|      110000.0|\n",
      "|    SO1015|23-09-2024|           1|  Chennai|  India|      3| 8000|       6|        pieces| 48000|            INR|08-10-2024|       52800.0|\n",
      "|    SO1016|20-01-2023|           4|Ahmedabad|  India|      7| 8000|       4|        pieces| 32000|            INR|09-02-2023|       35200.0|\n",
      "|    SO1017|01-01-2023|           4|   Mumbai|  India|      1| 8000|       6|        pieces| 48000|            INR|21-01-2023|       52800.0|\n",
      "|    SO1018|26-01-2023|           4|     Pune|  India|      3|10000|       5|        pieces| 50000|            INR|15-02-2023|       55000.0|\n",
      "|    SO1019|18-02-2023|           3|   Mumbai|  India|      1| 2000|       5|        pieces| 10000|            INR|10-03-2023|       11000.0|\n",
      "|    SO1020|24-03-2023|           1|     Pune|  India|      4| 5000|       5|        pieces| 25000|            INR|13-04-2023|       27500.0|\n",
      "+----------+----------+------------+---------+-------+-------+-----+--------+--------------+------+---------------+----------+--------------+\n",
      "only showing top 20 rows\n",
      "\n"
     ]
    }
   ],
   "source": [
    "\n",
    "\n",
    "# from pyspark.sql.functions import expr\n",
    "# sales_df.withColumn(\"Amountaftertax\", expr(\"Amount * 0.10\") ).show()\n",
    "sales_df.withColumn(\"Amountaftertax\",sales_tax_udf(\"Amount\")).show()"
   ]
  },
  {
   "cell_type": "code",
   "execution_count": 16,
   "id": "182a62d5-f78c-4751-8cd5-43abab11f177",
   "metadata": {},
   "outputs": [
    {
     "data": {
      "text/plain": [
       "<function __main__.sales_after_tax(amount)>"
      ]
     },
     "execution_count": 16,
     "metadata": {},
     "output_type": "execute_result"
    }
   ],
   "source": [
    "# spark sql\n",
    "from pyspark.sql.functions import udf\n",
    "\n",
    "spark.udf.register(\"_fn_cal_amt_after_tax\",sales_after_tax, \"double\")\n"
   ]
  },
  {
   "cell_type": "code",
   "execution_count": 17,
   "id": "8fbfc06a-0e95-4f02-9476-f4310e0a46d4",
   "metadata": {},
   "outputs": [
    {
     "name": "stdout",
     "output_type": "stream",
     "text": [
      "+----------+----------+------------+---------+-------+-------+-----+--------+--------------+------+---------------+----------+--------------+\n",
      "|SalesOrder| OrderDate|CustomerName|     City|Country|Product|Price|Qty_Sold|Qty_Sold_Units|Amount|Amount_Currency|  ShipDate|amountaftertax|\n",
      "+----------+----------+------------+---------+-------+-------+-----+--------+--------------+------+---------------+----------+--------------+\n",
      "|     SO101|08-01-2024|           1|Hyderabad|  India|      1| 3000|       4|        pieces| 12000|            INR|18-01-2024|       13200.0|\n",
      "|     SO102|19-01-2024|           2|   Mumbai|  India|      2| 1500|       5|        pieces|  7500|            INR|29-01-2024|        8250.0|\n",
      "|     SO103|01-01-2024|           3|     Pune|  India|      3| 1500|      10|        pieces| 15000|            INR|11-01-2024|       16500.0|\n",
      "|     SO104|30-03-2024|           2|     Pune|  India|      4|10000|       8|        pieces| 80000|            INR|09-04-2024|       88000.0|\n",
      "|     SO105|14-03-2024|           4|Ahmedabad|  India|      5| 8000|      10|        pieces| 80000|            INR|19-03-2024|       88000.0|\n",
      "|     SO106|20-03-2024|           5|Hyderabad|  India|      6| 8000|      10|        pieces| 80000|            INR|25-03-2024|       88000.0|\n",
      "|     SO107|10-03-2024|           1|   Mumbai|  India|      7|10000|       2|        pieces| 20000|            INR|15-03-2024|       22000.0|\n",
      "|     SO108|03-04-2024|           4|     Pune|  India|      5| 8000|       1|        pieces|  8000|            INR|08-04-2024|        8800.0|\n",
      "|     SO109|03-05-2024|           1|Ahmedabad|  India|      6|70000|       5|        pieces|350000|            INR|18-05-2024|      385000.0|\n",
      "|    SO1010|01-05-2024|           4|Ahmedabad|  India|      6| 2000|       7|        pieces| 14000|            INR|16-05-2024|       15400.0|\n",
      "|    SO1011|19-06-2024|           1|  Chennai|  India|      2| 2000|       1|        pieces|  2000|            INR|04-07-2024|        2200.0|\n",
      "|    SO1012|08-07-2024|           3|   Mumbai|  India|      1| 3000|       5|        pieces| 15000|            INR|23-07-2024|       16500.0|\n",
      "|    SO1013|14-08-2024|           4|   Mumbai|  India|      1|10000|      10|        pieces|100000|            INR|29-08-2024|      110000.0|\n",
      "|    SO1014|02-09-2024|           5|Ahmedabad|  India|      3|10000|      10|        pieces|100000|            INR|17-09-2024|      110000.0|\n",
      "|    SO1015|23-09-2024|           1|  Chennai|  India|      3| 8000|       6|        pieces| 48000|            INR|08-10-2024|       52800.0|\n",
      "|    SO1016|20-01-2023|           4|Ahmedabad|  India|      7| 8000|       4|        pieces| 32000|            INR|09-02-2023|       35200.0|\n",
      "|    SO1017|01-01-2023|           4|   Mumbai|  India|      1| 8000|       6|        pieces| 48000|            INR|21-01-2023|       52800.0|\n",
      "|    SO1018|26-01-2023|           4|     Pune|  India|      3|10000|       5|        pieces| 50000|            INR|15-02-2023|       55000.0|\n",
      "|    SO1019|18-02-2023|           3|   Mumbai|  India|      1| 2000|       5|        pieces| 10000|            INR|10-03-2023|       11000.0|\n",
      "|    SO1020|24-03-2023|           1|     Pune|  India|      4| 5000|       5|        pieces| 25000|            INR|13-04-2023|       27500.0|\n",
      "+----------+----------+------------+---------+-------+-------+-----+--------+--------------+------+---------------+----------+--------------+\n",
      "only showing top 20 rows\n",
      "\n"
     ]
    }
   ],
   "source": [
    "spark.sql(\"\"\" select *, _fn_cal_amt_after_tax(Amount) as amountaftertax \n",
    "            from sales_view \"\"\").show()"
   ]
  },
  {
   "cell_type": "code",
   "execution_count": null,
   "id": "a50db707-a054-4293-bfcf-bd5758f45137",
   "metadata": {},
   "outputs": [],
   "source": [
    "sales_df.createOrReplaceTempView(\"sales_view\")"
   ]
  },
  {
   "cell_type": "code",
   "execution_count": null,
   "id": "9e1c426d-f61d-44ab-9d59-27186f83215b",
   "metadata": {},
   "outputs": [],
   "source": [
    "spark.sql(\"select * from sales_view\").show(truncate=False)"
   ]
  },
  {
   "cell_type": "code",
   "execution_count": null,
   "id": "54ee4597-3250-4fbf-85de-79f298280e53",
   "metadata": {},
   "outputs": [],
   "source": [
    "spark.sql(\"select *,sales_tax_function(Amount) as AmountAfterTax from sales_view\").show(truncate=False)"
   ]
  },
  {
   "cell_type": "code",
   "execution_count": 18,
   "id": "fc482afb-cb24-46a6-abaf-75997ec82cb8",
   "metadata": {},
   "outputs": [],
   "source": [
    "spark.stop()"
   ]
  },
  {
   "cell_type": "code",
   "execution_count": null,
   "id": "cacbf766-369a-4463-a1a8-1a596fb4e7fe",
   "metadata": {},
   "outputs": [],
   "source": []
  }
 ],
 "metadata": {
  "kernelspec": {
   "display_name": "Python 3 (ipykernel)",
   "language": "python",
   "name": "python3"
  },
  "language_info": {
   "codemirror_mode": {
    "name": "ipython",
    "version": 3
   },
   "file_extension": ".py",
   "mimetype": "text/x-python",
   "name": "python",
   "nbconvert_exporter": "python",
   "pygments_lexer": "ipython3",
   "version": "3.10.12"
  }
 },
 "nbformat": 4,
 "nbformat_minor": 5
}
