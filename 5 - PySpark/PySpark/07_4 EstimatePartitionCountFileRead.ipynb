{
 "cells": [
  {
   "cell_type": "markdown",
   "id": "829809d3-6b2a-4115-84e1-67b79131bc2e",
   "metadata": {},
   "source": [
    "### Estimate Partition Count for File Read"
   ]
  },
  {
   "cell_type": "code",
   "execution_count": null,
   "id": "7dc5ca1c-36e7-4ca7-9558-21b02692c04a",
   "metadata": {},
   "outputs": [],
   "source": [
    "# Create Spark Session\n",
    "from pyspark.sql import SparkSession\n",
    "spark = SparkSession \\\n",
    "    .builder \\\n",
    "    .appName(\"Factor of cores\") \\\n",
    "    .master(\"local[*]\") \\\n",
    "    .config(\"spark.executor.instances\", \"4\") \\\n",
    "    .config(\"spark.executor.cores\", \"2\") \\\n",
    "    .config(\"spark.executor.memory\", \"1G\") \\\n",
    "    .config(\"spark.driver.memory\", \"4G\") \\\n",
    "    .getOrCreate()\n",
    "spark"
   ]
  },
  {
   "cell_type": "code",
   "execution_count": null,
   "id": "982b7f9c-22a7-4d6d-a0a0-2489a470ca2a",
   "metadata": {},
   "outputs": [],
   "source": [
    "# Check the default partition size\n",
    "partition_size = int(spark.conf.get(\"spark.sql.files.maxPartitionBytes\").replace(\"b\",\"\"))\n",
    "print(f\"Partition Size: {partition_size} in bytes and {int(partition_size) / 1024 / 1024} in MB\")\n",
    "\n",
    "# Check the default open Cost in Bytes\n",
    "open_cost_size = int(spark.conf.get(\"spark.sql.files.openCostInBytes\").replace(\"b\",\"\"))\n",
    "print(f\"Open Cost Size: {open_cost_size} in bytes and {int(open_cost_size) / 1024 / 1024} in MB\")\n",
    "\n",
    "# Default parallelism\n",
    "parallelism = int(spark.sparkContext.defaultParallelism)\n",
    "print(f\"Default Parallelism: {parallelism}\")"
   ]
  },
  {
   "cell_type": "code",
   "execution_count": null,
   "id": "0e30bd8a-9fb7-4e93-b64f-45c87ad84a33",
   "metadata": {},
   "outputs": [],
   "source": [
    "# File size in Bytes\n",
    "average_file_size = 2898932284\n",
    "total_files = 1\n",
    "\n",
    "# Total Actual File Size in Bytes\n",
    "total_file_size = average_file_size * total_files\n",
    "print(f\"Total File size on disk: {total_file_size} in bytes and {total_file_size / 1024 /1024} in MB\")"
   ]
  },
  {
   "cell_type": "code",
   "execution_count": null,
   "id": "8a2d48f4-15db-4afc-ba58-4b80697c2ec7",
   "metadata": {},
   "outputs": [],
   "source": [
    "# Padded file size for Spark read\n",
    "padded_file_size = total_file_size + (total_files * open_cost_size)\n",
    "print(f\"Total padded file size: {padded_file_size} in bytes and {padded_file_size / 1024 /1024} in MB\")"
   ]
  },
  {
   "cell_type": "code",
   "execution_count": null,
   "id": "ccac2ab4-3584-4511-81d9-db0d8a08524b",
   "metadata": {},
   "outputs": [],
   "source": [
    "# Number of Bytes per Core\n",
    "bytes_per_core = padded_file_size / parallelism\n",
    "print(f\"Bytes per Core: {bytes_per_core} in bytes and {bytes_per_core / 1024 /1024} in MB\")"
   ]
  },
  {
   "cell_type": "code",
   "execution_count": null,
   "id": "591018f1-f748-4a08-8834-a53ee2d0661f",
   "metadata": {},
   "outputs": [],
   "source": [
    "# Max Split Bytes\n",
    "max_bytes_per_split = min(partition_size, max(open_cost_size, bytes_per_core))\n",
    "print(f\"Max bytes per Partition: {max_bytes_per_split} in bytes and {max_bytes_per_split / 1024 /1024} in MB\")"
   ]
  },
  {
   "cell_type": "code",
   "execution_count": null,
   "id": "8ab1c5f1-6579-48fe-affa-bfd0cbe890f9",
   "metadata": {},
   "outputs": [],
   "source": [
    "# Total number of Partitions\n",
    "num_of_partitions = padded_file_size / max_bytes_per_split\n",
    "print(f\"Approx number of partitions: {num_of_partitions}\")"
   ]
  },
  {
   "cell_type": "code",
   "execution_count": null,
   "id": "f1abfc54-5618-429c-88e1-9e441f1bc709",
   "metadata": {},
   "outputs": [],
   "source": [
    "# Read the file to see the number of partitons\n",
    "df_1 = spark.read.format(\"csv\").option(\"header\", True).load(\"./Input/sample_data.csv\")\n",
    "print(f\"Number of Partition -> {df_1.rdd.getNumPartitions()}\")"
   ]
  },
  {
   "cell_type": "code",
   "execution_count": null,
   "id": "3d15733e-ef65-4a0b-b66e-287438af650e",
   "metadata": {},
   "outputs": [],
   "source": [
    "# Lets pack all code in single function\n",
    "def num_partitions(file_size, num_of_files, spark):\n",
    "    # Check the default partition size\n",
    "    partition_size = int(spark.conf.get(\"spark.sql.files.maxPartitionBytes\").replace(\"b\",\"\"))\n",
    "    # Check the default open Cost in Bytes\n",
    "    open_cost_size = int(spark.conf.get(\"spark.sql.files.openCostInBytes\").replace(\"b\",\"\"))\n",
    "    # Default parallelism\n",
    "    parallelism = int(spark.sparkContext.defaultParallelism)\n",
    "    # Total Actual File Size in Bytes\n",
    "    total_file_size = file_size * num_of_files\n",
    "    # Padded file size for Spark read\n",
    "    padded_file_size = total_file_size + (num_of_files * open_cost_size)\n",
    "    # Number of Bytes per Core\n",
    "    bytes_per_core = padded_file_size / parallelism\n",
    "    # Max Split Bytes\n",
    "    max_bytes_per_split = min(partition_size, max(open_cost_size, bytes_per_core))\n",
    "    # Total number of Partitions\n",
    "    num_of_partitions = padded_file_size / max_bytes_per_split\n",
    "    \n",
    "    return num_of_partitions"
   ]
  },
  {
   "cell_type": "code",
   "execution_count": null,
   "id": "6fb6b585-1626-4751-89d4-fa9519d60ecb",
   "metadata": {},
   "outputs": [],
   "source": [
    "# Validation 1\n",
    "# Calculate the number of partitions as per our logic\n",
    "estimated_num_partition = num_partitions(2647733632, 1, spark)\n",
    "print(f\"Estimated number of partitions = {estimated_num_partition}\")\n",
    "\n",
    "# Lets read a single csv file with approx size 2647733632 bytes or 2.5 GB\n",
    "df_1 = spark.read.format(\"csv\").option(\"header\", True).load(\"./Input/sample_data.csv\")\n",
    "print(f\"Number of Partition -> {df_1.rdd.getNumPartitions()}\")\n"
   ]
  },
  {
   "cell_type": "code",
   "execution_count": null,
   "id": "59c4c7d4-e6ec-4d6e-bea3-41daa812a819",
   "metadata": {},
   "outputs": [],
   "source": [
    "# Validation 2\n",
    "# Calculate the number of partitions as per our logic for tiny files\n",
    "estimated_num_partition = num_partitions(255196, 4000, spark)\n",
    "print(f\"Estimated number of partitions = {estimated_num_partition}\")\n",
    "\n",
    "# Lets read multiple parquet file with approx size 7777 bytes or 7.7 KB\n",
    "df_2 = spark.read.format(\"parquet\").load(\"./Input/sample_data_parguet/\")\n",
    "print(f\"Number of Partition -> {df_2.rdd.getNumPartitions()}\")"
   ]
  },
  {
   "cell_type": "code",
   "execution_count": null,
   "id": "b1bc77a7-11ef-410b-8a2e-8244023bbac1",
   "metadata": {},
   "outputs": [],
   "source": [
    "spark.stop()"
   ]
  },
  {
   "cell_type": "code",
   "execution_count": null,
   "id": "1fcf32c7-0963-4d25-b1ba-afb5b922031d",
   "metadata": {},
   "outputs": [],
   "source": []
  }
 ],
 "metadata": {
  "kernelspec": {
   "display_name": "Python 3 (ipykernel)",
   "language": "python",
   "name": "python3"
  },
  "language_info": {
   "codemirror_mode": {
    "name": "ipython",
    "version": 3
   },
   "file_extension": ".py",
   "mimetype": "text/x-python",
   "name": "python",
   "nbconvert_exporter": "python",
   "pygments_lexer": "ipython3",
   "version": "3.10.12"
  }
 },
 "nbformat": 4,
 "nbformat_minor": 5
}
