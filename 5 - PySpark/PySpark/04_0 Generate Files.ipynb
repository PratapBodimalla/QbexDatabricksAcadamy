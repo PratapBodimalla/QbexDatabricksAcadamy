{
 "cells": [
  {
   "cell_type": "code",
   "execution_count": null,
   "id": "bbd0800b-28fb-4108-95af-1b4cfefa18a4",
   "metadata": {},
   "outputs": [],
   "source": [
    "from pyspark.sql import SparkSession\n",
    "\n",
    "spark = SparkSession.builder \\\n",
    "                    .master(\"local[*]\") \\\n",
    "                    .appName(\"Create Dataframe\") \\\n",
    "                    .getOrCreate()"
   ]
  },
  {
   "cell_type": "code",
   "execution_count": null,
   "id": "c594d840-a366-460c-ade6-bec73bcc5e65",
   "metadata": {},
   "outputs": [],
   "source": [
    "sales_schema = \"\"\"SalesOrder string, \n",
    "                    OrderDate string, \n",
    "                    CustomerID integer, \n",
    "                    City string, \n",
    "                    Country string, \n",
    "                    ProductID integer, \n",
    "                    Price integer, \n",
    "                    Qty_Sold integer, \n",
    "                    Qty_Sold_Units string, \n",
    "                    Amount integer, \n",
    "                    Amount_Currency string, \n",
    "                    ShipDate string,\n",
    "                    OrderStatus string\n",
    "                    \"\"\"\n",
    "\n",
    "customer_schema = \"\"\"\n",
    "                    CustomerID integer,\n",
    "                    CustomerName string,\n",
    "                    CustomerBucket string,\n",
    "                    CustomerRegion string,\n",
    "                    LessThanFullTruckLoad string,\n",
    "                    YearOnYearVolumeIncrease string\n",
    "                \"\"\"\n",
    "product_schema = \"\"\"\n",
    "                    ProductID integer,\n",
    "                    ProductName string,\n",
    "                    ProductCategory string,\n",
    "                    ProductSubCategory string\n",
    "                \"\"\"\n",
    "\n"
   ]
  },
  {
   "cell_type": "code",
   "execution_count": null,
   "id": "6ebc66da-1ad6-4adf-a786-e59b118beeef",
   "metadata": {},
   "outputs": [],
   "source": [
    "sales_df = spark.read.format(\"csv\") \\\n",
    "                    .option(\"header\", True ) \\\n",
    "                    .schema(sales_schema) \\\n",
    "                    .load(\"./Input/1_sales_orders.csv\")\n",
    "\n",
    "customer_df = spark.read.format(\"csv\") \\\n",
    "                    .option(\"header\", True ) \\\n",
    "                    .schema(customer_schema) \\\n",
    "                    .load(\"./Input/2_Customer_Master_Data.csv\")\n",
    "\n",
    "product_df = spark.read.format(\"csv\") \\\n",
    "                    .option(\"header\", True ) \\\n",
    "                    .schema(product_schema) \\\n",
    "                    .load(\"./Input/3_product_master.csv\")"
   ]
  },
  {
   "cell_type": "code",
   "execution_count": null,
   "id": "aecf4b9e-a138-4da4-b915-2dba732ac680",
   "metadata": {},
   "outputs": [],
   "source": [
    "sales_df.show()\n",
    "customer_df.show()\n",
    "product_df.show()"
   ]
  },
  {
   "cell_type": "code",
   "execution_count": null,
   "id": "d8a77d50-7a71-4e49-aa7b-d2873d5e6b56",
   "metadata": {},
   "outputs": [],
   "source": [
    "sales_df.repartition(1).write.format(\"parquet\") \\\n",
    "               .mode(\"overwrite\") \\\n",
    "               .save(\"./Input/Parquet/Sales\")\n",
    "\n",
    "customer_df.repartition(1).write.format(\"parquet\") \\\n",
    "               .mode(\"overwrite\") \\\n",
    "               .save(\"./Input/Parquet/Customer\")\n",
    "\n",
    "product_df.repartition(1).write.format(\"parquet\") \\\n",
    "               .mode(\"overwrite\") \\\n",
    "               .save(\"./Input/Parquet/Product\")"
   ]
  },
  {
   "cell_type": "code",
   "execution_count": null,
   "id": "d9e357d1-af76-4393-96a6-e363b0a48168",
   "metadata": {},
   "outputs": [],
   "source": [
    "sales_df.repartition(8).write.format(\"parquet\") \\\n",
    "               .mode(\"overwrite\") \\\n",
    "               .save(\"./Input/Multi_Parquet/Sales\")\n"
   ]
  },
  {
   "cell_type": "code",
   "execution_count": null,
   "id": "7a84c5a2-70ca-4145-9986-95629178e1f4",
   "metadata": {},
   "outputs": [],
   "source": [
    "sales_df.repartition(1).write.format(\"orc\") \\\n",
    "               .mode(\"overwrite\") \\\n",
    "               .save(\"./Input/ORC/Sales\")\n",
    "\n",
    "customer_df.repartition(1).write.format(\"orc\") \\\n",
    "               .mode(\"overwrite\") \\\n",
    "               .save(\"./Input/ORC/Customer\")\n",
    "\n",
    "product_df.repartition(1).write.format(\"orc\") \\\n",
    "               .mode(\"overwrite\") \\\n",
    "               .save(\"./Input/ORC/Product\")"
   ]
  },
  {
   "cell_type": "code",
   "execution_count": null,
   "id": "55efe226-5120-4506-910f-e087387c7d20",
   "metadata": {},
   "outputs": [],
   "source": [
    "sales_df.repartition(8).write.format(\"orc\") \\\n",
    "               .mode(\"overwrite\") \\\n",
    "               .save(\"./Input/Multi_ORC/Sales\")\n"
   ]
  },
  {
   "cell_type": "code",
   "execution_count": null,
   "id": "aa65afdb-4c9f-4e51-aa95-14b65abfc005",
   "metadata": {},
   "outputs": [],
   "source": [
    "sales_df.write.partitionBy(\"City\")\\\n",
    "                .format(\"parquet\") \\\n",
    "               .mode(\"overwrite\") \\\n",
    "               .save(\"./Input/city_partitioned/Sales\")"
   ]
  },
  {
   "cell_type": "code",
   "execution_count": null,
   "id": "f5bc02e5-e825-4bd3-abf9-6040463c12c9",
   "metadata": {},
   "outputs": [],
   "source": [
    "sales_df.write.partitionBy(\"City\",\"OrderStatus\")\\\n",
    "                .format(\"csv\") \\\n",
    "               .mode(\"overwrite\") \\\n",
    "               .save(\"./Input/city_order_status_partitioned/Sales\")"
   ]
  },
  {
   "cell_type": "code",
   "execution_count": null,
   "id": "0f36f449-936d-4626-a1ca-5afbb1df735d",
   "metadata": {},
   "outputs": [],
   "source": []
  }
 ],
 "metadata": {
  "kernelspec": {
   "display_name": "Python 3 (ipykernel)",
   "language": "python",
   "name": "python3"
  },
  "language_info": {
   "codemirror_mode": {
    "name": "ipython",
    "version": 3
   },
   "file_extension": ".py",
   "mimetype": "text/x-python",
   "name": "python",
   "nbconvert_exporter": "python",
   "pygments_lexer": "ipython3",
   "version": "3.10.12"
  }
 },
 "nbformat": 4,
 "nbformat_minor": 5
}
